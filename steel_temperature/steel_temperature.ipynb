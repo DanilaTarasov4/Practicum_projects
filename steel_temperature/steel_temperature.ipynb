{
 "cells": [
  {
   "cell_type": "markdown",
   "metadata": {},
   "source": [
    "# Предсказание температуры стали"
   ]
  },
  {
   "cell_type": "markdown",
   "metadata": {},
   "source": [
    "## Техническое задание \n",
    "<ins>*Заказчик:*</ins> ООО «Металлургический комбинат «Так закаляем сталь»;  \n",
    "<ins>*Цель:*</ins> Оптимизация производственных расходов за счёт уменьшения потребления электроэнергии на этапе обработки стали;  \n",
    "<ins>*Задачи:*</ins>  Построение модели, которая предскажет температуру стали. Достичь метрики качества МАЕ < 6 (необходимый минимум МАЕ < 8,7).  \n",
    "<ins>*Исходные данные:*</ins>\n",
    "- `data_arc.csv` — данные об электродах;\n",
    "- `data_bulk.csv` — данные о подаче сыпучих материалов (объём);\n",
    "- `data_bulk_time.csv` *—* данные о подаче сыпучих материалов (время);\n",
    "- `data_gas.csv` — данные о продувке сплава газом;\n",
    "- `data_temp.csv` — результаты измерения температуры;\n",
    "- `data_wire.csv` — данные о проволочных материалах (объём);\n",
    "- `data_wire_time.csv` — данные о проволочных материалах (время).  \n",
    "\n",
    "Данные находятся в папке `/datasets/final_steel/`."
   ]
  },
  {
   "cell_type": "markdown",
   "metadata": {},
   "source": [
    "<a id='back-bullet'></a>"
   ]
  },
  {
   "cell_type": "markdown",
   "metadata": {},
   "source": [
    "## Содержание\n",
    "**1. Загрузка и анализ данных**\n",
    "* [Загрузка библиотек](#libraries-bullet)\n",
    "* [Загрузка данных](#data-bullet)\n",
    "* [Анализ данных](#analysis-bullet)\n",
    "* [План решения задачи](#plan-bullet)\n",
    "\n",
    "**2. Предобработка данных и подготовка признаков**\n",
    "* [Предобработка данных и подготовка признаков](#rework-bullet)\n",
    "\n",
    "**3. Построение модели**\n",
    "* [Линейная регрессия](#lr-bullet)\n",
    "* [Случайный лес](#rf-bullet)\n",
    "* [XGBoost](#xg-bullet)\n",
    "* [CatBoost](#cb-bullet)\n",
    "* [Результирующая таблица](#st-bullet)\n",
    "\n",
    "**4. Отчёт о проделанной работе**\n",
    "* [Отчёт о проделанной работе](#conclusion-bullet)"
   ]
  },
  {
   "cell_type": "markdown",
   "metadata": {},
   "source": [
    "## 1. Загрузка и анализ данных"
   ]
  },
  {
   "cell_type": "markdown",
   "metadata": {},
   "source": [
    "### Загрузка библиотек"
   ]
  },
  {
   "cell_type": "markdown",
   "metadata": {},
   "source": [
    " <a id='libraries-bullet'></a>"
   ]
  },
  {
   "cell_type": "code",
   "execution_count": 1,
   "metadata": {},
   "outputs": [],
   "source": [
    "import pandas as pd\n",
    "import numpy as np\n",
    "import matplotlib.pyplot as plt\n",
    "import seaborn as sns\n",
    "import warnings\n",
    "warnings.filterwarnings(\"ignore\")\n",
    "from sklearn.model_selection import train_test_split, RandomizedSearchCV\n",
    "from sklearn.linear_model import LinearRegression\n",
    "from sklearn.ensemble import RandomForestRegressor\n",
    "from catboost import CatBoostRegressor\n",
    "from xgboost import XGBRegressor\n",
    "from sklearn.metrics import mean_absolute_error"
   ]
  },
  {
   "cell_type": "markdown",
   "metadata": {},
   "source": [
    "### Загрузка данных"
   ]
  },
  {
   "cell_type": "markdown",
   "metadata": {},
   "source": [
    "<a id='data-bullet'></a>"
   ]
  },
  {
   "cell_type": "code",
   "execution_count": 2,
   "metadata": {},
   "outputs": [],
   "source": [
    "data_arc = pd.read_csv('/datasets/final_steel/data_arc.csv')\n",
    "data_bulk = pd.read_csv('/datasets/final_steel/data_bulk.csv')\n",
    "data_bulk_time = pd.read_csv('/datasets/final_steel/data_bulk_time.csv')\n",
    "data_gas = pd.read_csv('/datasets/final_steel/data_gas.csv')\n",
    "data_temp = pd.read_csv('/datasets/final_steel/data_temp.csv')\n",
    "data_wire = pd.read_csv('/datasets/final_steel/data_wire.csv')\n",
    "data_wire_time = pd.read_csv('/datasets/final_steel/data_wire_time.csv')"
   ]
  },
  {
   "cell_type": "markdown",
   "metadata": {},
   "source": [
    "### Анализ данных"
   ]
  },
  {
   "cell_type": "markdown",
   "metadata": {},
   "source": [
    "<a id='analysis-bullet'></a>"
   ]
  },
  {
   "cell_type": "code",
   "execution_count": 3,
   "metadata": {},
   "outputs": [],
   "source": [
    "#Функция для вывода общей информации о данных:\n",
    "def data_info(data):\n",
    "    print('Размер датасета:',data.shape)\n",
    "    display(data.head())\n",
    "    tab = pd.concat([data.dtypes, data.isna().mean()*100], axis=1)\n",
    "    tab.columns=['data_type', 'nan_part, %']\n",
    "    display(tab.sort_values(by='nan_part, %', ascending=False))\n",
    "    display(data.describe())"
   ]
  },
  {
   "cell_type": "code",
   "execution_count": 4,
   "metadata": {},
   "outputs": [
    {
     "name": "stdout",
     "output_type": "stream",
     "text": [
      "Даннные об электродах:\n",
      "Размер датасета: (14876, 5)\n"
     ]
    },
    {
     "data": {
      "text/html": [
       "<div>\n",
       "<style scoped>\n",
       "    .dataframe tbody tr th:only-of-type {\n",
       "        vertical-align: middle;\n",
       "    }\n",
       "\n",
       "    .dataframe tbody tr th {\n",
       "        vertical-align: top;\n",
       "    }\n",
       "\n",
       "    .dataframe thead th {\n",
       "        text-align: right;\n",
       "    }\n",
       "</style>\n",
       "<table border=\"1\" class=\"dataframe\">\n",
       "  <thead>\n",
       "    <tr style=\"text-align: right;\">\n",
       "      <th></th>\n",
       "      <th>key</th>\n",
       "      <th>Начало нагрева дугой</th>\n",
       "      <th>Конец нагрева дугой</th>\n",
       "      <th>Активная мощность</th>\n",
       "      <th>Реактивная мощность</th>\n",
       "    </tr>\n",
       "  </thead>\n",
       "  <tbody>\n",
       "    <tr>\n",
       "      <td>0</td>\n",
       "      <td>1</td>\n",
       "      <td>2019-05-03 11:02:14</td>\n",
       "      <td>2019-05-03 11:06:02</td>\n",
       "      <td>0.976059</td>\n",
       "      <td>0.687084</td>\n",
       "    </tr>\n",
       "    <tr>\n",
       "      <td>1</td>\n",
       "      <td>1</td>\n",
       "      <td>2019-05-03 11:07:28</td>\n",
       "      <td>2019-05-03 11:10:33</td>\n",
       "      <td>0.805607</td>\n",
       "      <td>0.520285</td>\n",
       "    </tr>\n",
       "    <tr>\n",
       "      <td>2</td>\n",
       "      <td>1</td>\n",
       "      <td>2019-05-03 11:11:44</td>\n",
       "      <td>2019-05-03 11:14:36</td>\n",
       "      <td>0.744363</td>\n",
       "      <td>0.498805</td>\n",
       "    </tr>\n",
       "    <tr>\n",
       "      <td>3</td>\n",
       "      <td>1</td>\n",
       "      <td>2019-05-03 11:18:14</td>\n",
       "      <td>2019-05-03 11:24:19</td>\n",
       "      <td>1.659363</td>\n",
       "      <td>1.062669</td>\n",
       "    </tr>\n",
       "    <tr>\n",
       "      <td>4</td>\n",
       "      <td>1</td>\n",
       "      <td>2019-05-03 11:26:09</td>\n",
       "      <td>2019-05-03 11:28:37</td>\n",
       "      <td>0.692755</td>\n",
       "      <td>0.414397</td>\n",
       "    </tr>\n",
       "  </tbody>\n",
       "</table>\n",
       "</div>"
      ],
      "text/plain": [
       "   key Начало нагрева дугой  Конец нагрева дугой  Активная мощность  \\\n",
       "0    1  2019-05-03 11:02:14  2019-05-03 11:06:02           0.976059   \n",
       "1    1  2019-05-03 11:07:28  2019-05-03 11:10:33           0.805607   \n",
       "2    1  2019-05-03 11:11:44  2019-05-03 11:14:36           0.744363   \n",
       "3    1  2019-05-03 11:18:14  2019-05-03 11:24:19           1.659363   \n",
       "4    1  2019-05-03 11:26:09  2019-05-03 11:28:37           0.692755   \n",
       "\n",
       "   Реактивная мощность  \n",
       "0             0.687084  \n",
       "1             0.520285  \n",
       "2             0.498805  \n",
       "3             1.062669  \n",
       "4             0.414397  "
      ]
     },
     "metadata": {},
     "output_type": "display_data"
    },
    {
     "data": {
      "text/html": [
       "<div>\n",
       "<style scoped>\n",
       "    .dataframe tbody tr th:only-of-type {\n",
       "        vertical-align: middle;\n",
       "    }\n",
       "\n",
       "    .dataframe tbody tr th {\n",
       "        vertical-align: top;\n",
       "    }\n",
       "\n",
       "    .dataframe thead th {\n",
       "        text-align: right;\n",
       "    }\n",
       "</style>\n",
       "<table border=\"1\" class=\"dataframe\">\n",
       "  <thead>\n",
       "    <tr style=\"text-align: right;\">\n",
       "      <th></th>\n",
       "      <th>data_type</th>\n",
       "      <th>nan_part, %</th>\n",
       "    </tr>\n",
       "  </thead>\n",
       "  <tbody>\n",
       "    <tr>\n",
       "      <td>key</td>\n",
       "      <td>int64</td>\n",
       "      <td>0.0</td>\n",
       "    </tr>\n",
       "    <tr>\n",
       "      <td>Начало нагрева дугой</td>\n",
       "      <td>object</td>\n",
       "      <td>0.0</td>\n",
       "    </tr>\n",
       "    <tr>\n",
       "      <td>Конец нагрева дугой</td>\n",
       "      <td>object</td>\n",
       "      <td>0.0</td>\n",
       "    </tr>\n",
       "    <tr>\n",
       "      <td>Активная мощность</td>\n",
       "      <td>float64</td>\n",
       "      <td>0.0</td>\n",
       "    </tr>\n",
       "    <tr>\n",
       "      <td>Реактивная мощность</td>\n",
       "      <td>float64</td>\n",
       "      <td>0.0</td>\n",
       "    </tr>\n",
       "  </tbody>\n",
       "</table>\n",
       "</div>"
      ],
      "text/plain": [
       "                     data_type  nan_part, %\n",
       "key                      int64          0.0\n",
       "Начало нагрева дугой    object          0.0\n",
       "Конец нагрева дугой     object          0.0\n",
       "Активная мощность      float64          0.0\n",
       "Реактивная мощность    float64          0.0"
      ]
     },
     "metadata": {},
     "output_type": "display_data"
    },
    {
     "data": {
      "text/html": [
       "<div>\n",
       "<style scoped>\n",
       "    .dataframe tbody tr th:only-of-type {\n",
       "        vertical-align: middle;\n",
       "    }\n",
       "\n",
       "    .dataframe tbody tr th {\n",
       "        vertical-align: top;\n",
       "    }\n",
       "\n",
       "    .dataframe thead th {\n",
       "        text-align: right;\n",
       "    }\n",
       "</style>\n",
       "<table border=\"1\" class=\"dataframe\">\n",
       "  <thead>\n",
       "    <tr style=\"text-align: right;\">\n",
       "      <th></th>\n",
       "      <th>key</th>\n",
       "      <th>Активная мощность</th>\n",
       "      <th>Реактивная мощность</th>\n",
       "    </tr>\n",
       "  </thead>\n",
       "  <tbody>\n",
       "    <tr>\n",
       "      <td>count</td>\n",
       "      <td>14876.000000</td>\n",
       "      <td>14876.000000</td>\n",
       "      <td>14876.000000</td>\n",
       "    </tr>\n",
       "    <tr>\n",
       "      <td>mean</td>\n",
       "      <td>1615.220422</td>\n",
       "      <td>0.670441</td>\n",
       "      <td>0.452592</td>\n",
       "    </tr>\n",
       "    <tr>\n",
       "      <td>std</td>\n",
       "      <td>934.571502</td>\n",
       "      <td>0.408159</td>\n",
       "      <td>5.878702</td>\n",
       "    </tr>\n",
       "    <tr>\n",
       "      <td>min</td>\n",
       "      <td>1.000000</td>\n",
       "      <td>0.030002</td>\n",
       "      <td>-715.504924</td>\n",
       "    </tr>\n",
       "    <tr>\n",
       "      <td>25%</td>\n",
       "      <td>806.000000</td>\n",
       "      <td>0.395297</td>\n",
       "      <td>0.290991</td>\n",
       "    </tr>\n",
       "    <tr>\n",
       "      <td>50%</td>\n",
       "      <td>1617.000000</td>\n",
       "      <td>0.555517</td>\n",
       "      <td>0.415962</td>\n",
       "    </tr>\n",
       "    <tr>\n",
       "      <td>75%</td>\n",
       "      <td>2429.000000</td>\n",
       "      <td>0.857034</td>\n",
       "      <td>0.637371</td>\n",
       "    </tr>\n",
       "    <tr>\n",
       "      <td>max</td>\n",
       "      <td>3241.000000</td>\n",
       "      <td>3.731596</td>\n",
       "      <td>2.676388</td>\n",
       "    </tr>\n",
       "  </tbody>\n",
       "</table>\n",
       "</div>"
      ],
      "text/plain": [
       "                key  Активная мощность  Реактивная мощность\n",
       "count  14876.000000       14876.000000         14876.000000\n",
       "mean    1615.220422           0.670441             0.452592\n",
       "std      934.571502           0.408159             5.878702\n",
       "min        1.000000           0.030002          -715.504924\n",
       "25%      806.000000           0.395297             0.290991\n",
       "50%     1617.000000           0.555517             0.415962\n",
       "75%     2429.000000           0.857034             0.637371\n",
       "max     3241.000000           3.731596             2.676388"
      ]
     },
     "metadata": {},
     "output_type": "display_data"
    }
   ],
   "source": [
    "print('Даннные об электродах:')\n",
    "data_info(data_arc)"
   ]
  },
  {
   "cell_type": "markdown",
   "metadata": {},
   "source": [
    "В данных о электродов пропусков нет, нужно поменять тип данных у дат. Вопросы вызывают минимальное и максимальное значения реактивной мощности и максимальное значение активной. Определим все строки с отрицательной реактивной мощностью:"
   ]
  },
  {
   "cell_type": "code",
   "execution_count": 5,
   "metadata": {},
   "outputs": [
    {
     "data": {
      "text/plain": [
       "1"
      ]
     },
     "execution_count": 5,
     "metadata": {},
     "output_type": "execute_result"
    }
   ],
   "source": [
    "data_arc[data_arc['Реактивная мощность'] < 0]['Реактивная мощность'].count()"
   ]
  },
  {
   "cell_type": "code",
   "execution_count": 6,
   "metadata": {},
   "outputs": [
    {
     "data": {
      "text/html": [
       "<div>\n",
       "<style scoped>\n",
       "    .dataframe tbody tr th:only-of-type {\n",
       "        vertical-align: middle;\n",
       "    }\n",
       "\n",
       "    .dataframe tbody tr th {\n",
       "        vertical-align: top;\n",
       "    }\n",
       "\n",
       "    .dataframe thead th {\n",
       "        text-align: right;\n",
       "    }\n",
       "</style>\n",
       "<table border=\"1\" class=\"dataframe\">\n",
       "  <thead>\n",
       "    <tr style=\"text-align: right;\">\n",
       "      <th></th>\n",
       "      <th>key</th>\n",
       "      <th>Начало нагрева дугой</th>\n",
       "      <th>Конец нагрева дугой</th>\n",
       "      <th>Активная мощность</th>\n",
       "      <th>Реактивная мощность</th>\n",
       "    </tr>\n",
       "  </thead>\n",
       "  <tbody>\n",
       "    <tr>\n",
       "      <td>9780</td>\n",
       "      <td>2116</td>\n",
       "      <td>2019-07-24 00:44:48</td>\n",
       "      <td>2019-07-24 00:46:37</td>\n",
       "      <td>0.495782</td>\n",
       "      <td>-715.504924</td>\n",
       "    </tr>\n",
       "  </tbody>\n",
       "</table>\n",
       "</div>"
      ],
      "text/plain": [
       "       key Начало нагрева дугой  Конец нагрева дугой  Активная мощность  \\\n",
       "9780  2116  2019-07-24 00:44:48  2019-07-24 00:46:37           0.495782   \n",
       "\n",
       "      Реактивная мощность  \n",
       "9780          -715.504924  "
      ]
     },
     "execution_count": 6,
     "metadata": {},
     "output_type": "execute_result"
    }
   ],
   "source": [
    "data_arc[data_arc['Реактивная мощность'] < 0]"
   ]
  },
  {
   "cell_type": "markdown",
   "metadata": {},
   "source": [
    "Учитывая, что строка с отрицательным значением только одна, делаем вывод, что перед нами аномалия, которая связана либо с зависанием системы, либо с поломкой датчика определения реактивной мощности. Плавка, в которой присутствует данная строка, исключаем из анализа.  \n",
    "Далее построим диграммы размаха для активной и реактивной мощностей, а также рассмотрим взаимосвязь между ними:"
   ]
  },
  {
   "cell_type": "code",
   "execution_count": 7,
   "metadata": {},
   "outputs": [
    {
     "data": {
      "text/plain": [
       "Text(0.5, 1.0, 'Диаграмма размаха активной мощности')"
      ]
     },
     "execution_count": 7,
     "metadata": {},
     "output_type": "execute_result"
    },
    {
     "data": {
      "image/png": "[encoded data removed]",
      "text/plain": [
       "<Figure size 504x360 with 1 Axes>"
      ]
     },
     "metadata": {
      "needs_background": "light"
     },
     "output_type": "display_data"
    }
   ],
   "source": [
    "data_arc['Активная мощность'].plot(grid = True, \n",
    "                                   style = 'o', \n",
    "                                   figsize = (7, 5), \n",
    "                                   kind= 'box', \n",
    "                                   subplots = True, \n",
    "                                   fontsize=12)\n",
    "plt.ylabel(\"Активная мощность\", fontsize=14)\n",
    "plt.title('Диаграмма размаха активной мощности', fontsize=16)"
   ]
  },
  {
   "cell_type": "code",
   "execution_count": 8,
   "metadata": {},
   "outputs": [
    {
     "data": {
      "text/plain": [
       "Text(0.5, 1.0, 'Диаграмма размаха реактивной мощности')"
      ]
     },
     "execution_count": 8,
     "metadata": {},
     "output_type": "execute_result"
    },
    {
     "data": {
      "image/png": "[encoded data removed]",
      "text/plain": [
       "<Figure size 504x360 with 1 Axes>"
      ]
     },
     "metadata": {
      "needs_background": "light"
     },
     "output_type": "display_data"
    }
   ],
   "source": [
    "data_arc[data_arc['Реактивная мощность'] >= 0]['Реактивная мощность'].plot(grid = True, \n",
    "                                                                           style = 'o', \n",
    "                                                                           figsize = (7, 5), \n",
    "                                                                           kind= 'box', \n",
    "                                                                           subplots = True, \n",
    "                                                                           fontsize=12)\n",
    "plt.ylabel(\"Реактивная мощность\", fontsize=14)\n",
    "plt.title('Диаграмма размаха реактивной мощности', fontsize=16)"
   ]
  },
  {
   "cell_type": "code",
   "execution_count": 9,
   "metadata": {},
   "outputs": [
    {
     "data": {
      "image/png": "[encoded data removed]",
      "text/plain": [
       "<Figure size 432x288 with 1 Axes>"
      ]
     },
     "metadata": {
      "needs_background": "light"
     },
     "output_type": "display_data"
    }
   ],
   "source": [
    "data_arc[data_arc['Реактивная мощность'] >= 0].plot(x='Активная мощность', \n",
    "                                                    y='Реактивная мощность', \n",
    "                                                    kind='scatter', alpha=0.3)\n",
    "plt.title('Диаграмма размаха реактивной мощности', fontsize=16)\n",
    "plt.show()"
   ]
  },
  {
   "cell_type": "markdown",
   "metadata": {},
   "source": [
    "Данные параметры сильно коррелируют. В дальнейшем следует объеденить их в один параметр **Полная мощность** (https://ru.wikipedia.org/wiki/Электрическая_мощность). Выбросы не критичны и вероятно связаны с различным временем, необходимым для получения нужного хим.состава при использовании разных легирующих элементов в зависимости от технологического процесса (предположение: так как некоторые техпроцессы используются чаще, чем другие, следовательно и выбросы соответствуют тем, что используются реже).Данное предположение проверим на этапе формирования признаков для построения модели."
   ]
  },
  {
   "cell_type": "code",
   "execution_count": 10,
   "metadata": {},
   "outputs": [
    {
     "name": "stdout",
     "output_type": "stream",
     "text": [
      "Даннные об объёмах подачи сыпучих материалов:\n",
      "Размер датасета: (3129, 16)\n"
     ]
    },
    {
     "data": {
      "text/html": [
       "<div>\n",
       "<style scoped>\n",
       "    .dataframe tbody tr th:only-of-type {\n",
       "        vertical-align: middle;\n",
       "    }\n",
       "\n",
       "    .dataframe tbody tr th {\n",
       "        vertical-align: top;\n",
       "    }\n",
       "\n",
       "    .dataframe thead th {\n",
       "        text-align: right;\n",
       "    }\n",
       "</style>\n",
       "<table border=\"1\" class=\"dataframe\">\n",
       "  <thead>\n",
       "    <tr style=\"text-align: right;\">\n",
       "      <th></th>\n",
       "      <th>key</th>\n",
       "      <th>Bulk 1</th>\n",
       "      <th>Bulk 2</th>\n",
       "      <th>Bulk 3</th>\n",
       "      <th>Bulk 4</th>\n",
       "      <th>Bulk 5</th>\n",
       "      <th>Bulk 6</th>\n",
       "      <th>Bulk 7</th>\n",
       "      <th>Bulk 8</th>\n",
       "      <th>Bulk 9</th>\n",
       "      <th>Bulk 10</th>\n",
       "      <th>Bulk 11</th>\n",
       "      <th>Bulk 12</th>\n",
       "      <th>Bulk 13</th>\n",
       "      <th>Bulk 14</th>\n",
       "      <th>Bulk 15</th>\n",
       "    </tr>\n",
       "  </thead>\n",
       "  <tbody>\n",
       "    <tr>\n",
       "      <td>0</td>\n",
       "      <td>1</td>\n",
       "      <td>NaN</td>\n",
       "      <td>NaN</td>\n",
       "      <td>NaN</td>\n",
       "      <td>43.0</td>\n",
       "      <td>NaN</td>\n",
       "      <td>NaN</td>\n",
       "      <td>NaN</td>\n",
       "      <td>NaN</td>\n",
       "      <td>NaN</td>\n",
       "      <td>NaN</td>\n",
       "      <td>NaN</td>\n",
       "      <td>206.0</td>\n",
       "      <td>NaN</td>\n",
       "      <td>150.0</td>\n",
       "      <td>154.0</td>\n",
       "    </tr>\n",
       "    <tr>\n",
       "      <td>1</td>\n",
       "      <td>2</td>\n",
       "      <td>NaN</td>\n",
       "      <td>NaN</td>\n",
       "      <td>NaN</td>\n",
       "      <td>73.0</td>\n",
       "      <td>NaN</td>\n",
       "      <td>NaN</td>\n",
       "      <td>NaN</td>\n",
       "      <td>NaN</td>\n",
       "      <td>NaN</td>\n",
       "      <td>NaN</td>\n",
       "      <td>NaN</td>\n",
       "      <td>206.0</td>\n",
       "      <td>NaN</td>\n",
       "      <td>149.0</td>\n",
       "      <td>154.0</td>\n",
       "    </tr>\n",
       "    <tr>\n",
       "      <td>2</td>\n",
       "      <td>3</td>\n",
       "      <td>NaN</td>\n",
       "      <td>NaN</td>\n",
       "      <td>NaN</td>\n",
       "      <td>34.0</td>\n",
       "      <td>NaN</td>\n",
       "      <td>NaN</td>\n",
       "      <td>NaN</td>\n",
       "      <td>NaN</td>\n",
       "      <td>NaN</td>\n",
       "      <td>NaN</td>\n",
       "      <td>NaN</td>\n",
       "      <td>205.0</td>\n",
       "      <td>NaN</td>\n",
       "      <td>152.0</td>\n",
       "      <td>153.0</td>\n",
       "    </tr>\n",
       "    <tr>\n",
       "      <td>3</td>\n",
       "      <td>4</td>\n",
       "      <td>NaN</td>\n",
       "      <td>NaN</td>\n",
       "      <td>NaN</td>\n",
       "      <td>81.0</td>\n",
       "      <td>NaN</td>\n",
       "      <td>NaN</td>\n",
       "      <td>NaN</td>\n",
       "      <td>NaN</td>\n",
       "      <td>NaN</td>\n",
       "      <td>NaN</td>\n",
       "      <td>NaN</td>\n",
       "      <td>207.0</td>\n",
       "      <td>NaN</td>\n",
       "      <td>153.0</td>\n",
       "      <td>154.0</td>\n",
       "    </tr>\n",
       "    <tr>\n",
       "      <td>4</td>\n",
       "      <td>5</td>\n",
       "      <td>NaN</td>\n",
       "      <td>NaN</td>\n",
       "      <td>NaN</td>\n",
       "      <td>78.0</td>\n",
       "      <td>NaN</td>\n",
       "      <td>NaN</td>\n",
       "      <td>NaN</td>\n",
       "      <td>NaN</td>\n",
       "      <td>NaN</td>\n",
       "      <td>NaN</td>\n",
       "      <td>NaN</td>\n",
       "      <td>203.0</td>\n",
       "      <td>NaN</td>\n",
       "      <td>151.0</td>\n",
       "      <td>152.0</td>\n",
       "    </tr>\n",
       "  </tbody>\n",
       "</table>\n",
       "</div>"
      ],
      "text/plain": [
       "   key  Bulk 1  Bulk 2  Bulk 3  Bulk 4  Bulk 5  Bulk 6  Bulk 7  Bulk 8  \\\n",
       "0    1     NaN     NaN     NaN    43.0     NaN     NaN     NaN     NaN   \n",
       "1    2     NaN     NaN     NaN    73.0     NaN     NaN     NaN     NaN   \n",
       "2    3     NaN     NaN     NaN    34.0     NaN     NaN     NaN     NaN   \n",
       "3    4     NaN     NaN     NaN    81.0     NaN     NaN     NaN     NaN   \n",
       "4    5     NaN     NaN     NaN    78.0     NaN     NaN     NaN     NaN   \n",
       "\n",
       "   Bulk 9  Bulk 10  Bulk 11  Bulk 12  Bulk 13  Bulk 14  Bulk 15  \n",
       "0     NaN      NaN      NaN    206.0      NaN    150.0    154.0  \n",
       "1     NaN      NaN      NaN    206.0      NaN    149.0    154.0  \n",
       "2     NaN      NaN      NaN    205.0      NaN    152.0    153.0  \n",
       "3     NaN      NaN      NaN    207.0      NaN    153.0    154.0  \n",
       "4     NaN      NaN      NaN    203.0      NaN    151.0    152.0  "
      ]
     },
     "metadata": {},
     "output_type": "display_data"
    },
    {
     "data": {
      "text/html": [
       "<div>\n",
       "<style scoped>\n",
       "    .dataframe tbody tr th:only-of-type {\n",
       "        vertical-align: middle;\n",
       "    }\n",
       "\n",
       "    .dataframe tbody tr th {\n",
       "        vertical-align: top;\n",
       "    }\n",
       "\n",
       "    .dataframe thead th {\n",
       "        text-align: right;\n",
       "    }\n",
       "</style>\n",
       "<table border=\"1\" class=\"dataframe\">\n",
       "  <thead>\n",
       "    <tr style=\"text-align: right;\">\n",
       "      <th></th>\n",
       "      <th>data_type</th>\n",
       "      <th>nan_part, %</th>\n",
       "    </tr>\n",
       "  </thead>\n",
       "  <tbody>\n",
       "    <tr>\n",
       "      <td>Bulk 8</td>\n",
       "      <td>float64</td>\n",
       "      <td>99.968041</td>\n",
       "    </tr>\n",
       "    <tr>\n",
       "      <td>Bulk 13</td>\n",
       "      <td>float64</td>\n",
       "      <td>99.424736</td>\n",
       "    </tr>\n",
       "    <tr>\n",
       "      <td>Bulk 9</td>\n",
       "      <td>float64</td>\n",
       "      <td>99.392777</td>\n",
       "    </tr>\n",
       "    <tr>\n",
       "      <td>Bulk 2</td>\n",
       "      <td>float64</td>\n",
       "      <td>99.296900</td>\n",
       "    </tr>\n",
       "    <tr>\n",
       "      <td>Bulk 7</td>\n",
       "      <td>float64</td>\n",
       "      <td>99.201023</td>\n",
       "    </tr>\n",
       "    <tr>\n",
       "      <td>Bulk 5</td>\n",
       "      <td>float64</td>\n",
       "      <td>97.539150</td>\n",
       "    </tr>\n",
       "    <tr>\n",
       "      <td>Bulk 10</td>\n",
       "      <td>float64</td>\n",
       "      <td>94.375200</td>\n",
       "    </tr>\n",
       "    <tr>\n",
       "      <td>Bulk 11</td>\n",
       "      <td>float64</td>\n",
       "      <td>94.343241</td>\n",
       "    </tr>\n",
       "    <tr>\n",
       "      <td>Bulk 1</td>\n",
       "      <td>float64</td>\n",
       "      <td>91.946309</td>\n",
       "    </tr>\n",
       "    <tr>\n",
       "      <td>Bulk 6</td>\n",
       "      <td>float64</td>\n",
       "      <td>81.591563</td>\n",
       "    </tr>\n",
       "    <tr>\n",
       "      <td>Bulk 4</td>\n",
       "      <td>float64</td>\n",
       "      <td>67.593480</td>\n",
       "    </tr>\n",
       "    <tr>\n",
       "      <td>Bulk 3</td>\n",
       "      <td>float64</td>\n",
       "      <td>58.517098</td>\n",
       "    </tr>\n",
       "    <tr>\n",
       "      <td>Bulk 15</td>\n",
       "      <td>float64</td>\n",
       "      <td>28.155960</td>\n",
       "    </tr>\n",
       "    <tr>\n",
       "      <td>Bulk 12</td>\n",
       "      <td>float64</td>\n",
       "      <td>21.700224</td>\n",
       "    </tr>\n",
       "    <tr>\n",
       "      <td>Bulk 14</td>\n",
       "      <td>float64</td>\n",
       "      <td>10.322787</td>\n",
       "    </tr>\n",
       "    <tr>\n",
       "      <td>key</td>\n",
       "      <td>int64</td>\n",
       "      <td>0.000000</td>\n",
       "    </tr>\n",
       "  </tbody>\n",
       "</table>\n",
       "</div>"
      ],
      "text/plain": [
       "        data_type  nan_part, %\n",
       "Bulk 8    float64    99.968041\n",
       "Bulk 13   float64    99.424736\n",
       "Bulk 9    float64    99.392777\n",
       "Bulk 2    float64    99.296900\n",
       "Bulk 7    float64    99.201023\n",
       "Bulk 5    float64    97.539150\n",
       "Bulk 10   float64    94.375200\n",
       "Bulk 11   float64    94.343241\n",
       "Bulk 1    float64    91.946309\n",
       "Bulk 6    float64    81.591563\n",
       "Bulk 4    float64    67.593480\n",
       "Bulk 3    float64    58.517098\n",
       "Bulk 15   float64    28.155960\n",
       "Bulk 12   float64    21.700224\n",
       "Bulk 14   float64    10.322787\n",
       "key         int64     0.000000"
      ]
     },
     "metadata": {},
     "output_type": "display_data"
    },
    {
     "data": {
      "text/html": [
       "<div>\n",
       "<style scoped>\n",
       "    .dataframe tbody tr th:only-of-type {\n",
       "        vertical-align: middle;\n",
       "    }\n",
       "\n",
       "    .dataframe tbody tr th {\n",
       "        vertical-align: top;\n",
       "    }\n",
       "\n",
       "    .dataframe thead th {\n",
       "        text-align: right;\n",
       "    }\n",
       "</style>\n",
       "<table border=\"1\" class=\"dataframe\">\n",
       "  <thead>\n",
       "    <tr style=\"text-align: right;\">\n",
       "      <th></th>\n",
       "      <th>key</th>\n",
       "      <th>Bulk 1</th>\n",
       "      <th>Bulk 2</th>\n",
       "      <th>Bulk 3</th>\n",
       "      <th>Bulk 4</th>\n",
       "      <th>Bulk 5</th>\n",
       "      <th>Bulk 6</th>\n",
       "      <th>Bulk 7</th>\n",
       "      <th>Bulk 8</th>\n",
       "      <th>Bulk 9</th>\n",
       "      <th>Bulk 10</th>\n",
       "      <th>Bulk 11</th>\n",
       "      <th>Bulk 12</th>\n",
       "      <th>Bulk 13</th>\n",
       "      <th>Bulk 14</th>\n",
       "      <th>Bulk 15</th>\n",
       "    </tr>\n",
       "  </thead>\n",
       "  <tbody>\n",
       "    <tr>\n",
       "      <td>count</td>\n",
       "      <td>3129.000000</td>\n",
       "      <td>252.000000</td>\n",
       "      <td>22.000000</td>\n",
       "      <td>1298.000000</td>\n",
       "      <td>1014.000000</td>\n",
       "      <td>77.000000</td>\n",
       "      <td>576.000000</td>\n",
       "      <td>25.000000</td>\n",
       "      <td>1.0</td>\n",
       "      <td>19.000000</td>\n",
       "      <td>176.000000</td>\n",
       "      <td>177.000000</td>\n",
       "      <td>2450.000000</td>\n",
       "      <td>18.000000</td>\n",
       "      <td>2806.000000</td>\n",
       "      <td>2248.000000</td>\n",
       "    </tr>\n",
       "    <tr>\n",
       "      <td>mean</td>\n",
       "      <td>1624.383509</td>\n",
       "      <td>39.242063</td>\n",
       "      <td>253.045455</td>\n",
       "      <td>113.879045</td>\n",
       "      <td>104.394477</td>\n",
       "      <td>107.025974</td>\n",
       "      <td>118.925347</td>\n",
       "      <td>305.600000</td>\n",
       "      <td>49.0</td>\n",
       "      <td>76.315789</td>\n",
       "      <td>83.284091</td>\n",
       "      <td>76.819209</td>\n",
       "      <td>260.471020</td>\n",
       "      <td>181.111111</td>\n",
       "      <td>170.284747</td>\n",
       "      <td>160.513345</td>\n",
       "    </tr>\n",
       "    <tr>\n",
       "      <td>std</td>\n",
       "      <td>933.337642</td>\n",
       "      <td>18.277654</td>\n",
       "      <td>21.180578</td>\n",
       "      <td>75.483494</td>\n",
       "      <td>48.184126</td>\n",
       "      <td>81.790646</td>\n",
       "      <td>72.057776</td>\n",
       "      <td>191.022904</td>\n",
       "      <td>NaN</td>\n",
       "      <td>21.720581</td>\n",
       "      <td>26.060347</td>\n",
       "      <td>59.655365</td>\n",
       "      <td>120.649269</td>\n",
       "      <td>46.088009</td>\n",
       "      <td>65.868652</td>\n",
       "      <td>51.765319</td>\n",
       "    </tr>\n",
       "    <tr>\n",
       "      <td>min</td>\n",
       "      <td>1.000000</td>\n",
       "      <td>10.000000</td>\n",
       "      <td>228.000000</td>\n",
       "      <td>6.000000</td>\n",
       "      <td>12.000000</td>\n",
       "      <td>11.000000</td>\n",
       "      <td>17.000000</td>\n",
       "      <td>47.000000</td>\n",
       "      <td>49.0</td>\n",
       "      <td>63.000000</td>\n",
       "      <td>24.000000</td>\n",
       "      <td>8.000000</td>\n",
       "      <td>53.000000</td>\n",
       "      <td>151.000000</td>\n",
       "      <td>16.000000</td>\n",
       "      <td>1.000000</td>\n",
       "    </tr>\n",
       "    <tr>\n",
       "      <td>25%</td>\n",
       "      <td>816.000000</td>\n",
       "      <td>27.000000</td>\n",
       "      <td>242.000000</td>\n",
       "      <td>58.000000</td>\n",
       "      <td>72.000000</td>\n",
       "      <td>70.000000</td>\n",
       "      <td>69.750000</td>\n",
       "      <td>155.000000</td>\n",
       "      <td>49.0</td>\n",
       "      <td>66.000000</td>\n",
       "      <td>64.000000</td>\n",
       "      <td>25.000000</td>\n",
       "      <td>204.000000</td>\n",
       "      <td>153.250000</td>\n",
       "      <td>119.000000</td>\n",
       "      <td>105.000000</td>\n",
       "    </tr>\n",
       "    <tr>\n",
       "      <td>50%</td>\n",
       "      <td>1622.000000</td>\n",
       "      <td>31.000000</td>\n",
       "      <td>251.500000</td>\n",
       "      <td>97.500000</td>\n",
       "      <td>102.000000</td>\n",
       "      <td>86.000000</td>\n",
       "      <td>100.000000</td>\n",
       "      <td>298.000000</td>\n",
       "      <td>49.0</td>\n",
       "      <td>68.000000</td>\n",
       "      <td>86.500000</td>\n",
       "      <td>64.000000</td>\n",
       "      <td>208.000000</td>\n",
       "      <td>155.500000</td>\n",
       "      <td>151.000000</td>\n",
       "      <td>160.000000</td>\n",
       "    </tr>\n",
       "    <tr>\n",
       "      <td>75%</td>\n",
       "      <td>2431.000000</td>\n",
       "      <td>46.000000</td>\n",
       "      <td>257.750000</td>\n",
       "      <td>152.000000</td>\n",
       "      <td>133.000000</td>\n",
       "      <td>132.000000</td>\n",
       "      <td>157.000000</td>\n",
       "      <td>406.000000</td>\n",
       "      <td>49.0</td>\n",
       "      <td>70.500000</td>\n",
       "      <td>102.000000</td>\n",
       "      <td>106.000000</td>\n",
       "      <td>316.000000</td>\n",
       "      <td>203.500000</td>\n",
       "      <td>205.750000</td>\n",
       "      <td>205.000000</td>\n",
       "    </tr>\n",
       "    <tr>\n",
       "      <td>max</td>\n",
       "      <td>3241.000000</td>\n",
       "      <td>185.000000</td>\n",
       "      <td>325.000000</td>\n",
       "      <td>454.000000</td>\n",
       "      <td>281.000000</td>\n",
       "      <td>603.000000</td>\n",
       "      <td>503.000000</td>\n",
       "      <td>772.000000</td>\n",
       "      <td>49.0</td>\n",
       "      <td>147.000000</td>\n",
       "      <td>159.000000</td>\n",
       "      <td>313.000000</td>\n",
       "      <td>1849.000000</td>\n",
       "      <td>305.000000</td>\n",
       "      <td>636.000000</td>\n",
       "      <td>405.000000</td>\n",
       "    </tr>\n",
       "  </tbody>\n",
       "</table>\n",
       "</div>"
      ],
      "text/plain": [
       "               key      Bulk 1      Bulk 2       Bulk 3       Bulk 4  \\\n",
       "count  3129.000000  252.000000   22.000000  1298.000000  1014.000000   \n",
       "mean   1624.383509   39.242063  253.045455   113.879045   104.394477   \n",
       "std     933.337642   18.277654   21.180578    75.483494    48.184126   \n",
       "min       1.000000   10.000000  228.000000     6.000000    12.000000   \n",
       "25%     816.000000   27.000000  242.000000    58.000000    72.000000   \n",
       "50%    1622.000000   31.000000  251.500000    97.500000   102.000000   \n",
       "75%    2431.000000   46.000000  257.750000   152.000000   133.000000   \n",
       "max    3241.000000  185.000000  325.000000   454.000000   281.000000   \n",
       "\n",
       "           Bulk 5      Bulk 6      Bulk 7  Bulk 8      Bulk 9     Bulk 10  \\\n",
       "count   77.000000  576.000000   25.000000     1.0   19.000000  176.000000   \n",
       "mean   107.025974  118.925347  305.600000    49.0   76.315789   83.284091   \n",
       "std     81.790646   72.057776  191.022904     NaN   21.720581   26.060347   \n",
       "min     11.000000   17.000000   47.000000    49.0   63.000000   24.000000   \n",
       "25%     70.000000   69.750000  155.000000    49.0   66.000000   64.000000   \n",
       "50%     86.000000  100.000000  298.000000    49.0   68.000000   86.500000   \n",
       "75%    132.000000  157.000000  406.000000    49.0   70.500000  102.000000   \n",
       "max    603.000000  503.000000  772.000000    49.0  147.000000  159.000000   \n",
       "\n",
       "          Bulk 11      Bulk 12     Bulk 13      Bulk 14      Bulk 15  \n",
       "count  177.000000  2450.000000   18.000000  2806.000000  2248.000000  \n",
       "mean    76.819209   260.471020  181.111111   170.284747   160.513345  \n",
       "std     59.655365   120.649269   46.088009    65.868652    51.765319  \n",
       "min      8.000000    53.000000  151.000000    16.000000     1.000000  \n",
       "25%     25.000000   204.000000  153.250000   119.000000   105.000000  \n",
       "50%     64.000000   208.000000  155.500000   151.000000   160.000000  \n",
       "75%    106.000000   316.000000  203.500000   205.750000   205.000000  \n",
       "max    313.000000  1849.000000  305.000000   636.000000   405.000000  "
      ]
     },
     "metadata": {},
     "output_type": "display_data"
    }
   ],
   "source": [
    "print('Даннные об объёмах подачи сыпучих материалов:')\n",
    "data_info(data_bulk)"
   ]
  },
  {
   "cell_type": "markdown",
   "metadata": {},
   "source": [
    "Пропуски есть. Пропуски соответствуют тому факту, что сыпучий материал в расплав не добавлялся, можем заменить их нулями. В дальнейшем следует создать параметр **Суммарнный объём сыпучих материалов** и **Количество добавленных материалов**. Типы данных менять не нужно. Для всех сыпучих материалов среднее примерно соответствует медиане, что говорит о нормальном распределении данных."
   ]
  },
  {
   "cell_type": "code",
   "execution_count": 11,
   "metadata": {},
   "outputs": [
    {
     "name": "stdout",
     "output_type": "stream",
     "text": [
      "Даннные о времени подачи сыпучих материалов:\n",
      "Размер датасета: (3129, 16)\n"
     ]
    },
    {
     "data": {
      "text/html": [
       "<div>\n",
       "<style scoped>\n",
       "    .dataframe tbody tr th:only-of-type {\n",
       "        vertical-align: middle;\n",
       "    }\n",
       "\n",
       "    .dataframe tbody tr th {\n",
       "        vertical-align: top;\n",
       "    }\n",
       "\n",
       "    .dataframe thead th {\n",
       "        text-align: right;\n",
       "    }\n",
       "</style>\n",
       "<table border=\"1\" class=\"dataframe\">\n",
       "  <thead>\n",
       "    <tr style=\"text-align: right;\">\n",
       "      <th></th>\n",
       "      <th>key</th>\n",
       "      <th>Bulk 1</th>\n",
       "      <th>Bulk 2</th>\n",
       "      <th>Bulk 3</th>\n",
       "      <th>Bulk 4</th>\n",
       "      <th>Bulk 5</th>\n",
       "      <th>Bulk 6</th>\n",
       "      <th>Bulk 7</th>\n",
       "      <th>Bulk 8</th>\n",
       "      <th>Bulk 9</th>\n",
       "      <th>Bulk 10</th>\n",
       "      <th>Bulk 11</th>\n",
       "      <th>Bulk 12</th>\n",
       "      <th>Bulk 13</th>\n",
       "      <th>Bulk 14</th>\n",
       "      <th>Bulk 15</th>\n",
       "    </tr>\n",
       "  </thead>\n",
       "  <tbody>\n",
       "    <tr>\n",
       "      <td>0</td>\n",
       "      <td>1</td>\n",
       "      <td>NaN</td>\n",
       "      <td>NaN</td>\n",
       "      <td>NaN</td>\n",
       "      <td>2019-05-03 11:21:30</td>\n",
       "      <td>NaN</td>\n",
       "      <td>NaN</td>\n",
       "      <td>NaN</td>\n",
       "      <td>NaN</td>\n",
       "      <td>NaN</td>\n",
       "      <td>NaN</td>\n",
       "      <td>NaN</td>\n",
       "      <td>2019-05-03 11:03:52</td>\n",
       "      <td>NaN</td>\n",
       "      <td>2019-05-03 11:03:52</td>\n",
       "      <td>2019-05-03 11:03:52</td>\n",
       "    </tr>\n",
       "    <tr>\n",
       "      <td>1</td>\n",
       "      <td>2</td>\n",
       "      <td>NaN</td>\n",
       "      <td>NaN</td>\n",
       "      <td>NaN</td>\n",
       "      <td>2019-05-03 11:46:38</td>\n",
       "      <td>NaN</td>\n",
       "      <td>NaN</td>\n",
       "      <td>NaN</td>\n",
       "      <td>NaN</td>\n",
       "      <td>NaN</td>\n",
       "      <td>NaN</td>\n",
       "      <td>NaN</td>\n",
       "      <td>2019-05-03 11:40:20</td>\n",
       "      <td>NaN</td>\n",
       "      <td>2019-05-03 11:40:20</td>\n",
       "      <td>2019-05-03 11:40:20</td>\n",
       "    </tr>\n",
       "    <tr>\n",
       "      <td>2</td>\n",
       "      <td>3</td>\n",
       "      <td>NaN</td>\n",
       "      <td>NaN</td>\n",
       "      <td>NaN</td>\n",
       "      <td>2019-05-03 12:31:06</td>\n",
       "      <td>NaN</td>\n",
       "      <td>NaN</td>\n",
       "      <td>NaN</td>\n",
       "      <td>NaN</td>\n",
       "      <td>NaN</td>\n",
       "      <td>NaN</td>\n",
       "      <td>NaN</td>\n",
       "      <td>2019-05-03 12:09:40</td>\n",
       "      <td>NaN</td>\n",
       "      <td>2019-05-03 12:09:40</td>\n",
       "      <td>2019-05-03 12:09:40</td>\n",
       "    </tr>\n",
       "    <tr>\n",
       "      <td>3</td>\n",
       "      <td>4</td>\n",
       "      <td>NaN</td>\n",
       "      <td>NaN</td>\n",
       "      <td>NaN</td>\n",
       "      <td>2019-05-03 12:48:43</td>\n",
       "      <td>NaN</td>\n",
       "      <td>NaN</td>\n",
       "      <td>NaN</td>\n",
       "      <td>NaN</td>\n",
       "      <td>NaN</td>\n",
       "      <td>NaN</td>\n",
       "      <td>NaN</td>\n",
       "      <td>2019-05-03 12:41:24</td>\n",
       "      <td>NaN</td>\n",
       "      <td>2019-05-03 12:41:24</td>\n",
       "      <td>2019-05-03 12:41:24</td>\n",
       "    </tr>\n",
       "    <tr>\n",
       "      <td>4</td>\n",
       "      <td>5</td>\n",
       "      <td>NaN</td>\n",
       "      <td>NaN</td>\n",
       "      <td>NaN</td>\n",
       "      <td>2019-05-03 13:18:50</td>\n",
       "      <td>NaN</td>\n",
       "      <td>NaN</td>\n",
       "      <td>NaN</td>\n",
       "      <td>NaN</td>\n",
       "      <td>NaN</td>\n",
       "      <td>NaN</td>\n",
       "      <td>NaN</td>\n",
       "      <td>2019-05-03 13:12:56</td>\n",
       "      <td>NaN</td>\n",
       "      <td>2019-05-03 13:12:56</td>\n",
       "      <td>2019-05-03 13:12:56</td>\n",
       "    </tr>\n",
       "  </tbody>\n",
       "</table>\n",
       "</div>"
      ],
      "text/plain": [
       "   key Bulk 1 Bulk 2 Bulk 3               Bulk 4 Bulk 5 Bulk 6 Bulk 7 Bulk 8  \\\n",
       "0    1    NaN    NaN    NaN  2019-05-03 11:21:30    NaN    NaN    NaN    NaN   \n",
       "1    2    NaN    NaN    NaN  2019-05-03 11:46:38    NaN    NaN    NaN    NaN   \n",
       "2    3    NaN    NaN    NaN  2019-05-03 12:31:06    NaN    NaN    NaN    NaN   \n",
       "3    4    NaN    NaN    NaN  2019-05-03 12:48:43    NaN    NaN    NaN    NaN   \n",
       "4    5    NaN    NaN    NaN  2019-05-03 13:18:50    NaN    NaN    NaN    NaN   \n",
       "\n",
       "  Bulk 9 Bulk 10 Bulk 11              Bulk 12 Bulk 13              Bulk 14  \\\n",
       "0    NaN     NaN     NaN  2019-05-03 11:03:52     NaN  2019-05-03 11:03:52   \n",
       "1    NaN     NaN     NaN  2019-05-03 11:40:20     NaN  2019-05-03 11:40:20   \n",
       "2    NaN     NaN     NaN  2019-05-03 12:09:40     NaN  2019-05-03 12:09:40   \n",
       "3    NaN     NaN     NaN  2019-05-03 12:41:24     NaN  2019-05-03 12:41:24   \n",
       "4    NaN     NaN     NaN  2019-05-03 13:12:56     NaN  2019-05-03 13:12:56   \n",
       "\n",
       "               Bulk 15  \n",
       "0  2019-05-03 11:03:52  \n",
       "1  2019-05-03 11:40:20  \n",
       "2  2019-05-03 12:09:40  \n",
       "3  2019-05-03 12:41:24  \n",
       "4  2019-05-03 13:12:56  "
      ]
     },
     "metadata": {},
     "output_type": "display_data"
    },
    {
     "data": {
      "text/html": [
       "<div>\n",
       "<style scoped>\n",
       "    .dataframe tbody tr th:only-of-type {\n",
       "        vertical-align: middle;\n",
       "    }\n",
       "\n",
       "    .dataframe tbody tr th {\n",
       "        vertical-align: top;\n",
       "    }\n",
       "\n",
       "    .dataframe thead th {\n",
       "        text-align: right;\n",
       "    }\n",
       "</style>\n",
       "<table border=\"1\" class=\"dataframe\">\n",
       "  <thead>\n",
       "    <tr style=\"text-align: right;\">\n",
       "      <th></th>\n",
       "      <th>data_type</th>\n",
       "      <th>nan_part, %</th>\n",
       "    </tr>\n",
       "  </thead>\n",
       "  <tbody>\n",
       "    <tr>\n",
       "      <td>Bulk 8</td>\n",
       "      <td>object</td>\n",
       "      <td>99.968041</td>\n",
       "    </tr>\n",
       "    <tr>\n",
       "      <td>Bulk 13</td>\n",
       "      <td>object</td>\n",
       "      <td>99.424736</td>\n",
       "    </tr>\n",
       "    <tr>\n",
       "      <td>Bulk 9</td>\n",
       "      <td>object</td>\n",
       "      <td>99.392777</td>\n",
       "    </tr>\n",
       "    <tr>\n",
       "      <td>Bulk 2</td>\n",
       "      <td>object</td>\n",
       "      <td>99.296900</td>\n",
       "    </tr>\n",
       "    <tr>\n",
       "      <td>Bulk 7</td>\n",
       "      <td>object</td>\n",
       "      <td>99.201023</td>\n",
       "    </tr>\n",
       "    <tr>\n",
       "      <td>Bulk 5</td>\n",
       "      <td>object</td>\n",
       "      <td>97.539150</td>\n",
       "    </tr>\n",
       "    <tr>\n",
       "      <td>Bulk 10</td>\n",
       "      <td>object</td>\n",
       "      <td>94.375200</td>\n",
       "    </tr>\n",
       "    <tr>\n",
       "      <td>Bulk 11</td>\n",
       "      <td>object</td>\n",
       "      <td>94.343241</td>\n",
       "    </tr>\n",
       "    <tr>\n",
       "      <td>Bulk 1</td>\n",
       "      <td>object</td>\n",
       "      <td>91.946309</td>\n",
       "    </tr>\n",
       "    <tr>\n",
       "      <td>Bulk 6</td>\n",
       "      <td>object</td>\n",
       "      <td>81.591563</td>\n",
       "    </tr>\n",
       "    <tr>\n",
       "      <td>Bulk 4</td>\n",
       "      <td>object</td>\n",
       "      <td>67.593480</td>\n",
       "    </tr>\n",
       "    <tr>\n",
       "      <td>Bulk 3</td>\n",
       "      <td>object</td>\n",
       "      <td>58.517098</td>\n",
       "    </tr>\n",
       "    <tr>\n",
       "      <td>Bulk 15</td>\n",
       "      <td>object</td>\n",
       "      <td>28.155960</td>\n",
       "    </tr>\n",
       "    <tr>\n",
       "      <td>Bulk 12</td>\n",
       "      <td>object</td>\n",
       "      <td>21.700224</td>\n",
       "    </tr>\n",
       "    <tr>\n",
       "      <td>Bulk 14</td>\n",
       "      <td>object</td>\n",
       "      <td>10.322787</td>\n",
       "    </tr>\n",
       "    <tr>\n",
       "      <td>key</td>\n",
       "      <td>int64</td>\n",
       "      <td>0.000000</td>\n",
       "    </tr>\n",
       "  </tbody>\n",
       "</table>\n",
       "</div>"
      ],
      "text/plain": [
       "        data_type  nan_part, %\n",
       "Bulk 8     object    99.968041\n",
       "Bulk 13    object    99.424736\n",
       "Bulk 9     object    99.392777\n",
       "Bulk 2     object    99.296900\n",
       "Bulk 7     object    99.201023\n",
       "Bulk 5     object    97.539150\n",
       "Bulk 10    object    94.375200\n",
       "Bulk 11    object    94.343241\n",
       "Bulk 1     object    91.946309\n",
       "Bulk 6     object    81.591563\n",
       "Bulk 4     object    67.593480\n",
       "Bulk 3     object    58.517098\n",
       "Bulk 15    object    28.155960\n",
       "Bulk 12    object    21.700224\n",
       "Bulk 14    object    10.322787\n",
       "key         int64     0.000000"
      ]
     },
     "metadata": {},
     "output_type": "display_data"
    },
    {
     "data": {
      "text/html": [
       "<div>\n",
       "<style scoped>\n",
       "    .dataframe tbody tr th:only-of-type {\n",
       "        vertical-align: middle;\n",
       "    }\n",
       "\n",
       "    .dataframe tbody tr th {\n",
       "        vertical-align: top;\n",
       "    }\n",
       "\n",
       "    .dataframe thead th {\n",
       "        text-align: right;\n",
       "    }\n",
       "</style>\n",
       "<table border=\"1\" class=\"dataframe\">\n",
       "  <thead>\n",
       "    <tr style=\"text-align: right;\">\n",
       "      <th></th>\n",
       "      <th>key</th>\n",
       "    </tr>\n",
       "  </thead>\n",
       "  <tbody>\n",
       "    <tr>\n",
       "      <td>count</td>\n",
       "      <td>3129.000000</td>\n",
       "    </tr>\n",
       "    <tr>\n",
       "      <td>mean</td>\n",
       "      <td>1624.383509</td>\n",
       "    </tr>\n",
       "    <tr>\n",
       "      <td>std</td>\n",
       "      <td>933.337642</td>\n",
       "    </tr>\n",
       "    <tr>\n",
       "      <td>min</td>\n",
       "      <td>1.000000</td>\n",
       "    </tr>\n",
       "    <tr>\n",
       "      <td>25%</td>\n",
       "      <td>816.000000</td>\n",
       "    </tr>\n",
       "    <tr>\n",
       "      <td>50%</td>\n",
       "      <td>1622.000000</td>\n",
       "    </tr>\n",
       "    <tr>\n",
       "      <td>75%</td>\n",
       "      <td>2431.000000</td>\n",
       "    </tr>\n",
       "    <tr>\n",
       "      <td>max</td>\n",
       "      <td>3241.000000</td>\n",
       "    </tr>\n",
       "  </tbody>\n",
       "</table>\n",
       "</div>"
      ],
      "text/plain": [
       "               key\n",
       "count  3129.000000\n",
       "mean   1624.383509\n",
       "std     933.337642\n",
       "min       1.000000\n",
       "25%     816.000000\n",
       "50%    1622.000000\n",
       "75%    2431.000000\n",
       "max    3241.000000"
      ]
     },
     "metadata": {},
     "output_type": "display_data"
    }
   ],
   "source": [
    "print('Даннные о времени подачи сыпучих материалов:')\n",
    "data_info(data_bulk_time)"
   ]
  },
  {
   "cell_type": "markdown",
   "metadata": {},
   "source": [
    "Пропуски есть. Пропуски соответствуют тому факту, что сыпучий материал в расплав не добавлялся, можем заменить их нулями. В дальнейшем следует создать параметр **Суммарнное время подачи сыпучих материалов** и **Количество добавленных материалов**. Типы данных меняем для приведения времени в нужный формат. Для всех сыпучих материалов среднее примерно соответствует медиане, что говорит о нормальном распределении данных. При этом видим высокую корреляцию с данными из прошлого датасета. Возможно, следует исключить данные параметры при построении модели."
   ]
  },
  {
   "cell_type": "code",
   "execution_count": 12,
   "metadata": {},
   "outputs": [
    {
     "name": "stdout",
     "output_type": "stream",
     "text": [
      "Даннные о продувке газом материалов:\n",
      "Размер датасета: (3239, 2)\n"
     ]
    },
    {
     "data": {
      "text/html": [
       "<div>\n",
       "<style scoped>\n",
       "    .dataframe tbody tr th:only-of-type {\n",
       "        vertical-align: middle;\n",
       "    }\n",
       "\n",
       "    .dataframe tbody tr th {\n",
       "        vertical-align: top;\n",
       "    }\n",
       "\n",
       "    .dataframe thead th {\n",
       "        text-align: right;\n",
       "    }\n",
       "</style>\n",
       "<table border=\"1\" class=\"dataframe\">\n",
       "  <thead>\n",
       "    <tr style=\"text-align: right;\">\n",
       "      <th></th>\n",
       "      <th>key</th>\n",
       "      <th>Газ 1</th>\n",
       "    </tr>\n",
       "  </thead>\n",
       "  <tbody>\n",
       "    <tr>\n",
       "      <td>0</td>\n",
       "      <td>1</td>\n",
       "      <td>29.749986</td>\n",
       "    </tr>\n",
       "    <tr>\n",
       "      <td>1</td>\n",
       "      <td>2</td>\n",
       "      <td>12.555561</td>\n",
       "    </tr>\n",
       "    <tr>\n",
       "      <td>2</td>\n",
       "      <td>3</td>\n",
       "      <td>28.554793</td>\n",
       "    </tr>\n",
       "    <tr>\n",
       "      <td>3</td>\n",
       "      <td>4</td>\n",
       "      <td>18.841219</td>\n",
       "    </tr>\n",
       "    <tr>\n",
       "      <td>4</td>\n",
       "      <td>5</td>\n",
       "      <td>5.413692</td>\n",
       "    </tr>\n",
       "  </tbody>\n",
       "</table>\n",
       "</div>"
      ],
      "text/plain": [
       "   key      Газ 1\n",
       "0    1  29.749986\n",
       "1    2  12.555561\n",
       "2    3  28.554793\n",
       "3    4  18.841219\n",
       "4    5   5.413692"
      ]
     },
     "metadata": {},
     "output_type": "display_data"
    },
    {
     "data": {
      "text/html": [
       "<div>\n",
       "<style scoped>\n",
       "    .dataframe tbody tr th:only-of-type {\n",
       "        vertical-align: middle;\n",
       "    }\n",
       "\n",
       "    .dataframe tbody tr th {\n",
       "        vertical-align: top;\n",
       "    }\n",
       "\n",
       "    .dataframe thead th {\n",
       "        text-align: right;\n",
       "    }\n",
       "</style>\n",
       "<table border=\"1\" class=\"dataframe\">\n",
       "  <thead>\n",
       "    <tr style=\"text-align: right;\">\n",
       "      <th></th>\n",
       "      <th>data_type</th>\n",
       "      <th>nan_part, %</th>\n",
       "    </tr>\n",
       "  </thead>\n",
       "  <tbody>\n",
       "    <tr>\n",
       "      <td>key</td>\n",
       "      <td>int64</td>\n",
       "      <td>0.0</td>\n",
       "    </tr>\n",
       "    <tr>\n",
       "      <td>Газ 1</td>\n",
       "      <td>float64</td>\n",
       "      <td>0.0</td>\n",
       "    </tr>\n",
       "  </tbody>\n",
       "</table>\n",
       "</div>"
      ],
      "text/plain": [
       "      data_type  nan_part, %\n",
       "key       int64          0.0\n",
       "Газ 1   float64          0.0"
      ]
     },
     "metadata": {},
     "output_type": "display_data"
    },
    {
     "data": {
      "text/html": [
       "<div>\n",
       "<style scoped>\n",
       "    .dataframe tbody tr th:only-of-type {\n",
       "        vertical-align: middle;\n",
       "    }\n",
       "\n",
       "    .dataframe tbody tr th {\n",
       "        vertical-align: top;\n",
       "    }\n",
       "\n",
       "    .dataframe thead th {\n",
       "        text-align: right;\n",
       "    }\n",
       "</style>\n",
       "<table border=\"1\" class=\"dataframe\">\n",
       "  <thead>\n",
       "    <tr style=\"text-align: right;\">\n",
       "      <th></th>\n",
       "      <th>key</th>\n",
       "      <th>Газ 1</th>\n",
       "    </tr>\n",
       "  </thead>\n",
       "  <tbody>\n",
       "    <tr>\n",
       "      <td>count</td>\n",
       "      <td>3239.000000</td>\n",
       "      <td>3239.000000</td>\n",
       "    </tr>\n",
       "    <tr>\n",
       "      <td>mean</td>\n",
       "      <td>1621.861377</td>\n",
       "      <td>11.002062</td>\n",
       "    </tr>\n",
       "    <tr>\n",
       "      <td>std</td>\n",
       "      <td>935.386334</td>\n",
       "      <td>6.220327</td>\n",
       "    </tr>\n",
       "    <tr>\n",
       "      <td>min</td>\n",
       "      <td>1.000000</td>\n",
       "      <td>0.008399</td>\n",
       "    </tr>\n",
       "    <tr>\n",
       "      <td>25%</td>\n",
       "      <td>812.500000</td>\n",
       "      <td>7.043089</td>\n",
       "    </tr>\n",
       "    <tr>\n",
       "      <td>50%</td>\n",
       "      <td>1622.000000</td>\n",
       "      <td>9.836267</td>\n",
       "    </tr>\n",
       "    <tr>\n",
       "      <td>75%</td>\n",
       "      <td>2431.500000</td>\n",
       "      <td>13.769915</td>\n",
       "    </tr>\n",
       "    <tr>\n",
       "      <td>max</td>\n",
       "      <td>3241.000000</td>\n",
       "      <td>77.995040</td>\n",
       "    </tr>\n",
       "  </tbody>\n",
       "</table>\n",
       "</div>"
      ],
      "text/plain": [
       "               key        Газ 1\n",
       "count  3239.000000  3239.000000\n",
       "mean   1621.861377    11.002062\n",
       "std     935.386334     6.220327\n",
       "min       1.000000     0.008399\n",
       "25%     812.500000     7.043089\n",
       "50%    1622.000000     9.836267\n",
       "75%    2431.500000    13.769915\n",
       "max    3241.000000    77.995040"
      ]
     },
     "metadata": {},
     "output_type": "display_data"
    }
   ],
   "source": [
    "print('Даннные о продувке газом материалов:')\n",
    "data_info(data_gas)"
   ]
  },
  {
   "cell_type": "markdown",
   "metadata": {},
   "source": [
    "Пропусков нет, типы данных менять не нужно. Среднее примерно соответствует медиане, что говорит о нормальном распределении данных. Построим диаграмму размаха:"
   ]
  },
  {
   "cell_type": "code",
   "execution_count": 13,
   "metadata": {},
   "outputs": [
    {
     "data": {
      "text/plain": [
       "Text(0.5, 1.0, 'Диаграмма размаха продувки газом')"
      ]
     },
     "execution_count": 13,
     "metadata": {},
     "output_type": "execute_result"
    },
    {
     "data": {
      "image/png": "[encoded data removed]",
      "text/plain": [
       "<Figure size 504x360 with 1 Axes>"
      ]
     },
     "metadata": {
      "needs_background": "light"
     },
     "output_type": "display_data"
    }
   ],
   "source": [
    "data_gas['Газ 1'].plot(grid = True, \n",
    "                       style = 'o',\n",
    "                       figsize = (7, 5), \n",
    "                       kind= 'box', \n",
    "                       subplots = True, \n",
    "                       fontsize=12)\n",
    "plt.ylabel(\"Продувка газом\", fontsize=14)\n",
    "plt.title('Диаграмма размаха продувки газом', fontsize=16)"
   ]
  },
  {
   "cell_type": "markdown",
   "metadata": {},
   "source": [
    "Вероятно, выбросы связаны с различным кол-вом газа, необходимым для продувки различных видов сыпучих материалов, поэтому не являются критичными."
   ]
  },
  {
   "cell_type": "code",
   "execution_count": 14,
   "metadata": {},
   "outputs": [
    {
     "name": "stdout",
     "output_type": "stream",
     "text": [
      "Результаты измерения температуры:\n",
      "Размер датасета: (15907, 3)\n"
     ]
    },
    {
     "data": {
      "text/html": [
       "<div>\n",
       "<style scoped>\n",
       "    .dataframe tbody tr th:only-of-type {\n",
       "        vertical-align: middle;\n",
       "    }\n",
       "\n",
       "    .dataframe tbody tr th {\n",
       "        vertical-align: top;\n",
       "    }\n",
       "\n",
       "    .dataframe thead th {\n",
       "        text-align: right;\n",
       "    }\n",
       "</style>\n",
       "<table border=\"1\" class=\"dataframe\">\n",
       "  <thead>\n",
       "    <tr style=\"text-align: right;\">\n",
       "      <th></th>\n",
       "      <th>key</th>\n",
       "      <th>Время замера</th>\n",
       "      <th>Температура</th>\n",
       "    </tr>\n",
       "  </thead>\n",
       "  <tbody>\n",
       "    <tr>\n",
       "      <td>0</td>\n",
       "      <td>1</td>\n",
       "      <td>2019-05-03 11:16:18</td>\n",
       "      <td>1571.0</td>\n",
       "    </tr>\n",
       "    <tr>\n",
       "      <td>1</td>\n",
       "      <td>1</td>\n",
       "      <td>2019-05-03 11:25:53</td>\n",
       "      <td>1604.0</td>\n",
       "    </tr>\n",
       "    <tr>\n",
       "      <td>2</td>\n",
       "      <td>1</td>\n",
       "      <td>2019-05-03 11:29:11</td>\n",
       "      <td>1618.0</td>\n",
       "    </tr>\n",
       "    <tr>\n",
       "      <td>3</td>\n",
       "      <td>1</td>\n",
       "      <td>2019-05-03 11:30:01</td>\n",
       "      <td>1601.0</td>\n",
       "    </tr>\n",
       "    <tr>\n",
       "      <td>4</td>\n",
       "      <td>1</td>\n",
       "      <td>2019-05-03 11:30:39</td>\n",
       "      <td>1613.0</td>\n",
       "    </tr>\n",
       "  </tbody>\n",
       "</table>\n",
       "</div>"
      ],
      "text/plain": [
       "   key         Время замера  Температура\n",
       "0    1  2019-05-03 11:16:18       1571.0\n",
       "1    1  2019-05-03 11:25:53       1604.0\n",
       "2    1  2019-05-03 11:29:11       1618.0\n",
       "3    1  2019-05-03 11:30:01       1601.0\n",
       "4    1  2019-05-03 11:30:39       1613.0"
      ]
     },
     "metadata": {},
     "output_type": "display_data"
    },
    {
     "data": {
      "text/html": [
       "<div>\n",
       "<style scoped>\n",
       "    .dataframe tbody tr th:only-of-type {\n",
       "        vertical-align: middle;\n",
       "    }\n",
       "\n",
       "    .dataframe tbody tr th {\n",
       "        vertical-align: top;\n",
       "    }\n",
       "\n",
       "    .dataframe thead th {\n",
       "        text-align: right;\n",
       "    }\n",
       "</style>\n",
       "<table border=\"1\" class=\"dataframe\">\n",
       "  <thead>\n",
       "    <tr style=\"text-align: right;\">\n",
       "      <th></th>\n",
       "      <th>data_type</th>\n",
       "      <th>nan_part, %</th>\n",
       "    </tr>\n",
       "  </thead>\n",
       "  <tbody>\n",
       "    <tr>\n",
       "      <td>Температура</td>\n",
       "      <td>float64</td>\n",
       "      <td>18.237254</td>\n",
       "    </tr>\n",
       "    <tr>\n",
       "      <td>key</td>\n",
       "      <td>int64</td>\n",
       "      <td>0.000000</td>\n",
       "    </tr>\n",
       "    <tr>\n",
       "      <td>Время замера</td>\n",
       "      <td>object</td>\n",
       "      <td>0.000000</td>\n",
       "    </tr>\n",
       "  </tbody>\n",
       "</table>\n",
       "</div>"
      ],
      "text/plain": [
       "             data_type  nan_part, %\n",
       "Температура    float64    18.237254\n",
       "key              int64     0.000000\n",
       "Время замера    object     0.000000"
      ]
     },
     "metadata": {},
     "output_type": "display_data"
    },
    {
     "data": {
      "text/html": [
       "<div>\n",
       "<style scoped>\n",
       "    .dataframe tbody tr th:only-of-type {\n",
       "        vertical-align: middle;\n",
       "    }\n",
       "\n",
       "    .dataframe tbody tr th {\n",
       "        vertical-align: top;\n",
       "    }\n",
       "\n",
       "    .dataframe thead th {\n",
       "        text-align: right;\n",
       "    }\n",
       "</style>\n",
       "<table border=\"1\" class=\"dataframe\">\n",
       "  <thead>\n",
       "    <tr style=\"text-align: right;\">\n",
       "      <th></th>\n",
       "      <th>key</th>\n",
       "      <th>Температура</th>\n",
       "    </tr>\n",
       "  </thead>\n",
       "  <tbody>\n",
       "    <tr>\n",
       "      <td>count</td>\n",
       "      <td>15907.000000</td>\n",
       "      <td>13006.000000</td>\n",
       "    </tr>\n",
       "    <tr>\n",
       "      <td>mean</td>\n",
       "      <td>1607.880870</td>\n",
       "      <td>1591.840920</td>\n",
       "    </tr>\n",
       "    <tr>\n",
       "      <td>std</td>\n",
       "      <td>942.212073</td>\n",
       "      <td>21.375851</td>\n",
       "    </tr>\n",
       "    <tr>\n",
       "      <td>min</td>\n",
       "      <td>1.000000</td>\n",
       "      <td>1191.000000</td>\n",
       "    </tr>\n",
       "    <tr>\n",
       "      <td>25%</td>\n",
       "      <td>790.000000</td>\n",
       "      <td>1581.000000</td>\n",
       "    </tr>\n",
       "    <tr>\n",
       "      <td>50%</td>\n",
       "      <td>1618.000000</td>\n",
       "      <td>1591.000000</td>\n",
       "    </tr>\n",
       "    <tr>\n",
       "      <td>75%</td>\n",
       "      <td>2427.000000</td>\n",
       "      <td>1601.000000</td>\n",
       "    </tr>\n",
       "    <tr>\n",
       "      <td>max</td>\n",
       "      <td>3241.000000</td>\n",
       "      <td>1705.000000</td>\n",
       "    </tr>\n",
       "  </tbody>\n",
       "</table>\n",
       "</div>"
      ],
      "text/plain": [
       "                key   Температура\n",
       "count  15907.000000  13006.000000\n",
       "mean    1607.880870   1591.840920\n",
       "std      942.212073     21.375851\n",
       "min        1.000000   1191.000000\n",
       "25%      790.000000   1581.000000\n",
       "50%     1618.000000   1591.000000\n",
       "75%     2427.000000   1601.000000\n",
       "max     3241.000000   1705.000000"
      ]
     },
     "metadata": {},
     "output_type": "display_data"
    }
   ],
   "source": [
    "print('Результаты измерения температуры:')\n",
    "data_info(data_temp)"
   ]
  },
  {
   "cell_type": "markdown",
   "metadata": {},
   "source": [
    "Есть пропуски. Для времени необходимо поменять тип данных. Среднее примерно равно медиане, что говорит о нормальном распределении данных. Построим диаграмму размаха:"
   ]
  },
  {
   "cell_type": "code",
   "execution_count": 15,
   "metadata": {},
   "outputs": [
    {
     "data": {
      "text/plain": [
       "Text(0.5, 1.0, 'Диаграмма размаха температуры')"
      ]
     },
     "execution_count": 15,
     "metadata": {},
     "output_type": "execute_result"
    },
    {
     "data": {
      "image/png": "[encoded data removed]",
      "text/plain": [
       "<Figure size 504x360 with 1 Axes>"
      ]
     },
     "metadata": {
      "needs_background": "light"
     },
     "output_type": "display_data"
    }
   ],
   "source": [
    "data_temp['Температура'].plot(grid = True, \n",
    "                       style = 'o',\n",
    "                       figsize = (7, 5), \n",
    "                       kind= 'box', \n",
    "                       subplots = True, \n",
    "                       fontsize=12)\n",
    "plt.ylabel(\"Температура\", fontsize=14)\n",
    "plt.title('Диаграмма размаха температуры', fontsize=16)"
   ]
  },
  {
   "cell_type": "markdown",
   "metadata": {},
   "source": [
    "Рассмотрим плавки с температурой меньше 1500С:"
   ]
  },
  {
   "cell_type": "code",
   "execution_count": 16,
   "metadata": {},
   "outputs": [],
   "source": [
    "keys = data_temp[data_temp['Температура'] < 1500]['key']"
   ]
  },
  {
   "cell_type": "code",
   "execution_count": 17,
   "metadata": {},
   "outputs": [
    {
     "data": {
      "text/plain": [
       "[      key         Время замера  Температура\n",
       " 4350  867  2019-06-04 14:21:00       1191.0\n",
       " 4351  867  2019-06-04 14:29:35       1575.0\n",
       " 4352  867  2019-06-04 14:30:29       1576.0\n",
       " 4353  867  2019-06-04 14:43:10       1571.0\n",
       " 4354  867  2019-06-04 14:52:54       1600.0\n",
       " 4355  867  2019-06-04 14:57:17       1599.0,\n",
       "        key         Время замера  Температура\n",
       " 5978  1214  2019-06-16 05:32:00       1208.0\n",
       " 5979  1214  2019-06-16 05:49:01       1608.0\n",
       " 5980  1214  2019-06-16 05:51:28       1608.0\n",
       " 5981  1214  2019-06-16 05:51:38       1608.0\n",
       " 5982  1214  2019-06-16 05:52:41       1608.0\n",
       " 5983  1214  2019-06-16 05:53:03       1608.0\n",
       " 5984  1214  2019-06-16 05:53:13       1608.0\n",
       " 5985  1214  2019-06-16 05:54:48       1604.0\n",
       " 5986  1214  2019-06-16 05:57:21       1604.0\n",
       " 5987  1214  2019-06-16 06:00:25       1604.0\n",
       " 5988  1214  2019-06-16 06:06:12       1600.0\n",
       " 5989  1214  2019-06-16 06:07:28       1596.0\n",
       " 5990  1214  2019-06-16 06:08:28       1596.0\n",
       " 5991  1214  2019-06-16 06:09:10       1603.0\n",
       " 5992  1214  2019-06-16 06:12:25       1591.0\n",
       " 5993  1214  2019-06-16 06:14:45       1591.0,\n",
       "        key         Время замера  Температура\n",
       " 7958  1619  2019-06-30 11:03:54       1218.0\n",
       " 7959  1619  2019-06-30 11:04:39       1623.0\n",
       " 7960  1619  2019-06-30 11:10:01       1611.0\n",
       " 7961  1619  2019-06-30 11:16:03       1603.0\n",
       " 7962  1619  2019-06-30 11:21:54       1590.0,\n",
       "        key         Время замера  Температура\n",
       " 8907  1818  2019-07-07 00:00:14       1627.0\n",
       " 8908  1818  2019-07-07 00:13:02       1650.0\n",
       " 8909  1818  2019-07-07 00:25:28       1650.0\n",
       " 8910  1818  2019-07-07 00:26:03       1650.0\n",
       " 8911  1818  2019-07-07 00:26:42       1650.0\n",
       " 8912  1818  2019-07-07 00:27:23       1663.0\n",
       " 8913  1818  2019-07-07 00:30:49       1383.0\n",
       " 8914  1818  2019-07-07 00:31:40       1383.0\n",
       " 8915  1818  2019-07-07 00:32:55       1680.0\n",
       " 8916  1818  2019-07-07 00:36:11       1667.0\n",
       " 8917  1818  2019-07-07 00:36:45       1667.0\n",
       " 8918  1818  2019-07-07 00:38:50       1671.0,\n",
       "        key         Время замера  Температура\n",
       " 8907  1818  2019-07-07 00:00:14       1627.0\n",
       " 8908  1818  2019-07-07 00:13:02       1650.0\n",
       " 8909  1818  2019-07-07 00:25:28       1650.0\n",
       " 8910  1818  2019-07-07 00:26:03       1650.0\n",
       " 8911  1818  2019-07-07 00:26:42       1650.0\n",
       " 8912  1818  2019-07-07 00:27:23       1663.0\n",
       " 8913  1818  2019-07-07 00:30:49       1383.0\n",
       " 8914  1818  2019-07-07 00:31:40       1383.0\n",
       " 8915  1818  2019-07-07 00:32:55       1680.0\n",
       " 8916  1818  2019-07-07 00:36:11       1667.0\n",
       " 8917  1818  2019-07-07 00:36:45       1667.0\n",
       " 8918  1818  2019-07-07 00:38:50       1671.0,\n",
       "         key         Время замера  Температура\n",
       " 10127  2052  2019-07-21 14:51:40       1227.0\n",
       " 10128  2052  2019-07-21 14:52:21       1592.0\n",
       " 10129  2052  2019-07-21 15:06:31       1590.0\n",
       " 10130  2052  2019-07-21 15:15:24       1591.0\n",
       " 10131  2052  2019-07-21 15:24:06       1592.0,\n",
       "         key         Время замера  Температура\n",
       " 12564  2561  2019-08-08 07:34:15       1204.0\n",
       " 12565  2561  2019-08-08 07:35:02          NaN\n",
       " 12566  2561  2019-08-08 07:35:38          NaN\n",
       " 12567  2561  2019-08-08 07:49:07          NaN\n",
       " 12568  2561  2019-08-08 07:54:21          NaN\n",
       " 12569  2561  2019-08-08 07:56:57          NaN]"
      ]
     },
     "execution_count": 17,
     "metadata": {},
     "output_type": "execute_result"
    }
   ],
   "source": [
    "temp = []\n",
    "for i in keys:\n",
    "    temp.append(data_temp[data_temp['key'] == i])\n",
    "temp"
   ]
  },
  {
   "cell_type": "markdown",
   "metadata": {},
   "source": [
    "Выбросы в районе 1200-1400С соответствуют логике, если печи только запускаются в работу, в следствие чего нужно время на нагрев и расплавку чугуна, из которого после получают сталь. Данный сценарий наблюдается в 4-х случаях из 6-ти примерно с одинаковой периодичностью. Данный вопрос следует уточнить у заказчика, для моделирования данные плавки не подходят. Температура плавления чугуна - 1150С (https://ru.wikipedia.org/wiki/Чугун#:~:text=Температура%20плавления%20чугуна%20—%20от,ниже%2C%20чем%20у%20чистого%20железа). В случае 1818 плавки видим резкий спад температуры в середине процесса, что невозможно и говорит о сбое в работе датчиков измерения, к тому же данные дублированы, следует удалить данную плавку из анализа. Для стали диапазон температур от 1500С до 1750С соответствует норме (https://ru.wikipedia.org/wiki/Сталь#:~:text=Температура%20плавления%3A%201450—1520%20°C.%20Удельная,кДж%2Fкг%20(20%20ккал%2Fкг%2C%2023%20Вт·ч%2Fкг))"
   ]
  },
  {
   "cell_type": "markdown",
   "metadata": {},
   "source": [
    "Проверим, есть ли взаимосвязь в появлении пропусков:"
   ]
  },
  {
   "cell_type": "code",
   "execution_count": 18,
   "metadata": {},
   "outputs": [
    {
     "data": {
      "text/html": [
       "<div>\n",
       "<style scoped>\n",
       "    .dataframe tbody tr th:only-of-type {\n",
       "        vertical-align: middle;\n",
       "    }\n",
       "\n",
       "    .dataframe tbody tr th {\n",
       "        vertical-align: top;\n",
       "    }\n",
       "\n",
       "    .dataframe thead th {\n",
       "        text-align: right;\n",
       "    }\n",
       "</style>\n",
       "<table border=\"1\" class=\"dataframe\">\n",
       "  <thead>\n",
       "    <tr style=\"text-align: right;\">\n",
       "      <th></th>\n",
       "      <th>key</th>\n",
       "      <th>Время замера</th>\n",
       "      <th>Температура</th>\n",
       "    </tr>\n",
       "  </thead>\n",
       "  <tbody>\n",
       "    <tr>\n",
       "      <td>12268</td>\n",
       "      <td>2500</td>\n",
       "      <td>2019-08-06 03:24:43</td>\n",
       "      <td>NaN</td>\n",
       "    </tr>\n",
       "    <tr>\n",
       "      <td>12269</td>\n",
       "      <td>2500</td>\n",
       "      <td>2019-08-06 03:25:16</td>\n",
       "      <td>NaN</td>\n",
       "    </tr>\n",
       "    <tr>\n",
       "      <td>12270</td>\n",
       "      <td>2500</td>\n",
       "      <td>2019-08-06 03:28:21</td>\n",
       "      <td>NaN</td>\n",
       "    </tr>\n",
       "    <tr>\n",
       "      <td>12272</td>\n",
       "      <td>2501</td>\n",
       "      <td>2019-08-06 04:01:59</td>\n",
       "      <td>NaN</td>\n",
       "    </tr>\n",
       "    <tr>\n",
       "      <td>12273</td>\n",
       "      <td>2501</td>\n",
       "      <td>2019-08-06 04:14:35</td>\n",
       "      <td>NaN</td>\n",
       "    </tr>\n",
       "    <tr>\n",
       "      <td>...</td>\n",
       "      <td>...</td>\n",
       "      <td>...</td>\n",
       "      <td>...</td>\n",
       "    </tr>\n",
       "    <tr>\n",
       "      <td>15901</td>\n",
       "      <td>3240</td>\n",
       "      <td>2019-09-01 03:35:16</td>\n",
       "      <td>NaN</td>\n",
       "    </tr>\n",
       "    <tr>\n",
       "      <td>15903</td>\n",
       "      <td>3241</td>\n",
       "      <td>2019-09-01 04:16:12</td>\n",
       "      <td>NaN</td>\n",
       "    </tr>\n",
       "    <tr>\n",
       "      <td>15904</td>\n",
       "      <td>3241</td>\n",
       "      <td>2019-09-01 04:22:39</td>\n",
       "      <td>NaN</td>\n",
       "    </tr>\n",
       "    <tr>\n",
       "      <td>15905</td>\n",
       "      <td>3241</td>\n",
       "      <td>2019-09-01 04:33:42</td>\n",
       "      <td>NaN</td>\n",
       "    </tr>\n",
       "    <tr>\n",
       "      <td>15906</td>\n",
       "      <td>3241</td>\n",
       "      <td>2019-09-01 04:38:08</td>\n",
       "      <td>NaN</td>\n",
       "    </tr>\n",
       "  </tbody>\n",
       "</table>\n",
       "<p>2901 rows × 3 columns</p>\n",
       "</div>"
      ],
      "text/plain": [
       "        key         Время замера  Температура\n",
       "12268  2500  2019-08-06 03:24:43          NaN\n",
       "12269  2500  2019-08-06 03:25:16          NaN\n",
       "12270  2500  2019-08-06 03:28:21          NaN\n",
       "12272  2501  2019-08-06 04:01:59          NaN\n",
       "12273  2501  2019-08-06 04:14:35          NaN\n",
       "...     ...                  ...          ...\n",
       "15901  3240  2019-09-01 03:35:16          NaN\n",
       "15903  3241  2019-09-01 04:16:12          NaN\n",
       "15904  3241  2019-09-01 04:22:39          NaN\n",
       "15905  3241  2019-09-01 04:33:42          NaN\n",
       "15906  3241  2019-09-01 04:38:08          NaN\n",
       "\n",
       "[2901 rows x 3 columns]"
      ]
     },
     "execution_count": 18,
     "metadata": {},
     "output_type": "execute_result"
    }
   ],
   "source": [
    "data_temp[data_temp['Температура'].isna()]"
   ]
  },
  {
   "cell_type": "markdown",
   "metadata": {},
   "source": [
    "Отсутствуют данные для измерения температуры с 2500-й партии. Вероятно, данные находятся на проверке и ещё не загружены в систему, либо произошёл сбой (поломка) в работах датчиков. В любом случае, данные с 2500-й партии для построения модели не подойдут. Учитывая, что температура - целевой признак, но измерений для партии несколько, следует брать за целевое значение последний замер, так как он делается после всех операций тех.процесса получения стали."
   ]
  },
  {
   "cell_type": "code",
   "execution_count": 19,
   "metadata": {},
   "outputs": [
    {
     "name": "stdout",
     "output_type": "stream",
     "text": [
      "Данные о проволочных материалах (объём):\n",
      "Размер датасета: (3081, 10)\n"
     ]
    },
    {
     "data": {
      "text/html": [
       "<div>\n",
       "<style scoped>\n",
       "    .dataframe tbody tr th:only-of-type {\n",
       "        vertical-align: middle;\n",
       "    }\n",
       "\n",
       "    .dataframe tbody tr th {\n",
       "        vertical-align: top;\n",
       "    }\n",
       "\n",
       "    .dataframe thead th {\n",
       "        text-align: right;\n",
       "    }\n",
       "</style>\n",
       "<table border=\"1\" class=\"dataframe\">\n",
       "  <thead>\n",
       "    <tr style=\"text-align: right;\">\n",
       "      <th></th>\n",
       "      <th>key</th>\n",
       "      <th>Wire 1</th>\n",
       "      <th>Wire 2</th>\n",
       "      <th>Wire 3</th>\n",
       "      <th>Wire 4</th>\n",
       "      <th>Wire 5</th>\n",
       "      <th>Wire 6</th>\n",
       "      <th>Wire 7</th>\n",
       "      <th>Wire 8</th>\n",
       "      <th>Wire 9</th>\n",
       "    </tr>\n",
       "  </thead>\n",
       "  <tbody>\n",
       "    <tr>\n",
       "      <td>0</td>\n",
       "      <td>1</td>\n",
       "      <td>60.059998</td>\n",
       "      <td>NaN</td>\n",
       "      <td>NaN</td>\n",
       "      <td>NaN</td>\n",
       "      <td>NaN</td>\n",
       "      <td>NaN</td>\n",
       "      <td>NaN</td>\n",
       "      <td>NaN</td>\n",
       "      <td>NaN</td>\n",
       "    </tr>\n",
       "    <tr>\n",
       "      <td>1</td>\n",
       "      <td>2</td>\n",
       "      <td>96.052315</td>\n",
       "      <td>NaN</td>\n",
       "      <td>NaN</td>\n",
       "      <td>NaN</td>\n",
       "      <td>NaN</td>\n",
       "      <td>NaN</td>\n",
       "      <td>NaN</td>\n",
       "      <td>NaN</td>\n",
       "      <td>NaN</td>\n",
       "    </tr>\n",
       "    <tr>\n",
       "      <td>2</td>\n",
       "      <td>3</td>\n",
       "      <td>91.160157</td>\n",
       "      <td>NaN</td>\n",
       "      <td>NaN</td>\n",
       "      <td>NaN</td>\n",
       "      <td>NaN</td>\n",
       "      <td>NaN</td>\n",
       "      <td>NaN</td>\n",
       "      <td>NaN</td>\n",
       "      <td>NaN</td>\n",
       "    </tr>\n",
       "    <tr>\n",
       "      <td>3</td>\n",
       "      <td>4</td>\n",
       "      <td>89.063515</td>\n",
       "      <td>NaN</td>\n",
       "      <td>NaN</td>\n",
       "      <td>NaN</td>\n",
       "      <td>NaN</td>\n",
       "      <td>NaN</td>\n",
       "      <td>NaN</td>\n",
       "      <td>NaN</td>\n",
       "      <td>NaN</td>\n",
       "    </tr>\n",
       "    <tr>\n",
       "      <td>4</td>\n",
       "      <td>5</td>\n",
       "      <td>89.238236</td>\n",
       "      <td>9.11456</td>\n",
       "      <td>NaN</td>\n",
       "      <td>NaN</td>\n",
       "      <td>NaN</td>\n",
       "      <td>NaN</td>\n",
       "      <td>NaN</td>\n",
       "      <td>NaN</td>\n",
       "      <td>NaN</td>\n",
       "    </tr>\n",
       "  </tbody>\n",
       "</table>\n",
       "</div>"
      ],
      "text/plain": [
       "   key     Wire 1   Wire 2  Wire 3  Wire 4  Wire 5  Wire 6  Wire 7  Wire 8  \\\n",
       "0    1  60.059998      NaN     NaN     NaN     NaN     NaN     NaN     NaN   \n",
       "1    2  96.052315      NaN     NaN     NaN     NaN     NaN     NaN     NaN   \n",
       "2    3  91.160157      NaN     NaN     NaN     NaN     NaN     NaN     NaN   \n",
       "3    4  89.063515      NaN     NaN     NaN     NaN     NaN     NaN     NaN   \n",
       "4    5  89.238236  9.11456     NaN     NaN     NaN     NaN     NaN     NaN   \n",
       "\n",
       "   Wire 9  \n",
       "0     NaN  \n",
       "1     NaN  \n",
       "2     NaN  \n",
       "3     NaN  \n",
       "4     NaN  "
      ]
     },
     "metadata": {},
     "output_type": "display_data"
    },
    {
     "data": {
      "text/html": [
       "<div>\n",
       "<style scoped>\n",
       "    .dataframe tbody tr th:only-of-type {\n",
       "        vertical-align: middle;\n",
       "    }\n",
       "\n",
       "    .dataframe tbody tr th {\n",
       "        vertical-align: top;\n",
       "    }\n",
       "\n",
       "    .dataframe thead th {\n",
       "        text-align: right;\n",
       "    }\n",
       "</style>\n",
       "<table border=\"1\" class=\"dataframe\">\n",
       "  <thead>\n",
       "    <tr style=\"text-align: right;\">\n",
       "      <th></th>\n",
       "      <th>data_type</th>\n",
       "      <th>nan_part, %</th>\n",
       "    </tr>\n",
       "  </thead>\n",
       "  <tbody>\n",
       "    <tr>\n",
       "      <td>Wire 5</td>\n",
       "      <td>float64</td>\n",
       "      <td>99.967543</td>\n",
       "    </tr>\n",
       "    <tr>\n",
       "      <td>Wire 7</td>\n",
       "      <td>float64</td>\n",
       "      <td>99.642973</td>\n",
       "    </tr>\n",
       "    <tr>\n",
       "      <td>Wire 4</td>\n",
       "      <td>float64</td>\n",
       "      <td>99.545602</td>\n",
       "    </tr>\n",
       "    <tr>\n",
       "      <td>Wire 8</td>\n",
       "      <td>float64</td>\n",
       "      <td>99.383317</td>\n",
       "    </tr>\n",
       "    <tr>\n",
       "      <td>Wire 9</td>\n",
       "      <td>float64</td>\n",
       "      <td>99.058747</td>\n",
       "    </tr>\n",
       "    <tr>\n",
       "      <td>Wire 3</td>\n",
       "      <td>float64</td>\n",
       "      <td>97.955209</td>\n",
       "    </tr>\n",
       "    <tr>\n",
       "      <td>Wire 6</td>\n",
       "      <td>float64</td>\n",
       "      <td>97.630639</td>\n",
       "    </tr>\n",
       "    <tr>\n",
       "      <td>Wire 2</td>\n",
       "      <td>float64</td>\n",
       "      <td>64.978903</td>\n",
       "    </tr>\n",
       "    <tr>\n",
       "      <td>Wire 1</td>\n",
       "      <td>float64</td>\n",
       "      <td>0.843882</td>\n",
       "    </tr>\n",
       "    <tr>\n",
       "      <td>key</td>\n",
       "      <td>int64</td>\n",
       "      <td>0.000000</td>\n",
       "    </tr>\n",
       "  </tbody>\n",
       "</table>\n",
       "</div>"
      ],
      "text/plain": [
       "       data_type  nan_part, %\n",
       "Wire 5   float64    99.967543\n",
       "Wire 7   float64    99.642973\n",
       "Wire 4   float64    99.545602\n",
       "Wire 8   float64    99.383317\n",
       "Wire 9   float64    99.058747\n",
       "Wire 3   float64    97.955209\n",
       "Wire 6   float64    97.630639\n",
       "Wire 2   float64    64.978903\n",
       "Wire 1   float64     0.843882\n",
       "key        int64     0.000000"
      ]
     },
     "metadata": {},
     "output_type": "display_data"
    },
    {
     "data": {
      "text/html": [
       "<div>\n",
       "<style scoped>\n",
       "    .dataframe tbody tr th:only-of-type {\n",
       "        vertical-align: middle;\n",
       "    }\n",
       "\n",
       "    .dataframe tbody tr th {\n",
       "        vertical-align: top;\n",
       "    }\n",
       "\n",
       "    .dataframe thead th {\n",
       "        text-align: right;\n",
       "    }\n",
       "</style>\n",
       "<table border=\"1\" class=\"dataframe\">\n",
       "  <thead>\n",
       "    <tr style=\"text-align: right;\">\n",
       "      <th></th>\n",
       "      <th>key</th>\n",
       "      <th>Wire 1</th>\n",
       "      <th>Wire 2</th>\n",
       "      <th>Wire 3</th>\n",
       "      <th>Wire 4</th>\n",
       "      <th>Wire 5</th>\n",
       "      <th>Wire 6</th>\n",
       "      <th>Wire 7</th>\n",
       "      <th>Wire 8</th>\n",
       "      <th>Wire 9</th>\n",
       "    </tr>\n",
       "  </thead>\n",
       "  <tbody>\n",
       "    <tr>\n",
       "      <td>count</td>\n",
       "      <td>3081.000000</td>\n",
       "      <td>3055.000000</td>\n",
       "      <td>1079.000000</td>\n",
       "      <td>63.000000</td>\n",
       "      <td>14.000000</td>\n",
       "      <td>1.000</td>\n",
       "      <td>73.000000</td>\n",
       "      <td>11.000000</td>\n",
       "      <td>19.000000</td>\n",
       "      <td>29.000000</td>\n",
       "    </tr>\n",
       "    <tr>\n",
       "      <td>mean</td>\n",
       "      <td>1623.426485</td>\n",
       "      <td>100.895853</td>\n",
       "      <td>50.577323</td>\n",
       "      <td>189.482681</td>\n",
       "      <td>57.442841</td>\n",
       "      <td>15.132</td>\n",
       "      <td>48.016974</td>\n",
       "      <td>10.039007</td>\n",
       "      <td>53.625193</td>\n",
       "      <td>34.155752</td>\n",
       "    </tr>\n",
       "    <tr>\n",
       "      <td>std</td>\n",
       "      <td>932.996726</td>\n",
       "      <td>42.012518</td>\n",
       "      <td>39.320216</td>\n",
       "      <td>99.513444</td>\n",
       "      <td>28.824667</td>\n",
       "      <td>NaN</td>\n",
       "      <td>33.919845</td>\n",
       "      <td>8.610584</td>\n",
       "      <td>16.881728</td>\n",
       "      <td>19.931616</td>\n",
       "    </tr>\n",
       "    <tr>\n",
       "      <td>min</td>\n",
       "      <td>1.000000</td>\n",
       "      <td>1.918800</td>\n",
       "      <td>0.030160</td>\n",
       "      <td>0.144144</td>\n",
       "      <td>24.148801</td>\n",
       "      <td>15.132</td>\n",
       "      <td>0.034320</td>\n",
       "      <td>0.234208</td>\n",
       "      <td>45.076721</td>\n",
       "      <td>4.622800</td>\n",
       "    </tr>\n",
       "    <tr>\n",
       "      <td>25%</td>\n",
       "      <td>823.000000</td>\n",
       "      <td>72.115684</td>\n",
       "      <td>20.193680</td>\n",
       "      <td>95.135044</td>\n",
       "      <td>40.807002</td>\n",
       "      <td>15.132</td>\n",
       "      <td>25.053600</td>\n",
       "      <td>6.762756</td>\n",
       "      <td>46.094879</td>\n",
       "      <td>22.058401</td>\n",
       "    </tr>\n",
       "    <tr>\n",
       "      <td>50%</td>\n",
       "      <td>1619.000000</td>\n",
       "      <td>100.158234</td>\n",
       "      <td>40.142956</td>\n",
       "      <td>235.194977</td>\n",
       "      <td>45.234282</td>\n",
       "      <td>15.132</td>\n",
       "      <td>42.076324</td>\n",
       "      <td>9.017009</td>\n",
       "      <td>46.279999</td>\n",
       "      <td>30.066399</td>\n",
       "    </tr>\n",
       "    <tr>\n",
       "      <td>75%</td>\n",
       "      <td>2434.000000</td>\n",
       "      <td>126.060484</td>\n",
       "      <td>70.227558</td>\n",
       "      <td>276.252014</td>\n",
       "      <td>76.124619</td>\n",
       "      <td>15.132</td>\n",
       "      <td>64.212723</td>\n",
       "      <td>11.886057</td>\n",
       "      <td>48.089603</td>\n",
       "      <td>43.862003</td>\n",
       "    </tr>\n",
       "    <tr>\n",
       "      <td>max</td>\n",
       "      <td>3241.000000</td>\n",
       "      <td>330.314424</td>\n",
       "      <td>282.780152</td>\n",
       "      <td>385.008668</td>\n",
       "      <td>113.231044</td>\n",
       "      <td>15.132</td>\n",
       "      <td>180.454575</td>\n",
       "      <td>32.847674</td>\n",
       "      <td>102.762401</td>\n",
       "      <td>90.053604</td>\n",
       "    </tr>\n",
       "  </tbody>\n",
       "</table>\n",
       "</div>"
      ],
      "text/plain": [
       "               key       Wire 1       Wire 2      Wire 3      Wire 4  Wire 5  \\\n",
       "count  3081.000000  3055.000000  1079.000000   63.000000   14.000000   1.000   \n",
       "mean   1623.426485   100.895853    50.577323  189.482681   57.442841  15.132   \n",
       "std     932.996726    42.012518    39.320216   99.513444   28.824667     NaN   \n",
       "min       1.000000     1.918800     0.030160    0.144144   24.148801  15.132   \n",
       "25%     823.000000    72.115684    20.193680   95.135044   40.807002  15.132   \n",
       "50%    1619.000000   100.158234    40.142956  235.194977   45.234282  15.132   \n",
       "75%    2434.000000   126.060484    70.227558  276.252014   76.124619  15.132   \n",
       "max    3241.000000   330.314424   282.780152  385.008668  113.231044  15.132   \n",
       "\n",
       "           Wire 6     Wire 7      Wire 8     Wire 9  \n",
       "count   73.000000  11.000000   19.000000  29.000000  \n",
       "mean    48.016974  10.039007   53.625193  34.155752  \n",
       "std     33.919845   8.610584   16.881728  19.931616  \n",
       "min      0.034320   0.234208   45.076721   4.622800  \n",
       "25%     25.053600   6.762756   46.094879  22.058401  \n",
       "50%     42.076324   9.017009   46.279999  30.066399  \n",
       "75%     64.212723  11.886057   48.089603  43.862003  \n",
       "max    180.454575  32.847674  102.762401  90.053604  "
      ]
     },
     "metadata": {},
     "output_type": "display_data"
    }
   ],
   "source": [
    "print('Данные о проволочных материалах (объём):')\n",
    "data_info(data_wire)"
   ]
  },
  {
   "cell_type": "markdown",
   "metadata": {},
   "source": [
    "Пропуски есть. Пропуски соответствуют тому факту, что проволочный материал в расплав не добавлялся, можем заменить их нулями. В дальнейшем следует создать параметр **Суммарнный объём проволочных материалов** и **Количество добавленных материалов**. Типы данных менять не нужно. Для всех проволочных материалов среднее примерно соответствует медиане, что говорит о нормальном распределении данных."
   ]
  },
  {
   "cell_type": "code",
   "execution_count": 20,
   "metadata": {},
   "outputs": [
    {
     "name": "stdout",
     "output_type": "stream",
     "text": [
      "Данные о проволочных материалах (время):\n",
      "Размер датасета: (3081, 10)\n"
     ]
    },
    {
     "data": {
      "text/html": [
       "<div>\n",
       "<style scoped>\n",
       "    .dataframe tbody tr th:only-of-type {\n",
       "        vertical-align: middle;\n",
       "    }\n",
       "\n",
       "    .dataframe tbody tr th {\n",
       "        vertical-align: top;\n",
       "    }\n",
       "\n",
       "    .dataframe thead th {\n",
       "        text-align: right;\n",
       "    }\n",
       "</style>\n",
       "<table border=\"1\" class=\"dataframe\">\n",
       "  <thead>\n",
       "    <tr style=\"text-align: right;\">\n",
       "      <th></th>\n",
       "      <th>key</th>\n",
       "      <th>Wire 1</th>\n",
       "      <th>Wire 2</th>\n",
       "      <th>Wire 3</th>\n",
       "      <th>Wire 4</th>\n",
       "      <th>Wire 5</th>\n",
       "      <th>Wire 6</th>\n",
       "      <th>Wire 7</th>\n",
       "      <th>Wire 8</th>\n",
       "      <th>Wire 9</th>\n",
       "    </tr>\n",
       "  </thead>\n",
       "  <tbody>\n",
       "    <tr>\n",
       "      <td>0</td>\n",
       "      <td>1</td>\n",
       "      <td>2019-05-03 11:11:41</td>\n",
       "      <td>NaN</td>\n",
       "      <td>NaN</td>\n",
       "      <td>NaN</td>\n",
       "      <td>NaN</td>\n",
       "      <td>NaN</td>\n",
       "      <td>NaN</td>\n",
       "      <td>NaN</td>\n",
       "      <td>NaN</td>\n",
       "    </tr>\n",
       "    <tr>\n",
       "      <td>1</td>\n",
       "      <td>2</td>\n",
       "      <td>2019-05-03 11:46:10</td>\n",
       "      <td>NaN</td>\n",
       "      <td>NaN</td>\n",
       "      <td>NaN</td>\n",
       "      <td>NaN</td>\n",
       "      <td>NaN</td>\n",
       "      <td>NaN</td>\n",
       "      <td>NaN</td>\n",
       "      <td>NaN</td>\n",
       "    </tr>\n",
       "    <tr>\n",
       "      <td>2</td>\n",
       "      <td>3</td>\n",
       "      <td>2019-05-03 12:13:47</td>\n",
       "      <td>NaN</td>\n",
       "      <td>NaN</td>\n",
       "      <td>NaN</td>\n",
       "      <td>NaN</td>\n",
       "      <td>NaN</td>\n",
       "      <td>NaN</td>\n",
       "      <td>NaN</td>\n",
       "      <td>NaN</td>\n",
       "    </tr>\n",
       "    <tr>\n",
       "      <td>3</td>\n",
       "      <td>4</td>\n",
       "      <td>2019-05-03 12:48:05</td>\n",
       "      <td>NaN</td>\n",
       "      <td>NaN</td>\n",
       "      <td>NaN</td>\n",
       "      <td>NaN</td>\n",
       "      <td>NaN</td>\n",
       "      <td>NaN</td>\n",
       "      <td>NaN</td>\n",
       "      <td>NaN</td>\n",
       "    </tr>\n",
       "    <tr>\n",
       "      <td>4</td>\n",
       "      <td>5</td>\n",
       "      <td>2019-05-03 13:18:15</td>\n",
       "      <td>2019-05-03 13:32:06</td>\n",
       "      <td>NaN</td>\n",
       "      <td>NaN</td>\n",
       "      <td>NaN</td>\n",
       "      <td>NaN</td>\n",
       "      <td>NaN</td>\n",
       "      <td>NaN</td>\n",
       "      <td>NaN</td>\n",
       "    </tr>\n",
       "  </tbody>\n",
       "</table>\n",
       "</div>"
      ],
      "text/plain": [
       "   key               Wire 1               Wire 2 Wire 3 Wire 4 Wire 5 Wire 6  \\\n",
       "0    1  2019-05-03 11:11:41                  NaN    NaN    NaN    NaN    NaN   \n",
       "1    2  2019-05-03 11:46:10                  NaN    NaN    NaN    NaN    NaN   \n",
       "2    3  2019-05-03 12:13:47                  NaN    NaN    NaN    NaN    NaN   \n",
       "3    4  2019-05-03 12:48:05                  NaN    NaN    NaN    NaN    NaN   \n",
       "4    5  2019-05-03 13:18:15  2019-05-03 13:32:06    NaN    NaN    NaN    NaN   \n",
       "\n",
       "  Wire 7 Wire 8 Wire 9  \n",
       "0    NaN    NaN    NaN  \n",
       "1    NaN    NaN    NaN  \n",
       "2    NaN    NaN    NaN  \n",
       "3    NaN    NaN    NaN  \n",
       "4    NaN    NaN    NaN  "
      ]
     },
     "metadata": {},
     "output_type": "display_data"
    },
    {
     "data": {
      "text/html": [
       "<div>\n",
       "<style scoped>\n",
       "    .dataframe tbody tr th:only-of-type {\n",
       "        vertical-align: middle;\n",
       "    }\n",
       "\n",
       "    .dataframe tbody tr th {\n",
       "        vertical-align: top;\n",
       "    }\n",
       "\n",
       "    .dataframe thead th {\n",
       "        text-align: right;\n",
       "    }\n",
       "</style>\n",
       "<table border=\"1\" class=\"dataframe\">\n",
       "  <thead>\n",
       "    <tr style=\"text-align: right;\">\n",
       "      <th></th>\n",
       "      <th>data_type</th>\n",
       "      <th>nan_part, %</th>\n",
       "    </tr>\n",
       "  </thead>\n",
       "  <tbody>\n",
       "    <tr>\n",
       "      <td>Wire 5</td>\n",
       "      <td>object</td>\n",
       "      <td>99.967543</td>\n",
       "    </tr>\n",
       "    <tr>\n",
       "      <td>Wire 7</td>\n",
       "      <td>object</td>\n",
       "      <td>99.642973</td>\n",
       "    </tr>\n",
       "    <tr>\n",
       "      <td>Wire 4</td>\n",
       "      <td>object</td>\n",
       "      <td>99.545602</td>\n",
       "    </tr>\n",
       "    <tr>\n",
       "      <td>Wire 8</td>\n",
       "      <td>object</td>\n",
       "      <td>99.383317</td>\n",
       "    </tr>\n",
       "    <tr>\n",
       "      <td>Wire 9</td>\n",
       "      <td>object</td>\n",
       "      <td>99.058747</td>\n",
       "    </tr>\n",
       "    <tr>\n",
       "      <td>Wire 3</td>\n",
       "      <td>object</td>\n",
       "      <td>97.955209</td>\n",
       "    </tr>\n",
       "    <tr>\n",
       "      <td>Wire 6</td>\n",
       "      <td>object</td>\n",
       "      <td>97.630639</td>\n",
       "    </tr>\n",
       "    <tr>\n",
       "      <td>Wire 2</td>\n",
       "      <td>object</td>\n",
       "      <td>64.978903</td>\n",
       "    </tr>\n",
       "    <tr>\n",
       "      <td>Wire 1</td>\n",
       "      <td>object</td>\n",
       "      <td>0.843882</td>\n",
       "    </tr>\n",
       "    <tr>\n",
       "      <td>key</td>\n",
       "      <td>int64</td>\n",
       "      <td>0.000000</td>\n",
       "    </tr>\n",
       "  </tbody>\n",
       "</table>\n",
       "</div>"
      ],
      "text/plain": [
       "       data_type  nan_part, %\n",
       "Wire 5    object    99.967543\n",
       "Wire 7    object    99.642973\n",
       "Wire 4    object    99.545602\n",
       "Wire 8    object    99.383317\n",
       "Wire 9    object    99.058747\n",
       "Wire 3    object    97.955209\n",
       "Wire 6    object    97.630639\n",
       "Wire 2    object    64.978903\n",
       "Wire 1    object     0.843882\n",
       "key        int64     0.000000"
      ]
     },
     "metadata": {},
     "output_type": "display_data"
    },
    {
     "data": {
      "text/html": [
       "<div>\n",
       "<style scoped>\n",
       "    .dataframe tbody tr th:only-of-type {\n",
       "        vertical-align: middle;\n",
       "    }\n",
       "\n",
       "    .dataframe tbody tr th {\n",
       "        vertical-align: top;\n",
       "    }\n",
       "\n",
       "    .dataframe thead th {\n",
       "        text-align: right;\n",
       "    }\n",
       "</style>\n",
       "<table border=\"1\" class=\"dataframe\">\n",
       "  <thead>\n",
       "    <tr style=\"text-align: right;\">\n",
       "      <th></th>\n",
       "      <th>key</th>\n",
       "    </tr>\n",
       "  </thead>\n",
       "  <tbody>\n",
       "    <tr>\n",
       "      <td>count</td>\n",
       "      <td>3081.000000</td>\n",
       "    </tr>\n",
       "    <tr>\n",
       "      <td>mean</td>\n",
       "      <td>1623.426485</td>\n",
       "    </tr>\n",
       "    <tr>\n",
       "      <td>std</td>\n",
       "      <td>932.996726</td>\n",
       "    </tr>\n",
       "    <tr>\n",
       "      <td>min</td>\n",
       "      <td>1.000000</td>\n",
       "    </tr>\n",
       "    <tr>\n",
       "      <td>25%</td>\n",
       "      <td>823.000000</td>\n",
       "    </tr>\n",
       "    <tr>\n",
       "      <td>50%</td>\n",
       "      <td>1619.000000</td>\n",
       "    </tr>\n",
       "    <tr>\n",
       "      <td>75%</td>\n",
       "      <td>2434.000000</td>\n",
       "    </tr>\n",
       "    <tr>\n",
       "      <td>max</td>\n",
       "      <td>3241.000000</td>\n",
       "    </tr>\n",
       "  </tbody>\n",
       "</table>\n",
       "</div>"
      ],
      "text/plain": [
       "               key\n",
       "count  3081.000000\n",
       "mean   1623.426485\n",
       "std     932.996726\n",
       "min       1.000000\n",
       "25%     823.000000\n",
       "50%    1619.000000\n",
       "75%    2434.000000\n",
       "max    3241.000000"
      ]
     },
     "metadata": {},
     "output_type": "display_data"
    }
   ],
   "source": [
    "print('Данные о проволочных материалах (время):')\n",
    "data_info(data_wire_time)"
   ]
  },
  {
   "cell_type": "markdown",
   "metadata": {},
   "source": [
    "Пропуски есть. Пропуски соответствуют тому факту, что сыпучий материал в расплав не добавлялся, можем заменить их нулями. В дальнейшем следует создать параметр **Суммарнное время подачи проволочных материалов** и **Количество добавленных материалов**. Типы данных меняем для приведения времени в нужный формат. Для всех проволочных материалов среднее примерно соответствует медиане, что говорит о нормальном распределении данных. При этом видим высокую корреляцию с данными из прошлого датасета. Возможно, следует исключить данные параметры при построении модели."
   ]
  },
  {
   "cell_type": "markdown",
   "metadata": {},
   "source": [
    "**Вывод:**  \n",
    "1. Для data_arc найденно аномальное отрицательное значение. Плавка №2116, в которой оно присутствует, необходимо исключить из дальнейшей работы. Плавки с температурой ниже 1500С тоже необходимо исключить до внесения ясности от заказчика. При этом параметры реактивная и активная мощности необходимо объеденить в один - полную мощность. Далее при умножении на время получить признак Работа;\n",
    "2. Пропуски в датасетах, касающихся материалов (data_bulk.csv, data_bulk_time.csv, data_wire.csv, data_wire_time.csv), соответствуют факту, что материалы в расплав не добавлялись, поэтому их можно заменить нулями. При этом следует создать суммарные параметры и далее исключить из построения модели параметры с сильной корреляцией;\n",
    "3. Необходимо исключить из анализа данные для 2500-й партии и далее, так как для них отсутствуют значения температуры. При этом за целевой признак необходимо брать последний замер, так как он делается после всех операций тех.процесса получения стали;\n",
    "4. Вероятно, в большинстве случаев выбросы в данных связаны с разной степенью использования разных технологических процессов; \n",
    "4. Необходимо поменять тип данных для времени в датасетах;"
   ]
  },
  {
   "cell_type": "markdown",
   "metadata": {},
   "source": [
    "<a id='plan-bullet'></a>"
   ]
  },
  {
   "cell_type": "markdown",
   "metadata": {},
   "source": [
    "## План решения задачи\n",
    "1. Провести предобработку данных и подготовить признаки: обработать пропуски, изменить типы данных для времени, вывести время работы нагревателя, работу, создать суммарные признаки по материалам, вывести целевой признак, сгруппироать данные по номеру плавки и объединить в один датафрейм, посмотреть на мультиколлинеарность (исключить признаки с высокой корреляцией (> 0.9));\n",
    "2. Построить модель: построить несколько вариантов моделей, сравнить их, выбрать лучшую. Провести анализ важности признаков у лучшей модели;"
   ]
  },
  {
   "cell_type": "markdown",
   "metadata": {},
   "source": [
    "[Вернуться к содержанию](#back-bullet)"
   ]
  },
  {
   "cell_type": "markdown",
   "metadata": {},
   "source": [
    "<a id='rework-bullet'></a>"
   ]
  },
  {
   "cell_type": "markdown",
   "metadata": {},
   "source": [
    "## 2. Предобработка данных и подготовка признаков"
   ]
  },
  {
   "cell_type": "markdown",
   "metadata": {},
   "source": [
    "### data_arc.csv"
   ]
  },
  {
   "cell_type": "markdown",
   "metadata": {},
   "source": [
    "Для удобства переименовываем названия столбцов:"
   ]
  },
  {
   "cell_type": "code",
   "execution_count": 21,
   "metadata": {},
   "outputs": [],
   "source": [
    "data_arc = data_arc.rename(columns={'Начало нагрева дугой':'time_start',\n",
    "                         'Конец нагрева дугой':'time_finish',\n",
    "                         'Активная мощность':'act_power',\n",
    "                         'Реактивная мощность':'react_power'\n",
    "                         })"
   ]
  },
  {
   "cell_type": "markdown",
   "metadata": {},
   "source": [
    "Исключаем плавку №2116 с отрицательным значением реактивной мощности из анализа:"
   ]
  },
  {
   "cell_type": "code",
   "execution_count": 22,
   "metadata": {},
   "outputs": [],
   "source": [
    "data_arc = data_arc.query('key != 2116')"
   ]
  },
  {
   "cell_type": "markdown",
   "metadata": {},
   "source": [
    "Меняем тип данных у времени:"
   ]
  },
  {
   "cell_type": "code",
   "execution_count": 23,
   "metadata": {},
   "outputs": [],
   "source": [
    "data_arc['time_start'] = pd.to_datetime(data_arc['time_start'], format='%Y-%m-%d %H:%M:%S')\n",
    "data_arc['time_finish'] = pd.to_datetime(data_arc['time_finish'], format='%Y-%m-%d %H:%M:%S')"
   ]
  },
  {
   "cell_type": "markdown",
   "metadata": {},
   "source": [
    "Вычисляем время работы нагревателя, полную мощность и работу:"
   ]
  },
  {
   "cell_type": "code",
   "execution_count": 24,
   "metadata": {},
   "outputs": [
    {
     "data": {
      "text/html": [
       "<div>\n",
       "<style scoped>\n",
       "    .dataframe tbody tr th:only-of-type {\n",
       "        vertical-align: middle;\n",
       "    }\n",
       "\n",
       "    .dataframe tbody tr th {\n",
       "        vertical-align: top;\n",
       "    }\n",
       "\n",
       "    .dataframe thead th {\n",
       "        text-align: right;\n",
       "    }\n",
       "</style>\n",
       "<table border=\"1\" class=\"dataframe\">\n",
       "  <thead>\n",
       "    <tr style=\"text-align: right;\">\n",
       "      <th></th>\n",
       "      <th>key</th>\n",
       "      <th>work</th>\n",
       "    </tr>\n",
       "  </thead>\n",
       "  <tbody>\n",
       "    <tr>\n",
       "      <td>0</td>\n",
       "      <td>1</td>\n",
       "      <td>272.15</td>\n",
       "    </tr>\n",
       "    <tr>\n",
       "      <td>1</td>\n",
       "      <td>1</td>\n",
       "      <td>177.42</td>\n",
       "    </tr>\n",
       "    <tr>\n",
       "      <td>2</td>\n",
       "      <td>1</td>\n",
       "      <td>154.12</td>\n",
       "    </tr>\n",
       "    <tr>\n",
       "      <td>3</td>\n",
       "      <td>1</td>\n",
       "      <td>719.22</td>\n",
       "    </tr>\n",
       "    <tr>\n",
       "      <td>4</td>\n",
       "      <td>1</td>\n",
       "      <td>119.47</td>\n",
       "    </tr>\n",
       "  </tbody>\n",
       "</table>\n",
       "</div>"
      ],
      "text/plain": [
       "   key    work\n",
       "0    1  272.15\n",
       "1    1  177.42\n",
       "2    1  154.12\n",
       "3    1  719.22\n",
       "4    1  119.47"
      ]
     },
     "execution_count": 24,
     "metadata": {},
     "output_type": "execute_result"
    }
   ],
   "source": [
    "data_arc['action_time'] = (data_arc['time_finish'] - data_arc['time_start']).dt.seconds\n",
    "data_arc['total_power'] = (data_arc['act_power']**2 + data_arc['react_power']**2) ** 0.5\n",
    "data_arc['work'] = round(data_arc['total_power']*data_arc['action_time'], 2)\n",
    "new_data_arc = data_arc.drop(['time_start', \n",
    "                              'time_finish', \n",
    "                              'act_power', \n",
    "                              'react_power', \n",
    "                              'action_time', \n",
    "                              'total_power'], axis = 1)\n",
    "new_data_arc.head(5)"
   ]
  },
  {
   "cell_type": "markdown",
   "metadata": {},
   "source": [
    "Выполняем группировку по номеру плавки, вводим признак heat_steps (кол-во нагреваний) и получаем окончательную таблицу с признаками:"
   ]
  },
  {
   "cell_type": "code",
   "execution_count": 25,
   "metadata": {},
   "outputs": [
    {
     "data": {
      "text/html": [
       "<div>\n",
       "<style scoped>\n",
       "    .dataframe tbody tr th:only-of-type {\n",
       "        vertical-align: middle;\n",
       "    }\n",
       "\n",
       "    .dataframe tbody tr th {\n",
       "        vertical-align: top;\n",
       "    }\n",
       "\n",
       "    .dataframe thead th {\n",
       "        text-align: right;\n",
       "    }\n",
       "</style>\n",
       "<table border=\"1\" class=\"dataframe\">\n",
       "  <thead>\n",
       "    <tr style=\"text-align: right;\">\n",
       "      <th></th>\n",
       "      <th>work</th>\n",
       "      <th>heat_steps</th>\n",
       "    </tr>\n",
       "    <tr>\n",
       "      <th>key</th>\n",
       "      <th></th>\n",
       "      <th></th>\n",
       "    </tr>\n",
       "  </thead>\n",
       "  <tbody>\n",
       "    <tr>\n",
       "      <td>1</td>\n",
       "      <td>1442.38</td>\n",
       "      <td>5</td>\n",
       "    </tr>\n",
       "    <tr>\n",
       "      <td>2</td>\n",
       "      <td>881.23</td>\n",
       "      <td>4</td>\n",
       "    </tr>\n",
       "    <tr>\n",
       "      <td>3</td>\n",
       "      <td>525.07</td>\n",
       "      <td>5</td>\n",
       "    </tr>\n",
       "    <tr>\n",
       "      <td>4</td>\n",
       "      <td>796.92</td>\n",
       "      <td>4</td>\n",
       "    </tr>\n",
       "    <tr>\n",
       "      <td>5</td>\n",
       "      <td>1199.13</td>\n",
       "      <td>4</td>\n",
       "    </tr>\n",
       "  </tbody>\n",
       "</table>\n",
       "</div>"
      ],
      "text/plain": [
       "        work  heat_steps\n",
       "key                     \n",
       "1    1442.38           5\n",
       "2     881.23           4\n",
       "3     525.07           5\n",
       "4     796.92           4\n",
       "5    1199.13           4"
      ]
     },
     "metadata": {},
     "output_type": "display_data"
    },
    {
     "data": {
      "text/html": [
       "<div>\n",
       "<style scoped>\n",
       "    .dataframe tbody tr th:only-of-type {\n",
       "        vertical-align: middle;\n",
       "    }\n",
       "\n",
       "    .dataframe tbody tr th {\n",
       "        vertical-align: top;\n",
       "    }\n",
       "\n",
       "    .dataframe thead th {\n",
       "        text-align: right;\n",
       "    }\n",
       "</style>\n",
       "<table border=\"1\" class=\"dataframe\">\n",
       "  <thead>\n",
       "    <tr style=\"text-align: right;\">\n",
       "      <th></th>\n",
       "      <th>work</th>\n",
       "      <th>heat_steps</th>\n",
       "    </tr>\n",
       "  </thead>\n",
       "  <tbody>\n",
       "    <tr>\n",
       "      <td>count</td>\n",
       "      <td>3213.000000</td>\n",
       "      <td>3213.000000</td>\n",
       "    </tr>\n",
       "    <tr>\n",
       "      <td>mean</td>\n",
       "      <td>893.983358</td>\n",
       "      <td>4.628696</td>\n",
       "    </tr>\n",
       "    <tr>\n",
       "      <td>std</td>\n",
       "      <td>642.839145</td>\n",
       "      <td>1.608860</td>\n",
       "    </tr>\n",
       "    <tr>\n",
       "      <td>min</td>\n",
       "      <td>15.160000</td>\n",
       "      <td>1.000000</td>\n",
       "    </tr>\n",
       "    <tr>\n",
       "      <td>25%</td>\n",
       "      <td>447.320000</td>\n",
       "      <td>4.000000</td>\n",
       "    </tr>\n",
       "    <tr>\n",
       "      <td>50%</td>\n",
       "      <td>761.770000</td>\n",
       "      <td>4.000000</td>\n",
       "    </tr>\n",
       "    <tr>\n",
       "      <td>75%</td>\n",
       "      <td>1161.470000</td>\n",
       "      <td>6.000000</td>\n",
       "    </tr>\n",
       "    <tr>\n",
       "      <td>max</td>\n",
       "      <td>10630.970000</td>\n",
       "      <td>16.000000</td>\n",
       "    </tr>\n",
       "  </tbody>\n",
       "</table>\n",
       "</div>"
      ],
      "text/plain": [
       "               work   heat_steps\n",
       "count   3213.000000  3213.000000\n",
       "mean     893.983358     4.628696\n",
       "std      642.839145     1.608860\n",
       "min       15.160000     1.000000\n",
       "25%      447.320000     4.000000\n",
       "50%      761.770000     4.000000\n",
       "75%     1161.470000     6.000000\n",
       "max    10630.970000    16.000000"
      ]
     },
     "metadata": {},
     "output_type": "display_data"
    }
   ],
   "source": [
    "data_arc_features = new_data_arc.groupby('key')[['work', 'key']].agg({'work':'sum', 'key':'count'})\n",
    "data_arc_features.rename(columns={'key':'heat_steps'}, inplace=True)\n",
    "display(data_arc_features.head())\n",
    "display(data_arc_features.describe())"
   ]
  },
  {
   "cell_type": "markdown",
   "metadata": {},
   "source": [
    "### data_bulk.csv"
   ]
  },
  {
   "cell_type": "markdown",
   "metadata": {},
   "source": [
    "В качестве признаков используем суммарный объём сыпучих материалов в плавке:"
   ]
  },
  {
   "cell_type": "code",
   "execution_count": 26,
   "metadata": {},
   "outputs": [
    {
     "data": {
      "text/html": [
       "<div>\n",
       "<style scoped>\n",
       "    .dataframe tbody tr th:only-of-type {\n",
       "        vertical-align: middle;\n",
       "    }\n",
       "\n",
       "    .dataframe tbody tr th {\n",
       "        vertical-align: top;\n",
       "    }\n",
       "\n",
       "    .dataframe thead th {\n",
       "        text-align: right;\n",
       "    }\n",
       "</style>\n",
       "<table border=\"1\" class=\"dataframe\">\n",
       "  <thead>\n",
       "    <tr style=\"text-align: right;\">\n",
       "      <th></th>\n",
       "      <th>sum_bulk</th>\n",
       "      <th>count_bulk</th>\n",
       "    </tr>\n",
       "    <tr>\n",
       "      <th>key</th>\n",
       "      <th></th>\n",
       "      <th></th>\n",
       "    </tr>\n",
       "  </thead>\n",
       "  <tbody>\n",
       "    <tr>\n",
       "      <td>1</td>\n",
       "      <td>553.0</td>\n",
       "      <td>4</td>\n",
       "    </tr>\n",
       "    <tr>\n",
       "      <td>2</td>\n",
       "      <td>582.0</td>\n",
       "      <td>4</td>\n",
       "    </tr>\n",
       "    <tr>\n",
       "      <td>3</td>\n",
       "      <td>544.0</td>\n",
       "      <td>4</td>\n",
       "    </tr>\n",
       "    <tr>\n",
       "      <td>4</td>\n",
       "      <td>595.0</td>\n",
       "      <td>4</td>\n",
       "    </tr>\n",
       "    <tr>\n",
       "      <td>5</td>\n",
       "      <td>584.0</td>\n",
       "      <td>4</td>\n",
       "    </tr>\n",
       "  </tbody>\n",
       "</table>\n",
       "</div>"
      ],
      "text/plain": [
       "     sum_bulk  count_bulk\n",
       "key                      \n",
       "1       553.0           4\n",
       "2       582.0           4\n",
       "3       544.0           4\n",
       "4       595.0           4\n",
       "5       584.0           4"
      ]
     },
     "execution_count": 26,
     "metadata": {},
     "output_type": "execute_result"
    }
   ],
   "source": [
    "new_data_bulk = data_bulk.set_index('key')\n",
    "new_data_bulk['count_bulk'] = new_data_bulk.count(axis=1)\n",
    "new_data_bulk\n",
    "new_data_bulk['sum_bulk'] = new_data_bulk[new_data_bulk.drop('count_bulk', axis=1).columns].sum(axis=1)\n",
    "data_bulk_features = new_data_bulk[['sum_bulk', 'count_bulk']]\n",
    "data_bulk_features.head()"
   ]
  },
  {
   "cell_type": "markdown",
   "metadata": {},
   "source": [
    "### data_wire.csv"
   ]
  },
  {
   "cell_type": "markdown",
   "metadata": {},
   "source": [
    "В качестве признаков используем суммарный объём проволочных материалов и кол-во таких материалов в плавке:"
   ]
  },
  {
   "cell_type": "code",
   "execution_count": 27,
   "metadata": {},
   "outputs": [
    {
     "data": {
      "text/html": [
       "<div>\n",
       "<style scoped>\n",
       "    .dataframe tbody tr th:only-of-type {\n",
       "        vertical-align: middle;\n",
       "    }\n",
       "\n",
       "    .dataframe tbody tr th {\n",
       "        vertical-align: top;\n",
       "    }\n",
       "\n",
       "    .dataframe thead th {\n",
       "        text-align: right;\n",
       "    }\n",
       "</style>\n",
       "<table border=\"1\" class=\"dataframe\">\n",
       "  <thead>\n",
       "    <tr style=\"text-align: right;\">\n",
       "      <th></th>\n",
       "      <th>sum_wire</th>\n",
       "      <th>count_wire</th>\n",
       "    </tr>\n",
       "    <tr>\n",
       "      <th>key</th>\n",
       "      <th></th>\n",
       "      <th></th>\n",
       "    </tr>\n",
       "  </thead>\n",
       "  <tbody>\n",
       "    <tr>\n",
       "      <td>1</td>\n",
       "      <td>60.059998</td>\n",
       "      <td>1</td>\n",
       "    </tr>\n",
       "    <tr>\n",
       "      <td>2</td>\n",
       "      <td>96.052315</td>\n",
       "      <td>1</td>\n",
       "    </tr>\n",
       "    <tr>\n",
       "      <td>3</td>\n",
       "      <td>91.160157</td>\n",
       "      <td>1</td>\n",
       "    </tr>\n",
       "    <tr>\n",
       "      <td>4</td>\n",
       "      <td>89.063515</td>\n",
       "      <td>1</td>\n",
       "    </tr>\n",
       "    <tr>\n",
       "      <td>5</td>\n",
       "      <td>98.352796</td>\n",
       "      <td>2</td>\n",
       "    </tr>\n",
       "  </tbody>\n",
       "</table>\n",
       "</div>"
      ],
      "text/plain": [
       "      sum_wire  count_wire\n",
       "key                       \n",
       "1    60.059998           1\n",
       "2    96.052315           1\n",
       "3    91.160157           1\n",
       "4    89.063515           1\n",
       "5    98.352796           2"
      ]
     },
     "execution_count": 27,
     "metadata": {},
     "output_type": "execute_result"
    }
   ],
   "source": [
    "new_data_wire = data_wire.set_index('key')\n",
    "new_data_wire['count_wire'] = new_data_wire.count(axis=1)\n",
    "new_data_wire\n",
    "new_data_wire['sum_wire'] = new_data_wire[new_data_wire.drop('count_wire', axis=1).columns].sum(axis=1)\n",
    "data_wire_features = new_data_wire[['sum_wire', 'count_wire']]\n",
    "data_wire_features.head()"
   ]
  },
  {
   "cell_type": "markdown",
   "metadata": {},
   "source": [
    "👍"
   ]
  },
  {
   "cell_type": "markdown",
   "metadata": {},
   "source": [
    "### data_gas.csv"
   ]
  },
  {
   "cell_type": "markdown",
   "metadata": {},
   "source": [
    "Изменяем индексы и переименовываем столбец:"
   ]
  },
  {
   "cell_type": "code",
   "execution_count": 28,
   "metadata": {},
   "outputs": [
    {
     "data": {
      "text/html": [
       "<div>\n",
       "<style scoped>\n",
       "    .dataframe tbody tr th:only-of-type {\n",
       "        vertical-align: middle;\n",
       "    }\n",
       "\n",
       "    .dataframe tbody tr th {\n",
       "        vertical-align: top;\n",
       "    }\n",
       "\n",
       "    .dataframe thead th {\n",
       "        text-align: right;\n",
       "    }\n",
       "</style>\n",
       "<table border=\"1\" class=\"dataframe\">\n",
       "  <thead>\n",
       "    <tr style=\"text-align: right;\">\n",
       "      <th></th>\n",
       "      <th>gas</th>\n",
       "    </tr>\n",
       "    <tr>\n",
       "      <th>key</th>\n",
       "      <th></th>\n",
       "    </tr>\n",
       "  </thead>\n",
       "  <tbody>\n",
       "    <tr>\n",
       "      <td>1</td>\n",
       "      <td>29.749986</td>\n",
       "    </tr>\n",
       "    <tr>\n",
       "      <td>2</td>\n",
       "      <td>12.555561</td>\n",
       "    </tr>\n",
       "    <tr>\n",
       "      <td>3</td>\n",
       "      <td>28.554793</td>\n",
       "    </tr>\n",
       "    <tr>\n",
       "      <td>4</td>\n",
       "      <td>18.841219</td>\n",
       "    </tr>\n",
       "    <tr>\n",
       "      <td>5</td>\n",
       "      <td>5.413692</td>\n",
       "    </tr>\n",
       "  </tbody>\n",
       "</table>\n",
       "</div>"
      ],
      "text/plain": [
       "           gas\n",
       "key           \n",
       "1    29.749986\n",
       "2    12.555561\n",
       "3    28.554793\n",
       "4    18.841219\n",
       "5     5.413692"
      ]
     },
     "execution_count": 28,
     "metadata": {},
     "output_type": "execute_result"
    }
   ],
   "source": [
    "data_gas_features = data_gas.set_index('key').rename(columns={'Газ 1':'gas'})\n",
    "data_gas_features.head()"
   ]
  },
  {
   "cell_type": "markdown",
   "metadata": {},
   "source": [
    "👍"
   ]
  },
  {
   "cell_type": "markdown",
   "metadata": {},
   "source": [
    "### data_temp.csv"
   ]
  },
  {
   "cell_type": "markdown",
   "metadata": {},
   "source": [
    "Из всех измерений температуры оставляем только первое и последнее. Исключаем все плавки с 2500-й и далее и все плавки с начальной температурой < 1500С:"
   ]
  },
  {
   "cell_type": "code",
   "execution_count": 29,
   "metadata": {},
   "outputs": [
    {
     "data": {
      "text/html": [
       "<div>\n",
       "<style scoped>\n",
       "    .dataframe tbody tr th:only-of-type {\n",
       "        vertical-align: middle;\n",
       "    }\n",
       "\n",
       "    .dataframe tbody tr th {\n",
       "        vertical-align: top;\n",
       "    }\n",
       "\n",
       "    .dataframe thead th {\n",
       "        text-align: right;\n",
       "    }\n",
       "</style>\n",
       "<table border=\"1\" class=\"dataframe\">\n",
       "  <thead>\n",
       "    <tr style=\"text-align: right;\">\n",
       "      <th></th>\n",
       "      <th>init_temp</th>\n",
       "      <th>last_temp</th>\n",
       "    </tr>\n",
       "    <tr>\n",
       "      <th>key</th>\n",
       "      <th></th>\n",
       "      <th></th>\n",
       "    </tr>\n",
       "  </thead>\n",
       "  <tbody>\n",
       "    <tr>\n",
       "      <td>1</td>\n",
       "      <td>1571.0</td>\n",
       "      <td>1613.0</td>\n",
       "    </tr>\n",
       "    <tr>\n",
       "      <td>2</td>\n",
       "      <td>1581.0</td>\n",
       "      <td>1602.0</td>\n",
       "    </tr>\n",
       "    <tr>\n",
       "      <td>3</td>\n",
       "      <td>1596.0</td>\n",
       "      <td>1599.0</td>\n",
       "    </tr>\n",
       "    <tr>\n",
       "      <td>4</td>\n",
       "      <td>1601.0</td>\n",
       "      <td>1625.0</td>\n",
       "    </tr>\n",
       "    <tr>\n",
       "      <td>5</td>\n",
       "      <td>1576.0</td>\n",
       "      <td>1602.0</td>\n",
       "    </tr>\n",
       "  </tbody>\n",
       "</table>\n",
       "</div>"
      ],
      "text/plain": [
       "     init_temp  last_temp\n",
       "key                      \n",
       "1       1571.0     1613.0\n",
       "2       1581.0     1602.0\n",
       "3       1596.0     1599.0\n",
       "4       1601.0     1625.0\n",
       "5       1576.0     1602.0"
      ]
     },
     "execution_count": 29,
     "metadata": {},
     "output_type": "execute_result"
    }
   ],
   "source": [
    "data_temp_features = (data_temp.groupby('key')['Температура']\n",
    "                      .agg(['first', 'last']).loc[:2499])\n",
    "data_temp_features = data_temp_features.rename(columns={'first':'init_temp', 'last':'last_temp'})\n",
    "data_temp_features = data_temp_features.query('init_temp > 1500') \n",
    "data_temp_features.head(5)"
   ]
  },
  {
   "cell_type": "code",
   "execution_count": 30,
   "metadata": {},
   "outputs": [
    {
     "data": {
      "text/plain": [
       "(2473, 2)"
      ]
     },
     "execution_count": 30,
     "metadata": {},
     "output_type": "execute_result"
    }
   ],
   "source": [
    "data_temp_features.shape"
   ]
  },
  {
   "cell_type": "markdown",
   "metadata": {},
   "source": [
    "### Объединённая таблица признаков"
   ]
  },
  {
   "cell_type": "markdown",
   "metadata": {},
   "source": [
    "data_bulk_time.csv, data_wire_time.csv в итоговую таблицу не влючаем, так как время подачи материалов для данной задачи значения не имеет"
   ]
  },
  {
   "cell_type": "code",
   "execution_count": 31,
   "metadata": {},
   "outputs": [
    {
     "name": "stdout",
     "output_type": "stream",
     "text": [
      "(2473, 9)\n"
     ]
    },
    {
     "data": {
      "text/html": [
       "<div>\n",
       "<style scoped>\n",
       "    .dataframe tbody tr th:only-of-type {\n",
       "        vertical-align: middle;\n",
       "    }\n",
       "\n",
       "    .dataframe tbody tr th {\n",
       "        vertical-align: top;\n",
       "    }\n",
       "\n",
       "    .dataframe thead th {\n",
       "        text-align: right;\n",
       "    }\n",
       "</style>\n",
       "<table border=\"1\" class=\"dataframe\">\n",
       "  <thead>\n",
       "    <tr style=\"text-align: right;\">\n",
       "      <th></th>\n",
       "      <th>init_temp</th>\n",
       "      <th>last_temp</th>\n",
       "      <th>sum_bulk</th>\n",
       "      <th>count_bulk</th>\n",
       "      <th>work</th>\n",
       "      <th>heat_steps</th>\n",
       "      <th>sum_wire</th>\n",
       "      <th>count_wire</th>\n",
       "      <th>gas</th>\n",
       "    </tr>\n",
       "    <tr>\n",
       "      <th>key</th>\n",
       "      <th></th>\n",
       "      <th></th>\n",
       "      <th></th>\n",
       "      <th></th>\n",
       "      <th></th>\n",
       "      <th></th>\n",
       "      <th></th>\n",
       "      <th></th>\n",
       "      <th></th>\n",
       "    </tr>\n",
       "  </thead>\n",
       "  <tbody>\n",
       "    <tr>\n",
       "      <td>266</td>\n",
       "      <td>1567.0</td>\n",
       "      <td>1591.0</td>\n",
       "      <td>586.0</td>\n",
       "      <td>4.0</td>\n",
       "      <td>1250.39</td>\n",
       "      <td>4.0</td>\n",
       "      <td>73.295036</td>\n",
       "      <td>1.0</td>\n",
       "      <td>2.694759</td>\n",
       "    </tr>\n",
       "    <tr>\n",
       "      <td>759</td>\n",
       "      <td>1602.0</td>\n",
       "      <td>1620.0</td>\n",
       "      <td>858.0</td>\n",
       "      <td>4.0</td>\n",
       "      <td>1607.57</td>\n",
       "      <td>7.0</td>\n",
       "      <td>101.275200</td>\n",
       "      <td>1.0</td>\n",
       "      <td>12.421341</td>\n",
       "    </tr>\n",
       "    <tr>\n",
       "      <td>1506</td>\n",
       "      <td>1572.0</td>\n",
       "      <td>1568.0</td>\n",
       "      <td>404.0</td>\n",
       "      <td>3.0</td>\n",
       "      <td>484.24</td>\n",
       "      <td>5.0</td>\n",
       "      <td>150.399598</td>\n",
       "      <td>2.0</td>\n",
       "      <td>13.430307</td>\n",
       "    </tr>\n",
       "    <tr>\n",
       "      <td>2037</td>\n",
       "      <td>1566.0</td>\n",
       "      <td>1589.0</td>\n",
       "      <td>709.0</td>\n",
       "      <td>5.0</td>\n",
       "      <td>969.62</td>\n",
       "      <td>5.0</td>\n",
       "      <td>74.124962</td>\n",
       "      <td>1.0</td>\n",
       "      <td>11.110614</td>\n",
       "    </tr>\n",
       "    <tr>\n",
       "      <td>853</td>\n",
       "      <td>1617.0</td>\n",
       "      <td>1601.0</td>\n",
       "      <td>1083.0</td>\n",
       "      <td>5.0</td>\n",
       "      <td>437.19</td>\n",
       "      <td>7.0</td>\n",
       "      <td>176.248794</td>\n",
       "      <td>1.0</td>\n",
       "      <td>18.819971</td>\n",
       "    </tr>\n",
       "    <tr>\n",
       "      <td>152</td>\n",
       "      <td>1588.0</td>\n",
       "      <td>1601.0</td>\n",
       "      <td>411.0</td>\n",
       "      <td>3.0</td>\n",
       "      <td>601.63</td>\n",
       "      <td>3.0</td>\n",
       "      <td>96.052315</td>\n",
       "      <td>1.0</td>\n",
       "      <td>5.666654</td>\n",
       "    </tr>\n",
       "    <tr>\n",
       "      <td>2244</td>\n",
       "      <td>1593.0</td>\n",
       "      <td>1579.0</td>\n",
       "      <td>715.0</td>\n",
       "      <td>2.0</td>\n",
       "      <td>517.54</td>\n",
       "      <td>3.0</td>\n",
       "      <td>35.075039</td>\n",
       "      <td>1.0</td>\n",
       "      <td>6.989365</td>\n",
       "    </tr>\n",
       "    <tr>\n",
       "      <td>1169</td>\n",
       "      <td>1606.0</td>\n",
       "      <td>1599.0</td>\n",
       "      <td>514.0</td>\n",
       "      <td>3.0</td>\n",
       "      <td>146.45</td>\n",
       "      <td>1.0</td>\n",
       "      <td>104.176803</td>\n",
       "      <td>1.0</td>\n",
       "      <td>4.562589</td>\n",
       "    </tr>\n",
       "    <tr>\n",
       "      <td>1021</td>\n",
       "      <td>1559.0</td>\n",
       "      <td>1572.0</td>\n",
       "      <td>933.0</td>\n",
       "      <td>5.0</td>\n",
       "      <td>870.69</td>\n",
       "      <td>7.0</td>\n",
       "      <td>141.407760</td>\n",
       "      <td>2.0</td>\n",
       "      <td>31.961845</td>\n",
       "    </tr>\n",
       "    <tr>\n",
       "      <td>468</td>\n",
       "      <td>1599.0</td>\n",
       "      <td>1587.0</td>\n",
       "      <td>130.0</td>\n",
       "      <td>2.0</td>\n",
       "      <td>261.30</td>\n",
       "      <td>4.0</td>\n",
       "      <td>170.138790</td>\n",
       "      <td>2.0</td>\n",
       "      <td>4.392713</td>\n",
       "    </tr>\n",
       "  </tbody>\n",
       "</table>\n",
       "</div>"
      ],
      "text/plain": [
       "      init_temp  last_temp  sum_bulk  count_bulk     work  heat_steps  \\\n",
       "key                                                                     \n",
       "266      1567.0     1591.0     586.0         4.0  1250.39         4.0   \n",
       "759      1602.0     1620.0     858.0         4.0  1607.57         7.0   \n",
       "1506     1572.0     1568.0     404.0         3.0   484.24         5.0   \n",
       "2037     1566.0     1589.0     709.0         5.0   969.62         5.0   \n",
       "853      1617.0     1601.0    1083.0         5.0   437.19         7.0   \n",
       "152      1588.0     1601.0     411.0         3.0   601.63         3.0   \n",
       "2244     1593.0     1579.0     715.0         2.0   517.54         3.0   \n",
       "1169     1606.0     1599.0     514.0         3.0   146.45         1.0   \n",
       "1021     1559.0     1572.0     933.0         5.0   870.69         7.0   \n",
       "468      1599.0     1587.0     130.0         2.0   261.30         4.0   \n",
       "\n",
       "        sum_wire  count_wire        gas  \n",
       "key                                      \n",
       "266    73.295036         1.0   2.694759  \n",
       "759   101.275200         1.0  12.421341  \n",
       "1506  150.399598         2.0  13.430307  \n",
       "2037   74.124962         1.0  11.110614  \n",
       "853   176.248794         1.0  18.819971  \n",
       "152    96.052315         1.0   5.666654  \n",
       "2244   35.075039         1.0   6.989365  \n",
       "1169  104.176803         1.0   4.562589  \n",
       "1021  141.407760         2.0  31.961845  \n",
       "468   170.138790         2.0   4.392713  "
      ]
     },
     "metadata": {},
     "output_type": "display_data"
    },
    {
     "data": {
      "text/html": [
       "<div>\n",
       "<style scoped>\n",
       "    .dataframe tbody tr th:only-of-type {\n",
       "        vertical-align: middle;\n",
       "    }\n",
       "\n",
       "    .dataframe tbody tr th {\n",
       "        vertical-align: top;\n",
       "    }\n",
       "\n",
       "    .dataframe thead th {\n",
       "        text-align: right;\n",
       "    }\n",
       "</style>\n",
       "<table border=\"1\" class=\"dataframe\">\n",
       "  <thead>\n",
       "    <tr style=\"text-align: right;\">\n",
       "      <th></th>\n",
       "      <th>init_temp</th>\n",
       "      <th>last_temp</th>\n",
       "      <th>sum_bulk</th>\n",
       "      <th>count_bulk</th>\n",
       "      <th>work</th>\n",
       "      <th>heat_steps</th>\n",
       "      <th>sum_wire</th>\n",
       "      <th>count_wire</th>\n",
       "      <th>gas</th>\n",
       "    </tr>\n",
       "  </thead>\n",
       "  <tbody>\n",
       "    <tr>\n",
       "      <td>count</td>\n",
       "      <td>2473.000000</td>\n",
       "      <td>2473.000000</td>\n",
       "      <td>2404.000000</td>\n",
       "      <td>2404.000000</td>\n",
       "      <td>2470.000000</td>\n",
       "      <td>2470.000000</td>\n",
       "      <td>2369.000000</td>\n",
       "      <td>2369.000000</td>\n",
       "      <td>2471.000000</td>\n",
       "    </tr>\n",
       "    <tr>\n",
       "      <td>mean</td>\n",
       "      <td>1589.016175</td>\n",
       "      <td>1595.338051</td>\n",
       "      <td>603.866057</td>\n",
       "      <td>3.545341</td>\n",
       "      <td>904.993146</td>\n",
       "      <td>4.626721</td>\n",
       "      <td>125.248227</td>\n",
       "      <td>1.400169</td>\n",
       "      <td>11.139788</td>\n",
       "    </tr>\n",
       "    <tr>\n",
       "      <td>std</td>\n",
       "      <td>24.996127</td>\n",
       "      <td>16.031388</td>\n",
       "      <td>287.210515</td>\n",
       "      <td>1.242214</td>\n",
       "      <td>655.651432</td>\n",
       "      <td>1.609741</td>\n",
       "      <td>64.043741</td>\n",
       "      <td>0.566759</td>\n",
       "      <td>6.328796</td>\n",
       "    </tr>\n",
       "    <tr>\n",
       "      <td>min</td>\n",
       "      <td>1519.000000</td>\n",
       "      <td>1541.000000</td>\n",
       "      <td>19.000000</td>\n",
       "      <td>1.000000</td>\n",
       "      <td>15.160000</td>\n",
       "      <td>1.000000</td>\n",
       "      <td>1.918800</td>\n",
       "      <td>1.000000</td>\n",
       "      <td>0.008399</td>\n",
       "    </tr>\n",
       "    <tr>\n",
       "      <td>25%</td>\n",
       "      <td>1572.000000</td>\n",
       "      <td>1587.000000</td>\n",
       "      <td>430.000000</td>\n",
       "      <td>3.000000</td>\n",
       "      <td>461.407500</td>\n",
       "      <td>4.000000</td>\n",
       "      <td>88.272080</td>\n",
       "      <td>1.000000</td>\n",
       "      <td>7.102961</td>\n",
       "    </tr>\n",
       "    <tr>\n",
       "      <td>50%</td>\n",
       "      <td>1588.000000</td>\n",
       "      <td>1593.000000</td>\n",
       "      <td>604.000000</td>\n",
       "      <td>4.000000</td>\n",
       "      <td>768.745000</td>\n",
       "      <td>4.000000</td>\n",
       "      <td>116.101440</td>\n",
       "      <td>1.000000</td>\n",
       "      <td>9.925930</td>\n",
       "    </tr>\n",
       "    <tr>\n",
       "      <td>75%</td>\n",
       "      <td>1605.000000</td>\n",
       "      <td>1599.000000</td>\n",
       "      <td>789.000000</td>\n",
       "      <td>4.000000</td>\n",
       "      <td>1170.257500</td>\n",
       "      <td>6.000000</td>\n",
       "      <td>151.625755</td>\n",
       "      <td>2.000000</td>\n",
       "      <td>13.872453</td>\n",
       "    </tr>\n",
       "    <tr>\n",
       "      <td>max</td>\n",
       "      <td>1679.000000</td>\n",
       "      <td>1700.000000</td>\n",
       "      <td>3235.000000</td>\n",
       "      <td>7.000000</td>\n",
       "      <td>10630.970000</td>\n",
       "      <td>16.000000</td>\n",
       "      <td>568.777664</td>\n",
       "      <td>5.000000</td>\n",
       "      <td>77.995040</td>\n",
       "    </tr>\n",
       "  </tbody>\n",
       "</table>\n",
       "</div>"
      ],
      "text/plain": [
       "         init_temp    last_temp     sum_bulk   count_bulk          work  \\\n",
       "count  2473.000000  2473.000000  2404.000000  2404.000000   2470.000000   \n",
       "mean   1589.016175  1595.338051   603.866057     3.545341    904.993146   \n",
       "std      24.996127    16.031388   287.210515     1.242214    655.651432   \n",
       "min    1519.000000  1541.000000    19.000000     1.000000     15.160000   \n",
       "25%    1572.000000  1587.000000   430.000000     3.000000    461.407500   \n",
       "50%    1588.000000  1593.000000   604.000000     4.000000    768.745000   \n",
       "75%    1605.000000  1599.000000   789.000000     4.000000   1170.257500   \n",
       "max    1679.000000  1700.000000  3235.000000     7.000000  10630.970000   \n",
       "\n",
       "        heat_steps     sum_wire   count_wire          gas  \n",
       "count  2470.000000  2369.000000  2369.000000  2471.000000  \n",
       "mean      4.626721   125.248227     1.400169    11.139788  \n",
       "std       1.609741    64.043741     0.566759     6.328796  \n",
       "min       1.000000     1.918800     1.000000     0.008399  \n",
       "25%       4.000000    88.272080     1.000000     7.102961  \n",
       "50%       4.000000   116.101440     1.000000     9.925930  \n",
       "75%       6.000000   151.625755     2.000000    13.872453  \n",
       "max      16.000000   568.777664     5.000000    77.995040  "
      ]
     },
     "metadata": {},
     "output_type": "display_data"
    }
   ],
   "source": [
    "df = (\n",
    "    data_temp_features\n",
    "    .join(data_bulk_features)\n",
    "    .join(data_arc_features)\n",
    "    .join(data_wire_features)\n",
    "    .join(data_gas_features)\n",
    "    )\n",
    "print(df.shape)\n",
    "display(df.sample(10))\n",
    "display(df.describe())"
   ]
  },
  {
   "cell_type": "markdown",
   "metadata": {},
   "source": [
    "Количество пропусков в общей таблице:"
   ]
  },
  {
   "cell_type": "code",
   "execution_count": 32,
   "metadata": {},
   "outputs": [
    {
     "data": {
      "text/plain": [
       "init_temp       0\n",
       "last_temp       0\n",
       "sum_bulk       69\n",
       "count_bulk     69\n",
       "work            3\n",
       "heat_steps      3\n",
       "sum_wire      104\n",
       "count_wire    104\n",
       "gas             2\n",
       "dtype: int64"
      ]
     },
     "execution_count": 32,
     "metadata": {},
     "output_type": "execute_result"
    }
   ],
   "source": [
    "df.isnull().sum()"
   ]
  },
  {
   "cell_type": "markdown",
   "metadata": {},
   "source": [
    "Пропуски по сыпучим и проволочным материалам соответствуют тому факту, что их не добавляли, заменяем нулями. Но есть 3 пропуска по работе. Рассмотрим их:"
   ]
  },
  {
   "cell_type": "code",
   "execution_count": 33,
   "metadata": {},
   "outputs": [
    {
     "data": {
      "text/html": [
       "<div>\n",
       "<style scoped>\n",
       "    .dataframe tbody tr th:only-of-type {\n",
       "        vertical-align: middle;\n",
       "    }\n",
       "\n",
       "    .dataframe tbody tr th {\n",
       "        vertical-align: top;\n",
       "    }\n",
       "\n",
       "    .dataframe thead th {\n",
       "        text-align: right;\n",
       "    }\n",
       "</style>\n",
       "<table border=\"1\" class=\"dataframe\">\n",
       "  <thead>\n",
       "    <tr style=\"text-align: right;\">\n",
       "      <th></th>\n",
       "      <th>init_temp</th>\n",
       "      <th>last_temp</th>\n",
       "      <th>sum_bulk</th>\n",
       "      <th>count_bulk</th>\n",
       "      <th>work</th>\n",
       "      <th>heat_steps</th>\n",
       "      <th>sum_wire</th>\n",
       "      <th>count_wire</th>\n",
       "      <th>gas</th>\n",
       "    </tr>\n",
       "    <tr>\n",
       "      <th>key</th>\n",
       "      <th></th>\n",
       "      <th></th>\n",
       "      <th></th>\n",
       "      <th></th>\n",
       "      <th></th>\n",
       "      <th></th>\n",
       "      <th></th>\n",
       "      <th></th>\n",
       "      <th></th>\n",
       "    </tr>\n",
       "  </thead>\n",
       "  <tbody>\n",
       "    <tr>\n",
       "      <td>195</td>\n",
       "      <td>1583.0</td>\n",
       "      <td>1583.0</td>\n",
       "      <td>NaN</td>\n",
       "      <td>NaN</td>\n",
       "      <td>NaN</td>\n",
       "      <td>NaN</td>\n",
       "      <td>NaN</td>\n",
       "      <td>NaN</td>\n",
       "      <td>0.374436</td>\n",
       "    </tr>\n",
       "    <tr>\n",
       "      <td>279</td>\n",
       "      <td>1603.0</td>\n",
       "      <td>1603.0</td>\n",
       "      <td>89.0</td>\n",
       "      <td>1.0</td>\n",
       "      <td>NaN</td>\n",
       "      <td>NaN</td>\n",
       "      <td>99.066236</td>\n",
       "      <td>1.0</td>\n",
       "      <td>7.232359</td>\n",
       "    </tr>\n",
       "    <tr>\n",
       "      <td>2116</td>\n",
       "      <td>1579.0</td>\n",
       "      <td>1578.0</td>\n",
       "      <td>335.0</td>\n",
       "      <td>2.0</td>\n",
       "      <td>NaN</td>\n",
       "      <td>NaN</td>\n",
       "      <td>75.216965</td>\n",
       "      <td>1.0</td>\n",
       "      <td>11.582547</td>\n",
       "    </tr>\n",
       "  </tbody>\n",
       "</table>\n",
       "</div>"
      ],
      "text/plain": [
       "      init_temp  last_temp  sum_bulk  count_bulk  work  heat_steps   sum_wire  \\\n",
       "key                                                                             \n",
       "195      1583.0     1583.0       NaN         NaN   NaN         NaN        NaN   \n",
       "279      1603.0     1603.0      89.0         1.0   NaN         NaN  99.066236   \n",
       "2116     1579.0     1578.0     335.0         2.0   NaN         NaN  75.216965   \n",
       "\n",
       "      count_wire        gas  \n",
       "key                          \n",
       "195          NaN   0.374436  \n",
       "279          1.0   7.232359  \n",
       "2116         1.0  11.582547  "
      ]
     },
     "execution_count": 33,
     "metadata": {},
     "output_type": "execute_result"
    }
   ],
   "source": [
    "df[df['work'].isnull()]"
   ]
  },
  {
   "cell_type": "code",
   "execution_count": 34,
   "metadata": {},
   "outputs": [
    {
     "data": {
      "text/html": [
       "<div>\n",
       "<style scoped>\n",
       "    .dataframe tbody tr th:only-of-type {\n",
       "        vertical-align: middle;\n",
       "    }\n",
       "\n",
       "    .dataframe tbody tr th {\n",
       "        vertical-align: top;\n",
       "    }\n",
       "\n",
       "    .dataframe thead th {\n",
       "        text-align: right;\n",
       "    }\n",
       "</style>\n",
       "<table border=\"1\" class=\"dataframe\">\n",
       "  <thead>\n",
       "    <tr style=\"text-align: right;\">\n",
       "      <th></th>\n",
       "      <th>init_temp</th>\n",
       "      <th>last_temp</th>\n",
       "      <th>sum_bulk</th>\n",
       "      <th>count_bulk</th>\n",
       "      <th>work</th>\n",
       "      <th>heat_steps</th>\n",
       "      <th>sum_wire</th>\n",
       "      <th>count_wire</th>\n",
       "      <th>gas</th>\n",
       "    </tr>\n",
       "    <tr>\n",
       "      <th>key</th>\n",
       "      <th></th>\n",
       "      <th></th>\n",
       "      <th></th>\n",
       "      <th></th>\n",
       "      <th></th>\n",
       "      <th></th>\n",
       "      <th></th>\n",
       "      <th></th>\n",
       "      <th></th>\n",
       "    </tr>\n",
       "  </thead>\n",
       "  <tbody>\n",
       "    <tr>\n",
       "      <td>1</td>\n",
       "      <td>1571.0</td>\n",
       "      <td>1613.0</td>\n",
       "      <td>553.0</td>\n",
       "      <td>4.0</td>\n",
       "      <td>1442.38</td>\n",
       "      <td>5.0</td>\n",
       "      <td>60.059998</td>\n",
       "      <td>1.0</td>\n",
       "      <td>29.749986</td>\n",
       "    </tr>\n",
       "    <tr>\n",
       "      <td>2</td>\n",
       "      <td>1581.0</td>\n",
       "      <td>1602.0</td>\n",
       "      <td>582.0</td>\n",
       "      <td>4.0</td>\n",
       "      <td>881.23</td>\n",
       "      <td>4.0</td>\n",
       "      <td>96.052315</td>\n",
       "      <td>1.0</td>\n",
       "      <td>12.555561</td>\n",
       "    </tr>\n",
       "    <tr>\n",
       "      <td>3</td>\n",
       "      <td>1596.0</td>\n",
       "      <td>1599.0</td>\n",
       "      <td>544.0</td>\n",
       "      <td>4.0</td>\n",
       "      <td>525.07</td>\n",
       "      <td>5.0</td>\n",
       "      <td>91.160157</td>\n",
       "      <td>1.0</td>\n",
       "      <td>28.554793</td>\n",
       "    </tr>\n",
       "  </tbody>\n",
       "</table>\n",
       "</div>"
      ],
      "text/plain": [
       "     init_temp  last_temp  sum_bulk  count_bulk     work  heat_steps  \\\n",
       "key                                                                    \n",
       "1       1571.0     1613.0     553.0         4.0  1442.38         5.0   \n",
       "2       1581.0     1602.0     582.0         4.0   881.23         4.0   \n",
       "3       1596.0     1599.0     544.0         4.0   525.07         5.0   \n",
       "\n",
       "      sum_wire  count_wire        gas  \n",
       "key                                    \n",
       "1    60.059998         1.0  29.749986  \n",
       "2    96.052315         1.0  12.555561  \n",
       "3    91.160157         1.0  28.554793  "
      ]
     },
     "execution_count": 34,
     "metadata": {},
     "output_type": "execute_result"
    }
   ],
   "source": [
    "df.head(3)"
   ]
  },
  {
   "cell_type": "markdown",
   "metadata": {},
   "source": [
    "Выглядит странно, но логике не противоречит, так как температура не росла, соответственно, подогрева не было, поэтому также заменяем пропуски 0 (стоит задать вопрос заказчику, есть ли неподгреваемые плавки?):"
   ]
  },
  {
   "cell_type": "code",
   "execution_count": 35,
   "metadata": {},
   "outputs": [
    {
     "name": "stdout",
     "output_type": "stream",
     "text": [
      "<class 'pandas.core.frame.DataFrame'>\n",
      "Int64Index: 2473 entries, 1 to 2499\n",
      "Data columns (total 9 columns):\n",
      "init_temp     2473 non-null float64\n",
      "last_temp     2473 non-null float64\n",
      "sum_bulk      2473 non-null float64\n",
      "count_bulk    2473 non-null float64\n",
      "work          2473 non-null float64\n",
      "heat_steps    2473 non-null float64\n",
      "sum_wire      2473 non-null float64\n",
      "count_wire    2473 non-null float64\n",
      "gas           2473 non-null float64\n",
      "dtypes: float64(9)\n",
      "memory usage: 273.2 KB\n"
     ]
    }
   ],
   "source": [
    "df = df.fillna(0)\n",
    "df.info()"
   ]
  },
  {
   "cell_type": "markdown",
   "metadata": {},
   "source": [
    "Оценим мультиколлинеарность между получившимися признаками:"
   ]
  },
  {
   "cell_type": "code",
   "execution_count": 36,
   "metadata": {},
   "outputs": [
    {
     "data": {
      "image/png": "[encoded data removed]",
      "text/plain": [
       "<Figure size 864x864 with 2 Axes>"
      ]
     },
     "metadata": {
      "needs_background": "light"
     },
     "output_type": "display_data"
    }
   ],
   "source": [
    "plt.figure(figsize=(12, 12))\n",
    "sns.heatmap(df.corr(), annot=True)\n",
    "plt.show()"
   ]
  },
  {
   "cell_type": "markdown",
   "metadata": {},
   "source": [
    "Видим корреляцию между работой и кол-вом операций нагрева - логично. Кол-во материалов имеет высокую корреляцию с их кол-вом - логично. Кол-во операций нагрева коррелирует с объёмом матриалов и их кол-вом, что логично - больше материалов = больше времени греть, чтобы получить нужный хим.состав. Данные готовы для построения моделей."
   ]
  },
  {
   "cell_type": "markdown",
   "metadata": {},
   "source": [
    "[Вернуться к содержанию](#back-bullet)"
   ]
  },
  {
   "cell_type": "markdown",
   "metadata": {},
   "source": [
    "## 3. Построение модели"
   ]
  },
  {
   "cell_type": "markdown",
   "metadata": {},
   "source": [
    "Выделяем признаки и целевой признак, делим данные на выборки:"
   ]
  },
  {
   "cell_type": "code",
   "execution_count": 37,
   "metadata": {},
   "outputs": [],
   "source": [
    "target = df['last_temp']\n",
    "features = df.drop('last_temp', axis=1)\n",
    "features_train, features_test, target_train, target_test = train_test_split(features, \n",
    "                                                                            target, \n",
    "                                                                            test_size = 0.25, \n",
    "                                                                            random_state = 12345)"
   ]
  },
  {
   "cell_type": "markdown",
   "metadata": {},
   "source": [
    "Приступим к построению моделей. Для работы выбраны следующие модели: линейная регрессия, случайный лес, XGBoost, CatBoost"
   ]
  },
  {
   "cell_type": "markdown",
   "metadata": {},
   "source": [
    "<a id='lr-bullet'></a>"
   ]
  },
  {
   "cell_type": "markdown",
   "metadata": {},
   "source": [
    "### Линейная регрессия"
   ]
  },
  {
   "cell_type": "code",
   "execution_count": 38,
   "metadata": {},
   "outputs": [
    {
     "name": "stdout",
     "output_type": "stream",
     "text": [
      "Test MAE= 7.843746993169324\n"
     ]
    }
   ],
   "source": [
    "model = LinearRegression()\n",
    "model.fit(features_train, target_train)\n",
    "result = model.predict(features_test)\n",
    "linreg_score = mean_absolute_error(target_test, result)\n",
    "print('Test MAE=', linreg_score)"
   ]
  },
  {
   "cell_type": "markdown",
   "metadata": {},
   "source": [
    "Значение МАЕ соответствует необходимому минимуму. Перейдём к следующей модели:"
   ]
  },
  {
   "cell_type": "markdown",
   "metadata": {},
   "source": [
    "[Вернуться к содержанию](#back-bullet)"
   ]
  },
  {
   "cell_type": "markdown",
   "metadata": {},
   "source": [
    "<a id='rf-bullet'></a>"
   ]
  },
  {
   "cell_type": "markdown",
   "metadata": {},
   "source": [
    "### Случайный лес"
   ]
  },
  {
   "cell_type": "code",
   "execution_count": null,
   "metadata": {},
   "outputs": [],
   "source": [
    "#диапазон параметров уменьшен по результатам предыдущего моделирования с целью сокращения времени моделирования\n",
    "model = RandomForestRegressor()\n",
    "params = {\n",
    "    'n_estimators':[x for x in range(490, 491, 1)],\n",
    "    'max_depth':[x for x in range(188, 189, 1)], \n",
    "    'min_samples_leaf':[x for x in range(1, 2, 1)],\n",
    "    'min_samples_split':[x for x in range(14, 15, 1)],\n",
    "}\n",
    "grid = RandomizedSearchCV(model, \n",
    "                          params,  \n",
    "                          n_iter = 10, \n",
    "                          random_state = 12345, \n",
    "                          cv = 5)\n",
    "grid.fit(features_train, target_train)\n",
    "result = grid.predict(features_test)\n",
    "forest_score = mean_absolute_error(target_test, result)\n",
    "print('Лучшие параметры:', grid.best_params_)\n",
    "print('Test MAE=', forest_score)"
   ]
  },
  {
   "cell_type": "markdown",
   "metadata": {},
   "source": [
    "Результат уже значительно лучше."
   ]
  },
  {
   "cell_type": "markdown",
   "metadata": {},
   "source": [
    "[Вернуться к содержанию](#back-bullet)"
   ]
  },
  {
   "cell_type": "markdown",
   "metadata": {},
   "source": [
    " Перейдём к моделям градиентного бустинга:"
   ]
  },
  {
   "cell_type": "markdown",
   "metadata": {},
   "source": [
    "<a id='xg-bullet'></a>"
   ]
  },
  {
   "cell_type": "markdown",
   "metadata": {},
   "source": [
    "### XGBoost"
   ]
  },
  {
   "cell_type": "code",
   "execution_count": null,
   "metadata": {},
   "outputs": [],
   "source": [
    "model = XGBRegressor(\n",
    "    n_estimators = 1500,\n",
    "    learning_rate = 0.008,\n",
    "    reg_alpha = 15,\n",
    "    objective = 'reg:squarederror',\n",
    "    random_state = 12345\n",
    ")\n",
    "model.fit(features_train, target_train)\n",
    "\n",
    "result = model.predict(features_test)\n",
    "xgb_score = mean_absolute_error(target_test, result)\n",
    "print('Test MAE=', xgb_score)"
   ]
  },
  {
   "cell_type": "markdown",
   "metadata": {},
   "source": [
    "Максимально близко приблизились к требуемому значению МАЕ = 6."
   ]
  },
  {
   "cell_type": "markdown",
   "metadata": {},
   "source": [
    "[Вернуться к содержанию](#back-bullet)"
   ]
  },
  {
   "cell_type": "markdown",
   "metadata": {},
   "source": [
    "<a id='cb-bullet'></a>"
   ]
  },
  {
   "cell_type": "markdown",
   "metadata": {},
   "source": [
    "### CatBoost"
   ]
  },
  {
   "cell_type": "code",
   "execution_count": null,
   "metadata": {},
   "outputs": [],
   "source": [
    "model = CatBoostRegressor(\n",
    "    loss_function='MAE', \n",
    "    random_state = 12345, \n",
    "    iterations = 1500, \n",
    "    learning_rate = 0.008, \n",
    "    l2_leaf_reg = 50,\n",
    "    )\n",
    "model.fit(features_train, target_train, verbose = 100)\n",
    "\n",
    "result = model.predict(features_test)\n",
    "cb_score = mean_absolute_error(target_test, result)\n",
    "print('\\nTest MAE =', cb_score)"
   ]
  },
  {
   "cell_type": "markdown",
   "metadata": {},
   "source": [
    "Поставленная задача выполнена. МАЕ < 6."
   ]
  },
  {
   "cell_type": "markdown",
   "metadata": {},
   "source": [
    "[Вернуться к содержанию](#back-bullet)"
   ]
  },
  {
   "cell_type": "markdown",
   "metadata": {},
   "source": [
    "Сделаем проверку по фиктивному среднему:"
   ]
  },
  {
   "cell_type": "markdown",
   "metadata": {},
   "source": [
    "### Фиктивное предсказание по среднему"
   ]
  },
  {
   "cell_type": "code",
   "execution_count": 39,
   "metadata": {},
   "outputs": [
    {
     "name": "stdout",
     "output_type": "stream",
     "text": [
      "Dummy MAE = 9.746945433442612\n"
     ]
    }
   ],
   "source": [
    "dummy_pred = pd.Series(target_train.mean(), index=target_test.index)\n",
    "dummy_result = mean_absolute_error(target_test, dummy_pred)\n",
    "print('Dummy MAE =', dummy_result)"
   ]
  },
  {
   "cell_type": "markdown",
   "metadata": {},
   "source": [
    "<a id='st-bullet'></a>"
   ]
  },
  {
   "cell_type": "markdown",
   "metadata": {},
   "source": [
    "### Результирующая таблица"
   ]
  },
  {
   "cell_type": "code",
   "execution_count": null,
   "metadata": {},
   "outputs": [],
   "source": [
    "(\n",
    "    pd.Series(\n",
    "    data=[linreg_score, forest_score, xgb_score, cb_score, dummy_result],\n",
    "    index=['LinearRegression', 'RandomForest', 'XGBoost', 'CatBoost', 'Dummy_mean'],\n",
    "    name='MAE_score'\n",
    "    )\n",
    "    .sort_values()\n",
    "    .to_frame()\n",
    ")"
   ]
  },
  {
   "cell_type": "markdown",
   "metadata": {},
   "source": [
    "Наилучший результат показала модель CatBoost с МАЕ = 5.98"
   ]
  },
  {
   "cell_type": "markdown",
   "metadata": {},
   "source": [
    "Рассмотрим важность признаков в лучшей модели:"
   ]
  },
  {
   "cell_type": "code",
   "execution_count": null,
   "metadata": {},
   "outputs": [],
   "source": [
    "def validate_the_importance(model):\n",
    "    feature_importance = pd.Series(model.feature_importances_, index = features_test.columns).sort_values(ascending=False)\n",
    "\n",
    "    ax = sns.barplot(x = feature_importance, y = feature_importance.index)\n",
    "    _ = ax.set(xlabel='Уровень важности признаков', ylabel = 'Признаки')\n",
    "    _ = ax.set_title('Визуализация важности признаков')\n",
    "\n",
    "validate_the_importance(model)"
   ]
  },
  {
   "cell_type": "markdown",
   "metadata": {},
   "source": [
    "Наибольшее влияние на конечную температу оказывает начальная температура - чем больше разница, тем больше нужно нагревать.2-й признак по важности - работа: чем она больше, тем больше энергии идёт на нагрев - логично.  Далее следует кол-во проволочных материалов. Видим, что использовать проволоку гораздо энергозатратнее, чем сыпучие материалы. \n",
    "В целях оптимизации расходов заказчику следует обратить внимание на начальную температуру расплава и найти альтернативу материалам в виде проволоки,если это возможно."
   ]
  },
  {
   "cell_type": "markdown",
   "metadata": {},
   "source": [
    "[Вернуться к содержанию](#back-bullet)"
   ]
  },
  {
   "cell_type": "markdown",
   "metadata": {},
   "source": [
    "<a id='conclusion-bullet'></a>"
   ]
  },
  {
   "cell_type": "markdown",
   "metadata": {},
   "source": [
    "## 4. Отчёт о проделанной работе"
   ]
  },
  {
   "cell_type": "markdown",
   "metadata": {},
   "source": [
    "* В процессе работы над проектом были в полном объёме выполнены все пункты плана: проведена предобработка данных и подготовлена таблица с признаками, построены 4 модели для прогнозирования температуры, выбрана лучшая модель, выполняющая поставленную задачу, для которой проведён анализ важности признаков;  \n",
    "\n",
    "* В процессе работы над проектом возникали только вопросы, касающиеся предметной области - металлургии -, ответы на которые были получены в процессе взаимодействия с коллегами и специалистами-металлургами;\n",
    "\n",
    "* Из 4 построенных моделей в процессе сравнения наилучший результат показала модель градиентного бустинга CatBoost с МАЕ = 5.98.\n",
    "\n",
    "* В результате анализа важности признаков модели полученны следующие результаты: наибольшее влияние оказывают следующие факторы - начальная температура, кол-во затраченной работы и объём использованных проволочных материалов. Согласно имеющимся данным, рекомендую обратить внимание на уменьшение диапазона разброса начальной температуры, проанализировать оборудование на факт наличия утечек энергиии, ввести автомотическую фиксацию аномалий и всех сопутствующих производственных факторов для анализа с целью уменьшения будущих расходов."
   ]
  },
  {
   "cell_type": "markdown",
   "metadata": {},
   "source": [
    "[Вернуться к содержанию](#back-bullet)"
   ]
  }
 ],
 "metadata": {
  "ExecuteTimeLog": [
   {
    "duration": 1236,
    "start_time": "2021-11-15T12:37:39.406Z"
   },
   {
    "duration": 95,
    "start_time": "2021-11-15T12:39:02.888Z"
   },
   {
    "duration": 3,
    "start_time": "2021-11-15T12:39:11.819Z"
   },
   {
    "duration": 4,
    "start_time": "2021-11-15T12:39:44.555Z"
   },
   {
    "duration": 4,
    "start_time": "2021-11-15T12:40:43.528Z"
   },
   {
    "duration": 90,
    "start_time": "2021-11-15T12:40:44.897Z"
   },
   {
    "duration": 347,
    "start_time": "2021-11-15T12:49:00.886Z"
   },
   {
    "duration": 4,
    "start_time": "2021-11-15T12:51:59.071Z"
   },
   {
    "duration": 4,
    "start_time": "2021-11-15T12:52:06.486Z"
   },
   {
    "duration": 324,
    "start_time": "2021-11-15T12:52:09.232Z"
   },
   {
    "duration": 4,
    "start_time": "2021-11-15T12:52:09.558Z"
   },
   {
    "duration": 13,
    "start_time": "2021-11-15T12:54:08.513Z"
   },
   {
    "duration": 5,
    "start_time": "2021-11-15T12:55:39.512Z"
   },
   {
    "duration": 20,
    "start_time": "2021-11-15T12:55:41.111Z"
   },
   {
    "duration": 6,
    "start_time": "2021-11-15T12:59:04.524Z"
   },
   {
    "duration": 570,
    "start_time": "2021-11-15T12:59:04.949Z"
   },
   {
    "duration": 4,
    "start_time": "2021-11-15T12:59:17.887Z"
   },
   {
    "duration": 40,
    "start_time": "2021-11-15T12:59:18.395Z"
   },
   {
    "duration": 4,
    "start_time": "2021-11-15T13:00:33.955Z"
   },
   {
    "duration": 223,
    "start_time": "2021-11-15T13:00:35.069Z"
   },
   {
    "duration": 4,
    "start_time": "2021-11-15T13:00:35.803Z"
   },
   {
    "duration": 30,
    "start_time": "2021-11-15T13:00:36.639Z"
   },
   {
    "duration": 4,
    "start_time": "2021-11-15T13:03:54.337Z"
   },
   {
    "duration": 657,
    "start_time": "2021-11-15T13:03:55.729Z"
   },
   {
    "duration": 3,
    "start_time": "2021-11-15T13:04:16.271Z"
   },
   {
    "duration": 33,
    "start_time": "2021-11-15T13:04:16.569Z"
   },
   {
    "duration": 66,
    "start_time": "2021-11-15T13:04:30.723Z"
   },
   {
    "duration": 34,
    "start_time": "2021-11-15T13:05:15.675Z"
   },
   {
    "duration": 25,
    "start_time": "2021-11-15T13:05:32.358Z"
   },
   {
    "duration": 37,
    "start_time": "2021-11-15T13:05:42.321Z"
   },
   {
    "duration": 54,
    "start_time": "2021-11-15T13:07:00.503Z"
   },
   {
    "duration": 31,
    "start_time": "2021-11-15T13:07:11.527Z"
   },
   {
    "duration": 169,
    "start_time": "2021-11-15T13:21:16.051Z"
   },
   {
    "duration": 253,
    "start_time": "2021-11-15T13:24:11.386Z"
   },
   {
    "duration": 8,
    "start_time": "2021-11-15T13:27:43.436Z"
   },
   {
    "duration": 7,
    "start_time": "2021-11-15T13:28:21.676Z"
   },
   {
    "duration": 13,
    "start_time": "2021-11-15T13:28:36.039Z"
   },
   {
    "duration": 6,
    "start_time": "2021-11-15T13:29:39.468Z"
   },
   {
    "duration": 171,
    "start_time": "2021-11-15T13:32:53.542Z"
   },
   {
    "duration": 165,
    "start_time": "2021-11-15T13:33:15.798Z"
   },
   {
    "duration": 471,
    "start_time": "2021-11-15T13:48:49.682Z"
   },
   {
    "duration": 157,
    "start_time": "2021-11-15T14:20:27.321Z"
   },
   {
    "duration": 10,
    "start_time": "2021-11-15T14:28:25.990Z"
   },
   {
    "duration": 13,
    "start_time": "2021-11-15T14:28:38.116Z"
   },
   {
    "duration": 6685,
    "start_time": "2021-11-15T14:58:53.787Z"
   },
   {
    "duration": 158,
    "start_time": "2021-11-15T14:59:06.519Z"
   },
   {
    "duration": 1310,
    "start_time": "2021-11-15T15:05:46.329Z"
   },
   {
    "duration": 178,
    "start_time": "2021-11-15T15:05:47.641Z"
   },
   {
    "duration": 4,
    "start_time": "2021-11-15T15:05:47.821Z"
   },
   {
    "duration": 51,
    "start_time": "2021-11-15T15:05:47.827Z"
   },
   {
    "duration": 7,
    "start_time": "2021-11-15T15:05:47.880Z"
   },
   {
    "duration": 13,
    "start_time": "2021-11-15T15:05:47.889Z"
   },
   {
    "duration": 192,
    "start_time": "2021-11-15T15:05:47.904Z"
   },
   {
    "duration": 172,
    "start_time": "2021-11-15T15:05:48.099Z"
   },
   {
    "duration": 446,
    "start_time": "2021-11-15T15:05:48.273Z"
   },
   {
    "duration": 89,
    "start_time": "2021-11-15T15:05:48.721Z"
   },
   {
    "duration": 56,
    "start_time": "2021-11-15T15:05:48.812Z"
   },
   {
    "duration": 27,
    "start_time": "2021-11-15T15:05:48.869Z"
   },
   {
    "duration": 211,
    "start_time": "2021-11-15T15:05:48.898Z"
   },
   {
    "duration": 32,
    "start_time": "2021-11-15T15:05:49.111Z"
   },
   {
    "duration": 179,
    "start_time": "2021-11-15T15:05:49.164Z"
   },
   {
    "duration": 80,
    "start_time": "2021-11-15T15:05:49.345Z"
   },
   {
    "duration": 739,
    "start_time": "2021-11-15T15:05:48.688Z"
   },
   {
    "duration": 739,
    "start_time": "2021-11-15T15:05:48.690Z"
   },
   {
    "duration": 739,
    "start_time": "2021-11-15T15:05:48.691Z"
   },
   {
    "duration": 1531,
    "start_time": "2021-11-15T15:14:10.075Z"
   },
   {
    "duration": 209,
    "start_time": "2021-11-15T15:14:11.608Z"
   },
   {
    "duration": 5,
    "start_time": "2021-11-15T15:14:11.820Z"
   },
   {
    "duration": 57,
    "start_time": "2021-11-15T15:14:11.827Z"
   },
   {
    "duration": 8,
    "start_time": "2021-11-15T15:14:11.886Z"
   },
   {
    "duration": 13,
    "start_time": "2021-11-15T15:14:11.896Z"
   },
   {
    "duration": 183,
    "start_time": "2021-11-15T15:14:11.910Z"
   },
   {
    "duration": 170,
    "start_time": "2021-11-15T15:14:12.095Z"
   },
   {
    "duration": 444,
    "start_time": "2021-11-15T15:14:12.267Z"
   },
   {
    "duration": 89,
    "start_time": "2021-11-15T15:14:12.713Z"
   },
   {
    "duration": 35,
    "start_time": "2021-11-15T15:14:12.804Z"
   },
   {
    "duration": 46,
    "start_time": "2021-11-15T15:14:12.841Z"
   },
   {
    "duration": 196,
    "start_time": "2021-11-15T15:14:12.888Z"
   },
   {
    "duration": 37,
    "start_time": "2021-11-15T15:14:13.086Z"
   },
   {
    "duration": 276,
    "start_time": "2021-11-15T15:14:13.125Z"
   },
   {
    "duration": 105,
    "start_time": "2021-11-15T15:14:13.403Z"
   },
   {
    "duration": 739,
    "start_time": "2021-11-15T15:14:12.770Z"
   },
   {
    "duration": 740,
    "start_time": "2021-11-15T15:14:12.771Z"
   },
   {
    "duration": 741,
    "start_time": "2021-11-15T15:14:12.771Z"
   },
   {
    "duration": 17,
    "start_time": "2021-11-15T15:14:43.050Z"
   },
   {
    "duration": 53,
    "start_time": "2021-11-15T15:14:43.862Z"
   },
   {
    "duration": 29,
    "start_time": "2021-11-15T15:14:44.865Z"
   },
   {
    "duration": 1273,
    "start_time": "2021-11-15T15:28:40.873Z"
   },
   {
    "duration": 196,
    "start_time": "2021-11-15T15:28:42.148Z"
   },
   {
    "duration": 4,
    "start_time": "2021-11-15T15:28:42.349Z"
   },
   {
    "duration": 57,
    "start_time": "2021-11-15T15:28:42.355Z"
   },
   {
    "duration": 7,
    "start_time": "2021-11-15T15:28:42.414Z"
   },
   {
    "duration": 16,
    "start_time": "2021-11-15T15:28:42.423Z"
   },
   {
    "duration": 202,
    "start_time": "2021-11-15T15:28:42.442Z"
   },
   {
    "duration": 187,
    "start_time": "2021-11-15T15:28:42.647Z"
   },
   {
    "duration": 509,
    "start_time": "2021-11-15T15:28:42.836Z"
   },
   {
    "duration": 86,
    "start_time": "2021-11-15T15:28:43.347Z"
   },
   {
    "duration": 54,
    "start_time": "2021-11-15T15:28:43.436Z"
   },
   {
    "duration": 26,
    "start_time": "2021-11-15T15:28:43.492Z"
   },
   {
    "duration": 229,
    "start_time": "2021-11-15T15:28:43.520Z"
   },
   {
    "duration": 31,
    "start_time": "2021-11-15T15:28:43.763Z"
   },
   {
    "duration": 197,
    "start_time": "2021-11-15T15:28:43.796Z"
   },
   {
    "duration": 15,
    "start_time": "2021-11-15T15:28:43.995Z"
   },
   {
    "duration": 80,
    "start_time": "2021-11-15T15:28:44.012Z"
   },
   {
    "duration": 35,
    "start_time": "2021-11-15T15:28:44.094Z"
   },
   {
    "duration": 1186,
    "start_time": "2021-11-15T15:34:23.444Z"
   },
   {
    "duration": 195,
    "start_time": "2021-11-15T15:34:24.632Z"
   },
   {
    "duration": 3,
    "start_time": "2021-11-15T15:34:24.830Z"
   },
   {
    "duration": 46,
    "start_time": "2021-11-15T15:34:24.835Z"
   },
   {
    "duration": 6,
    "start_time": "2021-11-15T15:34:24.882Z"
   },
   {
    "duration": 12,
    "start_time": "2021-11-15T15:34:24.890Z"
   },
   {
    "duration": 192,
    "start_time": "2021-11-15T15:34:24.904Z"
   },
   {
    "duration": 174,
    "start_time": "2021-11-15T15:34:25.098Z"
   },
   {
    "duration": 438,
    "start_time": "2021-11-15T15:34:25.274Z"
   },
   {
    "duration": 85,
    "start_time": "2021-11-15T15:34:25.714Z"
   },
   {
    "duration": 31,
    "start_time": "2021-11-15T15:34:25.801Z"
   },
   {
    "duration": 48,
    "start_time": "2021-11-15T15:34:25.834Z"
   },
   {
    "duration": 181,
    "start_time": "2021-11-15T15:34:25.884Z"
   },
   {
    "duration": 28,
    "start_time": "2021-11-15T15:34:26.067Z"
   },
   {
    "duration": 184,
    "start_time": "2021-11-15T15:34:26.097Z"
   },
   {
    "duration": 11,
    "start_time": "2021-11-15T15:34:26.283Z"
   },
   {
    "duration": 83,
    "start_time": "2021-11-15T15:34:26.296Z"
   },
   {
    "duration": 28,
    "start_time": "2021-11-15T15:34:26.381Z"
   },
   {
    "duration": 127,
    "start_time": "2021-11-16T18:09:36.722Z"
   },
   {
    "duration": 1548,
    "start_time": "2021-11-16T18:11:26.672Z"
   },
   {
    "duration": 242,
    "start_time": "2021-11-16T18:11:28.223Z"
   },
   {
    "duration": 6,
    "start_time": "2021-11-16T18:11:28.468Z"
   },
   {
    "duration": 53,
    "start_time": "2021-11-16T18:11:28.477Z"
   },
   {
    "duration": 29,
    "start_time": "2021-11-16T18:11:28.532Z"
   },
   {
    "duration": 17,
    "start_time": "2021-11-16T18:11:28.564Z"
   },
   {
    "duration": 292,
    "start_time": "2021-11-16T18:11:28.583Z"
   },
   {
    "duration": 280,
    "start_time": "2021-11-16T18:11:28.879Z"
   },
   {
    "duration": 606,
    "start_time": "2021-11-16T18:11:29.161Z"
   },
   {
    "duration": 126,
    "start_time": "2021-11-16T18:11:29.770Z"
   },
   {
    "duration": 66,
    "start_time": "2021-11-16T18:11:29.898Z"
   },
   {
    "duration": 35,
    "start_time": "2021-11-16T18:11:29.966Z"
   },
   {
    "duration": 304,
    "start_time": "2021-11-16T18:11:30.004Z"
   },
   {
    "duration": 63,
    "start_time": "2021-11-16T18:11:30.311Z"
   },
   {
    "duration": 284,
    "start_time": "2021-11-16T18:11:30.377Z"
   },
   {
    "duration": 19,
    "start_time": "2021-11-16T18:11:30.664Z"
   },
   {
    "duration": 115,
    "start_time": "2021-11-16T18:11:30.685Z"
   },
   {
    "duration": 67,
    "start_time": "2021-11-16T18:11:30.803Z"
   },
   {
    "duration": 378,
    "start_time": "2021-11-17T08:20:09.666Z"
   },
   {
    "duration": 1556,
    "start_time": "2021-11-17T08:20:19.175Z"
   },
   {
    "duration": 204,
    "start_time": "2021-11-17T08:20:20.733Z"
   },
   {
    "duration": 5,
    "start_time": "2021-11-17T08:20:20.940Z"
   },
   {
    "duration": 87,
    "start_time": "2021-11-17T08:20:20.949Z"
   },
   {
    "duration": 11,
    "start_time": "2021-11-17T08:20:21.039Z"
   },
   {
    "duration": 19,
    "start_time": "2021-11-17T08:20:21.069Z"
   },
   {
    "duration": 472,
    "start_time": "2021-11-17T08:20:21.091Z"
   },
   {
    "duration": 280,
    "start_time": "2021-11-17T08:20:21.569Z"
   },
   {
    "duration": 640,
    "start_time": "2021-11-17T08:20:21.852Z"
   },
   {
    "duration": 134,
    "start_time": "2021-11-17T08:20:22.494Z"
   },
   {
    "duration": 67,
    "start_time": "2021-11-17T08:20:22.630Z"
   },
   {
    "duration": 69,
    "start_time": "2021-11-17T08:20:22.700Z"
   },
   {
    "duration": 293,
    "start_time": "2021-11-17T08:20:22.772Z"
   },
   {
    "duration": 39,
    "start_time": "2021-11-17T08:20:23.068Z"
   },
   {
    "duration": 299,
    "start_time": "2021-11-17T08:20:23.109Z"
   },
   {
    "duration": 18,
    "start_time": "2021-11-17T08:20:23.410Z"
   },
   {
    "duration": 177,
    "start_time": "2021-11-17T08:20:23.431Z"
   },
   {
    "duration": 66,
    "start_time": "2021-11-17T08:20:23.611Z"
   },
   {
    "duration": 7,
    "start_time": "2021-11-17T08:20:23.680Z"
   },
   {
    "duration": 15,
    "start_time": "2021-11-17T08:20:23.689Z"
   },
   {
    "duration": 18,
    "start_time": "2021-11-17T08:20:23.706Z"
   },
   {
    "duration": 54,
    "start_time": "2021-11-17T08:20:23.727Z"
   },
   {
    "duration": 34,
    "start_time": "2021-11-17T08:20:23.785Z"
   },
   {
    "duration": 55,
    "start_time": "2021-11-17T08:20:23.822Z"
   },
   {
    "duration": 16,
    "start_time": "2021-11-17T08:20:23.879Z"
   },
   {
    "duration": 11,
    "start_time": "2021-11-17T08:20:23.898Z"
   },
   {
    "duration": 21,
    "start_time": "2021-11-17T08:20:23.912Z"
   },
   {
    "duration": 439,
    "start_time": "2021-11-17T08:20:23.968Z"
   },
   {
    "duration": 629,
    "start_time": "2021-11-17T08:20:23.780Z"
   },
   {
    "duration": 630,
    "start_time": "2021-11-17T08:20:23.781Z"
   },
   {
    "duration": 631,
    "start_time": "2021-11-17T08:20:23.783Z"
   },
   {
    "duration": 632,
    "start_time": "2021-11-17T08:20:23.784Z"
   },
   {
    "duration": 69,
    "start_time": "2021-11-17T08:20:43.778Z"
   },
   {
    "duration": 14,
    "start_time": "2021-11-17T08:24:37.581Z"
   },
   {
    "duration": 20,
    "start_time": "2021-11-17T08:24:57.212Z"
   },
   {
    "duration": 65,
    "start_time": "2021-11-17T08:25:02.253Z"
   },
   {
    "duration": 7,
    "start_time": "2021-11-17T08:25:07.020Z"
   },
   {
    "duration": 16,
    "start_time": "2021-11-17T08:25:15.860Z"
   },
   {
    "duration": 9,
    "start_time": "2021-11-17T08:25:20.213Z"
   },
   {
    "duration": 860,
    "start_time": "2021-11-17T08:25:26.788Z"
   },
   {
    "duration": 1616,
    "start_time": "2021-11-17T08:28:45.636Z"
   },
   {
    "duration": 186,
    "start_time": "2021-11-17T08:28:47.255Z"
   },
   {
    "duration": 7,
    "start_time": "2021-11-17T08:28:47.444Z"
   },
   {
    "duration": 62,
    "start_time": "2021-11-17T08:28:47.453Z"
   },
   {
    "duration": 8,
    "start_time": "2021-11-17T08:28:47.518Z"
   },
   {
    "duration": 39,
    "start_time": "2021-11-17T08:28:47.528Z"
   },
   {
    "duration": 300,
    "start_time": "2021-11-17T08:28:47.570Z"
   },
   {
    "duration": 280,
    "start_time": "2021-11-17T08:28:47.873Z"
   },
   {
    "duration": 614,
    "start_time": "2021-11-17T08:28:48.156Z"
   },
   {
    "duration": 127,
    "start_time": "2021-11-17T08:28:48.772Z"
   },
   {
    "duration": 74,
    "start_time": "2021-11-17T08:28:48.901Z"
   },
   {
    "duration": 35,
    "start_time": "2021-11-17T08:28:48.978Z"
   },
   {
    "duration": 322,
    "start_time": "2021-11-17T08:28:49.016Z"
   },
   {
    "duration": 52,
    "start_time": "2021-11-17T08:28:49.340Z"
   },
   {
    "duration": 287,
    "start_time": "2021-11-17T08:28:49.395Z"
   },
   {
    "duration": 17,
    "start_time": "2021-11-17T08:28:49.684Z"
   },
   {
    "duration": 182,
    "start_time": "2021-11-17T08:28:49.704Z"
   },
   {
    "duration": 44,
    "start_time": "2021-11-17T08:28:49.888Z"
   },
   {
    "duration": 36,
    "start_time": "2021-11-17T08:28:49.934Z"
   },
   {
    "duration": 18,
    "start_time": "2021-11-17T08:28:49.972Z"
   },
   {
    "duration": 19,
    "start_time": "2021-11-17T08:28:49.993Z"
   },
   {
    "duration": 24,
    "start_time": "2021-11-17T08:28:50.015Z"
   },
   {
    "duration": 52,
    "start_time": "2021-11-17T08:28:50.044Z"
   },
   {
    "duration": 16,
    "start_time": "2021-11-17T08:28:50.099Z"
   },
   {
    "duration": 49,
    "start_time": "2021-11-17T08:28:50.118Z"
   },
   {
    "duration": 12,
    "start_time": "2021-11-17T08:28:50.169Z"
   },
   {
    "duration": 24,
    "start_time": "2021-11-17T08:28:50.185Z"
   },
   {
    "duration": 105,
    "start_time": "2021-11-17T08:28:50.212Z"
   },
   {
    "duration": 7,
    "start_time": "2021-11-17T08:28:50.320Z"
   },
   {
    "duration": 42,
    "start_time": "2021-11-17T08:28:50.330Z"
   },
   {
    "duration": 25,
    "start_time": "2021-11-17T08:28:50.374Z"
   },
   {
    "duration": 880,
    "start_time": "2021-11-17T08:28:50.401Z"
   },
   {
    "duration": 445,
    "start_time": "2021-11-17T08:30:33.622Z"
   },
   {
    "duration": 8,
    "start_time": "2021-11-17T08:31:10.568Z"
   },
   {
    "duration": 1632,
    "start_time": "2021-11-17T08:36:15.024Z"
   },
   {
    "duration": 180,
    "start_time": "2021-11-17T08:36:16.659Z"
   },
   {
    "duration": 6,
    "start_time": "2021-11-17T08:36:16.842Z"
   },
   {
    "duration": 63,
    "start_time": "2021-11-17T08:36:16.851Z"
   },
   {
    "duration": 7,
    "start_time": "2021-11-17T08:36:16.916Z"
   },
   {
    "duration": 41,
    "start_time": "2021-11-17T08:36:16.926Z"
   },
   {
    "duration": 293,
    "start_time": "2021-11-17T08:36:16.970Z"
   },
   {
    "duration": 290,
    "start_time": "2021-11-17T08:36:17.268Z"
   },
   {
    "duration": 609,
    "start_time": "2021-11-17T08:36:17.567Z"
   },
   {
    "duration": 138,
    "start_time": "2021-11-17T08:36:18.178Z"
   },
   {
    "duration": 74,
    "start_time": "2021-11-17T08:36:18.319Z"
   },
   {
    "duration": 38,
    "start_time": "2021-11-17T08:36:18.395Z"
   },
   {
    "duration": 367,
    "start_time": "2021-11-17T08:36:18.436Z"
   },
   {
    "duration": 60,
    "start_time": "2021-11-17T08:36:18.806Z"
   },
   {
    "duration": 278,
    "start_time": "2021-11-17T08:36:18.869Z"
   },
   {
    "duration": 25,
    "start_time": "2021-11-17T08:36:19.149Z"
   },
   {
    "duration": 181,
    "start_time": "2021-11-17T08:36:19.177Z"
   },
   {
    "duration": 43,
    "start_time": "2021-11-17T08:36:19.368Z"
   },
   {
    "duration": 6,
    "start_time": "2021-11-17T08:36:19.413Z"
   },
   {
    "duration": 13,
    "start_time": "2021-11-17T08:36:19.422Z"
   },
   {
    "duration": 45,
    "start_time": "2021-11-17T08:36:19.437Z"
   },
   {
    "duration": 22,
    "start_time": "2021-11-17T08:36:19.485Z"
   },
   {
    "duration": 65,
    "start_time": "2021-11-17T08:36:19.512Z"
   },
   {
    "duration": 18,
    "start_time": "2021-11-17T08:36:19.580Z"
   },
   {
    "duration": 17,
    "start_time": "2021-11-17T08:36:19.600Z"
   },
   {
    "duration": 12,
    "start_time": "2021-11-17T08:36:19.619Z"
   },
   {
    "duration": 22,
    "start_time": "2021-11-17T08:36:19.667Z"
   },
   {
    "duration": 91,
    "start_time": "2021-11-17T08:36:19.691Z"
   },
   {
    "duration": 7,
    "start_time": "2021-11-17T08:36:19.784Z"
   },
   {
    "duration": 23,
    "start_time": "2021-11-17T08:36:19.793Z"
   },
   {
    "duration": 23,
    "start_time": "2021-11-17T08:36:19.818Z"
   },
   {
    "duration": 874,
    "start_time": "2021-11-17T08:36:19.843Z"
   },
   {
    "duration": 8,
    "start_time": "2021-11-17T08:36:20.720Z"
   },
   {
    "duration": 37,
    "start_time": "2021-11-17T08:36:20.731Z"
   },
   {
    "duration": 162,
    "start_time": "2021-11-17T08:36:20.770Z"
   },
   {
    "duration": 1264,
    "start_time": "2021-11-17T08:36:20.935Z"
   },
   {
    "duration": 14556,
    "start_time": "2021-11-17T08:36:22.201Z"
   },
   {
    "duration": 6,
    "start_time": "2021-11-17T08:36:36.759Z"
   },
   {
    "duration": 19,
    "start_time": "2021-11-17T08:36:36.768Z"
   },
   {
    "duration": 29336,
    "start_time": "2021-11-17T08:37:24.701Z"
   },
   {
    "duration": 1568,
    "start_time": "2021-11-17T08:40:45.079Z"
   },
   {
    "duration": 191,
    "start_time": "2021-11-17T08:40:46.650Z"
   },
   {
    "duration": 7,
    "start_time": "2021-11-17T08:40:46.845Z"
   },
   {
    "duration": 56,
    "start_time": "2021-11-17T08:40:46.855Z"
   },
   {
    "duration": 8,
    "start_time": "2021-11-17T08:40:46.914Z"
   },
   {
    "duration": 45,
    "start_time": "2021-11-17T08:40:46.924Z"
   },
   {
    "duration": 304,
    "start_time": "2021-11-17T08:40:46.971Z"
   },
   {
    "duration": 293,
    "start_time": "2021-11-17T08:40:47.278Z"
   },
   {
    "duration": 631,
    "start_time": "2021-11-17T08:40:47.575Z"
   },
   {
    "duration": 130,
    "start_time": "2021-11-17T08:40:48.210Z"
   },
   {
    "duration": 62,
    "start_time": "2021-11-17T08:40:48.342Z"
   },
   {
    "duration": 84,
    "start_time": "2021-11-17T08:40:48.407Z"
   },
   {
    "duration": 346,
    "start_time": "2021-11-17T08:40:48.494Z"
   },
   {
    "duration": 53,
    "start_time": "2021-11-17T08:40:48.843Z"
   },
   {
    "duration": 297,
    "start_time": "2021-11-17T08:40:48.899Z"
   },
   {
    "duration": 18,
    "start_time": "2021-11-17T08:40:49.198Z"
   },
   {
    "duration": 181,
    "start_time": "2021-11-17T08:40:49.219Z"
   },
   {
    "duration": 67,
    "start_time": "2021-11-17T08:40:49.403Z"
   },
   {
    "duration": 7,
    "start_time": "2021-11-17T08:40:49.472Z"
   },
   {
    "duration": 13,
    "start_time": "2021-11-17T08:40:49.482Z"
   },
   {
    "duration": 20,
    "start_time": "2021-11-17T08:40:49.498Z"
   },
   {
    "duration": 51,
    "start_time": "2021-11-17T08:40:49.521Z"
   },
   {
    "duration": 38,
    "start_time": "2021-11-17T08:40:49.575Z"
   },
   {
    "duration": 53,
    "start_time": "2021-11-17T08:40:49.616Z"
   },
   {
    "duration": 21,
    "start_time": "2021-11-17T08:40:49.671Z"
   },
   {
    "duration": 12,
    "start_time": "2021-11-17T08:40:49.695Z"
   },
   {
    "duration": 56,
    "start_time": "2021-11-17T08:40:49.711Z"
   },
   {
    "duration": 96,
    "start_time": "2021-11-17T08:40:49.771Z"
   },
   {
    "duration": 7,
    "start_time": "2021-11-17T08:40:49.870Z"
   },
   {
    "duration": 20,
    "start_time": "2021-11-17T08:40:49.879Z"
   },
   {
    "duration": 13,
    "start_time": "2021-11-17T08:40:49.901Z"
   },
   {
    "duration": 1094,
    "start_time": "2021-11-17T08:40:49.917Z"
   },
   {
    "duration": 8,
    "start_time": "2021-11-17T08:40:51.013Z"
   },
   {
    "duration": 44,
    "start_time": "2021-11-17T08:40:51.023Z"
   },
   {
    "duration": 206,
    "start_time": "2021-11-17T08:40:51.069Z"
   },
   {
    "duration": 1360,
    "start_time": "2021-11-17T08:40:51.278Z"
   },
   {
    "duration": 33258,
    "start_time": "2021-11-17T08:40:52.641Z"
   },
   {
    "duration": 7,
    "start_time": "2021-11-17T08:41:25.901Z"
   },
   {
    "duration": 23,
    "start_time": "2021-11-17T08:41:25.910Z"
   },
   {
    "duration": 1610,
    "start_time": "2021-11-17T08:44:23.448Z"
   },
   {
    "duration": 204,
    "start_time": "2021-11-17T08:44:25.061Z"
   },
   {
    "duration": 5,
    "start_time": "2021-11-17T08:44:25.268Z"
   },
   {
    "duration": 58,
    "start_time": "2021-11-17T08:44:25.276Z"
   },
   {
    "duration": 31,
    "start_time": "2021-11-17T08:44:25.337Z"
   },
   {
    "duration": 16,
    "start_time": "2021-11-17T08:44:25.371Z"
   },
   {
    "duration": 309,
    "start_time": "2021-11-17T08:44:25.389Z"
   },
   {
    "duration": 281,
    "start_time": "2021-11-17T08:44:25.702Z"
   },
   {
    "duration": 655,
    "start_time": "2021-11-17T08:44:25.985Z"
   },
   {
    "duration": 133,
    "start_time": "2021-11-17T08:44:26.643Z"
   },
   {
    "duration": 49,
    "start_time": "2021-11-17T08:44:26.778Z"
   },
   {
    "duration": 60,
    "start_time": "2021-11-17T08:44:26.829Z"
   },
   {
    "duration": 315,
    "start_time": "2021-11-17T08:44:26.891Z"
   },
   {
    "duration": 66,
    "start_time": "2021-11-17T08:44:27.209Z"
   },
   {
    "duration": 279,
    "start_time": "2021-11-17T08:44:27.277Z"
   },
   {
    "duration": 22,
    "start_time": "2021-11-17T08:44:27.558Z"
   },
   {
    "duration": 177,
    "start_time": "2021-11-17T08:44:27.583Z"
   },
   {
    "duration": 47,
    "start_time": "2021-11-17T08:44:27.763Z"
   },
   {
    "duration": 7,
    "start_time": "2021-11-17T08:44:27.813Z"
   },
   {
    "duration": 47,
    "start_time": "2021-11-17T08:44:27.823Z"
   },
   {
    "duration": 23,
    "start_time": "2021-11-17T08:44:27.873Z"
   },
   {
    "duration": 25,
    "start_time": "2021-11-17T08:44:27.899Z"
   },
   {
    "duration": 62,
    "start_time": "2021-11-17T08:44:27.930Z"
   },
   {
    "duration": 22,
    "start_time": "2021-11-17T08:44:27.996Z"
   },
   {
    "duration": 52,
    "start_time": "2021-11-17T08:44:28.021Z"
   },
   {
    "duration": 12,
    "start_time": "2021-11-17T08:44:28.075Z"
   },
   {
    "duration": 26,
    "start_time": "2021-11-17T08:44:28.089Z"
   },
   {
    "duration": 101,
    "start_time": "2021-11-17T08:44:28.117Z"
   },
   {
    "duration": 7,
    "start_time": "2021-11-17T08:44:28.221Z"
   },
   {
    "duration": 46,
    "start_time": "2021-11-17T08:44:28.230Z"
   },
   {
    "duration": 13,
    "start_time": "2021-11-17T08:44:28.278Z"
   },
   {
    "duration": 1054,
    "start_time": "2021-11-17T08:44:28.293Z"
   },
   {
    "duration": 20,
    "start_time": "2021-11-17T08:44:29.349Z"
   },
   {
    "duration": 14,
    "start_time": "2021-11-17T08:44:29.371Z"
   },
   {
    "duration": 221,
    "start_time": "2021-11-17T08:44:29.388Z"
   },
   {
    "duration": 1349,
    "start_time": "2021-11-17T08:44:29.611Z"
   },
   {
    "duration": 14447,
    "start_time": "2021-11-17T08:44:30.963Z"
   },
   {
    "duration": 6,
    "start_time": "2021-11-17T08:44:45.413Z"
   },
   {
    "duration": 52,
    "start_time": "2021-11-17T08:44:45.422Z"
   },
   {
    "duration": 1774,
    "start_time": "2021-11-17T08:48:04.741Z"
   },
   {
    "duration": 202,
    "start_time": "2021-11-17T08:48:06.517Z"
   },
   {
    "duration": 7,
    "start_time": "2021-11-17T08:48:06.726Z"
   },
   {
    "duration": 71,
    "start_time": "2021-11-17T08:48:06.736Z"
   },
   {
    "duration": 8,
    "start_time": "2021-11-17T08:48:06.810Z"
   },
   {
    "duration": 45,
    "start_time": "2021-11-17T08:48:06.821Z"
   },
   {
    "duration": 338,
    "start_time": "2021-11-17T08:48:06.872Z"
   },
   {
    "duration": 278,
    "start_time": "2021-11-17T08:48:07.213Z"
   },
   {
    "duration": 666,
    "start_time": "2021-11-17T08:48:07.495Z"
   },
   {
    "duration": 135,
    "start_time": "2021-11-17T08:48:08.167Z"
   },
   {
    "duration": 67,
    "start_time": "2021-11-17T08:48:08.304Z"
   },
   {
    "duration": 38,
    "start_time": "2021-11-17T08:48:08.374Z"
   },
   {
    "duration": 324,
    "start_time": "2021-11-17T08:48:08.415Z"
   },
   {
    "duration": 53,
    "start_time": "2021-11-17T08:48:08.742Z"
   },
   {
    "duration": 401,
    "start_time": "2021-11-17T08:48:08.798Z"
   },
   {
    "duration": 18,
    "start_time": "2021-11-17T08:48:09.203Z"
   },
   {
    "duration": 198,
    "start_time": "2021-11-17T08:48:09.224Z"
   },
   {
    "duration": 61,
    "start_time": "2021-11-17T08:48:09.424Z"
   },
   {
    "duration": 7,
    "start_time": "2021-11-17T08:48:09.488Z"
   },
   {
    "duration": 20,
    "start_time": "2021-11-17T08:48:09.497Z"
   },
   {
    "duration": 17,
    "start_time": "2021-11-17T08:48:09.519Z"
   },
   {
    "duration": 47,
    "start_time": "2021-11-17T08:48:09.542Z"
   },
   {
    "duration": 41,
    "start_time": "2021-11-17T08:48:09.592Z"
   },
   {
    "duration": 47,
    "start_time": "2021-11-17T08:48:09.635Z"
   },
   {
    "duration": 21,
    "start_time": "2021-11-17T08:48:09.685Z"
   },
   {
    "duration": 13,
    "start_time": "2021-11-17T08:48:09.709Z"
   },
   {
    "duration": 62,
    "start_time": "2021-11-17T08:48:09.725Z"
   },
   {
    "duration": 101,
    "start_time": "2021-11-17T08:48:09.789Z"
   },
   {
    "duration": 8,
    "start_time": "2021-11-17T08:48:09.892Z"
   },
   {
    "duration": 19,
    "start_time": "2021-11-17T08:48:09.902Z"
   },
   {
    "duration": 15,
    "start_time": "2021-11-17T08:48:09.924Z"
   },
   {
    "duration": 1067,
    "start_time": "2021-11-17T08:48:09.966Z"
   },
   {
    "duration": 8,
    "start_time": "2021-11-17T08:48:11.036Z"
   },
   {
    "duration": 26,
    "start_time": "2021-11-17T08:48:11.046Z"
   },
   {
    "duration": 212,
    "start_time": "2021-11-17T08:48:11.075Z"
   },
   {
    "duration": 1416,
    "start_time": "2021-11-17T08:48:11.290Z"
   },
   {
    "duration": 14889,
    "start_time": "2021-11-17T08:48:12.708Z"
   },
   {
    "duration": 6,
    "start_time": "2021-11-17T08:48:27.600Z"
   },
   {
    "duration": 20,
    "start_time": "2021-11-17T08:48:27.609Z"
   },
   {
    "duration": 22909,
    "start_time": "2021-11-17T08:49:38.354Z"
   },
   {
    "duration": 9,
    "start_time": "2021-11-17T08:50:35.259Z"
   },
   {
    "duration": 13,
    "start_time": "2021-11-17T08:50:36.142Z"
   },
   {
    "duration": 2043,
    "start_time": "2021-11-17T08:50:56.007Z"
   },
   {
    "duration": 1321,
    "start_time": "2021-11-17T08:51:11.784Z"
   },
   {
    "duration": 1220,
    "start_time": "2021-11-17T08:51:22.717Z"
   },
   {
    "duration": 313,
    "start_time": "2021-11-17T08:52:03.596Z"
   },
   {
    "duration": 9,
    "start_time": "2021-11-17T09:06:06.042Z"
   },
   {
    "duration": 354,
    "start_time": "2021-11-17T09:13:08.213Z"
   },
   {
    "duration": 1200,
    "start_time": "2021-11-17T09:14:49.972Z"
   },
   {
    "duration": 15808,
    "start_time": "2021-11-17T09:15:28.724Z"
   },
   {
    "duration": 15968,
    "start_time": "2021-11-17T09:16:05.721Z"
   },
   {
    "duration": 141043,
    "start_time": "2021-11-17T09:20:36.531Z"
   },
   {
    "duration": 86136,
    "start_time": "2021-11-17T09:26:10.232Z"
   },
   {
    "duration": 172,
    "start_time": "2021-11-17T09:27:36.371Z"
   },
   {
    "duration": 91440,
    "start_time": "2021-11-17T09:28:59.856Z"
   },
   {
    "duration": 2198,
    "start_time": "2021-11-17T09:36:00.742Z"
   },
   {
    "duration": 231,
    "start_time": "2021-11-17T09:36:02.944Z"
   },
   {
    "duration": 9,
    "start_time": "2021-11-17T09:36:03.179Z"
   },
   {
    "duration": 101,
    "start_time": "2021-11-17T09:36:03.192Z"
   },
   {
    "duration": 10,
    "start_time": "2021-11-17T09:36:03.296Z"
   },
   {
    "duration": 23,
    "start_time": "2021-11-17T09:36:03.309Z"
   },
   {
    "duration": 346,
    "start_time": "2021-11-17T09:36:03.335Z"
   },
   {
    "duration": 418,
    "start_time": "2021-11-17T09:36:03.685Z"
   },
   {
    "duration": 884,
    "start_time": "2021-11-17T09:36:04.108Z"
   },
   {
    "duration": 177,
    "start_time": "2021-11-17T09:36:04.996Z"
   },
   {
    "duration": 92,
    "start_time": "2021-11-17T09:36:05.176Z"
   },
   {
    "duration": 42,
    "start_time": "2021-11-17T09:36:05.272Z"
   },
   {
    "duration": 482,
    "start_time": "2021-11-17T09:36:05.317Z"
   },
   {
    "duration": 71,
    "start_time": "2021-11-17T09:36:05.802Z"
   },
   {
    "duration": 426,
    "start_time": "2021-11-17T09:36:05.877Z"
   },
   {
    "duration": 38,
    "start_time": "2021-11-17T09:36:06.306Z"
   },
   {
    "duration": 237,
    "start_time": "2021-11-17T09:36:06.347Z"
   },
   {
    "duration": 55,
    "start_time": "2021-11-17T09:36:06.587Z"
   },
   {
    "duration": 27,
    "start_time": "2021-11-17T09:36:06.645Z"
   },
   {
    "duration": 20,
    "start_time": "2021-11-17T09:36:06.674Z"
   },
   {
    "duration": 18,
    "start_time": "2021-11-17T09:36:06.697Z"
   },
   {
    "duration": 51,
    "start_time": "2021-11-17T09:36:06.718Z"
   },
   {
    "duration": 41,
    "start_time": "2021-11-17T09:36:06.776Z"
   },
   {
    "duration": 55,
    "start_time": "2021-11-17T09:36:06.820Z"
   },
   {
    "duration": 21,
    "start_time": "2021-11-17T09:36:06.878Z"
   },
   {
    "duration": 17,
    "start_time": "2021-11-17T09:36:06.902Z"
   },
   {
    "duration": 60,
    "start_time": "2021-11-17T09:36:06.921Z"
   },
   {
    "duration": 105,
    "start_time": "2021-11-17T09:36:06.984Z"
   },
   {
    "duration": 9,
    "start_time": "2021-11-17T09:36:07.092Z"
   },
   {
    "duration": 19,
    "start_time": "2021-11-17T09:36:07.105Z"
   },
   {
    "duration": 42,
    "start_time": "2021-11-17T09:36:07.127Z"
   },
   {
    "duration": 1238,
    "start_time": "2021-11-17T09:36:07.172Z"
   },
   {
    "duration": 9,
    "start_time": "2021-11-17T09:36:08.414Z"
   },
   {
    "duration": 42,
    "start_time": "2021-11-17T09:36:08.426Z"
   },
   {
    "duration": 98,
    "start_time": "2021-11-17T09:36:08.471Z"
   },
   {
    "duration": 645,
    "start_time": "2021-11-17T09:36:07.927Z"
   },
   {
    "duration": 641,
    "start_time": "2021-11-17T09:36:07.933Z"
   },
   {
    "duration": 642,
    "start_time": "2021-11-17T09:36:07.935Z"
   },
   {
    "duration": 642,
    "start_time": "2021-11-17T09:36:07.937Z"
   },
   {
    "duration": 643,
    "start_time": "2021-11-17T09:36:07.938Z"
   },
   {
    "duration": 643,
    "start_time": "2021-11-17T09:36:07.940Z"
   },
   {
    "duration": 92778,
    "start_time": "2021-11-17T09:37:50.837Z"
   },
   {
    "duration": 1224,
    "start_time": "2021-11-17T09:39:23.618Z"
   },
   {
    "duration": 25497,
    "start_time": "2021-11-17T09:39:24.845Z"
   },
   {
    "duration": 6,
    "start_time": "2021-11-17T09:39:50.345Z"
   },
   {
    "duration": 17,
    "start_time": "2021-11-17T09:39:50.354Z"
   },
   {
    "duration": 314,
    "start_time": "2021-11-17T09:39:50.374Z"
   },
   {
    "duration": 287,
    "start_time": "2021-11-17T09:42:17.377Z"
   },
   {
    "duration": 89,
    "start_time": "2021-11-17T09:46:58.930Z"
   },
   {
    "duration": 1574,
    "start_time": "2021-11-17T09:51:56.481Z"
   },
   {
    "duration": 209,
    "start_time": "2021-11-17T09:51:58.058Z"
   },
   {
    "duration": 7,
    "start_time": "2021-11-17T09:51:58.271Z"
   },
   {
    "duration": 86,
    "start_time": "2021-11-17T09:51:58.281Z"
   },
   {
    "duration": 9,
    "start_time": "2021-11-17T09:51:58.370Z"
   },
   {
    "duration": 17,
    "start_time": "2021-11-17T09:51:58.381Z"
   },
   {
    "duration": 318,
    "start_time": "2021-11-17T09:51:58.402Z"
   },
   {
    "duration": 287,
    "start_time": "2021-11-17T09:51:58.723Z"
   },
   {
    "duration": 660,
    "start_time": "2021-11-17T09:51:59.014Z"
   },
   {
    "duration": 144,
    "start_time": "2021-11-17T09:51:59.678Z"
   },
   {
    "duration": 66,
    "start_time": "2021-11-17T09:51:59.825Z"
   },
   {
    "duration": 75,
    "start_time": "2021-11-17T09:51:59.894Z"
   },
   {
    "duration": 358,
    "start_time": "2021-11-17T09:51:59.972Z"
   },
   {
    "duration": 60,
    "start_time": "2021-11-17T09:52:00.333Z"
   },
   {
    "duration": 300,
    "start_time": "2021-11-17T09:52:00.395Z"
   },
   {
    "duration": 18,
    "start_time": "2021-11-17T09:52:00.697Z"
   },
   {
    "duration": 190,
    "start_time": "2021-11-17T09:52:00.718Z"
   },
   {
    "duration": 66,
    "start_time": "2021-11-17T09:52:00.911Z"
   },
   {
    "duration": 100,
    "start_time": "2021-11-17T09:52:00.979Z"
   },
   {
    "duration": 645,
    "start_time": "2021-11-17T09:52:00.437Z"
   },
   {
    "duration": 644,
    "start_time": "2021-11-17T09:52:00.439Z"
   },
   {
    "duration": 640,
    "start_time": "2021-11-17T09:52:00.445Z"
   },
   {
    "duration": 639,
    "start_time": "2021-11-17T09:52:00.447Z"
   },
   {
    "duration": 636,
    "start_time": "2021-11-17T09:52:00.451Z"
   },
   {
    "duration": 635,
    "start_time": "2021-11-17T09:52:00.453Z"
   },
   {
    "duration": 635,
    "start_time": "2021-11-17T09:52:00.455Z"
   },
   {
    "duration": 635,
    "start_time": "2021-11-17T09:52:00.456Z"
   },
   {
    "duration": 634,
    "start_time": "2021-11-17T09:52:00.459Z"
   },
   {
    "duration": 633,
    "start_time": "2021-11-17T09:52:00.461Z"
   },
   {
    "duration": 634,
    "start_time": "2021-11-17T09:52:00.462Z"
   },
   {
    "duration": 630,
    "start_time": "2021-11-17T09:52:00.467Z"
   },
   {
    "duration": 630,
    "start_time": "2021-11-17T09:52:00.469Z"
   },
   {
    "duration": 630,
    "start_time": "2021-11-17T09:52:00.470Z"
   },
   {
    "duration": 630,
    "start_time": "2021-11-17T09:52:00.472Z"
   },
   {
    "duration": 624,
    "start_time": "2021-11-17T09:52:00.479Z"
   },
   {
    "duration": 623,
    "start_time": "2021-11-17T09:52:00.482Z"
   },
   {
    "duration": 622,
    "start_time": "2021-11-17T09:52:00.484Z"
   },
   {
    "duration": 608,
    "start_time": "2021-11-17T09:52:00.499Z"
   },
   {
    "duration": 604,
    "start_time": "2021-11-17T09:52:00.505Z"
   },
   {
    "duration": 602,
    "start_time": "2021-11-17T09:52:00.508Z"
   },
   {
    "duration": 603,
    "start_time": "2021-11-17T09:52:00.509Z"
   },
   {
    "duration": 1558,
    "start_time": "2021-11-17T10:01:00.416Z"
   },
   {
    "duration": 214,
    "start_time": "2021-11-17T10:01:01.977Z"
   },
   {
    "duration": 6,
    "start_time": "2021-11-17T10:01:02.194Z"
   },
   {
    "duration": 68,
    "start_time": "2021-11-17T10:01:02.202Z"
   },
   {
    "duration": 8,
    "start_time": "2021-11-17T10:01:02.272Z"
   },
   {
    "duration": 17,
    "start_time": "2021-11-17T10:01:02.283Z"
   },
   {
    "duration": 318,
    "start_time": "2021-11-17T10:01:02.302Z"
   },
   {
    "duration": 290,
    "start_time": "2021-11-17T10:01:02.623Z"
   },
   {
    "duration": 675,
    "start_time": "2021-11-17T10:01:02.916Z"
   },
   {
    "duration": 134,
    "start_time": "2021-11-17T10:01:03.593Z"
   },
   {
    "duration": 63,
    "start_time": "2021-11-17T10:01:03.729Z"
   },
   {
    "duration": 36,
    "start_time": "2021-11-17T10:01:03.795Z"
   },
   {
    "duration": 333,
    "start_time": "2021-11-17T10:01:03.834Z"
   },
   {
    "duration": 38,
    "start_time": "2021-11-17T10:01:04.170Z"
   },
   {
    "duration": 326,
    "start_time": "2021-11-17T10:01:04.211Z"
   },
   {
    "duration": 31,
    "start_time": "2021-11-17T10:01:04.539Z"
   },
   {
    "duration": 177,
    "start_time": "2021-11-17T10:01:04.572Z"
   },
   {
    "duration": 53,
    "start_time": "2021-11-17T10:01:04.752Z"
   },
   {
    "duration": 6,
    "start_time": "2021-11-17T10:01:04.808Z"
   },
   {
    "duration": 17,
    "start_time": "2021-11-17T10:01:04.817Z"
   },
   {
    "duration": 46,
    "start_time": "2021-11-17T10:01:04.837Z"
   },
   {
    "duration": 28,
    "start_time": "2021-11-17T10:01:04.885Z"
   },
   {
    "duration": 63,
    "start_time": "2021-11-17T10:01:04.919Z"
   },
   {
    "duration": 22,
    "start_time": "2021-11-17T10:01:04.985Z"
   },
   {
    "duration": 20,
    "start_time": "2021-11-17T10:01:05.009Z"
   },
   {
    "duration": 45,
    "start_time": "2021-11-17T10:01:05.032Z"
   },
   {
    "duration": 26,
    "start_time": "2021-11-17T10:01:05.080Z"
   },
   {
    "duration": 107,
    "start_time": "2021-11-17T10:01:05.108Z"
   },
   {
    "duration": 7,
    "start_time": "2021-11-17T10:01:05.217Z"
   },
   {
    "duration": 42,
    "start_time": "2021-11-17T10:01:05.226Z"
   },
   {
    "duration": 9,
    "start_time": "2021-11-17T10:01:05.271Z"
   },
   {
    "duration": 1429,
    "start_time": "2021-11-17T10:01:05.283Z"
   },
   {
    "duration": 10,
    "start_time": "2021-11-17T10:01:06.715Z"
   },
   {
    "duration": 22,
    "start_time": "2021-11-17T10:01:06.728Z"
   },
   {
    "duration": 95811,
    "start_time": "2021-11-17T10:01:06.769Z"
   },
   {
    "duration": 1227,
    "start_time": "2021-11-17T10:02:42.583Z"
   },
   {
    "duration": 21911,
    "start_time": "2021-11-17T10:02:43.812Z"
   },
   {
    "duration": 6,
    "start_time": "2021-11-17T10:03:05.726Z"
   },
   {
    "duration": 17,
    "start_time": "2021-11-17T10:03:05.736Z"
   },
   {
    "duration": 315,
    "start_time": "2021-11-17T10:03:05.756Z"
   },
   {
    "duration": 92,
    "start_time": "2021-11-17T10:03:15.836Z"
   },
   {
    "duration": 454,
    "start_time": "2021-11-17T10:09:02.877Z"
   },
   {
    "duration": 285,
    "start_time": "2021-11-17T10:09:35.718Z"
   },
   {
    "duration": 24,
    "start_time": "2021-11-17T10:09:59.369Z"
   },
   {
    "duration": 25,
    "start_time": "2021-11-17T10:10:08.753Z"
   },
   {
    "duration": 13,
    "start_time": "2021-11-17T12:34:01.000Z"
   },
   {
    "duration": 6571,
    "start_time": "2021-11-17T12:39:01.188Z"
   },
   {
    "duration": 6,
    "start_time": "2021-11-17T12:39:17.367Z"
   },
   {
    "duration": 306,
    "start_time": "2021-11-17T12:40:09.178Z"
   },
   {
    "duration": 319,
    "start_time": "2021-11-17T12:40:27.926Z"
   },
   {
    "duration": 277,
    "start_time": "2021-11-17T12:41:43.628Z"
   },
   {
    "duration": 286,
    "start_time": "2021-11-17T12:42:24.716Z"
   },
   {
    "duration": 3998,
    "start_time": "2021-11-17T12:42:32.195Z"
   },
   {
    "duration": 5,
    "start_time": "2021-11-17T12:42:53.171Z"
   },
   {
    "duration": 14,
    "start_time": "2021-11-17T12:43:21.388Z"
   },
   {
    "duration": 13,
    "start_time": "2021-11-17T12:44:15.603Z"
   },
   {
    "duration": 35,
    "start_time": "2021-11-17T12:44:23.484Z"
   },
   {
    "duration": 324,
    "start_time": "2021-11-17T12:46:03.460Z"
   },
   {
    "duration": 34,
    "start_time": "2021-11-17T12:46:37.429Z"
   },
   {
    "duration": 8,
    "start_time": "2021-11-17T12:47:17.421Z"
   },
   {
    "duration": 36,
    "start_time": "2021-11-17T12:47:18.452Z"
   },
   {
    "duration": 346,
    "start_time": "2021-11-17T12:56:47.646Z"
   },
   {
    "duration": 24,
    "start_time": "2021-11-17T12:56:58.465Z"
   },
   {
    "duration": 1657,
    "start_time": "2021-11-17T12:57:21.212Z"
   },
   {
    "duration": 227,
    "start_time": "2021-11-17T12:57:22.872Z"
   },
   {
    "duration": 5,
    "start_time": "2021-11-17T12:57:23.102Z"
   },
   {
    "duration": 61,
    "start_time": "2021-11-17T12:57:23.110Z"
   },
   {
    "duration": 8,
    "start_time": "2021-11-17T12:57:23.173Z"
   },
   {
    "duration": 16,
    "start_time": "2021-11-17T12:57:23.183Z"
   },
   {
    "duration": 303,
    "start_time": "2021-11-17T12:57:23.201Z"
   },
   {
    "duration": 295,
    "start_time": "2021-11-17T12:57:23.508Z"
   },
   {
    "duration": 637,
    "start_time": "2021-11-17T12:57:23.806Z"
   },
   {
    "duration": 133,
    "start_time": "2021-11-17T12:57:24.446Z"
   },
   {
    "duration": 52,
    "start_time": "2021-11-17T12:57:24.581Z"
   },
   {
    "duration": 63,
    "start_time": "2021-11-17T12:57:24.635Z"
   },
   {
    "duration": 301,
    "start_time": "2021-11-17T12:57:24.701Z"
   },
   {
    "duration": 67,
    "start_time": "2021-11-17T12:57:25.005Z"
   },
   {
    "duration": 280,
    "start_time": "2021-11-17T12:57:25.076Z"
   },
   {
    "duration": 10,
    "start_time": "2021-11-17T12:57:25.359Z"
   },
   {
    "duration": 39,
    "start_time": "2021-11-17T12:57:25.371Z"
   },
   {
    "duration": 17,
    "start_time": "2021-11-17T12:57:25.412Z"
   },
   {
    "duration": 182,
    "start_time": "2021-11-17T12:57:25.432Z"
   },
   {
    "duration": 67,
    "start_time": "2021-11-17T12:57:25.617Z"
   },
   {
    "duration": 6,
    "start_time": "2021-11-17T12:57:25.687Z"
   },
   {
    "duration": 13,
    "start_time": "2021-11-17T12:57:25.695Z"
   },
   {
    "duration": 22,
    "start_time": "2021-11-17T12:57:25.714Z"
   },
   {
    "duration": 22,
    "start_time": "2021-11-17T12:57:25.766Z"
   },
   {
    "duration": 33,
    "start_time": "2021-11-17T12:57:25.790Z"
   },
   {
    "duration": 56,
    "start_time": "2021-11-17T12:57:25.825Z"
   },
   {
    "duration": 20,
    "start_time": "2021-11-17T12:57:25.884Z"
   },
   {
    "duration": 12,
    "start_time": "2021-11-17T12:57:25.907Z"
   },
   {
    "duration": 56,
    "start_time": "2021-11-17T12:57:25.921Z"
   },
   {
    "duration": 94,
    "start_time": "2021-11-17T12:57:25.979Z"
   },
   {
    "duration": 7,
    "start_time": "2021-11-17T12:57:26.076Z"
   },
   {
    "duration": 29,
    "start_time": "2021-11-17T12:57:26.085Z"
   },
   {
    "duration": 12,
    "start_time": "2021-11-17T12:57:26.117Z"
   },
   {
    "duration": 1092,
    "start_time": "2021-11-17T12:57:26.132Z"
   },
   {
    "duration": 9,
    "start_time": "2021-11-17T12:57:27.227Z"
   },
   {
    "duration": 34,
    "start_time": "2021-11-17T12:57:27.238Z"
   },
   {
    "duration": 93762,
    "start_time": "2021-11-17T12:57:27.275Z"
   },
   {
    "duration": 1315,
    "start_time": "2021-11-17T12:59:01.040Z"
   },
   {
    "duration": 23388,
    "start_time": "2021-11-17T12:59:02.358Z"
   },
   {
    "duration": 8,
    "start_time": "2021-11-17T12:59:25.748Z"
   },
   {
    "duration": 19,
    "start_time": "2021-11-17T12:59:25.759Z"
   },
   {
    "duration": 301,
    "start_time": "2021-11-17T12:59:25.780Z"
   },
   {
    "duration": 1570,
    "start_time": "2021-11-17T13:00:16.697Z"
   },
   {
    "duration": 215,
    "start_time": "2021-11-17T13:00:18.269Z"
   },
   {
    "duration": 7,
    "start_time": "2021-11-17T13:00:18.488Z"
   },
   {
    "duration": 80,
    "start_time": "2021-11-17T13:00:18.497Z"
   },
   {
    "duration": 11,
    "start_time": "2021-11-17T13:00:18.580Z"
   },
   {
    "duration": 23,
    "start_time": "2021-11-17T13:00:18.595Z"
   },
   {
    "duration": 316,
    "start_time": "2021-11-17T13:00:18.621Z"
   },
   {
    "duration": 275,
    "start_time": "2021-11-17T13:00:18.941Z"
   },
   {
    "duration": 625,
    "start_time": "2021-11-17T13:00:19.219Z"
   },
   {
    "duration": 135,
    "start_time": "2021-11-17T13:00:19.846Z"
   },
   {
    "duration": 61,
    "start_time": "2021-11-17T13:00:19.983Z"
   },
   {
    "duration": 38,
    "start_time": "2021-11-17T13:00:20.068Z"
   },
   {
    "duration": 417,
    "start_time": "2021-11-17T13:00:20.109Z"
   },
   {
    "duration": 57,
    "start_time": "2021-11-17T13:00:20.529Z"
   },
   {
    "duration": 292,
    "start_time": "2021-11-17T13:00:20.588Z"
   },
   {
    "duration": 6,
    "start_time": "2021-11-17T13:00:20.882Z"
   },
   {
    "duration": 41,
    "start_time": "2021-11-17T13:00:20.891Z"
   },
   {
    "duration": 38,
    "start_time": "2021-11-17T13:00:20.935Z"
   },
   {
    "duration": 173,
    "start_time": "2021-11-17T13:00:20.976Z"
   },
   {
    "duration": 57,
    "start_time": "2021-11-17T13:00:21.152Z"
   },
   {
    "duration": 7,
    "start_time": "2021-11-17T13:00:21.211Z"
   },
   {
    "duration": 16,
    "start_time": "2021-11-17T13:00:21.220Z"
   },
   {
    "duration": 17,
    "start_time": "2021-11-17T13:00:21.269Z"
   },
   {
    "duration": 28,
    "start_time": "2021-11-17T13:00:21.289Z"
   },
   {
    "duration": 54,
    "start_time": "2021-11-17T13:00:21.319Z"
   },
   {
    "duration": 22,
    "start_time": "2021-11-17T13:00:21.376Z"
   },
   {
    "duration": 23,
    "start_time": "2021-11-17T13:00:21.401Z"
   },
   {
    "duration": 46,
    "start_time": "2021-11-17T13:00:21.427Z"
   },
   {
    "duration": 27,
    "start_time": "2021-11-17T13:00:21.476Z"
   },
   {
    "duration": 108,
    "start_time": "2021-11-17T13:00:21.505Z"
   },
   {
    "duration": 7,
    "start_time": "2021-11-17T13:00:21.615Z"
   },
   {
    "duration": 22,
    "start_time": "2021-11-17T13:00:21.624Z"
   },
   {
    "duration": 11,
    "start_time": "2021-11-17T13:00:21.668Z"
   },
   {
    "duration": 1187,
    "start_time": "2021-11-17T13:00:21.681Z"
   },
   {
    "duration": 10,
    "start_time": "2021-11-17T13:00:22.871Z"
   },
   {
    "duration": 12,
    "start_time": "2021-11-17T13:00:22.884Z"
   },
   {
    "duration": 93571,
    "start_time": "2021-11-17T13:00:22.899Z"
   },
   {
    "duration": 1222,
    "start_time": "2021-11-17T13:01:56.472Z"
   },
   {
    "duration": 21875,
    "start_time": "2021-11-17T13:01:57.696Z"
   },
   {
    "duration": 7,
    "start_time": "2021-11-17T13:02:19.574Z"
   },
   {
    "duration": 15,
    "start_time": "2021-11-17T13:02:19.583Z"
   },
   {
    "duration": 329,
    "start_time": "2021-11-17T13:02:19.601Z"
   },
   {
    "duration": 1570,
    "start_time": "2021-11-17T13:06:19.185Z"
   },
   {
    "duration": 188,
    "start_time": "2021-11-17T13:06:20.758Z"
   },
   {
    "duration": 5,
    "start_time": "2021-11-17T13:06:20.949Z"
   },
   {
    "duration": 70,
    "start_time": "2021-11-17T13:06:20.957Z"
   },
   {
    "duration": 9,
    "start_time": "2021-11-17T13:06:21.030Z"
   },
   {
    "duration": 34,
    "start_time": "2021-11-17T13:06:21.042Z"
   },
   {
    "duration": 307,
    "start_time": "2021-11-17T13:06:21.078Z"
   },
   {
    "duration": 301,
    "start_time": "2021-11-17T13:06:21.389Z"
   },
   {
    "duration": 643,
    "start_time": "2021-11-17T13:06:21.693Z"
   },
   {
    "duration": 138,
    "start_time": "2021-11-17T13:06:22.339Z"
   },
   {
    "duration": 53,
    "start_time": "2021-11-17T13:06:22.480Z"
   },
   {
    "duration": 67,
    "start_time": "2021-11-17T13:06:22.536Z"
   },
   {
    "duration": 322,
    "start_time": "2021-11-17T13:06:22.606Z"
   },
   {
    "duration": 59,
    "start_time": "2021-11-17T13:06:22.931Z"
   },
   {
    "duration": 293,
    "start_time": "2021-11-17T13:06:22.992Z"
   },
   {
    "duration": 5,
    "start_time": "2021-11-17T13:06:23.288Z"
   },
   {
    "duration": 39,
    "start_time": "2021-11-17T13:06:23.296Z"
   },
   {
    "duration": 42,
    "start_time": "2021-11-17T13:06:23.338Z"
   },
   {
    "duration": 175,
    "start_time": "2021-11-17T13:06:23.383Z"
   },
   {
    "duration": 47,
    "start_time": "2021-11-17T13:06:23.566Z"
   },
   {
    "duration": 7,
    "start_time": "2021-11-17T13:06:23.615Z"
   },
   {
    "duration": 48,
    "start_time": "2021-11-17T13:06:23.624Z"
   },
   {
    "duration": 18,
    "start_time": "2021-11-17T13:06:23.677Z"
   },
   {
    "duration": 26,
    "start_time": "2021-11-17T13:06:23.698Z"
   },
   {
    "duration": 61,
    "start_time": "2021-11-17T13:06:23.727Z"
   },
   {
    "duration": 22,
    "start_time": "2021-11-17T13:06:23.790Z"
   },
   {
    "duration": 52,
    "start_time": "2021-11-17T13:06:23.815Z"
   },
   {
    "duration": 11,
    "start_time": "2021-11-17T13:06:23.870Z"
   },
   {
    "duration": 25,
    "start_time": "2021-11-17T13:06:23.884Z"
   },
   {
    "duration": 110,
    "start_time": "2021-11-17T13:06:23.911Z"
   },
   {
    "duration": 7,
    "start_time": "2021-11-17T13:06:24.024Z"
   },
   {
    "duration": 45,
    "start_time": "2021-11-17T13:06:24.034Z"
   },
   {
    "duration": 28,
    "start_time": "2021-11-17T13:06:24.081Z"
   },
   {
    "duration": 1105,
    "start_time": "2021-11-17T13:06:24.112Z"
   },
   {
    "duration": 8,
    "start_time": "2021-11-17T13:06:25.220Z"
   },
   {
    "duration": 21,
    "start_time": "2021-11-17T13:06:25.231Z"
   },
   {
    "duration": 92278,
    "start_time": "2021-11-17T13:06:25.268Z"
   },
   {
    "duration": 1941,
    "start_time": "2021-11-17T13:07:57.548Z"
   },
   {
    "duration": 22171,
    "start_time": "2021-11-17T13:07:59.491Z"
   },
   {
    "duration": 6,
    "start_time": "2021-11-17T13:08:21.664Z"
   },
   {
    "duration": 16,
    "start_time": "2021-11-17T13:08:21.672Z"
   },
   {
    "duration": 307,
    "start_time": "2021-11-17T13:08:21.690Z"
   },
   {
    "duration": 20777,
    "start_time": "2021-11-17T13:08:52.444Z"
   },
   {
    "duration": 1675,
    "start_time": "2021-11-17T13:10:18.284Z"
   },
   {
    "duration": 193,
    "start_time": "2021-11-17T13:10:19.961Z"
   },
   {
    "duration": 6,
    "start_time": "2021-11-17T13:10:20.157Z"
   },
   {
    "duration": 74,
    "start_time": "2021-11-17T13:10:20.166Z"
   },
   {
    "duration": 8,
    "start_time": "2021-11-17T13:10:20.243Z"
   },
   {
    "duration": 13,
    "start_time": "2021-11-17T13:10:20.268Z"
   },
   {
    "duration": 296,
    "start_time": "2021-11-17T13:10:20.283Z"
   },
   {
    "duration": 302,
    "start_time": "2021-11-17T13:10:20.584Z"
   },
   {
    "duration": 646,
    "start_time": "2021-11-17T13:10:20.891Z"
   },
   {
    "duration": 138,
    "start_time": "2021-11-17T13:10:21.539Z"
   },
   {
    "duration": 54,
    "start_time": "2021-11-17T13:10:21.679Z"
   },
   {
    "duration": 69,
    "start_time": "2021-11-17T13:10:21.735Z"
   },
   {
    "duration": 307,
    "start_time": "2021-11-17T13:10:21.807Z"
   },
   {
    "duration": 63,
    "start_time": "2021-11-17T13:10:22.116Z"
   },
   {
    "duration": 281,
    "start_time": "2021-11-17T13:10:22.181Z"
   },
   {
    "duration": 7,
    "start_time": "2021-11-17T13:10:22.468Z"
   },
   {
    "duration": 44,
    "start_time": "2021-11-17T13:10:22.477Z"
   },
   {
    "duration": 18,
    "start_time": "2021-11-17T13:10:22.524Z"
   },
   {
    "duration": 168,
    "start_time": "2021-11-17T13:10:22.567Z"
   },
   {
    "duration": 62,
    "start_time": "2021-11-17T13:10:22.737Z"
   },
   {
    "duration": 8,
    "start_time": "2021-11-17T13:10:22.802Z"
   },
   {
    "duration": 13,
    "start_time": "2021-11-17T13:10:22.813Z"
   },
   {
    "duration": 21,
    "start_time": "2021-11-17T13:10:22.870Z"
   },
   {
    "duration": 24,
    "start_time": "2021-11-17T13:10:22.894Z"
   },
   {
    "duration": 75,
    "start_time": "2021-11-17T13:10:22.921Z"
   },
   {
    "duration": 24,
    "start_time": "2021-11-17T13:10:22.999Z"
   },
   {
    "duration": 53,
    "start_time": "2021-11-17T13:10:23.026Z"
   },
   {
    "duration": 22,
    "start_time": "2021-11-17T13:10:23.082Z"
   },
   {
    "duration": 26,
    "start_time": "2021-11-17T13:10:23.107Z"
   },
   {
    "duration": 103,
    "start_time": "2021-11-17T13:10:23.136Z"
   },
   {
    "duration": 27,
    "start_time": "2021-11-17T13:10:23.242Z"
   },
   {
    "duration": 23,
    "start_time": "2021-11-17T13:10:23.272Z"
   },
   {
    "duration": 12,
    "start_time": "2021-11-17T13:10:23.298Z"
   },
   {
    "duration": 1211,
    "start_time": "2021-11-17T13:10:23.313Z"
   },
   {
    "duration": 9,
    "start_time": "2021-11-17T13:10:24.526Z"
   },
   {
    "duration": 31,
    "start_time": "2021-11-17T13:10:24.537Z"
   },
   {
    "duration": 20468,
    "start_time": "2021-11-17T13:10:24.572Z"
   },
   {
    "duration": 1966,
    "start_time": "2021-11-17T13:10:45.043Z"
   },
   {
    "duration": 22857,
    "start_time": "2021-11-17T13:10:47.011Z"
   },
   {
    "duration": 6,
    "start_time": "2021-11-17T13:11:09.870Z"
   },
   {
    "duration": 21,
    "start_time": "2021-11-17T13:11:09.879Z"
   },
   {
    "duration": 415,
    "start_time": "2021-11-17T13:11:09.902Z"
   },
   {
    "duration": 604,
    "start_time": "2021-11-17T13:21:31.236Z"
   },
   {
    "duration": 300,
    "start_time": "2021-11-17T13:22:27.796Z"
   },
   {
    "duration": 1603,
    "start_time": "2021-11-17T13:23:42.237Z"
   },
   {
    "duration": 182,
    "start_time": "2021-11-17T13:23:43.843Z"
   },
   {
    "duration": 5,
    "start_time": "2021-11-17T13:23:44.028Z"
   },
   {
    "duration": 59,
    "start_time": "2021-11-17T13:23:44.035Z"
   },
   {
    "duration": 8,
    "start_time": "2021-11-17T13:23:44.097Z"
   },
   {
    "duration": 15,
    "start_time": "2021-11-17T13:23:44.107Z"
   },
   {
    "duration": 299,
    "start_time": "2021-11-17T13:23:44.125Z"
   },
   {
    "duration": 278,
    "start_time": "2021-11-17T13:23:44.428Z"
   },
   {
    "duration": 627,
    "start_time": "2021-11-17T13:23:44.709Z"
   },
   {
    "duration": 138,
    "start_time": "2021-11-17T13:23:45.339Z"
   },
   {
    "duration": 51,
    "start_time": "2021-11-17T13:23:45.479Z"
   },
   {
    "duration": 71,
    "start_time": "2021-11-17T13:23:45.533Z"
   },
   {
    "duration": 318,
    "start_time": "2021-11-17T13:23:45.606Z"
   },
   {
    "duration": 62,
    "start_time": "2021-11-17T13:23:45.927Z"
   },
   {
    "duration": 284,
    "start_time": "2021-11-17T13:23:45.991Z"
   },
   {
    "duration": 6,
    "start_time": "2021-11-17T13:23:46.277Z"
   },
   {
    "duration": 41,
    "start_time": "2021-11-17T13:23:46.286Z"
   },
   {
    "duration": 42,
    "start_time": "2021-11-17T13:23:46.329Z"
   },
   {
    "duration": 180,
    "start_time": "2021-11-17T13:23:46.373Z"
   },
   {
    "duration": 55,
    "start_time": "2021-11-17T13:23:46.555Z"
   },
   {
    "duration": 7,
    "start_time": "2021-11-17T13:23:46.612Z"
   },
   {
    "duration": 46,
    "start_time": "2021-11-17T13:23:46.621Z"
   },
   {
    "duration": 18,
    "start_time": "2021-11-17T13:23:46.672Z"
   },
   {
    "duration": 23,
    "start_time": "2021-11-17T13:23:46.693Z"
   },
   {
    "duration": 63,
    "start_time": "2021-11-17T13:23:46.719Z"
   },
   {
    "duration": 21,
    "start_time": "2021-11-17T13:23:46.785Z"
   },
   {
    "duration": 20,
    "start_time": "2021-11-17T13:23:46.809Z"
   },
   {
    "duration": 42,
    "start_time": "2021-11-17T13:23:46.831Z"
   },
   {
    "duration": 20,
    "start_time": "2021-11-17T13:23:46.876Z"
   },
   {
    "duration": 107,
    "start_time": "2021-11-17T13:23:46.899Z"
   },
   {
    "duration": 7,
    "start_time": "2021-11-17T13:23:47.008Z"
   },
   {
    "duration": 21,
    "start_time": "2021-11-17T13:23:47.018Z"
   },
   {
    "duration": 28,
    "start_time": "2021-11-17T13:23:47.041Z"
   },
   {
    "duration": 1067,
    "start_time": "2021-11-17T13:23:47.071Z"
   },
   {
    "duration": 8,
    "start_time": "2021-11-17T13:23:48.140Z"
   },
   {
    "duration": 32,
    "start_time": "2021-11-17T13:23:48.150Z"
   },
   {
    "duration": 20857,
    "start_time": "2021-11-17T13:23:48.184Z"
   },
   {
    "duration": 2170,
    "start_time": "2021-11-17T13:24:09.044Z"
   },
   {
    "duration": 24554,
    "start_time": "2021-11-17T13:24:11.216Z"
   },
   {
    "duration": 6,
    "start_time": "2021-11-17T13:24:35.772Z"
   },
   {
    "duration": 17,
    "start_time": "2021-11-17T13:24:35.781Z"
   },
   {
    "duration": 318,
    "start_time": "2021-11-17T13:24:35.800Z"
   },
   {
    "duration": 1763,
    "start_time": "2021-11-17T13:28:16.497Z"
   },
   {
    "duration": 185,
    "start_time": "2021-11-17T13:28:18.263Z"
   },
   {
    "duration": 6,
    "start_time": "2021-11-17T13:28:18.452Z"
   },
   {
    "duration": 74,
    "start_time": "2021-11-17T13:28:18.462Z"
   },
   {
    "duration": 28,
    "start_time": "2021-11-17T13:28:18.539Z"
   },
   {
    "duration": 18,
    "start_time": "2021-11-17T13:28:18.571Z"
   },
   {
    "duration": 315,
    "start_time": "2021-11-17T13:28:18.592Z"
   },
   {
    "duration": 295,
    "start_time": "2021-11-17T13:28:18.911Z"
   },
   {
    "duration": 635,
    "start_time": "2021-11-17T13:28:19.209Z"
   },
   {
    "duration": 141,
    "start_time": "2021-11-17T13:28:19.846Z"
   },
   {
    "duration": 78,
    "start_time": "2021-11-17T13:28:19.991Z"
   },
   {
    "duration": 49,
    "start_time": "2021-11-17T13:28:20.073Z"
   },
   {
    "duration": 369,
    "start_time": "2021-11-17T13:28:20.125Z"
   },
   {
    "duration": 43,
    "start_time": "2021-11-17T13:28:20.497Z"
   },
   {
    "duration": 309,
    "start_time": "2021-11-17T13:28:20.542Z"
   },
   {
    "duration": 15,
    "start_time": "2021-11-17T13:28:20.854Z"
   },
   {
    "duration": 40,
    "start_time": "2021-11-17T13:28:20.872Z"
   },
   {
    "duration": 19,
    "start_time": "2021-11-17T13:28:20.914Z"
   },
   {
    "duration": 193,
    "start_time": "2021-11-17T13:28:20.935Z"
   },
   {
    "duration": 58,
    "start_time": "2021-11-17T13:28:21.131Z"
   },
   {
    "duration": 8,
    "start_time": "2021-11-17T13:28:21.192Z"
   },
   {
    "duration": 13,
    "start_time": "2021-11-17T13:28:21.203Z"
   },
   {
    "duration": 53,
    "start_time": "2021-11-17T13:28:21.222Z"
   },
   {
    "duration": 27,
    "start_time": "2021-11-17T13:28:21.279Z"
   },
   {
    "duration": 61,
    "start_time": "2021-11-17T13:28:21.308Z"
   },
   {
    "duration": 24,
    "start_time": "2021-11-17T13:28:21.372Z"
   },
   {
    "duration": 24,
    "start_time": "2021-11-17T13:28:21.399Z"
   },
   {
    "duration": 51,
    "start_time": "2021-11-17T13:28:21.426Z"
   },
   {
    "duration": 24,
    "start_time": "2021-11-17T13:28:21.480Z"
   },
   {
    "duration": 120,
    "start_time": "2021-11-17T13:28:21.507Z"
   },
   {
    "duration": 8,
    "start_time": "2021-11-17T13:28:21.630Z"
   },
   {
    "duration": 52,
    "start_time": "2021-11-17T13:28:21.641Z"
   },
   {
    "duration": 12,
    "start_time": "2021-11-17T13:28:21.696Z"
   },
   {
    "duration": 1175,
    "start_time": "2021-11-17T13:28:21.711Z"
   },
   {
    "duration": 11,
    "start_time": "2021-11-17T13:28:22.890Z"
   },
   {
    "duration": 15,
    "start_time": "2021-11-17T13:28:22.904Z"
   },
   {
    "duration": 20827,
    "start_time": "2021-11-17T13:28:22.921Z"
   },
   {
    "duration": 1955,
    "start_time": "2021-11-17T13:28:43.750Z"
   },
   {
    "duration": 21558,
    "start_time": "2021-11-17T13:28:45.708Z"
   },
   {
    "duration": 7,
    "start_time": "2021-11-17T13:29:07.269Z"
   },
   {
    "duration": 15,
    "start_time": "2021-11-17T13:29:07.279Z"
   },
   {
    "duration": 329,
    "start_time": "2021-11-17T13:29:07.297Z"
   },
   {
    "duration": 2310,
    "start_time": "2021-11-17T18:06:47.145Z"
   },
   {
    "duration": 160,
    "start_time": "2021-11-17T18:06:49.456Z"
   },
   {
    "duration": 3,
    "start_time": "2021-11-17T18:06:49.618Z"
   },
   {
    "duration": 38,
    "start_time": "2021-11-17T18:06:49.698Z"
   },
   {
    "duration": 7,
    "start_time": "2021-11-17T18:06:50.455Z"
   },
   {
    "duration": 9,
    "start_time": "2021-11-17T18:06:51.165Z"
   },
   {
    "duration": 149,
    "start_time": "2021-11-17T18:06:51.760Z"
   },
   {
    "duration": 146,
    "start_time": "2021-11-17T18:06:52.087Z"
   },
   {
    "duration": 426,
    "start_time": "2021-11-17T18:06:52.263Z"
   },
   {
    "duration": 69,
    "start_time": "2021-11-17T18:06:52.928Z"
   },
   {
    "duration": 31,
    "start_time": "2021-11-17T18:06:53.520Z"
   },
   {
    "duration": 21,
    "start_time": "2021-11-17T18:06:54.048Z"
   },
   {
    "duration": 151,
    "start_time": "2021-11-17T18:06:54.870Z"
   },
   {
    "duration": 24,
    "start_time": "2021-11-17T18:06:55.282Z"
   },
   {
    "duration": 140,
    "start_time": "2021-11-17T18:06:55.778Z"
   },
   {
    "duration": 4,
    "start_time": "2021-11-17T18:06:56.260Z"
   },
   {
    "duration": 19,
    "start_time": "2021-11-17T18:06:56.482Z"
   },
   {
    "duration": 10,
    "start_time": "2021-11-17T18:07:00.351Z"
   },
   {
    "duration": 106,
    "start_time": "2021-11-17T18:07:01.284Z"
   },
   {
    "duration": 25,
    "start_time": "2021-11-17T18:07:01.899Z"
   },
   {
    "duration": 5,
    "start_time": "2021-11-17T18:07:19.775Z"
   },
   {
    "duration": 7,
    "start_time": "2021-11-17T18:07:22.784Z"
   },
   {
    "duration": 12,
    "start_time": "2021-11-17T18:07:23.945Z"
   },
   {
    "duration": 13,
    "start_time": "2021-11-17T18:07:24.295Z"
   },
   {
    "duration": 22,
    "start_time": "2021-11-17T18:07:25.407Z"
   },
   {
    "duration": 14,
    "start_time": "2021-11-17T18:07:27.372Z"
   },
   {
    "duration": 14,
    "start_time": "2021-11-17T18:07:27.863Z"
   },
   {
    "duration": 8,
    "start_time": "2021-11-17T18:07:28.348Z"
   },
   {
    "duration": 13,
    "start_time": "2021-11-17T18:07:28.820Z"
   },
   {
    "duration": 43,
    "start_time": "2021-11-17T18:07:29.284Z"
   },
   {
    "duration": 5,
    "start_time": "2021-11-17T18:07:29.634Z"
   },
   {
    "duration": 13,
    "start_time": "2021-11-17T18:07:29.998Z"
   },
   {
    "duration": 7,
    "start_time": "2021-11-17T18:07:30.328Z"
   },
   {
    "duration": 633,
    "start_time": "2021-11-17T18:07:30.666Z"
   },
   {
    "duration": 6,
    "start_time": "2021-11-17T18:07:31.962Z"
   },
   {
    "duration": 7,
    "start_time": "2021-11-17T18:07:34.110Z"
   },
   {
    "duration": 3,
    "start_time": "2021-11-17T18:11:39.381Z"
   },
   {
    "duration": 11,
    "start_time": "2021-11-17T18:12:46.700Z"
   },
   {
    "duration": 13543,
    "start_time": "2021-11-17T18:15:05.372Z"
   },
   {
    "duration": 1260,
    "start_time": "2021-11-17T18:15:18.917Z"
   },
   {
    "duration": 14910,
    "start_time": "2021-11-17T18:15:20.179Z"
   },
   {
    "duration": 4,
    "start_time": "2021-11-17T18:15:35.091Z"
   },
   {
    "duration": 9,
    "start_time": "2021-11-17T18:15:35.096Z"
   },
   {
    "duration": 80,
    "start_time": "2021-11-17T18:53:55.708Z"
   },
   {
    "duration": 1192,
    "start_time": "2021-11-17T19:37:47.202Z"
   },
   {
    "duration": 174,
    "start_time": "2021-11-17T19:37:48.395Z"
   },
   {
    "duration": 3,
    "start_time": "2021-11-17T19:37:48.573Z"
   },
   {
    "duration": 37,
    "start_time": "2021-11-17T19:37:48.578Z"
   },
   {
    "duration": 6,
    "start_time": "2021-11-17T19:37:48.616Z"
   },
   {
    "duration": 11,
    "start_time": "2021-11-17T19:37:48.623Z"
   },
   {
    "duration": 189,
    "start_time": "2021-11-17T19:37:48.635Z"
   },
   {
    "duration": 167,
    "start_time": "2021-11-17T19:37:48.827Z"
   },
   {
    "duration": 434,
    "start_time": "2021-11-17T19:37:48.996Z"
   },
   {
    "duration": 79,
    "start_time": "2021-11-17T19:37:49.432Z"
   },
   {
    "duration": 31,
    "start_time": "2021-11-17T19:37:49.513Z"
   },
   {
    "duration": 51,
    "start_time": "2021-11-17T19:37:49.545Z"
   },
   {
    "duration": 183,
    "start_time": "2021-11-17T19:37:49.598Z"
   },
   {
    "duration": 34,
    "start_time": "2021-11-17T19:37:49.782Z"
   },
   {
    "duration": 181,
    "start_time": "2021-11-17T19:37:49.818Z"
   },
   {
    "duration": 5,
    "start_time": "2021-11-17T19:37:50.000Z"
   },
   {
    "duration": 25,
    "start_time": "2021-11-17T19:37:50.006Z"
   },
   {
    "duration": 12,
    "start_time": "2021-11-17T19:37:50.032Z"
   },
   {
    "duration": 164,
    "start_time": "2021-11-17T19:37:50.046Z"
   },
   {
    "duration": 27,
    "start_time": "2021-11-17T19:37:50.212Z"
   },
   {
    "duration": 4,
    "start_time": "2021-11-17T19:37:50.241Z"
   },
   {
    "duration": 6,
    "start_time": "2021-11-17T19:37:50.247Z"
   },
   {
    "duration": 43,
    "start_time": "2021-11-17T19:37:50.255Z"
   },
   {
    "duration": 14,
    "start_time": "2021-11-17T19:37:50.300Z"
   },
   {
    "duration": 23,
    "start_time": "2021-11-17T19:37:50.316Z"
   },
   {
    "duration": 16,
    "start_time": "2021-11-17T19:37:50.342Z"
   },
   {
    "duration": 44,
    "start_time": "2021-11-17T19:37:50.360Z"
   },
   {
    "duration": 9,
    "start_time": "2021-11-17T19:37:50.406Z"
   },
   {
    "duration": 15,
    "start_time": "2021-11-17T19:37:50.416Z"
   },
   {
    "duration": 4,
    "start_time": "2021-11-17T19:37:50.433Z"
   },
   {
    "duration": 83,
    "start_time": "2021-11-17T19:37:50.438Z"
   },
   {
    "duration": 6,
    "start_time": "2021-11-17T19:37:50.522Z"
   },
   {
    "duration": 14,
    "start_time": "2021-11-17T19:37:50.529Z"
   },
   {
    "duration": 13,
    "start_time": "2021-11-17T19:37:50.544Z"
   },
   {
    "duration": 33,
    "start_time": "2021-11-17T19:37:50.558Z"
   },
   {
    "duration": 711,
    "start_time": "2021-11-17T19:37:50.593Z"
   },
   {
    "duration": 7,
    "start_time": "2021-11-17T19:37:51.306Z"
   },
   {
    "duration": 9,
    "start_time": "2021-11-17T19:37:51.315Z"
   },
   {
    "duration": 14616,
    "start_time": "2021-11-17T19:37:51.327Z"
   },
   {
    "duration": 1224,
    "start_time": "2021-11-17T19:38:05.945Z"
   },
   {
    "duration": 16739,
    "start_time": "2021-11-17T19:38:07.171Z"
   },
   {
    "duration": 5,
    "start_time": "2021-11-17T19:38:23.912Z"
   },
   {
    "duration": 10,
    "start_time": "2021-11-17T19:38:23.919Z"
   },
   {
    "duration": 215,
    "start_time": "2021-11-17T19:38:23.931Z"
   },
   {
    "duration": 1273,
    "start_time": "2021-11-18T11:07:50.713Z"
   },
   {
    "duration": 172,
    "start_time": "2021-11-18T11:07:51.988Z"
   },
   {
    "duration": 3,
    "start_time": "2021-11-18T11:07:52.163Z"
   },
   {
    "duration": 43,
    "start_time": "2021-11-18T11:07:52.168Z"
   },
   {
    "duration": 6,
    "start_time": "2021-11-18T11:07:52.213Z"
   },
   {
    "duration": 21,
    "start_time": "2021-11-18T11:07:52.221Z"
   },
   {
    "duration": 189,
    "start_time": "2021-11-18T11:07:52.243Z"
   },
   {
    "duration": 167,
    "start_time": "2021-11-18T11:07:52.435Z"
   },
   {
    "duration": 429,
    "start_time": "2021-11-18T11:07:52.603Z"
   },
   {
    "duration": 91,
    "start_time": "2021-11-18T11:07:53.034Z"
   },
   {
    "duration": 35,
    "start_time": "2021-11-18T11:07:53.127Z"
   },
   {
    "duration": 57,
    "start_time": "2021-11-18T11:07:53.164Z"
   },
   {
    "duration": 206,
    "start_time": "2021-11-18T11:07:53.224Z"
   },
   {
    "duration": 30,
    "start_time": "2021-11-18T11:07:53.433Z"
   },
   {
    "duration": 191,
    "start_time": "2021-11-18T11:07:53.465Z"
   },
   {
    "duration": 4,
    "start_time": "2021-11-18T11:07:53.658Z"
   },
   {
    "duration": 29,
    "start_time": "2021-11-18T11:07:53.664Z"
   },
   {
    "duration": 19,
    "start_time": "2021-11-18T11:07:53.695Z"
   },
   {
    "duration": 127,
    "start_time": "2021-11-18T11:07:53.716Z"
   },
   {
    "duration": 38,
    "start_time": "2021-11-18T11:07:53.845Z"
   },
   {
    "duration": 24,
    "start_time": "2021-11-18T11:07:53.885Z"
   },
   {
    "duration": 10,
    "start_time": "2021-11-18T11:07:53.911Z"
   },
   {
    "duration": 16,
    "start_time": "2021-11-18T11:07:53.925Z"
   },
   {
    "duration": 25,
    "start_time": "2021-11-18T11:07:53.944Z"
   },
   {
    "duration": 45,
    "start_time": "2021-11-18T11:07:53.971Z"
   },
   {
    "duration": 18,
    "start_time": "2021-11-18T11:07:54.017Z"
   },
   {
    "duration": 16,
    "start_time": "2021-11-18T11:07:54.036Z"
   },
   {
    "duration": 24,
    "start_time": "2021-11-18T11:07:54.054Z"
   },
   {
    "duration": 38,
    "start_time": "2021-11-18T11:07:54.080Z"
   },
   {
    "duration": 5,
    "start_time": "2021-11-18T11:07:54.120Z"
   },
   {
    "duration": 66,
    "start_time": "2021-11-18T11:07:54.127Z"
   },
   {
    "duration": 15,
    "start_time": "2021-11-18T11:07:54.195Z"
   },
   {
    "duration": 23,
    "start_time": "2021-11-18T11:07:54.212Z"
   },
   {
    "duration": 24,
    "start_time": "2021-11-18T11:07:54.237Z"
   },
   {
    "duration": 8,
    "start_time": "2021-11-18T11:07:54.263Z"
   },
   {
    "duration": 903,
    "start_time": "2021-11-18T11:07:54.273Z"
   },
   {
    "duration": 7,
    "start_time": "2021-11-18T11:07:55.178Z"
   },
   {
    "duration": 24,
    "start_time": "2021-11-18T11:07:55.187Z"
   },
   {
    "duration": 1778,
    "start_time": "2021-11-19T08:08:06.880Z"
   },
   {
    "duration": 203,
    "start_time": "2021-11-19T08:08:08.661Z"
   },
   {
    "duration": 5,
    "start_time": "2021-11-19T08:08:09.762Z"
   },
   {
    "duration": 60,
    "start_time": "2021-11-19T08:08:09.928Z"
   },
   {
    "duration": 10,
    "start_time": "2021-11-19T08:08:10.241Z"
   },
   {
    "duration": 13,
    "start_time": "2021-11-19T08:08:10.399Z"
   },
   {
    "duration": 283,
    "start_time": "2021-11-19T08:08:10.732Z"
   },
   {
    "duration": 285,
    "start_time": "2021-11-19T08:08:11.018Z"
   },
   {
    "duration": 656,
    "start_time": "2021-11-19T08:08:11.306Z"
   },
   {
    "duration": 133,
    "start_time": "2021-11-19T08:08:11.965Z"
   },
   {
    "duration": 75,
    "start_time": "2021-11-19T08:08:12.101Z"
   },
   {
    "duration": 40,
    "start_time": "2021-11-19T08:08:12.179Z"
   },
   {
    "duration": 269,
    "start_time": "2021-11-19T08:08:12.517Z"
   },
   {
    "duration": 40,
    "start_time": "2021-11-19T08:08:12.905Z"
   },
   {
    "duration": 263,
    "start_time": "2021-11-19T08:08:13.765Z"
   },
   {
    "duration": 5,
    "start_time": "2021-11-19T08:08:14.503Z"
   },
   {
    "duration": 32,
    "start_time": "2021-11-19T08:08:14.668Z"
   },
   {
    "duration": 17,
    "start_time": "2021-11-19T08:08:15.179Z"
   },
   {
    "duration": 142,
    "start_time": "2021-11-19T08:08:16.120Z"
   },
   {
    "duration": 47,
    "start_time": "2021-11-19T08:08:21.662Z"
   },
   {
    "duration": 8,
    "start_time": "2021-11-19T08:08:24.563Z"
   },
   {
    "duration": 9,
    "start_time": "2021-11-19T08:08:25.131Z"
   },
   {
    "duration": 18,
    "start_time": "2021-11-19T08:08:25.497Z"
   },
   {
    "duration": 22,
    "start_time": "2021-11-19T08:08:26.458Z"
   },
   {
    "duration": 33,
    "start_time": "2021-11-19T08:08:29.550Z"
   },
   {
    "duration": 22,
    "start_time": "2021-11-19T08:08:30.631Z"
   },
   {
    "duration": 20,
    "start_time": "2021-11-19T08:08:34.569Z"
   },
   {
    "duration": 11,
    "start_time": "2021-11-19T08:08:36.547Z"
   },
   {
    "duration": 20,
    "start_time": "2021-11-19T08:08:40.472Z"
   },
   {
    "duration": 5,
    "start_time": "2021-11-19T08:08:40.719Z"
   },
   {
    "duration": 76,
    "start_time": "2021-11-19T08:08:45.487Z"
   },
   {
    "duration": 8,
    "start_time": "2021-11-19T08:08:48.821Z"
   },
   {
    "duration": 18,
    "start_time": "2021-11-19T08:08:49.512Z"
   },
   {
    "duration": 17,
    "start_time": "2021-11-19T08:08:49.718Z"
   },
   {
    "duration": 10,
    "start_time": "2021-11-19T08:08:52.633Z"
   },
   {
    "duration": 1232,
    "start_time": "2021-11-19T08:08:56.955Z"
   },
   {
    "duration": 10,
    "start_time": "2021-11-19T08:09:01.426Z"
   },
   {
    "duration": 10,
    "start_time": "2021-11-19T08:09:02.976Z"
   },
   {
    "duration": 7,
    "start_time": "2021-11-19T08:09:10.979Z"
   }
  ],
  "kernelspec": {
   "display_name": "Python 3",
   "language": "python",
   "name": "python3"
  },
  "language_info": {
   "codemirror_mode": {
    "name": "ipython",
    "version": 3
   },
   "file_extension": ".py",
   "mimetype": "text/x-python",
   "name": "python",
   "nbconvert_exporter": "python",
   "pygments_lexer": "ipython3",
   "version": "3.7.8"
  },
  "toc": {
   "base_numbering": 1,
   "nav_menu": {},
   "number_sections": false,
   "sideBar": true,
   "skip_h1_title": true,
   "title_cell": "Table of Contents",
   "title_sidebar": "Contents",
   "toc_cell": false,
   "toc_position": {},
   "toc_section_display": true,
   "toc_window_display": false
  }
 },
 "nbformat": 4,
 "nbformat_minor": 2
}
