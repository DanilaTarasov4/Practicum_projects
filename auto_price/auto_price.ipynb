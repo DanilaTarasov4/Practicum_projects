{
 "cells": [
  {
   "cell_type": "markdown",
   "metadata": {},
   "source": [
    "# Определение стоимости автомобилей"
   ]
  },
  {
   "cell_type": "markdown",
   "metadata": {},
   "source": [
    "Сервис по продаже автомобилей с пробегом «Не бит, не крашен» разрабатывает приложение для привлечения новых клиентов. В нём можно быстро узнать рыночную стоимость своего автомобиля. В вашем распоряжении исторические данные: технические характеристики, комплектации и цены автомобилей. Вам нужно построить модель для определения стоимости. \n",
    "\n",
    "Заказчику важны:\n",
    "\n",
    "- качество предсказания;\n",
    "- скорость предсказания;\n",
    "- время обучения."
   ]
  },
  {
   "cell_type": "markdown",
   "metadata": {},
   "source": [
    "## Подготовка данных"
   ]
  },
  {
   "cell_type": "code",
   "execution_count": 1,
   "metadata": {},
   "outputs": [],
   "source": [
    "#Загрузка библиотек:\n",
    "import pandas as pd\n",
    "import numpy as np\n",
    "import seaborn as sns\n",
    "import matplotlib.pyplot as plt\n",
    "import lightgbm as lgb \n",
    "from lightgbm import LGBMRegressor\n",
    "from catboost import CatBoostRegressor\n",
    "from sklearn.model_selection import cross_val_score, train_test_split\n",
    "from sklearn.metrics import mean_squared_error\n",
    "from sklearn.preprocessing import OrdinalEncoder\n",
    "from sklearn.ensemble import RandomForestRegressor\n",
    "from sklearn.tree import DecisionTreeRegressor\n",
    "from sklearn.model_selection import RandomizedSearchCV\n",
    "import warnings\n",
    "import timeit\n",
    "warnings.filterwarnings(\"ignore\")"
   ]
  },
  {
   "cell_type": "code",
   "execution_count": 2,
   "metadata": {},
   "outputs": [
    {
     "data": {
      "text/html": [
       "<div>\n",
       "<style scoped>\n",
       "    .dataframe tbody tr th:only-of-type {\n",
       "        vertical-align: middle;\n",
       "    }\n",
       "\n",
       "    .dataframe tbody tr th {\n",
       "        vertical-align: top;\n",
       "    }\n",
       "\n",
       "    .dataframe thead th {\n",
       "        text-align: right;\n",
       "    }\n",
       "</style>\n",
       "<table border=\"1\" class=\"dataframe\">\n",
       "  <thead>\n",
       "    <tr style=\"text-align: right;\">\n",
       "      <th></th>\n",
       "      <th>DateCrawled</th>\n",
       "      <th>Price</th>\n",
       "      <th>VehicleType</th>\n",
       "      <th>RegistrationYear</th>\n",
       "      <th>Gearbox</th>\n",
       "      <th>Power</th>\n",
       "      <th>Model</th>\n",
       "      <th>Kilometer</th>\n",
       "      <th>RegistrationMonth</th>\n",
       "      <th>FuelType</th>\n",
       "      <th>Brand</th>\n",
       "      <th>NotRepaired</th>\n",
       "      <th>DateCreated</th>\n",
       "      <th>NumberOfPictures</th>\n",
       "      <th>PostalCode</th>\n",
       "      <th>LastSeen</th>\n",
       "    </tr>\n",
       "  </thead>\n",
       "  <tbody>\n",
       "    <tr>\n",
       "      <td>18734</td>\n",
       "      <td>2016-04-04 13:36:58</td>\n",
       "      <td>16900</td>\n",
       "      <td>bus</td>\n",
       "      <td>2010</td>\n",
       "      <td>auto</td>\n",
       "      <td>150</td>\n",
       "      <td>viano</td>\n",
       "      <td>150000</td>\n",
       "      <td>4</td>\n",
       "      <td>gasoline</td>\n",
       "      <td>mercedes_benz</td>\n",
       "      <td>no</td>\n",
       "      <td>2016-04-04 00:00:00</td>\n",
       "      <td>0</td>\n",
       "      <td>60326</td>\n",
       "      <td>2016-04-05 12:18:31</td>\n",
       "    </tr>\n",
       "    <tr>\n",
       "      <td>141787</td>\n",
       "      <td>2016-03-07 17:57:08</td>\n",
       "      <td>15500</td>\n",
       "      <td>other</td>\n",
       "      <td>2011</td>\n",
       "      <td>manual</td>\n",
       "      <td>143</td>\n",
       "      <td>1er</td>\n",
       "      <td>40000</td>\n",
       "      <td>5</td>\n",
       "      <td>gasoline</td>\n",
       "      <td>bmw</td>\n",
       "      <td>no</td>\n",
       "      <td>2016-03-07 00:00:00</td>\n",
       "      <td>0</td>\n",
       "      <td>35083</td>\n",
       "      <td>2016-04-06 20:19:15</td>\n",
       "    </tr>\n",
       "    <tr>\n",
       "      <td>37523</td>\n",
       "      <td>2016-03-24 09:37:02</td>\n",
       "      <td>3600</td>\n",
       "      <td>sedan</td>\n",
       "      <td>2004</td>\n",
       "      <td>manual</td>\n",
       "      <td>125</td>\n",
       "      <td>astra</td>\n",
       "      <td>150000</td>\n",
       "      <td>12</td>\n",
       "      <td>petrol</td>\n",
       "      <td>opel</td>\n",
       "      <td>no</td>\n",
       "      <td>2016-03-24 00:00:00</td>\n",
       "      <td>0</td>\n",
       "      <td>13627</td>\n",
       "      <td>2016-03-24 10:38:57</td>\n",
       "    </tr>\n",
       "    <tr>\n",
       "      <td>194192</td>\n",
       "      <td>2016-03-15 09:49:03</td>\n",
       "      <td>8990</td>\n",
       "      <td>sedan</td>\n",
       "      <td>2007</td>\n",
       "      <td>auto</td>\n",
       "      <td>224</td>\n",
       "      <td>c_klasse</td>\n",
       "      <td>150000</td>\n",
       "      <td>9</td>\n",
       "      <td>gasoline</td>\n",
       "      <td>mercedes_benz</td>\n",
       "      <td>no</td>\n",
       "      <td>2016-03-15 00:00:00</td>\n",
       "      <td>0</td>\n",
       "      <td>58135</td>\n",
       "      <td>2016-03-18 02:17:06</td>\n",
       "    </tr>\n",
       "    <tr>\n",
       "      <td>110210</td>\n",
       "      <td>2016-03-29 23:43:52</td>\n",
       "      <td>2500</td>\n",
       "      <td>other</td>\n",
       "      <td>1994</td>\n",
       "      <td>manual</td>\n",
       "      <td>68</td>\n",
       "      <td>transporter</td>\n",
       "      <td>150000</td>\n",
       "      <td>9</td>\n",
       "      <td>gasoline</td>\n",
       "      <td>volkswagen</td>\n",
       "      <td>no</td>\n",
       "      <td>2016-03-29 00:00:00</td>\n",
       "      <td>0</td>\n",
       "      <td>24598</td>\n",
       "      <td>2016-04-02 12:45:46</td>\n",
       "    </tr>\n",
       "    <tr>\n",
       "      <td>63295</td>\n",
       "      <td>2016-03-07 12:55:48</td>\n",
       "      <td>11000</td>\n",
       "      <td>wagon</td>\n",
       "      <td>2010</td>\n",
       "      <td>auto</td>\n",
       "      <td>177</td>\n",
       "      <td>5er</td>\n",
       "      <td>150000</td>\n",
       "      <td>10</td>\n",
       "      <td>gasoline</td>\n",
       "      <td>bmw</td>\n",
       "      <td>no</td>\n",
       "      <td>2016-03-07 00:00:00</td>\n",
       "      <td>0</td>\n",
       "      <td>6237</td>\n",
       "      <td>2016-04-04 02:16:33</td>\n",
       "    </tr>\n",
       "    <tr>\n",
       "      <td>299143</td>\n",
       "      <td>2016-03-24 17:48:59</td>\n",
       "      <td>1200</td>\n",
       "      <td>small</td>\n",
       "      <td>2003</td>\n",
       "      <td>NaN</td>\n",
       "      <td>58</td>\n",
       "      <td>clio</td>\n",
       "      <td>150000</td>\n",
       "      <td>3</td>\n",
       "      <td>petrol</td>\n",
       "      <td>renault</td>\n",
       "      <td>no</td>\n",
       "      <td>2016-03-24 00:00:00</td>\n",
       "      <td>0</td>\n",
       "      <td>25551</td>\n",
       "      <td>2016-03-24 17:48:59</td>\n",
       "    </tr>\n",
       "    <tr>\n",
       "      <td>236634</td>\n",
       "      <td>2016-03-27 09:57:43</td>\n",
       "      <td>12500</td>\n",
       "      <td>convertible</td>\n",
       "      <td>1977</td>\n",
       "      <td>auto</td>\n",
       "      <td>177</td>\n",
       "      <td>sl</td>\n",
       "      <td>150000</td>\n",
       "      <td>5</td>\n",
       "      <td>petrol</td>\n",
       "      <td>mercedes_benz</td>\n",
       "      <td>no</td>\n",
       "      <td>2016-03-27 00:00:00</td>\n",
       "      <td>0</td>\n",
       "      <td>53177</td>\n",
       "      <td>2016-03-27 10:38:40</td>\n",
       "    </tr>\n",
       "    <tr>\n",
       "      <td>44603</td>\n",
       "      <td>2016-04-02 18:38:59</td>\n",
       "      <td>1599</td>\n",
       "      <td>NaN</td>\n",
       "      <td>2016</td>\n",
       "      <td>manual</td>\n",
       "      <td>50</td>\n",
       "      <td>arosa</td>\n",
       "      <td>125000</td>\n",
       "      <td>10</td>\n",
       "      <td>NaN</td>\n",
       "      <td>seat</td>\n",
       "      <td>no</td>\n",
       "      <td>2016-04-02 00:00:00</td>\n",
       "      <td>0</td>\n",
       "      <td>2991</td>\n",
       "      <td>2016-04-06 18:16:10</td>\n",
       "    </tr>\n",
       "    <tr>\n",
       "      <td>251416</td>\n",
       "      <td>2016-03-20 23:53:52</td>\n",
       "      <td>1999</td>\n",
       "      <td>small</td>\n",
       "      <td>2002</td>\n",
       "      <td>manual</td>\n",
       "      <td>75</td>\n",
       "      <td>corsa</td>\n",
       "      <td>150000</td>\n",
       "      <td>1</td>\n",
       "      <td>petrol</td>\n",
       "      <td>opel</td>\n",
       "      <td>NaN</td>\n",
       "      <td>2016-03-20 00:00:00</td>\n",
       "      <td>0</td>\n",
       "      <td>46537</td>\n",
       "      <td>2016-03-21 04:41:29</td>\n",
       "    </tr>\n",
       "  </tbody>\n",
       "</table>\n",
       "</div>"
      ],
      "text/plain": [
       "                DateCrawled  Price  VehicleType  RegistrationYear Gearbox  \\\n",
       "18734   2016-04-04 13:36:58  16900          bus              2010    auto   \n",
       "141787  2016-03-07 17:57:08  15500        other              2011  manual   \n",
       "37523   2016-03-24 09:37:02   3600        sedan              2004  manual   \n",
       "194192  2016-03-15 09:49:03   8990        sedan              2007    auto   \n",
       "110210  2016-03-29 23:43:52   2500        other              1994  manual   \n",
       "63295   2016-03-07 12:55:48  11000        wagon              2010    auto   \n",
       "299143  2016-03-24 17:48:59   1200        small              2003     NaN   \n",
       "236634  2016-03-27 09:57:43  12500  convertible              1977    auto   \n",
       "44603   2016-04-02 18:38:59   1599          NaN              2016  manual   \n",
       "251416  2016-03-20 23:53:52   1999        small              2002  manual   \n",
       "\n",
       "        Power        Model  Kilometer  RegistrationMonth  FuelType  \\\n",
       "18734     150        viano     150000                  4  gasoline   \n",
       "141787    143          1er      40000                  5  gasoline   \n",
       "37523     125        astra     150000                 12    petrol   \n",
       "194192    224     c_klasse     150000                  9  gasoline   \n",
       "110210     68  transporter     150000                  9  gasoline   \n",
       "63295     177          5er     150000                 10  gasoline   \n",
       "299143     58         clio     150000                  3    petrol   \n",
       "236634    177           sl     150000                  5    petrol   \n",
       "44603      50        arosa     125000                 10       NaN   \n",
       "251416     75        corsa     150000                  1    petrol   \n",
       "\n",
       "                Brand NotRepaired          DateCreated  NumberOfPictures  \\\n",
       "18734   mercedes_benz          no  2016-04-04 00:00:00                 0   \n",
       "141787            bmw          no  2016-03-07 00:00:00                 0   \n",
       "37523            opel          no  2016-03-24 00:00:00                 0   \n",
       "194192  mercedes_benz          no  2016-03-15 00:00:00                 0   \n",
       "110210     volkswagen          no  2016-03-29 00:00:00                 0   \n",
       "63295             bmw          no  2016-03-07 00:00:00                 0   \n",
       "299143        renault          no  2016-03-24 00:00:00                 0   \n",
       "236634  mercedes_benz          no  2016-03-27 00:00:00                 0   \n",
       "44603            seat          no  2016-04-02 00:00:00                 0   \n",
       "251416           opel         NaN  2016-03-20 00:00:00                 0   \n",
       "\n",
       "        PostalCode             LastSeen  \n",
       "18734        60326  2016-04-05 12:18:31  \n",
       "141787       35083  2016-04-06 20:19:15  \n",
       "37523        13627  2016-03-24 10:38:57  \n",
       "194192       58135  2016-03-18 02:17:06  \n",
       "110210       24598  2016-04-02 12:45:46  \n",
       "63295         6237  2016-04-04 02:16:33  \n",
       "299143       25551  2016-03-24 17:48:59  \n",
       "236634       53177  2016-03-27 10:38:40  \n",
       "44603         2991  2016-04-06 18:16:10  \n",
       "251416       46537  2016-03-21 04:41:29  "
      ]
     },
     "execution_count": 2,
     "metadata": {},
     "output_type": "execute_result"
    }
   ],
   "source": [
    "#Загрузка и исследование файла с данными:\n",
    "auto = pd.read_csv('/datasets/autos.csv')\n",
    "auto.sample(n = 10, random_state = 12345)"
   ]
  },
  {
   "cell_type": "code",
   "execution_count": 3,
   "metadata": {},
   "outputs": [
    {
     "data": {
      "text/plain": [
       "(354369, 16)"
      ]
     },
     "execution_count": 3,
     "metadata": {},
     "output_type": "execute_result"
    }
   ],
   "source": [
    "auto.shape"
   ]
  },
  {
   "cell_type": "markdown",
   "metadata": {},
   "source": [
    "**Выводы:** \n",
    "- В датафрейме **354369** объектов, имеющих **16** признаков, из которых **9**  количественных *(\"DateCrawled\", \"Price\", \"RegistrationYear\", \"Power\", \"Kilometer\", \"RegistrationMonth\", \"DateCreated\", \"NumberOfPictures\", \"LastSeen\"*) и  **7** категориальных *(\"VehicleType\", \"Gearbox\", \"Model\", \"FuelType\", \"Brand2, \"NotRepaired\", \"PostalCode\"*). Целевой признак - **\"Price\"**. \n",
    "- Сразу исключаем следующие признаки: **\"DateCrawled\"** - дата скачивания анкеты из базы не имеет отношения к формированию цены; **\"LastSeen\"** - дата последней активности пользователя также не влияет на ценообразование; **\"RegistrationMonth\"** - на сайтах по продаже автомобилей указывается только год регистрации, соответственно, данный признак уже избыточный."
   ]
  },
  {
   "cell_type": "code",
   "execution_count": 4,
   "metadata": {},
   "outputs": [],
   "source": [
    "auto1 = auto.drop(['DateCrawled','RegistrationMonth','LastSeen'], axis = 1)"
   ]
  },
  {
   "cell_type": "code",
   "execution_count": 5,
   "metadata": {},
   "outputs": [
    {
     "name": "stdout",
     "output_type": "stream",
     "text": [
      "1. Дубликаты в данных: 3.05 %\n",
      "2. Сводная таблица по признакам:\n"
     ]
    },
    {
     "data": {
      "text/html": [
       "<div>\n",
       "<style scoped>\n",
       "    .dataframe tbody tr th:only-of-type {\n",
       "        vertical-align: middle;\n",
       "    }\n",
       "\n",
       "    .dataframe tbody tr th {\n",
       "        vertical-align: top;\n",
       "    }\n",
       "\n",
       "    .dataframe thead th {\n",
       "        text-align: right;\n",
       "    }\n",
       "</style>\n",
       "<table border=\"1\" class=\"dataframe\">\n",
       "  <thead>\n",
       "    <tr style=\"text-align: right;\">\n",
       "      <th></th>\n",
       "      <th>Пропуски, %</th>\n",
       "      <th>0-е значения, %</th>\n",
       "      <th>Минимум</th>\n",
       "      <th>Максимум</th>\n",
       "    </tr>\n",
       "  </thead>\n",
       "  <tbody>\n",
       "    <tr>\n",
       "      <td>NotRepaired</td>\n",
       "      <td>20.08</td>\n",
       "      <td>0.00</td>\n",
       "      <td>NaN</td>\n",
       "      <td>NaN</td>\n",
       "    </tr>\n",
       "    <tr>\n",
       "      <td>VehicleType</td>\n",
       "      <td>10.58</td>\n",
       "      <td>0.00</td>\n",
       "      <td>NaN</td>\n",
       "      <td>NaN</td>\n",
       "    </tr>\n",
       "    <tr>\n",
       "      <td>FuelType</td>\n",
       "      <td>9.28</td>\n",
       "      <td>0.00</td>\n",
       "      <td>NaN</td>\n",
       "      <td>NaN</td>\n",
       "    </tr>\n",
       "    <tr>\n",
       "      <td>Gearbox</td>\n",
       "      <td>5.60</td>\n",
       "      <td>0.00</td>\n",
       "      <td>NaN</td>\n",
       "      <td>NaN</td>\n",
       "    </tr>\n",
       "    <tr>\n",
       "      <td>Model</td>\n",
       "      <td>5.56</td>\n",
       "      <td>0.00</td>\n",
       "      <td>80.0</td>\n",
       "      <td>9000.0</td>\n",
       "    </tr>\n",
       "    <tr>\n",
       "      <td>Price</td>\n",
       "      <td>0.00</td>\n",
       "      <td>3.04</td>\n",
       "      <td>0.0</td>\n",
       "      <td>20000.0</td>\n",
       "    </tr>\n",
       "    <tr>\n",
       "      <td>RegistrationYear</td>\n",
       "      <td>0.00</td>\n",
       "      <td>0.00</td>\n",
       "      <td>1000.0</td>\n",
       "      <td>9999.0</td>\n",
       "    </tr>\n",
       "    <tr>\n",
       "      <td>Power</td>\n",
       "      <td>0.00</td>\n",
       "      <td>11.35</td>\n",
       "      <td>0.0</td>\n",
       "      <td>20000.0</td>\n",
       "    </tr>\n",
       "    <tr>\n",
       "      <td>Kilometer</td>\n",
       "      <td>0.00</td>\n",
       "      <td>0.00</td>\n",
       "      <td>5000.0</td>\n",
       "      <td>150000.0</td>\n",
       "    </tr>\n",
       "    <tr>\n",
       "      <td>Brand</td>\n",
       "      <td>0.00</td>\n",
       "      <td>0.00</td>\n",
       "      <td>NaN</td>\n",
       "      <td>NaN</td>\n",
       "    </tr>\n",
       "    <tr>\n",
       "      <td>DateCreated</td>\n",
       "      <td>0.00</td>\n",
       "      <td>0.00</td>\n",
       "      <td>NaN</td>\n",
       "      <td>NaN</td>\n",
       "    </tr>\n",
       "    <tr>\n",
       "      <td>NumberOfPictures</td>\n",
       "      <td>0.00</td>\n",
       "      <td>100.00</td>\n",
       "      <td>0.0</td>\n",
       "      <td>0.0</td>\n",
       "    </tr>\n",
       "    <tr>\n",
       "      <td>PostalCode</td>\n",
       "      <td>0.00</td>\n",
       "      <td>0.00</td>\n",
       "      <td>1067.0</td>\n",
       "      <td>99998.0</td>\n",
       "    </tr>\n",
       "  </tbody>\n",
       "</table>\n",
       "</div>"
      ],
      "text/plain": [
       "                  Пропуски, %  0-е значения, %  Минимум  Максимум\n",
       "NotRepaired             20.08             0.00      NaN       NaN\n",
       "VehicleType             10.58             0.00      NaN       NaN\n",
       "FuelType                 9.28             0.00      NaN       NaN\n",
       "Gearbox                  5.60             0.00      NaN       NaN\n",
       "Model                    5.56             0.00     80.0    9000.0\n",
       "Price                    0.00             3.04      0.0   20000.0\n",
       "RegistrationYear         0.00             0.00   1000.0    9999.0\n",
       "Power                    0.00            11.35      0.0   20000.0\n",
       "Kilometer                0.00             0.00   5000.0  150000.0\n",
       "Brand                    0.00             0.00      NaN       NaN\n",
       "DateCreated              0.00             0.00      NaN       NaN\n",
       "NumberOfPictures         0.00           100.00      0.0       0.0\n",
       "PostalCode               0.00             0.00   1067.0   99998.0"
      ]
     },
     "execution_count": 5,
     "metadata": {},
     "output_type": "execute_result"
    }
   ],
   "source": [
    "#Анализ исходных данных:\n",
    "def analiz(data):\n",
    "    svod = []\n",
    "    for i in range(len(data.columns)):\n",
    "        prop = round(data[data.columns[i]].isna().mean() *100, 2)\n",
    "        null = round(len(data[data[data.columns[i]] == 0]) / len(data) * 100, 2)\n",
    "        mini = pd.to_numeric(data[data.columns[i]], errors ='coerce').min()\n",
    "        maxi = pd.to_numeric(data[data.columns[i]], errors ='coerce').max()\n",
    "        svod.append([prop, null, mini, maxi])\n",
    "    index = data.columns\n",
    "    columns = ['Пропуски, %','0-е значения, %','Минимум','Максимум']\n",
    "    svod_tab = pd.DataFrame(svod, index=index, columns=columns).sort_values(by = 'Пропуски, %', ascending = False)\n",
    "    dubl = data.duplicated().sum()\n",
    "    print('1. Дубликаты в данных:', round(dubl/len(data)*100,2),'%')\n",
    "    print('2. Сводная таблица по признакам:')\n",
    "    return svod_tab\n",
    "analiz(auto1)"
   ]
  },
  {
   "cell_type": "markdown",
   "metadata": {},
   "source": [
    "**Выводы:**\n",
    "- Имеем *3.05%* дубликатов в данных (вероятно, пользователи выкладывали анкеты несколько раз). Решение: удаляем данные с целью облегчения обучения моделей;\n",
    "- Имеем пропуски по *5-ти* признакам: **\"NotRepaired\"** - *20.08%* - вероятно, пользователи умышленно не указывали данные по признаку, так как он существенно влияет на цену. **Решение:** заполняем пропуски новой категорией **\"not_specified\"**; **\"VehicleType\"** - *10.58%* - вероятно, пропуски связаны со сложностями в определении пользователями типов кузовов собственных машин. **Решение:** заполняем пропуски новой категорией **\"not_specified\"**; **\"FuelType\"** - *9.28%* - аналогично с **\"VehicleType\"**; **\"Gearbox\"** - *5.6%* - вероятно, пользователи умышленно не указывали данные по виду коробки передач, так как он влияет на конечную цену (иногда существенно). **Решение:** заполняем пропуски новой категорией **\"not_specified\"**; **\"Model\"** - *5.56%* - вероятно, пользователи умышленно не указывали данные по признаку, так как он влияет на конечную цену (иногда существенно). **Решение:** заполняем пропуски новой категорией **\"not_specified\"**;\n",
    "- Имеем 0-ые значения по *2-м* признакам: **\"Price\"** - цена не может быть 0-й. **Решение:** убираем значения меньше 100;  **\"NumberOfPictures\"** - вероятно, ошибка выгрузки привела ко всем 0-м. **Решение** исключаем признак из анализа.\n",
    "- Имеем аномальные значения по минимуму и/или максимуму по *2-м признакам*: **\"RegistrationYear\"**. **Решение:** исключаем все значения вне диапазона *1920 - 2016г.*; **\"Power\"** - мощность двигателя не может быть равна 0 л.с. и быть больше 750 л.с..**Решение:** исключаем все значения вне диапазона *0.75 (окей, гугл) - 750 л.с.*;\n",
    "- **\"PostalCode\"** имеет много уникальных значений.**Решение:** создаём новый признак из PostalCode (делим значения признака на 1000 и затем округляем до целых чисел, в итоге получая номера регионов).\n",
    "\n",
    "**Рекомендации для разработчиков:** \n",
    "- сделать обязательными для заполнения поля признаков **\"NotRepaired\", \"VehicleType\", \"FuelType\", \"Gearbox\", \"Model\"**;\n",
    "- установить диапазоны для выбора значений для признаков **\"RegistrationYear\", \"Power\"**, **\"Price\"**;\n",
    "- ввести новый признак **PostalCode**;\n",
    "- проверить механизм выгрузки данных из базы."
   ]
  },
  {
   "cell_type": "markdown",
   "metadata": {},
   "source": [
    "**Реализация решений:**"
   ]
  },
  {
   "cell_type": "code",
   "execution_count": 6,
   "metadata": {},
   "outputs": [],
   "source": [
    "change_lists = ['NotRepaired','VehicleType','FuelType','Gearbox','Model']\n",
    "def change(lists):\n",
    "    for i in range(len(lists)):\n",
    "        auto1[lists[i]].fillna('not_specified', inplace = True)\n",
    "        \n",
    "change(change_lists)        "
   ]
  },
  {
   "cell_type": "code",
   "execution_count": 7,
   "metadata": {},
   "outputs": [],
   "source": [
    "auto3 = auto1.query('1920 <= RegistrationYear <= 2016 and 0.75 <= Power <= 750 and Price >= 100')\n",
    "auto3['PostalCode'] = (auto3['PostalCode']/1000).astype(int)\n",
    "auto5 = auto3.drop(['NumberOfPictures','PostalCode', 'DateCreated'], axis = 1)\n",
    "auto6 = auto5.drop_duplicates()\n",
    "auto7 = auto5.drop_duplicates()"
   ]
  },
  {
   "cell_type": "code",
   "execution_count": 8,
   "metadata": {},
   "outputs": [
    {
     "name": "stdout",
     "output_type": "stream",
     "text": [
      "1. Дубликаты в данных: 0.0 %\n",
      "2. Сводная таблица по признакам:\n"
     ]
    },
    {
     "data": {
      "text/html": [
       "<div>\n",
       "<style scoped>\n",
       "    .dataframe tbody tr th:only-of-type {\n",
       "        vertical-align: middle;\n",
       "    }\n",
       "\n",
       "    .dataframe tbody tr th {\n",
       "        vertical-align: top;\n",
       "    }\n",
       "\n",
       "    .dataframe thead th {\n",
       "        text-align: right;\n",
       "    }\n",
       "</style>\n",
       "<table border=\"1\" class=\"dataframe\">\n",
       "  <thead>\n",
       "    <tr style=\"text-align: right;\">\n",
       "      <th></th>\n",
       "      <th>Пропуски, %</th>\n",
       "      <th>0-е значения, %</th>\n",
       "      <th>Минимум</th>\n",
       "      <th>Максимум</th>\n",
       "    </tr>\n",
       "  </thead>\n",
       "  <tbody>\n",
       "    <tr>\n",
       "      <td>Price</td>\n",
       "      <td>0.0</td>\n",
       "      <td>0.0</td>\n",
       "      <td>100.0</td>\n",
       "      <td>20000.0</td>\n",
       "    </tr>\n",
       "    <tr>\n",
       "      <td>VehicleType</td>\n",
       "      <td>0.0</td>\n",
       "      <td>0.0</td>\n",
       "      <td>NaN</td>\n",
       "      <td>NaN</td>\n",
       "    </tr>\n",
       "    <tr>\n",
       "      <td>RegistrationYear</td>\n",
       "      <td>0.0</td>\n",
       "      <td>0.0</td>\n",
       "      <td>1923.0</td>\n",
       "      <td>2016.0</td>\n",
       "    </tr>\n",
       "    <tr>\n",
       "      <td>Gearbox</td>\n",
       "      <td>0.0</td>\n",
       "      <td>0.0</td>\n",
       "      <td>NaN</td>\n",
       "      <td>NaN</td>\n",
       "    </tr>\n",
       "    <tr>\n",
       "      <td>Power</td>\n",
       "      <td>0.0</td>\n",
       "      <td>0.0</td>\n",
       "      <td>1.0</td>\n",
       "      <td>750.0</td>\n",
       "    </tr>\n",
       "    <tr>\n",
       "      <td>Model</td>\n",
       "      <td>0.0</td>\n",
       "      <td>0.0</td>\n",
       "      <td>80.0</td>\n",
       "      <td>9000.0</td>\n",
       "    </tr>\n",
       "    <tr>\n",
       "      <td>Kilometer</td>\n",
       "      <td>0.0</td>\n",
       "      <td>0.0</td>\n",
       "      <td>5000.0</td>\n",
       "      <td>150000.0</td>\n",
       "    </tr>\n",
       "    <tr>\n",
       "      <td>FuelType</td>\n",
       "      <td>0.0</td>\n",
       "      <td>0.0</td>\n",
       "      <td>NaN</td>\n",
       "      <td>NaN</td>\n",
       "    </tr>\n",
       "    <tr>\n",
       "      <td>Brand</td>\n",
       "      <td>0.0</td>\n",
       "      <td>0.0</td>\n",
       "      <td>NaN</td>\n",
       "      <td>NaN</td>\n",
       "    </tr>\n",
       "    <tr>\n",
       "      <td>NotRepaired</td>\n",
       "      <td>0.0</td>\n",
       "      <td>0.0</td>\n",
       "      <td>NaN</td>\n",
       "      <td>NaN</td>\n",
       "    </tr>\n",
       "  </tbody>\n",
       "</table>\n",
       "</div>"
      ],
      "text/plain": [
       "                  Пропуски, %  0-е значения, %  Минимум  Максимум\n",
       "Price                     0.0              0.0    100.0   20000.0\n",
       "VehicleType               0.0              0.0      NaN       NaN\n",
       "RegistrationYear          0.0              0.0   1923.0    2016.0\n",
       "Gearbox                   0.0              0.0      NaN       NaN\n",
       "Power                     0.0              0.0      1.0     750.0\n",
       "Model                     0.0              0.0     80.0    9000.0\n",
       "Kilometer                 0.0              0.0   5000.0  150000.0\n",
       "FuelType                  0.0              0.0      NaN       NaN\n",
       "Brand                     0.0              0.0      NaN       NaN\n",
       "NotRepaired               0.0              0.0      NaN       NaN"
      ]
     },
     "execution_count": 8,
     "metadata": {},
     "output_type": "execute_result"
    }
   ],
   "source": [
    "analiz(auto7)"
   ]
  },
  {
   "cell_type": "code",
   "execution_count": 9,
   "metadata": {},
   "outputs": [
    {
     "data": {
      "text/html": [
       "<div>\n",
       "<style scoped>\n",
       "    .dataframe tbody tr th:only-of-type {\n",
       "        vertical-align: middle;\n",
       "    }\n",
       "\n",
       "    .dataframe tbody tr th {\n",
       "        vertical-align: top;\n",
       "    }\n",
       "\n",
       "    .dataframe thead th {\n",
       "        text-align: right;\n",
       "    }\n",
       "</style>\n",
       "<table border=\"1\" class=\"dataframe\">\n",
       "  <thead>\n",
       "    <tr style=\"text-align: right;\">\n",
       "      <th></th>\n",
       "      <th>Price</th>\n",
       "      <th>VehicleType</th>\n",
       "      <th>RegistrationYear</th>\n",
       "      <th>Gearbox</th>\n",
       "      <th>Power</th>\n",
       "      <th>Model</th>\n",
       "      <th>Kilometer</th>\n",
       "      <th>FuelType</th>\n",
       "      <th>Brand</th>\n",
       "      <th>NotRepaired</th>\n",
       "    </tr>\n",
       "  </thead>\n",
       "  <tbody>\n",
       "    <tr>\n",
       "      <td>66628</td>\n",
       "      <td>1800</td>\n",
       "      <td>wagon</td>\n",
       "      <td>1993</td>\n",
       "      <td>manual</td>\n",
       "      <td>116</td>\n",
       "      <td>other</td>\n",
       "      <td>150000</td>\n",
       "      <td>petrol</td>\n",
       "      <td>volvo</td>\n",
       "      <td>no</td>\n",
       "    </tr>\n",
       "    <tr>\n",
       "      <td>190122</td>\n",
       "      <td>500</td>\n",
       "      <td>coupe</td>\n",
       "      <td>1999</td>\n",
       "      <td>manual</td>\n",
       "      <td>127</td>\n",
       "      <td>other</td>\n",
       "      <td>125000</td>\n",
       "      <td>petrol</td>\n",
       "      <td>ford</td>\n",
       "      <td>yes</td>\n",
       "    </tr>\n",
       "    <tr>\n",
       "      <td>259618</td>\n",
       "      <td>2650</td>\n",
       "      <td>small</td>\n",
       "      <td>2003</td>\n",
       "      <td>manual</td>\n",
       "      <td>62</td>\n",
       "      <td>polo</td>\n",
       "      <td>125000</td>\n",
       "      <td>petrol</td>\n",
       "      <td>volkswagen</td>\n",
       "      <td>not_specified</td>\n",
       "    </tr>\n",
       "    <tr>\n",
       "      <td>46533</td>\n",
       "      <td>299</td>\n",
       "      <td>small</td>\n",
       "      <td>2001</td>\n",
       "      <td>manual</td>\n",
       "      <td>75</td>\n",
       "      <td>fiesta</td>\n",
       "      <td>5000</td>\n",
       "      <td>not_specified</td>\n",
       "      <td>ford</td>\n",
       "      <td>no</td>\n",
       "    </tr>\n",
       "    <tr>\n",
       "      <td>237675</td>\n",
       "      <td>1550</td>\n",
       "      <td>sedan</td>\n",
       "      <td>2001</td>\n",
       "      <td>manual</td>\n",
       "      <td>105</td>\n",
       "      <td>golf</td>\n",
       "      <td>150000</td>\n",
       "      <td>petrol</td>\n",
       "      <td>volkswagen</td>\n",
       "      <td>no</td>\n",
       "    </tr>\n",
       "    <tr>\n",
       "      <td>76322</td>\n",
       "      <td>1350</td>\n",
       "      <td>sedan</td>\n",
       "      <td>2000</td>\n",
       "      <td>manual</td>\n",
       "      <td>105</td>\n",
       "      <td>3er</td>\n",
       "      <td>150000</td>\n",
       "      <td>petrol</td>\n",
       "      <td>bmw</td>\n",
       "      <td>no</td>\n",
       "    </tr>\n",
       "    <tr>\n",
       "      <td>327047</td>\n",
       "      <td>3800</td>\n",
       "      <td>sedan</td>\n",
       "      <td>2002</td>\n",
       "      <td>auto</td>\n",
       "      <td>131</td>\n",
       "      <td>a4</td>\n",
       "      <td>150000</td>\n",
       "      <td>petrol</td>\n",
       "      <td>audi</td>\n",
       "      <td>no</td>\n",
       "    </tr>\n",
       "    <tr>\n",
       "      <td>189546</td>\n",
       "      <td>1990</td>\n",
       "      <td>sedan</td>\n",
       "      <td>1999</td>\n",
       "      <td>manual</td>\n",
       "      <td>105</td>\n",
       "      <td>3er</td>\n",
       "      <td>100000</td>\n",
       "      <td>petrol</td>\n",
       "      <td>bmw</td>\n",
       "      <td>yes</td>\n",
       "    </tr>\n",
       "    <tr>\n",
       "      <td>112843</td>\n",
       "      <td>280</td>\n",
       "      <td>small</td>\n",
       "      <td>1995</td>\n",
       "      <td>manual</td>\n",
       "      <td>75</td>\n",
       "      <td>golf</td>\n",
       "      <td>150000</td>\n",
       "      <td>petrol</td>\n",
       "      <td>volkswagen</td>\n",
       "      <td>not_specified</td>\n",
       "    </tr>\n",
       "    <tr>\n",
       "      <td>243226</td>\n",
       "      <td>2350</td>\n",
       "      <td>small</td>\n",
       "      <td>1999</td>\n",
       "      <td>manual</td>\n",
       "      <td>131</td>\n",
       "      <td>punto</td>\n",
       "      <td>150000</td>\n",
       "      <td>petrol</td>\n",
       "      <td>fiat</td>\n",
       "      <td>no</td>\n",
       "    </tr>\n",
       "  </tbody>\n",
       "</table>\n",
       "</div>"
      ],
      "text/plain": [
       "        Price VehicleType  RegistrationYear Gearbox  Power   Model  Kilometer  \\\n",
       "66628    1800       wagon              1993  manual    116   other     150000   \n",
       "190122    500       coupe              1999  manual    127   other     125000   \n",
       "259618   2650       small              2003  manual     62    polo     125000   \n",
       "46533     299       small              2001  manual     75  fiesta       5000   \n",
       "237675   1550       sedan              2001  manual    105    golf     150000   \n",
       "76322    1350       sedan              2000  manual    105     3er     150000   \n",
       "327047   3800       sedan              2002    auto    131      a4     150000   \n",
       "189546   1990       sedan              1999  manual    105     3er     100000   \n",
       "112843    280       small              1995  manual     75    golf     150000   \n",
       "243226   2350       small              1999  manual    131   punto     150000   \n",
       "\n",
       "             FuelType       Brand    NotRepaired  \n",
       "66628          petrol       volvo             no  \n",
       "190122         petrol        ford            yes  \n",
       "259618         petrol  volkswagen  not_specified  \n",
       "46533   not_specified        ford             no  \n",
       "237675         petrol  volkswagen             no  \n",
       "76322          petrol         bmw             no  \n",
       "327047         petrol        audi             no  \n",
       "189546         petrol         bmw            yes  \n",
       "112843         petrol  volkswagen  not_specified  \n",
       "243226         petrol        fiat             no  "
      ]
     },
     "execution_count": 9,
     "metadata": {},
     "output_type": "execute_result"
    }
   ],
   "source": [
    "auto7.sample(n = 10, random_state = 12345)"
   ]
  },
  {
   "cell_type": "markdown",
   "metadata": {},
   "source": [
    "Для корректной работы алгоритмов выполним кодирование категориальных перменных. Чтобы не увеличивать количество столбцов, воспользуемся техникой порядкового кодирования:"
   ]
  },
  {
   "cell_type": "code",
   "execution_count": 10,
   "metadata": {},
   "outputs": [
    {
     "data": {
      "text/html": [
       "<div>\n",
       "<style scoped>\n",
       "    .dataframe tbody tr th:only-of-type {\n",
       "        vertical-align: middle;\n",
       "    }\n",
       "\n",
       "    .dataframe tbody tr th {\n",
       "        vertical-align: top;\n",
       "    }\n",
       "\n",
       "    .dataframe thead th {\n",
       "        text-align: right;\n",
       "    }\n",
       "</style>\n",
       "<table border=\"1\" class=\"dataframe\">\n",
       "  <thead>\n",
       "    <tr style=\"text-align: right;\">\n",
       "      <th></th>\n",
       "      <th>Price</th>\n",
       "      <th>VehicleType</th>\n",
       "      <th>RegistrationYear</th>\n",
       "      <th>Gearbox</th>\n",
       "      <th>Power</th>\n",
       "      <th>Model</th>\n",
       "      <th>Kilometer</th>\n",
       "      <th>FuelType</th>\n",
       "      <th>Brand</th>\n",
       "      <th>NotRepaired</th>\n",
       "    </tr>\n",
       "  </thead>\n",
       "  <tbody>\n",
       "    <tr>\n",
       "      <td>1</td>\n",
       "      <td>18300</td>\n",
       "      <td>2.0</td>\n",
       "      <td>2011</td>\n",
       "      <td>1.0</td>\n",
       "      <td>190</td>\n",
       "      <td>161.0</td>\n",
       "      <td>125000</td>\n",
       "      <td>2.0</td>\n",
       "      <td>1.0</td>\n",
       "      <td>2.0</td>\n",
       "    </tr>\n",
       "    <tr>\n",
       "      <td>2</td>\n",
       "      <td>9800</td>\n",
       "      <td>7.0</td>\n",
       "      <td>2004</td>\n",
       "      <td>0.0</td>\n",
       "      <td>163</td>\n",
       "      <td>117.0</td>\n",
       "      <td>125000</td>\n",
       "      <td>2.0</td>\n",
       "      <td>14.0</td>\n",
       "      <td>1.0</td>\n",
       "    </tr>\n",
       "    <tr>\n",
       "      <td>3</td>\n",
       "      <td>1500</td>\n",
       "      <td>6.0</td>\n",
       "      <td>2001</td>\n",
       "      <td>1.0</td>\n",
       "      <td>75</td>\n",
       "      <td>116.0</td>\n",
       "      <td>150000</td>\n",
       "      <td>7.0</td>\n",
       "      <td>38.0</td>\n",
       "      <td>0.0</td>\n",
       "    </tr>\n",
       "    <tr>\n",
       "      <td>4</td>\n",
       "      <td>3600</td>\n",
       "      <td>6.0</td>\n",
       "      <td>2008</td>\n",
       "      <td>1.0</td>\n",
       "      <td>69</td>\n",
       "      <td>101.0</td>\n",
       "      <td>90000</td>\n",
       "      <td>2.0</td>\n",
       "      <td>31.0</td>\n",
       "      <td>0.0</td>\n",
       "    </tr>\n",
       "    <tr>\n",
       "      <td>5</td>\n",
       "      <td>650</td>\n",
       "      <td>5.0</td>\n",
       "      <td>1995</td>\n",
       "      <td>1.0</td>\n",
       "      <td>102</td>\n",
       "      <td>11.0</td>\n",
       "      <td>150000</td>\n",
       "      <td>7.0</td>\n",
       "      <td>2.0</td>\n",
       "      <td>2.0</td>\n",
       "    </tr>\n",
       "  </tbody>\n",
       "</table>\n",
       "</div>"
      ],
      "text/plain": [
       "   Price  VehicleType  RegistrationYear  Gearbox  Power  Model  Kilometer  \\\n",
       "1  18300          2.0              2011      1.0    190  161.0     125000   \n",
       "2   9800          7.0              2004      0.0    163  117.0     125000   \n",
       "3   1500          6.0              2001      1.0     75  116.0     150000   \n",
       "4   3600          6.0              2008      1.0     69  101.0      90000   \n",
       "5    650          5.0              1995      1.0    102   11.0     150000   \n",
       "\n",
       "   FuelType  Brand  NotRepaired  \n",
       "1       2.0    1.0          2.0  \n",
       "2       2.0   14.0          1.0  \n",
       "3       7.0   38.0          0.0  \n",
       "4       2.0   31.0          0.0  \n",
       "5       7.0    2.0          2.0  "
      ]
     },
     "execution_count": 10,
     "metadata": {},
     "output_type": "execute_result"
    }
   ],
   "source": [
    "encoder_columns = ['VehicleType', 'Gearbox', 'Model', 'FuelType', 'Brand', 'NotRepaired']\n",
    "encoder = OrdinalEncoder()\n",
    "encoder.fit(auto7[encoder_columns])\n",
    "auto7[encoder_columns] = encoder.transform(auto7[encoder_columns])\n",
    "auto7.head()"
   ]
  },
  {
   "cell_type": "markdown",
   "metadata": {},
   "source": [
    "Рассмотрим корреляцию между признаками:"
   ]
  },
  {
   "cell_type": "code",
   "execution_count": 11,
   "metadata": {},
   "outputs": [
    {
     "data": {
      "image/png": "[encoded data removed]",
      "text/plain": [
       "<Figure size 1080x1080 with 2 Axes>"
      ]
     },
     "metadata": {
      "needs_background": "light"
     },
     "output_type": "display_data"
    }
   ],
   "source": [
    "\n",
    "correlation_mat = auto7.drop(['VehicleType', 'Gearbox', 'Model', 'FuelType', 'Brand', 'NotRepaired'], axis = 1).corr()\n",
    "plt.subplots(figsize=(15,15)) \n",
    "sns.heatmap(correlation_mat, annot = True)\n",
    "plt.show()"
   ]
  },
  {
   "cell_type": "markdown",
   "metadata": {},
   "source": [
    "**Вывод:** видим, что влияниие на целевой признак **\"Price\"** имеют следующие признаки: **\"RegistrationYear\"** - 0.48 (чем новее автомобиль, тем дороже), **\"Power\"** - 0.5 (чем мощнее двигатель, тем выше цена), **\"Kilometer\"** - (-0.39) (чем больше пробег, тем ниже цена)."
   ]
  },
  {
   "cell_type": "markdown",
   "metadata": {},
   "source": [
    "**Итог:** Данные подготовлены для обучения моделей."
   ]
  },
  {
   "cell_type": "markdown",
   "metadata": {},
   "source": [
    "## Обучение моделей"
   ]
  },
  {
   "cell_type": "markdown",
   "metadata": {},
   "source": [
    "Обучим следующие модели: \n",
    "- **CatBoost;**\n",
    "- **LightGBM;** \n",
    "- **решающее дерево;**\n",
    "- **случайный лес**. \n",
    "\n",
    "Основная метрика качества моделей: **метрика RMSE**."
   ]
  },
  {
   "cell_type": "markdown",
   "metadata": {},
   "source": [
    "### Формирование выборок"
   ]
  },
  {
   "cell_type": "markdown",
   "metadata": {},
   "source": [
    "Разделим основной датасет на три выборки - тренировочную, валидационную и тестовую в соотношении **3:1:1**"
   ]
  },
  {
   "cell_type": "code",
   "execution_count": 12,
   "metadata": {},
   "outputs": [],
   "source": [
    "features_list = ['VehicleType', 'RegistrationYear', 'Gearbox', 'Power', 'Model', \n",
    "                 'Kilometer', 'FuelType', 'Brand', 'NotRepaired']\n",
    "\n",
    "target_list = ['Price']\n",
    "\n",
    "cat_features = ['VehicleType', 'Gearbox', 'Model', 'FuelType', 'Brand', 'NotRepaired']\n",
    "\n",
    "features_train, features_valid, target_train, target_valid = \\\n",
    "train_test_split(auto7[features_list], auto7[target_list], test_size=0.4, random_state = 12345)\n",
    "\n",
    "features_valid, features_test, target_valid, target_test = \\\n",
    "train_test_split(features_valid, target_valid, test_size = 0.5, random_state = 12345)\n",
    "\n",
    "ct_features_train, ct_features_valid, ct_target_train, ct_target_valid = \\\n",
    "train_test_split(auto6[features_list], auto6[target_list], test_size=0.4, random_state = 12345)\n",
    "\n",
    "ct_features_valid, ct_features_test, ct_target_valid, ct_target_test = \\\n",
    "train_test_split(ct_features_valid, ct_target_valid, test_size = 0.5, random_state = 12345)"
   ]
  },
  {
   "cell_type": "code",
   "execution_count": 13,
   "metadata": {},
   "outputs": [
    {
     "name": "stdout",
     "output_type": "stream",
     "text": [
      "256391\n"
     ]
    },
    {
     "data": {
      "text/plain": [
       "256391"
      ]
     },
     "execution_count": 13,
     "metadata": {},
     "output_type": "execute_result"
    }
   ],
   "source": [
    "print(len(auto7))\n",
    "len(features_train) + len(features_valid) + len(features_test)"
   ]
  },
  {
   "cell_type": "markdown",
   "metadata": {},
   "source": [
    "Выборки готовы."
   ]
  },
  {
   "cell_type": "markdown",
   "metadata": {},
   "source": [
    "### Catboost"
   ]
  },
  {
   "cell_type": "code",
   "execution_count": 14,
   "metadata": {},
   "outputs": [
    {
     "name": "stdout",
     "output_type": "stream",
     "text": [
      "0:\tlearn: 3547.6450737\ttest: 3536.9015403\tbest: 3536.9015403 (0)\ttotal: 65.2ms\tremaining: 1m 5s\n",
      "100:\tlearn: 1628.1775163\ttest: 1680.7720059\tbest: 1680.7720059 (100)\ttotal: 9.69s\tremaining: 1m 26s\n",
      "200:\tlearn: 1551.2772901\ttest: 1637.3042412\tbest: 1637.3042412 (200)\ttotal: 19.3s\tremaining: 1m 16s\n",
      "300:\tlearn: 1507.0051910\ttest: 1615.7977315\tbest: 1615.7977315 (300)\ttotal: 28.7s\tremaining: 1m 6s\n",
      "400:\tlearn: 1474.5535823\ttest: 1606.3443134\tbest: 1606.3443134 (400)\ttotal: 38.3s\tremaining: 57.1s\n",
      "500:\tlearn: 1449.0876642\ttest: 1600.5824034\tbest: 1600.5824034 (500)\ttotal: 48s\tremaining: 47.8s\n",
      "Stopped by overfitting detector  (20 iterations wait)\n",
      "\n",
      "bestTest = 1599.031551\n",
      "bestIteration = 573\n",
      "\n",
      "Shrink model to first 574 iterations.\n",
      "CPU times: user 50.3 s, sys: 7.44 s, total: 57.7 s\n",
      "Wall time: 59.3 s\n"
     ]
    }
   ],
   "source": [
    "%%time\n",
    "start_time = timeit.default_timer()\n",
    "cb_model = CatBoostRegressor(learning_rate = 0.4,\n",
    "                             early_stopping_rounds = 20, \n",
    "                             random_state = 12345, \n",
    "                             one_hot_max_size = 300)\n",
    "cb_model.fit(ct_features_train, ct_target_train, cat_features = cat_features, \n",
    "               eval_set = (ct_features_valid, ct_target_valid), verbose = 100)\n",
    "cb_train_time = timeit.default_timer() - start_time"
   ]
  },
  {
   "cell_type": "code",
   "execution_count": 15,
   "metadata": {},
   "outputs": [
    {
     "data": {
      "text/plain": [
       "{'learn': {'RMSE': 1429.2634385846945},\n",
       " 'validation': {'RMSE': 1599.0315512974119}}"
      ]
     },
     "execution_count": 15,
     "metadata": {},
     "output_type": "execute_result"
    }
   ],
   "source": [
    "cb_model.best_score_"
   ]
  },
  {
   "cell_type": "code",
   "execution_count": 16,
   "metadata": {},
   "outputs": [],
   "source": [
    "cb_train_score = cb_model.best_score_['learn']['RMSE']\n",
    "cb_valid_score = cb_model.best_score_['validation']['RMSE']"
   ]
  },
  {
   "cell_type": "code",
   "execution_count": 17,
   "metadata": {},
   "outputs": [
    {
     "name": "stdout",
     "output_type": "stream",
     "text": [
      "CPU times: user 159 ms, sys: 11.7 ms, total: 171 ms\n",
      "Wall time: 99.3 ms\n"
     ]
    }
   ],
   "source": [
    "%%time\n",
    "start_time = timeit.default_timer()\n",
    "cb_test_result = cb_model.predict(ct_features_test)\n",
    "cb_predict_time = timeit.default_timer() - start_time"
   ]
  },
  {
   "cell_type": "code",
   "execution_count": 18,
   "metadata": {},
   "outputs": [
    {
     "data": {
      "text/plain": [
       "1596.2787041956976"
      ]
     },
     "execution_count": 18,
     "metadata": {},
     "output_type": "execute_result"
    }
   ],
   "source": [
    "cb_test_score = mean_squared_error(ct_target_test, cb_test_result) ** 0.5\n",
    "cb_test_score"
   ]
  },
  {
   "cell_type": "markdown",
   "metadata": {},
   "source": [
    "### LightGBM"
   ]
  },
  {
   "cell_type": "markdown",
   "metadata": {},
   "source": [
    "Чтобы у двух рассмотренных моделей был общий знаменатель для сравнения, максимальное количество деревьев установим 670 и скорость обучения подберём по аналогии с Catboost, чтобы задача сошлась ближе к концу. "
   ]
  },
  {
   "cell_type": "code",
   "execution_count": 19,
   "metadata": {},
   "outputs": [
    {
     "name": "stdout",
     "output_type": "stream",
     "text": [
      "4015.843201347629\n",
      "CPU times: user 4min 1s, sys: 1.72 s, total: 4min 3s\n",
      "Wall time: 4min 6s\n"
     ]
    }
   ],
   "source": [
    "%%time\n",
    "start_time = timeit.default_timer()\n",
    "lgbm_model = LGBMRegressor(max_depth=5, \n",
    "                            n_estimators = 100, \n",
    "                            random_state = 12345, \n",
    "                            objective='regression',\n",
    "                            num_leaves = 70,\n",
    "                            metric = 'rmse')\n",
    "lgbm_model.fit(features_train, target_train, categorical_feature = cat_features, verbose = 100)\n",
    "predictions_valid = lgbm_model.predict(features_valid, num_iteration=2)\n",
    "print(mean_squared_error(predictions_valid, target_valid) ** 0.5)\n",
    "lgbm_train_time = timeit.default_timer() - start_time"
   ]
  },
  {
   "cell_type": "code",
   "execution_count": 20,
   "metadata": {},
   "outputs": [],
   "source": [
    "lgbm_train_score = mean_squared_error(target_train, lgbm_model.predict(features_train)) ** 0.5\n",
    "lgbm_valid_score = mean_squared_error(target_valid, lgbm_model.predict(features_valid)) ** 0.5"
   ]
  },
  {
   "cell_type": "code",
   "execution_count": 21,
   "metadata": {},
   "outputs": [
    {
     "name": "stdout",
     "output_type": "stream",
     "text": [
      "CPU times: user 458 ms, sys: 0 ns, total: 458 ms\n",
      "Wall time: 460 ms\n"
     ]
    }
   ],
   "source": [
    "%%time\n",
    "start_time = timeit.default_timer()\n",
    "lgbm_test_result = lgbm_model.predict(features_test)\n",
    "lgbm_predict_time = timeit.default_timer() - start_time"
   ]
  },
  {
   "cell_type": "code",
   "execution_count": 22,
   "metadata": {},
   "outputs": [
    {
     "data": {
      "text/plain": [
       "1667.6757801364643"
      ]
     },
     "execution_count": 22,
     "metadata": {},
     "output_type": "execute_result"
    }
   ],
   "source": [
    "lgbm_test_score = mean_squared_error(target_test, lgbm_test_result) ** 0.5\n",
    "lgbm_test_score"
   ]
  },
  {
   "cell_type": "raw",
   "metadata": {},
   "source": [
    "cat_features = ['VehicleType', 'Gearbox', 'Model', 'FuelType', 'NotRepaired', 'Brand']\n",
    "\n",
    "%%time\n",
    "model_LGBMR = LGBMRegressor(max_depth=14, \n",
    "                            n_estimators=120, \n",
    "                            random_state=12345, \n",
    "                            objective='regression',\n",
    "                            num_leaves=1400,\n",
    "                            metric='rmse')\n",
    "model_LGBMR.fit(features_train, target_train, categorical_feature=cat_features, verbose=10)\n",
    "predictions_valid = model_LGBMR.predict(features_valid, num_iteration=2)\n",
    "print(mean_squared_error(predictions_valid, target_valid) ** 0.5)"
   ]
  },
  {
   "cell_type": "markdown",
   "metadata": {},
   "source": [
    "### Решающее дерево"
   ]
  },
  {
   "cell_type": "markdown",
   "metadata": {},
   "source": [
    "Для корректной работы алгоритмов выполним кодирование категориальных перменных. Чтобы не увеличивать количество столбцов, воспользуемся техникой порядкового кодирования:"
   ]
  },
  {
   "cell_type": "code",
   "execution_count": 23,
   "metadata": {},
   "outputs": [
    {
     "data": {
      "text/html": [
       "<div>\n",
       "<style scoped>\n",
       "    .dataframe tbody tr th:only-of-type {\n",
       "        vertical-align: middle;\n",
       "    }\n",
       "\n",
       "    .dataframe tbody tr th {\n",
       "        vertical-align: top;\n",
       "    }\n",
       "\n",
       "    .dataframe thead th {\n",
       "        text-align: right;\n",
       "    }\n",
       "</style>\n",
       "<table border=\"1\" class=\"dataframe\">\n",
       "  <thead>\n",
       "    <tr style=\"text-align: right;\">\n",
       "      <th></th>\n",
       "      <th>Price</th>\n",
       "      <th>VehicleType</th>\n",
       "      <th>RegistrationYear</th>\n",
       "      <th>Gearbox</th>\n",
       "      <th>Power</th>\n",
       "      <th>Model</th>\n",
       "      <th>Kilometer</th>\n",
       "      <th>FuelType</th>\n",
       "      <th>Brand</th>\n",
       "      <th>NotRepaired</th>\n",
       "    </tr>\n",
       "  </thead>\n",
       "  <tbody>\n",
       "    <tr>\n",
       "      <td>1</td>\n",
       "      <td>18300</td>\n",
       "      <td>2.0</td>\n",
       "      <td>2011</td>\n",
       "      <td>1.0</td>\n",
       "      <td>190</td>\n",
       "      <td>161.0</td>\n",
       "      <td>125000</td>\n",
       "      <td>2.0</td>\n",
       "      <td>1.0</td>\n",
       "      <td>2.0</td>\n",
       "    </tr>\n",
       "    <tr>\n",
       "      <td>2</td>\n",
       "      <td>9800</td>\n",
       "      <td>7.0</td>\n",
       "      <td>2004</td>\n",
       "      <td>0.0</td>\n",
       "      <td>163</td>\n",
       "      <td>117.0</td>\n",
       "      <td>125000</td>\n",
       "      <td>2.0</td>\n",
       "      <td>14.0</td>\n",
       "      <td>1.0</td>\n",
       "    </tr>\n",
       "    <tr>\n",
       "      <td>3</td>\n",
       "      <td>1500</td>\n",
       "      <td>6.0</td>\n",
       "      <td>2001</td>\n",
       "      <td>1.0</td>\n",
       "      <td>75</td>\n",
       "      <td>116.0</td>\n",
       "      <td>150000</td>\n",
       "      <td>7.0</td>\n",
       "      <td>38.0</td>\n",
       "      <td>0.0</td>\n",
       "    </tr>\n",
       "    <tr>\n",
       "      <td>4</td>\n",
       "      <td>3600</td>\n",
       "      <td>6.0</td>\n",
       "      <td>2008</td>\n",
       "      <td>1.0</td>\n",
       "      <td>69</td>\n",
       "      <td>101.0</td>\n",
       "      <td>90000</td>\n",
       "      <td>2.0</td>\n",
       "      <td>31.0</td>\n",
       "      <td>0.0</td>\n",
       "    </tr>\n",
       "    <tr>\n",
       "      <td>5</td>\n",
       "      <td>650</td>\n",
       "      <td>5.0</td>\n",
       "      <td>1995</td>\n",
       "      <td>1.0</td>\n",
       "      <td>102</td>\n",
       "      <td>11.0</td>\n",
       "      <td>150000</td>\n",
       "      <td>7.0</td>\n",
       "      <td>2.0</td>\n",
       "      <td>2.0</td>\n",
       "    </tr>\n",
       "  </tbody>\n",
       "</table>\n",
       "</div>"
      ],
      "text/plain": [
       "   Price  VehicleType  RegistrationYear  Gearbox  Power  Model  Kilometer  \\\n",
       "1  18300          2.0              2011      1.0    190  161.0     125000   \n",
       "2   9800          7.0              2004      0.0    163  117.0     125000   \n",
       "3   1500          6.0              2001      1.0     75  116.0     150000   \n",
       "4   3600          6.0              2008      1.0     69  101.0      90000   \n",
       "5    650          5.0              1995      1.0    102   11.0     150000   \n",
       "\n",
       "   FuelType  Brand  NotRepaired  \n",
       "1       2.0    1.0          2.0  \n",
       "2       2.0   14.0          1.0  \n",
       "3       7.0   38.0          0.0  \n",
       "4       2.0   31.0          0.0  \n",
       "5       7.0    2.0          2.0  "
      ]
     },
     "execution_count": 23,
     "metadata": {},
     "output_type": "execute_result"
    }
   ],
   "source": [
    "encoder_columns = ['VehicleType', 'Gearbox', 'Model', 'FuelType', 'Brand', 'NotRepaired']\n",
    "encoder = OrdinalEncoder()\n",
    "encoder.fit(auto7[encoder_columns])\n",
    "auto7[encoder_columns] = encoder.transform(auto7[encoder_columns])\n",
    "auto7.head()"
   ]
  },
  {
   "cell_type": "code",
   "execution_count": 24,
   "metadata": {},
   "outputs": [],
   "source": [
    "model = DecisionTreeRegressor(random_state=42)\n",
    "\n",
    "tree_params = {\n",
    "    'max_depth':[x for x in range(1, 50, 1)], \n",
    "    'min_samples_leaf':[x for x in range(2, 20, 1)],\n",
    "    'min_samples_split':[x for x in range(2, 20, 1)],\n",
    "}\n",
    "\n",
    "tree_grid = RandomizedSearchCV(model, tree_params, \n",
    "                               scoring = 'neg_mean_squared_error', \n",
    "                               n_iter = 20, random_state = 12345, cv = 5)\n",
    "tree_grid.fit(features_train, target_train)\n",
    "\n",
    "tree_model = DecisionTreeRegressor(random_state = 123454, **tree_grid.best_params_)"
   ]
  },
  {
   "cell_type": "code",
   "execution_count": 25,
   "metadata": {},
   "outputs": [
    {
     "name": "stdout",
     "output_type": "stream",
     "text": [
      "CPU times: user 443 ms, sys: 0 ns, total: 443 ms\n",
      "Wall time: 454 ms\n"
     ]
    }
   ],
   "source": [
    "%%time\n",
    "start_time = timeit.default_timer()\n",
    "tree_model.fit(features_train, target_train)\n",
    "tree_train_time = timeit.default_timer() - start_time"
   ]
  },
  {
   "cell_type": "code",
   "execution_count": 26,
   "metadata": {},
   "outputs": [
    {
     "name": "stdout",
     "output_type": "stream",
     "text": [
      "CPU times: user 16.7 ms, sys: 0 ns, total: 16.7 ms\n",
      "Wall time: 22.9 ms\n"
     ]
    }
   ],
   "source": [
    "%%time\n",
    "start_time = timeit.default_timer()\n",
    "tree_test_result = tree_model.predict(features_test)\n",
    "tree_predict_time = timeit.default_timer() - start_time"
   ]
  },
  {
   "cell_type": "code",
   "execution_count": 27,
   "metadata": {},
   "outputs": [
    {
     "name": "stdout",
     "output_type": "stream",
     "text": [
      "train RMSE = 1467.2451944469178\n",
      "valid RMSE = 1838.1333392814847\n",
      "test RMSE = 1852.186477463492\n"
     ]
    }
   ],
   "source": [
    "def RMSE(model):\n",
    "    train_score = mean_squared_error(target_train, model.predict(features_train)) ** 0.5\n",
    "    valid_score = mean_squared_error(target_valid, model.predict(features_valid)) ** 0.5\n",
    "    test_score = mean_squared_error(target_test, model.predict(features_test)) ** 0.5\n",
    "    print('train RMSE =', train_score)\n",
    "    print('valid RMSE =', valid_score)\n",
    "    print('test RMSE =', test_score)\n",
    "    return train_score, valid_score, test_score\n",
    "tree_train_score, tree_valid_score, tree_test_score = RMSE(tree_model)"
   ]
  },
  {
   "cell_type": "markdown",
   "metadata": {},
   "source": [
    "### Случайный лес"
   ]
  },
  {
   "cell_type": "code",
   "execution_count": 28,
   "metadata": {},
   "outputs": [
    {
     "name": "stdout",
     "output_type": "stream",
     "text": [
      "CPU times: user 3 µs, sys: 0 ns, total: 3 µs\n",
      "Wall time: 7.15 µs\n"
     ]
    }
   ],
   "source": [
    "%time\n",
    "model = RandomForestRegressor(random_state=42)\n",
    "\n",
    "#Сетка поиска сокращена для экономии времени\n",
    "forest_params = {\n",
    "    'n_estimators':[x for x in range(50, 51, 1)],\n",
    "    'max_depth':[x for x in range(18, 19, 1)], \n",
    "    'min_samples_leaf':[x for x in range(5, 6, 1)],\n",
    "    'min_samples_split':[x for x in range(3, 4, 1)],\n",
    "}\n",
    "\n",
    "forest_grid = RandomizedSearchCV(model, forest_params, \n",
    "                                 scoring = 'neg_mean_squared_error', \n",
    "                                 n_iter = 1, random_state = 12345, cv = 5)\n",
    "forest_grid.fit(features_train, np.ravel(target_train))\n",
    "\n",
    "forest_model = RandomForestRegressor(random_state = 12345, **forest_grid.best_params_)\n",
    "forest_train_time = timeit.default_timer() - start_time"
   ]
  },
  {
   "cell_type": "code",
   "execution_count": 29,
   "metadata": {},
   "outputs": [
    {
     "name": "stdout",
     "output_type": "stream",
     "text": [
      "CPU times: user 14.5 s, sys: 0 ns, total: 14.5 s\n",
      "Wall time: 14.8 s\n"
     ]
    }
   ],
   "source": [
    "%%time\n",
    "start_time = timeit.default_timer()\n",
    "forest_model.fit(features_train, np.ravel(target_train))\n",
    "forest_train_time = timeit.default_timer() - start_time"
   ]
  },
  {
   "cell_type": "code",
   "execution_count": 30,
   "metadata": {},
   "outputs": [
    {
     "name": "stdout",
     "output_type": "stream",
     "text": [
      "CPU times: user 15.9 ms, sys: 0 ns, total: 15.9 ms\n",
      "Wall time: 26 ms\n"
     ]
    }
   ],
   "source": [
    "%%time\n",
    "start_time = timeit.default_timer()\n",
    "tree_test_result = tree_model.predict(features_test)\n",
    "forest_predict_time = timeit.default_timer() - start_time"
   ]
  },
  {
   "cell_type": "code",
   "execution_count": 31,
   "metadata": {},
   "outputs": [
    {
     "name": "stdout",
     "output_type": "stream",
     "text": [
      "train RMSE = 1384.1449304850503\n",
      "valid RMSE = 1673.6596498856861\n",
      "test RMSE = 1677.89931670078\n"
     ]
    }
   ],
   "source": [
    "forest_train_score, forest_valid_score, forest_test_score = RMSE(forest_model)"
   ]
  },
  {
   "cell_type": "markdown",
   "metadata": {},
   "source": [
    "## Анализ моделей"
   ]
  },
  {
   "cell_type": "code",
   "execution_count": 32,
   "metadata": {},
   "outputs": [
    {
     "data": {
      "text/html": [
       "<div>\n",
       "<style scoped>\n",
       "    .dataframe tbody tr th:only-of-type {\n",
       "        vertical-align: middle;\n",
       "    }\n",
       "\n",
       "    .dataframe tbody tr th {\n",
       "        vertical-align: top;\n",
       "    }\n",
       "\n",
       "    .dataframe thead th {\n",
       "        text-align: right;\n",
       "    }\n",
       "</style>\n",
       "<table border=\"1\" class=\"dataframe\">\n",
       "  <thead>\n",
       "    <tr style=\"text-align: right;\">\n",
       "      <th></th>\n",
       "      <th>Train_RMSE</th>\n",
       "      <th>Valid_RMSE</th>\n",
       "      <th>Test_RMSE</th>\n",
       "      <th>Train_Time[s]</th>\n",
       "      <th>Predict_Time[s]</th>\n",
       "    </tr>\n",
       "  </thead>\n",
       "  <tbody>\n",
       "    <tr>\n",
       "      <td>Catboost</td>\n",
       "      <td>1429.263439</td>\n",
       "      <td>1599.031551</td>\n",
       "      <td>1596.278704</td>\n",
       "      <td>59.294935</td>\n",
       "      <td>0.099213</td>\n",
       "    </tr>\n",
       "    <tr>\n",
       "      <td>LightGBM</td>\n",
       "      <td>1598.261570</td>\n",
       "      <td>1660.750180</td>\n",
       "      <td>1667.675780</td>\n",
       "      <td>246.059854</td>\n",
       "      <td>0.460233</td>\n",
       "    </tr>\n",
       "    <tr>\n",
       "      <td>RandomForest</td>\n",
       "      <td>1384.144930</td>\n",
       "      <td>1673.659650</td>\n",
       "      <td>1677.899317</td>\n",
       "      <td>14.764558</td>\n",
       "      <td>0.025997</td>\n",
       "    </tr>\n",
       "    <tr>\n",
       "      <td>RandomTree</td>\n",
       "      <td>1467.245194</td>\n",
       "      <td>1838.133339</td>\n",
       "      <td>1852.186477</td>\n",
       "      <td>0.453611</td>\n",
       "      <td>0.022901</td>\n",
       "    </tr>\n",
       "  </tbody>\n",
       "</table>\n",
       "</div>"
      ],
      "text/plain": [
       "               Train_RMSE   Valid_RMSE    Test_RMSE  Train_Time[s]  \\\n",
       "Catboost      1429.263439  1599.031551  1596.278704      59.294935   \n",
       "LightGBM      1598.261570  1660.750180  1667.675780     246.059854   \n",
       "RandomForest  1384.144930  1673.659650  1677.899317      14.764558   \n",
       "RandomTree    1467.245194  1838.133339  1852.186477       0.453611   \n",
       "\n",
       "              Predict_Time[s]  \n",
       "Catboost             0.099213  \n",
       "LightGBM             0.460233  \n",
       "RandomForest         0.025997  \n",
       "RandomTree           0.022901  "
      ]
     },
     "execution_count": 32,
     "metadata": {},
     "output_type": "execute_result"
    }
   ],
   "source": [
    "data = [\n",
    "    [cb_train_score, cb_valid_score, cb_test_score, cb_train_time, cb_predict_time],\n",
    "    [lgbm_train_score, lgbm_valid_score, lgbm_test_score, lgbm_train_time, lgbm_predict_time],\n",
    "    [forest_train_score, forest_valid_score, forest_test_score, forest_train_time, forest_predict_time],\n",
    "    [tree_train_score, tree_valid_score, tree_test_score, tree_train_time, tree_predict_time]\n",
    "       ]\n",
    "     \n",
    "index = ['Catboost','LightGBM', 'RandomForest', 'RandomTree']\n",
    "columns = ['Train_RMSE', 'Valid_RMSE', 'Test_RMSE', 'Train_Time[s]', 'Predict_Time[s]']\n",
    "final = pd.DataFrame(data, index = index, columns = columns)\n",
    "final"
   ]
  },
  {
   "cell_type": "markdown",
   "metadata": {},
   "source": [
    "Оценим качество предсказаний моделей:"
   ]
  },
  {
   "cell_type": "code",
   "execution_count": 33,
   "metadata": {},
   "outputs": [
    {
     "data": {
      "image/png": "[encoded data removed]",
      "text/plain": [
       "<Figure size 864x216 with 1 Axes>"
      ]
     },
     "metadata": {
      "needs_background": "light"
     },
     "output_type": "display_data"
    },
    {
     "data": {
      "image/png": "[encoded data removed]",
      "text/plain": [
       "<Figure size 864x216 with 1 Axes>"
      ]
     },
     "metadata": {
      "needs_background": "light"
     },
     "output_type": "display_data"
    },
    {
     "data": {
      "image/png": "[encoded data removed]",
      "text/plain": [
       "<Figure size 864x216 with 1 Axes>"
      ]
     },
     "metadata": {
      "needs_background": "light"
     },
     "output_type": "display_data"
    }
   ],
   "source": [
    "for col in columns[:3]:\n",
    "    plt.figure(figsize = (12, 3))\n",
    "    sns.barplot(y = index, x = col, data = final)\n",
    "    plt.xlim(0, 2000)\n",
    "    plt.show()"
   ]
  },
  {
   "cell_type": "markdown",
   "metadata": {},
   "source": [
    "Наибольшей точностью прогноза обладают алгоритмы Catboost и LGBM. Далее следуют модель случайного леса. Хуже всех себя показало решающее дерево. "
   ]
  },
  {
   "cell_type": "markdown",
   "metadata": {},
   "source": [
    "Оценим время работы моделей:"
   ]
  },
  {
   "cell_type": "code",
   "execution_count": 34,
   "metadata": {},
   "outputs": [
    {
     "data": {
      "image/png": "[encoded data removed]",
      "text/plain": [
       "<Figure size 864x216 with 1 Axes>"
      ]
     },
     "metadata": {
      "needs_background": "light"
     },
     "output_type": "display_data"
    },
    {
     "data": {
      "image/png": "[encoded data removed]",
      "text/plain": [
       "<Figure size 864x216 with 1 Axes>"
      ]
     },
     "metadata": {
      "needs_background": "light"
     },
     "output_type": "display_data"
    }
   ],
   "source": [
    "for col in columns[3:]:\n",
    "    plt.figure(figsize=(12, 3))\n",
    "    sns.barplot(y=index, x=col, data=final)\n",
    "    plt.show()"
   ]
  },
  {
   "cell_type": "markdown",
   "metadata": {},
   "source": [
    "Наибольшее время обучения у модели градиентного бустинга LGBM, что связано с высокой ресурсоёмкостью. Catboost и случайный лес обучаются значительно быстрее, в то время как решающее дерево - практически мгновенно. Скорость предсказания у моделей случайного леса и дерева максимальная, Кэтбуст примерно в 3-4  раза медленее, LGBM предсказывает результат на порядок дольше - несколько секунд."
   ]
  },
  {
   "cell_type": "markdown",
   "metadata": {},
   "source": [
    "## Заключение"
   ]
  },
  {
   "cell_type": "markdown",
   "metadata": {},
   "source": [
    "Таким образом, если приоритет Заказчика - качество предсказания, то стоит обратить внимание на модели с алгоритмами LightGBM и Catboost. Если важен баланс между качеством/скоростью предсказаний - выбираем модель случайного леса. Если же приоритет быстродействие, то можно остановить свой выбор на модели решающего дерева."
   ]
  }
 ],
 "metadata": {
  "ExecuteTimeLog": [
   {
    "duration": 1619,
    "start_time": "2021-09-23T00:52:25.750Z"
   },
   {
    "duration": 1149,
    "start_time": "2021-09-23T00:52:27.373Z"
   },
   {
    "duration": 1168,
    "start_time": "2021-09-23T00:52:46.977Z"
   },
   {
    "duration": 1320,
    "start_time": "2021-09-23T00:53:36.554Z"
   },
   {
    "duration": 1108,
    "start_time": "2021-09-23T00:53:55.883Z"
   },
   {
    "duration": 1069,
    "start_time": "2021-09-23T00:54:07.587Z"
   },
   {
    "duration": 6,
    "start_time": "2021-09-23T00:56:15.641Z"
   },
   {
    "duration": 5,
    "start_time": "2021-09-23T00:56:16.146Z"
   },
   {
    "duration": 1077,
    "start_time": "2021-09-23T00:56:17.379Z"
   },
   {
    "duration": 7,
    "start_time": "2021-09-23T00:56:28.938Z"
   },
   {
    "duration": 1097,
    "start_time": "2021-09-23T00:56:29.570Z"
   },
   {
    "duration": 431,
    "start_time": "2021-09-23T00:58:21.882Z"
   },
   {
    "duration": 164,
    "start_time": "2021-09-23T00:58:28.170Z"
   },
   {
    "duration": 94,
    "start_time": "2021-09-23T00:59:58.971Z"
   },
   {
    "duration": 491,
    "start_time": "2021-09-23T01:19:16.276Z"
   },
   {
    "duration": 157,
    "start_time": "2021-09-23T01:19:30.904Z"
   },
   {
    "duration": 85,
    "start_time": "2021-09-23T01:26:59.930Z"
   },
   {
    "duration": 83,
    "start_time": "2021-09-23T01:28:05.429Z"
   },
   {
    "duration": 87,
    "start_time": "2021-09-23T01:28:21.450Z"
   },
   {
    "duration": 136,
    "start_time": "2021-09-23T01:28:31.034Z"
   },
   {
    "duration": 155,
    "start_time": "2021-09-23T01:29:42.275Z"
   },
   {
    "duration": 473,
    "start_time": "2021-09-23T01:38:21.862Z"
   },
   {
    "duration": 86,
    "start_time": "2021-09-23T01:38:38.566Z"
   },
   {
    "duration": 23,
    "start_time": "2021-09-23T01:50:19.142Z"
   },
   {
    "duration": 104,
    "start_time": "2021-09-23T02:16:48.238Z"
   },
   {
    "duration": 102,
    "start_time": "2021-09-23T02:16:48.576Z"
   },
   {
    "duration": 19,
    "start_time": "2021-09-23T02:16:48.993Z"
   },
   {
    "duration": 18,
    "start_time": "2021-09-23T02:16:49.736Z"
   },
   {
    "duration": 75,
    "start_time": "2021-09-23T02:17:39.897Z"
   },
   {
    "duration": 1610,
    "start_time": "2021-09-23T02:18:18.447Z"
   },
   {
    "duration": 1131,
    "start_time": "2021-09-23T02:18:20.060Z"
   },
   {
    "duration": 173,
    "start_time": "2021-09-23T02:18:21.194Z"
   },
   {
    "duration": 92,
    "start_time": "2021-09-23T02:18:21.370Z"
   },
   {
    "duration": 34,
    "start_time": "2021-09-23T02:18:21.465Z"
   },
   {
    "duration": 127,
    "start_time": "2021-09-23T02:18:22.485Z"
   },
   {
    "duration": 113,
    "start_time": "2021-09-23T02:18:23.003Z"
   },
   {
    "duration": 18,
    "start_time": "2021-09-23T02:18:23.469Z"
   },
   {
    "duration": 22,
    "start_time": "2021-09-23T02:18:24.415Z"
   },
   {
    "duration": 78,
    "start_time": "2021-09-23T02:18:24.925Z"
   },
   {
    "duration": 3,
    "start_time": "2021-09-23T02:24:39.751Z"
   },
   {
    "duration": 19,
    "start_time": "2021-09-23T02:27:37.538Z"
   },
   {
    "duration": 6,
    "start_time": "2021-09-23T02:30:39.035Z"
   },
   {
    "duration": 6,
    "start_time": "2021-09-23T02:30:53.434Z"
   },
   {
    "duration": 6,
    "start_time": "2021-09-23T02:30:58.281Z"
   },
   {
    "duration": 90,
    "start_time": "2021-09-23T02:34:44.052Z"
   },
   {
    "duration": 13,
    "start_time": "2021-09-23T02:35:01.227Z"
   },
   {
    "duration": 74,
    "start_time": "2021-09-23T02:38:48.318Z"
   },
   {
    "duration": 7,
    "start_time": "2021-09-23T02:39:25.005Z"
   },
   {
    "duration": 68,
    "start_time": "2021-09-23T02:43:15.439Z"
   },
   {
    "duration": 61,
    "start_time": "2021-09-23T02:50:44.574Z"
   },
   {
    "duration": 403,
    "start_time": "2021-09-23T02:51:37.904Z"
   },
   {
    "duration": 16,
    "start_time": "2021-09-23T02:51:49.019Z"
   },
   {
    "duration": 17,
    "start_time": "2021-09-23T02:52:33.327Z"
   },
   {
    "duration": 16,
    "start_time": "2021-09-23T02:53:29.167Z"
   },
   {
    "duration": 76,
    "start_time": "2021-09-23T02:56:19.945Z"
   },
   {
    "duration": 26,
    "start_time": "2021-09-23T03:03:31.478Z"
   },
   {
    "duration": 78,
    "start_time": "2021-09-23T03:03:35.762Z"
   },
   {
    "duration": 28,
    "start_time": "2021-09-23T03:04:01.994Z"
   },
   {
    "duration": 26,
    "start_time": "2021-09-23T03:04:18.418Z"
   },
   {
    "duration": 27,
    "start_time": "2021-09-23T03:04:29.850Z"
   },
   {
    "duration": 77,
    "start_time": "2021-09-23T03:04:32.155Z"
   },
   {
    "duration": 8,
    "start_time": "2021-09-23T03:04:34.189Z"
   },
   {
    "duration": 1527,
    "start_time": "2021-09-23T03:04:45.769Z"
   },
   {
    "duration": 1149,
    "start_time": "2021-09-23T03:04:47.298Z"
   },
   {
    "duration": 164,
    "start_time": "2021-09-23T03:04:48.450Z"
   },
   {
    "duration": 102,
    "start_time": "2021-09-23T03:04:48.617Z"
   },
   {
    "duration": 21,
    "start_time": "2021-09-23T03:04:48.722Z"
   },
   {
    "duration": 133,
    "start_time": "2021-09-23T03:04:48.746Z"
   },
   {
    "duration": 121,
    "start_time": "2021-09-23T03:04:48.881Z"
   },
   {
    "duration": 20,
    "start_time": "2021-09-23T03:04:49.006Z"
   },
   {
    "duration": 25,
    "start_time": "2021-09-23T03:04:49.029Z"
   },
   {
    "duration": 94,
    "start_time": "2021-09-23T03:04:49.057Z"
   },
   {
    "duration": 30,
    "start_time": "2021-09-23T03:04:49.153Z"
   },
   {
    "duration": 13,
    "start_time": "2021-09-23T03:04:49.185Z"
   },
   {
    "duration": 111,
    "start_time": "2021-09-23T03:04:49.201Z"
   },
   {
    "duration": 10,
    "start_time": "2021-09-23T03:04:49.314Z"
   },
   {
    "duration": 78,
    "start_time": "2021-09-23T03:04:49.326Z"
   },
   {
    "duration": 57,
    "start_time": "2021-09-23T03:04:49.407Z"
   },
   {
    "duration": 39,
    "start_time": "2021-09-23T03:04:49.467Z"
   },
   {
    "duration": 97,
    "start_time": "2021-09-23T03:04:49.508Z"
   },
   {
    "duration": 16,
    "start_time": "2021-09-23T03:04:49.608Z"
   },
   {
    "duration": 91,
    "start_time": "2021-09-23T03:04:49.626Z"
   },
   {
    "duration": 11,
    "start_time": "2021-09-23T03:06:49.367Z"
   },
   {
    "duration": 1533,
    "start_time": "2021-09-23T03:06:56.227Z"
   },
   {
    "duration": 1141,
    "start_time": "2021-09-23T03:06:57.764Z"
   },
   {
    "duration": 167,
    "start_time": "2021-09-23T03:06:58.908Z"
   },
   {
    "duration": 85,
    "start_time": "2021-09-23T03:06:59.081Z"
   },
   {
    "duration": 34,
    "start_time": "2021-09-23T03:06:59.168Z"
   },
   {
    "duration": 131,
    "start_time": "2021-09-23T03:06:59.205Z"
   },
   {
    "duration": 120,
    "start_time": "2021-09-23T03:06:59.339Z"
   },
   {
    "duration": 23,
    "start_time": "2021-09-23T03:06:59.463Z"
   },
   {
    "duration": 28,
    "start_time": "2021-09-23T03:06:59.489Z"
   },
   {
    "duration": 91,
    "start_time": "2021-09-23T03:06:59.520Z"
   },
   {
    "duration": 23,
    "start_time": "2021-09-23T03:06:59.614Z"
   },
   {
    "duration": 22,
    "start_time": "2021-09-23T03:06:59.640Z"
   },
   {
    "duration": 105,
    "start_time": "2021-09-23T03:06:59.664Z"
   },
   {
    "duration": 18,
    "start_time": "2021-09-23T03:06:59.772Z"
   },
   {
    "duration": 65,
    "start_time": "2021-09-23T03:06:59.792Z"
   },
   {
    "duration": 76,
    "start_time": "2021-09-23T03:06:59.860Z"
   },
   {
    "duration": 44,
    "start_time": "2021-09-23T03:06:59.938Z"
   },
   {
    "duration": 81,
    "start_time": "2021-09-23T03:06:59.985Z"
   },
   {
    "duration": 30,
    "start_time": "2021-09-23T03:07:00.069Z"
   },
   {
    "duration": 95,
    "start_time": "2021-09-23T03:07:00.101Z"
   },
   {
    "duration": 79,
    "start_time": "2021-09-23T03:08:04.165Z"
   },
   {
    "duration": 8,
    "start_time": "2021-09-23T03:08:05.685Z"
   },
   {
    "duration": 8,
    "start_time": "2021-09-23T03:08:19.979Z"
   },
   {
    "duration": 1495,
    "start_time": "2021-09-23T03:08:26.608Z"
   },
   {
    "duration": 1117,
    "start_time": "2021-09-23T03:08:28.106Z"
   },
   {
    "duration": 177,
    "start_time": "2021-09-23T03:08:29.230Z"
   },
   {
    "duration": 98,
    "start_time": "2021-09-23T03:08:29.410Z"
   },
   {
    "duration": 22,
    "start_time": "2021-09-23T03:08:29.510Z"
   },
   {
    "duration": 139,
    "start_time": "2021-09-23T03:08:29.535Z"
   },
   {
    "duration": 122,
    "start_time": "2021-09-23T03:08:29.678Z"
   },
   {
    "duration": 19,
    "start_time": "2021-09-23T03:08:29.803Z"
   },
   {
    "duration": 26,
    "start_time": "2021-09-23T03:08:29.825Z"
   },
   {
    "duration": 97,
    "start_time": "2021-09-23T03:08:29.854Z"
   },
   {
    "duration": 31,
    "start_time": "2021-09-23T03:08:29.953Z"
   },
   {
    "duration": 13,
    "start_time": "2021-09-23T03:08:29.987Z"
   },
   {
    "duration": 111,
    "start_time": "2021-09-23T03:08:30.002Z"
   },
   {
    "duration": 7,
    "start_time": "2021-09-23T03:08:30.116Z"
   },
   {
    "duration": 74,
    "start_time": "2021-09-23T03:08:30.125Z"
   },
   {
    "duration": 60,
    "start_time": "2021-09-23T03:08:30.202Z"
   },
   {
    "duration": 40,
    "start_time": "2021-09-23T03:08:30.265Z"
   },
   {
    "duration": 98,
    "start_time": "2021-09-23T03:08:30.308Z"
   },
   {
    "duration": 16,
    "start_time": "2021-09-23T03:08:30.409Z"
   },
   {
    "duration": 98,
    "start_time": "2021-09-23T03:08:30.428Z"
   },
   {
    "duration": 1007,
    "start_time": "2021-09-23T03:09:46.208Z"
   },
   {
    "duration": 996,
    "start_time": "2021-09-23T03:10:03.696Z"
   },
   {
    "duration": 1514,
    "start_time": "2021-09-23T03:11:17.634Z"
   },
   {
    "duration": 1126,
    "start_time": "2021-09-23T03:11:19.151Z"
   },
   {
    "duration": 172,
    "start_time": "2021-09-23T03:11:20.283Z"
   },
   {
    "duration": 91,
    "start_time": "2021-09-23T03:11:20.458Z"
   },
   {
    "duration": 34,
    "start_time": "2021-09-23T03:11:20.551Z"
   },
   {
    "duration": 137,
    "start_time": "2021-09-23T03:11:20.588Z"
   },
   {
    "duration": 123,
    "start_time": "2021-09-23T03:11:20.727Z"
   },
   {
    "duration": 19,
    "start_time": "2021-09-23T03:11:20.854Z"
   },
   {
    "duration": 21,
    "start_time": "2021-09-23T03:11:20.883Z"
   },
   {
    "duration": 86,
    "start_time": "2021-09-23T03:11:20.907Z"
   },
   {
    "duration": 22,
    "start_time": "2021-09-23T03:11:20.996Z"
   },
   {
    "duration": 13,
    "start_time": "2021-09-23T03:11:21.021Z"
   },
   {
    "duration": 113,
    "start_time": "2021-09-23T03:11:21.037Z"
   },
   {
    "duration": 7,
    "start_time": "2021-09-23T03:11:21.152Z"
   },
   {
    "duration": 76,
    "start_time": "2021-09-23T03:11:21.161Z"
   },
   {
    "duration": 67,
    "start_time": "2021-09-23T03:11:21.239Z"
   },
   {
    "duration": 26,
    "start_time": "2021-09-23T03:11:21.308Z"
   },
   {
    "duration": 99,
    "start_time": "2021-09-23T03:11:21.336Z"
   },
   {
    "duration": 16,
    "start_time": "2021-09-23T03:11:21.437Z"
   },
   {
    "duration": 90,
    "start_time": "2021-09-23T03:11:21.456Z"
   },
   {
    "duration": 982,
    "start_time": "2021-09-23T03:11:21.549Z"
   },
   {
    "duration": 29,
    "start_time": "2021-09-23T03:11:22.534Z"
   },
   {
    "duration": 139,
    "start_time": "2021-09-23T03:11:22.583Z"
   },
   {
    "duration": 392,
    "start_time": "2021-09-23T03:11:58.663Z"
   },
   {
    "duration": 7,
    "start_time": "2021-09-23T03:13:31.042Z"
   },
   {
    "duration": 1480,
    "start_time": "2021-09-23T03:13:39.732Z"
   },
   {
    "duration": 1140,
    "start_time": "2021-09-23T03:13:41.214Z"
   },
   {
    "duration": 169,
    "start_time": "2021-09-23T03:13:42.358Z"
   },
   {
    "duration": 101,
    "start_time": "2021-09-23T03:13:42.530Z"
   },
   {
    "duration": 23,
    "start_time": "2021-09-23T03:13:42.633Z"
   },
   {
    "duration": 143,
    "start_time": "2021-09-23T03:13:42.659Z"
   },
   {
    "duration": 122,
    "start_time": "2021-09-23T03:13:42.805Z"
   },
   {
    "duration": 20,
    "start_time": "2021-09-23T03:13:42.930Z"
   },
   {
    "duration": 37,
    "start_time": "2021-09-23T03:13:42.953Z"
   },
   {
    "duration": 90,
    "start_time": "2021-09-23T03:13:42.992Z"
   },
   {
    "duration": 14,
    "start_time": "2021-09-23T03:13:43.084Z"
   },
   {
    "duration": 14,
    "start_time": "2021-09-23T03:13:43.101Z"
   },
   {
    "duration": 122,
    "start_time": "2021-09-23T03:13:43.117Z"
   },
   {
    "duration": 7,
    "start_time": "2021-09-23T03:13:43.242Z"
   },
   {
    "duration": 76,
    "start_time": "2021-09-23T03:13:43.251Z"
   },
   {
    "duration": 67,
    "start_time": "2021-09-23T03:13:43.330Z"
   },
   {
    "duration": 27,
    "start_time": "2021-09-23T03:13:43.400Z"
   },
   {
    "duration": 102,
    "start_time": "2021-09-23T03:13:43.430Z"
   },
   {
    "duration": 15,
    "start_time": "2021-09-23T03:13:43.534Z"
   },
   {
    "duration": 90,
    "start_time": "2021-09-23T03:13:43.552Z"
   },
   {
    "duration": 899,
    "start_time": "2021-09-23T03:13:43.644Z"
   },
   {
    "duration": 48,
    "start_time": "2021-09-23T03:13:44.545Z"
   },
   {
    "duration": 146,
    "start_time": "2021-09-23T03:13:44.597Z"
   },
   {
    "duration": 12,
    "start_time": "2021-09-23T03:14:38.639Z"
   },
   {
    "duration": 385,
    "start_time": "2021-09-23T03:15:13.249Z"
   },
   {
    "duration": 10,
    "start_time": "2021-09-23T03:15:25.501Z"
   },
   {
    "duration": 284,
    "start_time": "2021-09-23T03:16:20.498Z"
   },
   {
    "duration": 15,
    "start_time": "2021-09-23T03:16:27.674Z"
   },
   {
    "duration": 1659,
    "start_time": "2021-09-23T03:16:47.087Z"
   },
   {
    "duration": 1129,
    "start_time": "2021-09-23T03:16:48.749Z"
   },
   {
    "duration": 170,
    "start_time": "2021-09-23T03:16:49.883Z"
   },
   {
    "duration": 90,
    "start_time": "2021-09-23T03:16:50.055Z"
   },
   {
    "duration": 22,
    "start_time": "2021-09-23T03:16:50.148Z"
   },
   {
    "duration": 128,
    "start_time": "2021-09-23T03:16:50.183Z"
   },
   {
    "duration": 132,
    "start_time": "2021-09-23T03:16:50.314Z"
   },
   {
    "duration": 20,
    "start_time": "2021-09-23T03:16:50.448Z"
   },
   {
    "duration": 29,
    "start_time": "2021-09-23T03:16:50.471Z"
   },
   {
    "duration": 88,
    "start_time": "2021-09-23T03:16:50.503Z"
   },
   {
    "duration": 21,
    "start_time": "2021-09-23T03:16:50.593Z"
   },
   {
    "duration": 13,
    "start_time": "2021-09-23T03:16:50.617Z"
   },
   {
    "duration": 116,
    "start_time": "2021-09-23T03:16:50.632Z"
   },
   {
    "duration": 8,
    "start_time": "2021-09-23T03:16:50.750Z"
   },
   {
    "duration": 73,
    "start_time": "2021-09-23T03:16:50.760Z"
   },
   {
    "duration": 71,
    "start_time": "2021-09-23T03:16:50.835Z"
   },
   {
    "duration": 30,
    "start_time": "2021-09-23T03:16:50.909Z"
   },
   {
    "duration": 112,
    "start_time": "2021-09-23T03:16:50.942Z"
   },
   {
    "duration": 25,
    "start_time": "2021-09-23T03:16:51.058Z"
   },
   {
    "duration": 71,
    "start_time": "2021-09-23T03:16:51.086Z"
   },
   {
    "duration": 935,
    "start_time": "2021-09-23T03:16:51.159Z"
   },
   {
    "duration": 29,
    "start_time": "2021-09-23T03:16:52.097Z"
   },
   {
    "duration": 161,
    "start_time": "2021-09-23T03:16:52.129Z"
   },
   {
    "duration": 6497,
    "start_time": "2021-09-23T03:17:57.598Z"
   },
   {
    "duration": 1580,
    "start_time": "2021-09-23T03:18:14.295Z"
   },
   {
    "duration": 1150,
    "start_time": "2021-09-23T03:18:15.878Z"
   },
   {
    "duration": 174,
    "start_time": "2021-09-23T03:18:17.032Z"
   },
   {
    "duration": 101,
    "start_time": "2021-09-23T03:18:17.208Z"
   },
   {
    "duration": 24,
    "start_time": "2021-09-23T03:18:17.312Z"
   },
   {
    "duration": 144,
    "start_time": "2021-09-23T03:18:17.339Z"
   },
   {
    "duration": 126,
    "start_time": "2021-09-23T03:18:17.485Z"
   },
   {
    "duration": 19,
    "start_time": "2021-09-23T03:18:17.615Z"
   },
   {
    "duration": 23,
    "start_time": "2021-09-23T03:18:17.637Z"
   },
   {
    "duration": 91,
    "start_time": "2021-09-23T03:18:17.663Z"
   },
   {
    "duration": 38,
    "start_time": "2021-09-23T03:18:17.757Z"
   },
   {
    "duration": 12,
    "start_time": "2021-09-23T03:18:17.797Z"
   },
   {
    "duration": 116,
    "start_time": "2021-09-23T03:18:17.812Z"
   },
   {
    "duration": 11,
    "start_time": "2021-09-23T03:18:17.931Z"
   },
   {
    "duration": 84,
    "start_time": "2021-09-23T03:18:17.945Z"
   },
   {
    "duration": 78,
    "start_time": "2021-09-23T03:18:18.032Z"
   },
   {
    "duration": 29,
    "start_time": "2021-09-23T03:18:18.113Z"
   },
   {
    "duration": 103,
    "start_time": "2021-09-23T03:18:18.145Z"
   },
   {
    "duration": 17,
    "start_time": "2021-09-23T03:18:18.251Z"
   },
   {
    "duration": 75,
    "start_time": "2021-09-23T03:18:18.283Z"
   },
   {
    "duration": 904,
    "start_time": "2021-09-23T03:18:18.361Z"
   },
   {
    "duration": 40,
    "start_time": "2021-09-23T03:18:19.268Z"
   },
   {
    "duration": 151,
    "start_time": "2021-09-23T03:18:19.312Z"
   },
   {
    "duration": 80,
    "start_time": "2021-09-23T03:19:09.566Z"
   },
   {
    "duration": 1575,
    "start_time": "2021-09-23T03:36:09.578Z"
   },
   {
    "duration": 1135,
    "start_time": "2021-09-23T03:36:11.156Z"
   },
   {
    "duration": 170,
    "start_time": "2021-09-23T03:36:12.294Z"
   },
   {
    "duration": 90,
    "start_time": "2021-09-23T03:36:12.467Z"
   },
   {
    "duration": 33,
    "start_time": "2021-09-23T03:36:12.560Z"
   },
   {
    "duration": 132,
    "start_time": "2021-09-23T03:36:12.596Z"
   },
   {
    "duration": 115,
    "start_time": "2021-09-23T03:36:12.731Z"
   },
   {
    "duration": 19,
    "start_time": "2021-09-23T03:36:12.850Z"
   },
   {
    "duration": 24,
    "start_time": "2021-09-23T03:36:12.884Z"
   },
   {
    "duration": 90,
    "start_time": "2021-09-23T03:36:12.910Z"
   },
   {
    "duration": 24,
    "start_time": "2021-09-23T03:36:13.002Z"
   },
   {
    "duration": 12,
    "start_time": "2021-09-23T03:36:13.029Z"
   },
   {
    "duration": 120,
    "start_time": "2021-09-23T03:36:13.044Z"
   },
   {
    "duration": 20,
    "start_time": "2021-09-23T03:36:13.167Z"
   },
   {
    "duration": 60,
    "start_time": "2021-09-23T03:36:13.190Z"
   },
   {
    "duration": 82,
    "start_time": "2021-09-23T03:36:13.252Z"
   },
   {
    "duration": 25,
    "start_time": "2021-09-23T03:36:13.337Z"
   },
   {
    "duration": 89,
    "start_time": "2021-09-23T03:36:13.364Z"
   },
   {
    "duration": 37,
    "start_time": "2021-09-23T03:36:13.456Z"
   },
   {
    "duration": 72,
    "start_time": "2021-09-23T03:36:13.495Z"
   },
   {
    "duration": 912,
    "start_time": "2021-09-23T03:36:13.583Z"
   },
   {
    "duration": 31,
    "start_time": "2021-09-23T03:36:14.498Z"
   },
   {
    "duration": 177,
    "start_time": "2021-09-23T03:36:14.535Z"
   },
   {
    "duration": 433,
    "start_time": "2021-09-23T03:36:14.715Z"
   },
   {
    "duration": 976,
    "start_time": "2021-09-23T03:36:14.174Z"
   },
   {
    "duration": 975,
    "start_time": "2021-09-23T03:36:14.177Z"
   },
   {
    "duration": 971,
    "start_time": "2021-09-23T03:36:14.182Z"
   },
   {
    "duration": 961,
    "start_time": "2021-09-23T03:36:14.193Z"
   },
   {
    "duration": 960,
    "start_time": "2021-09-23T03:36:14.196Z"
   },
   {
    "duration": 959,
    "start_time": "2021-09-23T03:36:14.198Z"
   },
   {
    "duration": 959,
    "start_time": "2021-09-23T03:36:14.200Z"
   },
   {
    "duration": 959,
    "start_time": "2021-09-23T03:36:14.201Z"
   },
   {
    "duration": 959,
    "start_time": "2021-09-23T03:36:14.203Z"
   },
   {
    "duration": 958,
    "start_time": "2021-09-23T03:36:14.205Z"
   },
   {
    "duration": 959,
    "start_time": "2021-09-23T03:36:14.206Z"
   },
   {
    "duration": 958,
    "start_time": "2021-09-23T03:36:14.208Z"
   },
   {
    "duration": 959,
    "start_time": "2021-09-23T03:36:14.209Z"
   },
   {
    "duration": 959,
    "start_time": "2021-09-23T03:36:14.210Z"
   },
   {
    "duration": 959,
    "start_time": "2021-09-23T03:36:14.212Z"
   },
   {
    "duration": 959,
    "start_time": "2021-09-23T03:36:14.213Z"
   },
   {
    "duration": 960,
    "start_time": "2021-09-23T03:36:14.214Z"
   },
   {
    "duration": 959,
    "start_time": "2021-09-23T03:36:14.216Z"
   },
   {
    "duration": 959,
    "start_time": "2021-09-23T03:36:14.217Z"
   },
   {
    "duration": 960,
    "start_time": "2021-09-23T03:36:14.218Z"
   },
   {
    "duration": 950,
    "start_time": "2021-09-23T03:36:14.229Z"
   },
   {
    "duration": 949,
    "start_time": "2021-09-23T03:36:14.232Z"
   },
   {
    "duration": 223,
    "start_time": "2021-09-23T03:37:31.813Z"
   },
   {
    "duration": 1610,
    "start_time": "2021-09-23T03:37:59.558Z"
   },
   {
    "duration": 1349,
    "start_time": "2021-09-23T03:38:01.171Z"
   },
   {
    "duration": 175,
    "start_time": "2021-09-23T03:38:02.523Z"
   },
   {
    "duration": 102,
    "start_time": "2021-09-23T03:38:02.701Z"
   },
   {
    "duration": 22,
    "start_time": "2021-09-23T03:38:02.805Z"
   },
   {
    "duration": 140,
    "start_time": "2021-09-23T03:38:02.830Z"
   },
   {
    "duration": 129,
    "start_time": "2021-09-23T03:38:02.972Z"
   },
   {
    "duration": 18,
    "start_time": "2021-09-23T03:38:03.105Z"
   },
   {
    "duration": 26,
    "start_time": "2021-09-23T03:38:03.127Z"
   },
   {
    "duration": 105,
    "start_time": "2021-09-23T03:38:03.155Z"
   },
   {
    "duration": 27,
    "start_time": "2021-09-23T03:38:03.263Z"
   },
   {
    "duration": 13,
    "start_time": "2021-09-23T03:38:03.292Z"
   },
   {
    "duration": 108,
    "start_time": "2021-09-23T03:38:03.308Z"
   },
   {
    "duration": 11,
    "start_time": "2021-09-23T03:38:03.419Z"
   },
   {
    "duration": 79,
    "start_time": "2021-09-23T03:38:03.432Z"
   },
   {
    "duration": 58,
    "start_time": "2021-09-23T03:38:03.514Z"
   },
   {
    "duration": 27,
    "start_time": "2021-09-23T03:38:03.583Z"
   },
   {
    "duration": 95,
    "start_time": "2021-09-23T03:38:03.613Z"
   },
   {
    "duration": 16,
    "start_time": "2021-09-23T03:38:03.711Z"
   },
   {
    "duration": 93,
    "start_time": "2021-09-23T03:38:03.730Z"
   },
   {
    "duration": 888,
    "start_time": "2021-09-23T03:38:03.826Z"
   },
   {
    "duration": 30,
    "start_time": "2021-09-23T03:38:04.716Z"
   },
   {
    "duration": 159,
    "start_time": "2021-09-23T03:38:04.752Z"
   },
   {
    "duration": 256,
    "start_time": "2021-09-23T03:38:04.914Z"
   },
   {
    "duration": 16,
    "start_time": "2021-09-23T03:38:05.172Z"
   },
   {
    "duration": 304,
    "start_time": "2021-09-23T03:40:22.872Z"
   },
   {
    "duration": 950,
    "start_time": "2021-09-23T03:40:22.231Z"
   },
   {
    "duration": 947,
    "start_time": "2021-09-23T03:40:22.235Z"
   },
   {
    "duration": 946,
    "start_time": "2021-09-23T03:40:22.237Z"
   },
   {
    "duration": 942,
    "start_time": "2021-09-23T03:40:22.243Z"
   },
   {
    "duration": 940,
    "start_time": "2021-09-23T03:40:22.246Z"
   },
   {
    "duration": 941,
    "start_time": "2021-09-23T03:40:22.247Z"
   },
   {
    "duration": 940,
    "start_time": "2021-09-23T03:40:22.249Z"
   },
   {
    "duration": 941,
    "start_time": "2021-09-23T03:40:22.250Z"
   },
   {
    "duration": 942,
    "start_time": "2021-09-23T03:40:22.251Z"
   },
   {
    "duration": 940,
    "start_time": "2021-09-23T03:40:22.254Z"
   },
   {
    "duration": 940,
    "start_time": "2021-09-23T03:40:22.256Z"
   },
   {
    "duration": 939,
    "start_time": "2021-09-23T03:40:22.258Z"
   },
   {
    "duration": 938,
    "start_time": "2021-09-23T03:40:22.260Z"
   },
   {
    "duration": 939,
    "start_time": "2021-09-23T03:40:22.261Z"
   },
   {
    "duration": 938,
    "start_time": "2021-09-23T03:40:22.263Z"
   },
   {
    "duration": 939,
    "start_time": "2021-09-23T03:40:22.264Z"
   },
   {
    "duration": 939,
    "start_time": "2021-09-23T03:40:22.266Z"
   },
   {
    "duration": 939,
    "start_time": "2021-09-23T03:40:22.267Z"
   },
   {
    "duration": 939,
    "start_time": "2021-09-23T03:40:22.269Z"
   },
   {
    "duration": 939,
    "start_time": "2021-09-23T03:40:22.270Z"
   },
   {
    "duration": 932,
    "start_time": "2021-09-23T03:40:22.278Z"
   },
   {
    "duration": 931,
    "start_time": "2021-09-23T03:40:22.281Z"
   },
   {
    "duration": 931,
    "start_time": "2021-09-23T03:40:22.282Z"
   },
   {
    "duration": 930,
    "start_time": "2021-09-23T03:40:22.284Z"
   },
   {
    "duration": 931,
    "start_time": "2021-09-23T03:40:22.285Z"
   },
   {
    "duration": 930,
    "start_time": "2021-09-23T03:40:22.287Z"
   },
   {
    "duration": 930,
    "start_time": "2021-09-23T03:40:22.289Z"
   },
   {
    "duration": 928,
    "start_time": "2021-09-23T03:40:22.292Z"
   },
   {
    "duration": 927,
    "start_time": "2021-09-23T03:40:22.294Z"
   },
   {
    "duration": 986,
    "start_time": "2021-09-23T03:40:22.296Z"
   },
   {
    "duration": 987,
    "start_time": "2021-09-23T03:40:22.297Z"
   },
   {
    "duration": 986,
    "start_time": "2021-09-23T03:40:22.299Z"
   },
   {
    "duration": 982,
    "start_time": "2021-09-23T03:40:22.305Z"
   },
   {
    "duration": 981,
    "start_time": "2021-09-23T03:40:22.307Z"
   },
   {
    "duration": 981,
    "start_time": "2021-09-23T03:40:22.309Z"
   },
   {
    "duration": 980,
    "start_time": "2021-09-23T03:40:22.311Z"
   },
   {
    "duration": 981,
    "start_time": "2021-09-23T03:40:22.312Z"
   },
   {
    "duration": 981,
    "start_time": "2021-09-23T03:40:22.313Z"
   },
   {
    "duration": 981,
    "start_time": "2021-09-23T03:40:22.315Z"
   },
   {
    "duration": 980,
    "start_time": "2021-09-23T03:40:22.317Z"
   },
   {
    "duration": 981,
    "start_time": "2021-09-23T03:40:22.318Z"
   },
   {
    "duration": 980,
    "start_time": "2021-09-23T03:40:22.320Z"
   },
   {
    "duration": 979,
    "start_time": "2021-09-23T03:40:22.322Z"
   },
   {
    "duration": 981,
    "start_time": "2021-09-23T03:40:22.323Z"
   },
   {
    "duration": 944,
    "start_time": "2021-09-23T03:40:22.361Z"
   },
   {
    "duration": 945,
    "start_time": "2021-09-23T03:40:22.362Z"
   },
   {
    "duration": 1579,
    "start_time": "2021-09-23T03:40:49.860Z"
   },
   {
    "duration": 4,
    "start_time": "2021-09-23T03:40:51.442Z"
   },
   {
    "duration": 1159,
    "start_time": "2021-09-23T03:40:51.449Z"
   },
   {
    "duration": 180,
    "start_time": "2021-09-23T03:40:52.611Z"
   },
   {
    "duration": 96,
    "start_time": "2021-09-23T03:40:52.794Z"
   },
   {
    "duration": 22,
    "start_time": "2021-09-23T03:40:52.892Z"
   },
   {
    "duration": 137,
    "start_time": "2021-09-23T03:40:52.917Z"
   },
   {
    "duration": 123,
    "start_time": "2021-09-23T03:40:53.059Z"
   },
   {
    "duration": 20,
    "start_time": "2021-09-23T03:40:53.185Z"
   },
   {
    "duration": 29,
    "start_time": "2021-09-23T03:40:53.207Z"
   },
   {
    "duration": 87,
    "start_time": "2021-09-23T03:40:53.238Z"
   },
   {
    "duration": 21,
    "start_time": "2021-09-23T03:40:53.328Z"
   },
   {
    "duration": 13,
    "start_time": "2021-09-23T03:40:53.351Z"
   },
   {
    "duration": 101,
    "start_time": "2021-09-23T03:40:53.383Z"
   },
   {
    "duration": 11,
    "start_time": "2021-09-23T03:40:53.487Z"
   },
   {
    "duration": 82,
    "start_time": "2021-09-23T03:40:53.501Z"
   },
   {
    "duration": 72,
    "start_time": "2021-09-23T03:40:53.586Z"
   },
   {
    "duration": 46,
    "start_time": "2021-09-23T03:40:53.661Z"
   },
   {
    "duration": 90,
    "start_time": "2021-09-23T03:40:53.709Z"
   },
   {
    "duration": 16,
    "start_time": "2021-09-23T03:40:53.801Z"
   },
   {
    "duration": 90,
    "start_time": "2021-09-23T03:40:53.819Z"
   },
   {
    "duration": 912,
    "start_time": "2021-09-23T03:40:53.912Z"
   },
   {
    "duration": 31,
    "start_time": "2021-09-23T03:40:54.829Z"
   },
   {
    "duration": 160,
    "start_time": "2021-09-23T03:40:54.863Z"
   },
   {
    "duration": 239,
    "start_time": "2021-09-23T03:40:55.025Z"
   },
   {
    "duration": 16,
    "start_time": "2021-09-23T03:40:55.266Z"
   },
   {
    "duration": 142526,
    "start_time": "2021-09-23T03:40:55.285Z"
   },
   {
    "duration": 6,
    "start_time": "2021-09-23T03:43:17.813Z"
   },
   {
    "duration": 8,
    "start_time": "2021-09-23T03:43:17.822Z"
   },
   {
    "duration": 350,
    "start_time": "2021-09-23T03:43:17.833Z"
   },
   {
    "duration": 8,
    "start_time": "2021-09-23T03:43:18.186Z"
   },
   {
    "duration": 103,
    "start_time": "2021-09-23T03:43:18.196Z"
   },
   {
    "duration": 1017,
    "start_time": "2021-09-23T03:43:18.302Z"
   },
   {
    "duration": 17,
    "start_time": "2021-09-23T03:43:19.322Z"
   },
   {
    "duration": 53056,
    "start_time": "2021-09-23T03:43:19.341Z"
   },
   {
    "duration": 24392,
    "start_time": "2021-09-23T03:44:12.400Z"
   },
   {
    "duration": 6189,
    "start_time": "2021-09-23T03:44:36.794Z"
   },
   {
    "duration": 10,
    "start_time": "2021-09-23T03:44:42.986Z"
   },
   {
    "duration": 76388,
    "start_time": "2021-09-23T03:44:43.000Z"
   },
   {
    "duration": 1050,
    "start_time": "2021-09-23T03:45:59.391Z"
   },
   {
    "duration": 46,
    "start_time": "2021-09-23T03:46:00.444Z"
   },
   {
    "duration": 170,
    "start_time": "2021-09-23T03:46:00.493Z"
   },
   {
    "duration": 111349,
    "start_time": "2021-09-23T03:46:00.665Z"
   },
   {
    "duration": 22016,
    "start_time": "2021-09-23T03:47:52.016Z"
   },
   {
    "duration": 26,
    "start_time": "2021-09-23T03:48:14.035Z"
   },
   {
    "duration": 4171,
    "start_time": "2021-09-23T03:48:14.084Z"
   },
   {
    "duration": 27,
    "start_time": "2021-09-23T03:48:18.258Z"
   },
   {
    "duration": 1255,
    "start_time": "2021-09-23T03:49:33.794Z"
   },
   {
    "duration": 884,
    "start_time": "2021-09-23T03:51:03.202Z"
   },
   {
    "duration": 1995,
    "start_time": "2021-09-23T03:52:05.164Z"
   },
   {
    "duration": 4,
    "start_time": "2021-09-23T03:52:07.162Z"
   },
   {
    "duration": 1160,
    "start_time": "2021-09-23T03:52:07.169Z"
   },
   {
    "duration": 177,
    "start_time": "2021-09-23T03:52:08.332Z"
   },
   {
    "duration": 109,
    "start_time": "2021-09-23T03:52:08.512Z"
   },
   {
    "duration": 23,
    "start_time": "2021-09-23T03:52:08.624Z"
   },
   {
    "duration": 142,
    "start_time": "2021-09-23T03:52:08.651Z"
   },
   {
    "duration": 127,
    "start_time": "2021-09-23T03:52:08.798Z"
   },
   {
    "duration": 21,
    "start_time": "2021-09-23T03:52:08.929Z"
   },
   {
    "duration": 44,
    "start_time": "2021-09-23T03:52:08.953Z"
   },
   {
    "duration": 88,
    "start_time": "2021-09-23T03:52:09.000Z"
   },
   {
    "duration": 24,
    "start_time": "2021-09-23T03:52:09.092Z"
   },
   {
    "duration": 16,
    "start_time": "2021-09-23T03:52:09.119Z"
   },
   {
    "duration": 126,
    "start_time": "2021-09-23T03:52:09.138Z"
   },
   {
    "duration": 17,
    "start_time": "2021-09-23T03:52:09.267Z"
   },
   {
    "duration": 65,
    "start_time": "2021-09-23T03:52:09.287Z"
   },
   {
    "duration": 76,
    "start_time": "2021-09-23T03:52:09.355Z"
   },
   {
    "duration": 50,
    "start_time": "2021-09-23T03:52:09.434Z"
   },
   {
    "duration": 75,
    "start_time": "2021-09-23T03:52:09.487Z"
   },
   {
    "duration": 28,
    "start_time": "2021-09-23T03:52:09.564Z"
   },
   {
    "duration": 92,
    "start_time": "2021-09-23T03:52:09.594Z"
   },
   {
    "duration": 938,
    "start_time": "2021-09-23T03:52:09.689Z"
   },
   {
    "duration": 30,
    "start_time": "2021-09-23T03:52:10.633Z"
   },
   {
    "duration": 155,
    "start_time": "2021-09-23T03:52:10.666Z"
   },
   {
    "duration": 235,
    "start_time": "2021-09-23T03:52:10.824Z"
   },
   {
    "duration": 7,
    "start_time": "2021-09-23T03:52:11.062Z"
   },
   {
    "duration": 151117,
    "start_time": "2021-09-23T03:52:11.082Z"
   },
   {
    "duration": 5,
    "start_time": "2021-09-23T03:54:42.201Z"
   },
   {
    "duration": 10,
    "start_time": "2021-09-23T03:54:42.208Z"
   },
   {
    "duration": 362,
    "start_time": "2021-09-23T03:54:42.220Z"
   },
   {
    "duration": 7,
    "start_time": "2021-09-23T03:54:42.584Z"
   },
   {
    "duration": 102,
    "start_time": "2021-09-23T03:54:42.594Z"
   },
   {
    "duration": 1060,
    "start_time": "2021-09-23T03:54:42.698Z"
   },
   {
    "duration": 26,
    "start_time": "2021-09-23T03:54:43.760Z"
   },
   {
    "duration": 784516,
    "start_time": "2021-09-23T03:54:43.788Z"
   },
   {
    "duration": 24506,
    "start_time": "2021-09-23T04:07:48.307Z"
   },
   {
    "duration": 6198,
    "start_time": "2021-09-23T04:08:12.815Z"
   },
   {
    "duration": 70,
    "start_time": "2021-09-23T04:08:19.016Z"
   },
   {
    "duration": 51041,
    "start_time": "2021-09-23T04:08:19.088Z"
   },
   {
    "duration": 659,
    "start_time": "2021-09-23T04:09:10.132Z"
   },
   {
    "duration": 26,
    "start_time": "2021-09-23T04:09:10.793Z"
   },
   {
    "duration": 137,
    "start_time": "2021-09-23T04:09:10.821Z"
   },
   {
    "duration": 110333,
    "start_time": "2021-09-23T04:09:10.960Z"
   },
   {
    "duration": 21377,
    "start_time": "2021-09-23T04:11:01.296Z"
   },
   {
    "duration": 27,
    "start_time": "2021-09-23T04:11:22.683Z"
   },
   {
    "duration": 4030,
    "start_time": "2021-09-23T04:11:22.713Z"
   },
   {
    "duration": 17,
    "start_time": "2021-09-23T04:11:26.745Z"
   },
   {
    "duration": 843,
    "start_time": "2021-09-23T04:11:26.765Z"
   },
   {
    "duration": 8,
    "start_time": "2021-09-23T04:11:27.611Z"
   },
   {
    "duration": 589,
    "start_time": "2021-09-23T04:11:27.621Z"
   },
   {
    "duration": 1348,
    "start_time": "2021-09-23T04:22:29.557Z"
   },
   {
    "duration": 861,
    "start_time": "2021-09-23T04:24:32.286Z"
   },
   {
    "duration": 1630,
    "start_time": "2021-09-23T04:24:59.954Z"
   },
   {
    "duration": 1170,
    "start_time": "2021-09-23T04:25:01.587Z"
   },
   {
    "duration": 187,
    "start_time": "2021-09-23T04:25:02.760Z"
   },
   {
    "duration": 99,
    "start_time": "2021-09-23T04:25:02.950Z"
   },
   {
    "duration": 43,
    "start_time": "2021-09-23T04:25:03.053Z"
   },
   {
    "duration": 162,
    "start_time": "2021-09-23T04:25:03.100Z"
   },
   {
    "duration": 133,
    "start_time": "2021-09-23T04:25:03.264Z"
   },
   {
    "duration": 23,
    "start_time": "2021-09-23T04:25:03.402Z"
   },
   {
    "duration": 27,
    "start_time": "2021-09-23T04:25:03.427Z"
   },
   {
    "duration": 94,
    "start_time": "2021-09-23T04:25:03.457Z"
   },
   {
    "duration": 32,
    "start_time": "2021-09-23T04:25:03.553Z"
   },
   {
    "duration": 13,
    "start_time": "2021-09-23T04:25:03.587Z"
   },
   {
    "duration": 115,
    "start_time": "2021-09-23T04:25:03.602Z"
   },
   {
    "duration": 11,
    "start_time": "2021-09-23T04:25:03.719Z"
   },
   {
    "duration": 86,
    "start_time": "2021-09-23T04:25:03.732Z"
   },
   {
    "duration": 65,
    "start_time": "2021-09-23T04:25:03.821Z"
   },
   {
    "duration": 27,
    "start_time": "2021-09-23T04:25:03.888Z"
   },
   {
    "duration": 104,
    "start_time": "2021-09-23T04:25:03.918Z"
   },
   {
    "duration": 16,
    "start_time": "2021-09-23T04:25:04.025Z"
   },
   {
    "duration": 96,
    "start_time": "2021-09-23T04:25:04.044Z"
   },
   {
    "duration": 961,
    "start_time": "2021-09-23T04:25:04.143Z"
   },
   {
    "duration": 33,
    "start_time": "2021-09-23T04:25:05.107Z"
   },
   {
    "duration": 160,
    "start_time": "2021-09-23T04:25:05.147Z"
   },
   {
    "duration": 891,
    "start_time": "2021-09-23T04:25:05.312Z"
   },
   {
    "duration": 241,
    "start_time": "2021-09-23T04:25:06.206Z"
   },
   {
    "duration": 8,
    "start_time": "2021-09-23T04:25:06.449Z"
   },
   {
    "duration": 1565,
    "start_time": "2021-09-23T04:27:12.776Z"
   },
   {
    "duration": 1162,
    "start_time": "2021-09-23T04:27:14.345Z"
   },
   {
    "duration": 187,
    "start_time": "2021-09-23T04:27:15.515Z"
   },
   {
    "duration": 106,
    "start_time": "2021-09-23T04:27:15.705Z"
   },
   {
    "duration": 22,
    "start_time": "2021-09-23T04:27:15.814Z"
   },
   {
    "duration": 151,
    "start_time": "2021-09-23T04:27:15.840Z"
   },
   {
    "duration": 128,
    "start_time": "2021-09-23T04:27:15.996Z"
   },
   {
    "duration": 20,
    "start_time": "2021-09-23T04:27:16.128Z"
   },
   {
    "duration": 38,
    "start_time": "2021-09-23T04:27:16.151Z"
   },
   {
    "duration": 90,
    "start_time": "2021-09-23T04:27:16.191Z"
   },
   {
    "duration": 23,
    "start_time": "2021-09-23T04:27:16.284Z"
   },
   {
    "duration": 12,
    "start_time": "2021-09-23T04:27:16.309Z"
   },
   {
    "duration": 114,
    "start_time": "2021-09-23T04:27:16.324Z"
   },
   {
    "duration": 11,
    "start_time": "2021-09-23T04:27:16.441Z"
   },
   {
    "duration": 73,
    "start_time": "2021-09-23T04:27:16.455Z"
   },
   {
    "duration": 67,
    "start_time": "2021-09-23T04:27:16.530Z"
   },
   {
    "duration": 29,
    "start_time": "2021-09-23T04:27:16.600Z"
   },
   {
    "duration": 101,
    "start_time": "2021-09-23T04:27:16.631Z"
   },
   {
    "duration": 16,
    "start_time": "2021-09-23T04:27:16.735Z"
   },
   {
    "duration": 98,
    "start_time": "2021-09-23T04:27:16.754Z"
   },
   {
    "duration": 901,
    "start_time": "2021-09-23T04:27:16.855Z"
   },
   {
    "duration": 56,
    "start_time": "2021-09-23T04:27:17.761Z"
   },
   {
    "duration": 138,
    "start_time": "2021-09-23T04:27:17.820Z"
   },
   {
    "duration": 242,
    "start_time": "2021-09-23T04:27:17.961Z"
   },
   {
    "duration": 7,
    "start_time": "2021-09-23T04:27:18.205Z"
   },
   {
    "duration": 109426,
    "start_time": "2021-09-23T04:27:18.215Z"
   },
   {
    "duration": 5,
    "start_time": "2021-09-23T04:29:07.644Z"
   },
   {
    "duration": 278,
    "start_time": "2021-09-23T04:29:07.651Z"
   },
   {
    "duration": 1031,
    "start_time": "2021-09-23T04:29:06.901Z"
   },
   {
    "duration": 1029,
    "start_time": "2021-09-23T04:29:06.904Z"
   },
   {
    "duration": 1030,
    "start_time": "2021-09-23T04:29:06.905Z"
   },
   {
    "duration": 1030,
    "start_time": "2021-09-23T04:29:06.906Z"
   },
   {
    "duration": 1030,
    "start_time": "2021-09-23T04:29:06.907Z"
   },
   {
    "duration": 1030,
    "start_time": "2021-09-23T04:29:06.909Z"
   },
   {
    "duration": 1030,
    "start_time": "2021-09-23T04:29:06.910Z"
   },
   {
    "duration": 1027,
    "start_time": "2021-09-23T04:29:06.915Z"
   },
   {
    "duration": 1026,
    "start_time": "2021-09-23T04:29:06.917Z"
   },
   {
    "duration": 1025,
    "start_time": "2021-09-23T04:29:06.919Z"
   },
   {
    "duration": 1025,
    "start_time": "2021-09-23T04:29:06.921Z"
   },
   {
    "duration": 1025,
    "start_time": "2021-09-23T04:29:06.922Z"
   },
   {
    "duration": 1026,
    "start_time": "2021-09-23T04:29:06.923Z"
   },
   {
    "duration": 1022,
    "start_time": "2021-09-23T04:29:06.928Z"
   },
   {
    "duration": 1017,
    "start_time": "2021-09-23T04:29:06.935Z"
   },
   {
    "duration": 1013,
    "start_time": "2021-09-23T04:29:06.940Z"
   },
   {
    "duration": 1013,
    "start_time": "2021-09-23T04:29:06.942Z"
   },
   {
    "duration": 1013,
    "start_time": "2021-09-23T04:29:06.943Z"
   },
   {
    "duration": 1013,
    "start_time": "2021-09-23T04:29:06.945Z"
   },
   {
    "duration": 1013,
    "start_time": "2021-09-23T04:29:06.946Z"
   },
   {
    "duration": 1013,
    "start_time": "2021-09-23T04:29:06.947Z"
   },
   {
    "duration": 1010,
    "start_time": "2021-09-23T04:29:06.952Z"
   },
   {
    "duration": 6,
    "start_time": "2021-09-23T04:33:15.019Z"
   },
   {
    "duration": 1129,
    "start_time": "2021-09-23T04:33:15.203Z"
   },
   {
    "duration": 172,
    "start_time": "2021-09-23T04:33:16.335Z"
   },
   {
    "duration": 108,
    "start_time": "2021-09-23T04:33:16.511Z"
   },
   {
    "duration": 31,
    "start_time": "2021-09-23T04:33:16.623Z"
   },
   {
    "duration": 127,
    "start_time": "2021-09-23T04:33:16.656Z"
   },
   {
    "duration": 116,
    "start_time": "2021-09-23T04:33:16.786Z"
   },
   {
    "duration": 19,
    "start_time": "2021-09-23T04:33:16.905Z"
   },
   {
    "duration": 34,
    "start_time": "2021-09-23T04:33:16.927Z"
   },
   {
    "duration": 77,
    "start_time": "2021-09-23T04:33:17.010Z"
   },
   {
    "duration": 20,
    "start_time": "2021-09-23T04:33:17.714Z"
   },
   {
    "duration": 12,
    "start_time": "2021-09-23T04:33:18.122Z"
   },
   {
    "duration": 75,
    "start_time": "2021-09-23T04:33:18.546Z"
   },
   {
    "duration": 11,
    "start_time": "2021-09-23T04:33:19.026Z"
   },
   {
    "duration": 60,
    "start_time": "2021-09-23T04:33:19.217Z"
   },
   {
    "duration": 59,
    "start_time": "2021-09-23T04:33:19.402Z"
   },
   {
    "duration": 29,
    "start_time": "2021-09-23T04:33:19.594Z"
   },
   {
    "duration": 78,
    "start_time": "2021-09-23T04:33:19.770Z"
   },
   {
    "duration": 23,
    "start_time": "2021-09-23T04:33:19.978Z"
   },
   {
    "duration": 75,
    "start_time": "2021-09-23T04:33:20.177Z"
   },
   {
    "duration": 886,
    "start_time": "2021-09-23T04:33:20.482Z"
   },
   {
    "duration": 38,
    "start_time": "2021-09-23T04:33:21.371Z"
   },
   {
    "duration": 153,
    "start_time": "2021-09-23T04:33:21.411Z"
   },
   {
    "duration": 807,
    "start_time": "2021-09-23T04:33:22.787Z"
   },
   {
    "duration": 818,
    "start_time": "2021-09-23T04:34:28.020Z"
   },
   {
    "duration": 6,
    "start_time": "2021-09-23T04:34:39.730Z"
   },
   {
    "duration": 1075,
    "start_time": "2021-09-23T04:34:40.443Z"
   },
   {
    "duration": 176,
    "start_time": "2021-09-23T04:34:42.052Z"
   },
   {
    "duration": 973,
    "start_time": "2021-09-23T04:34:43.186Z"
   },
   {
    "duration": 8152,
    "start_time": "2021-09-23T04:41:01.301Z"
   },
   {
    "duration": 6,
    "start_time": "2021-09-23T04:42:18.436Z"
   },
   {
    "duration": 5,
    "start_time": "2021-09-23T04:42:53.908Z"
   },
   {
    "duration": 576,
    "start_time": "2021-09-23T04:43:28.396Z"
   },
   {
    "duration": 198,
    "start_time": "2021-09-23T04:43:49.858Z"
   },
   {
    "duration": 302,
    "start_time": "2021-09-23T04:44:30.358Z"
   },
   {
    "duration": 7,
    "start_time": "2021-09-23T04:44:47.070Z"
   },
   {
    "duration": 542,
    "start_time": "2021-09-23T04:50:43.835Z"
   },
   {
    "duration": 589,
    "start_time": "2021-09-23T04:51:30.752Z"
   },
   {
    "duration": 560,
    "start_time": "2021-09-23T04:51:51.271Z"
   },
   {
    "duration": 582,
    "start_time": "2021-09-23T04:56:09.855Z"
   },
   {
    "duration": 895,
    "start_time": "2021-09-23T05:02:53.369Z"
   },
   {
    "duration": 844,
    "start_time": "2021-09-23T05:03:04.868Z"
   },
   {
    "duration": 95,
    "start_time": "2021-09-23T05:06:05.332Z"
   },
   {
    "duration": 1174,
    "start_time": "2021-09-23T05:06:30.195Z"
   },
   {
    "duration": 1183,
    "start_time": "2021-09-23T05:07:26.413Z"
   },
   {
    "duration": 1595,
    "start_time": "2021-09-23T05:07:49.092Z"
   },
   {
    "duration": 1156,
    "start_time": "2021-09-23T05:09:08.386Z"
   },
   {
    "duration": 509,
    "start_time": "2021-09-23T05:13:50.120Z"
   },
   {
    "duration": 1129,
    "start_time": "2021-09-23T05:14:16.878Z"
   },
   {
    "duration": 958,
    "start_time": "2021-09-23T05:18:00.472Z"
   },
   {
    "duration": 1096,
    "start_time": "2021-09-23T05:18:53.696Z"
   },
   {
    "duration": 79,
    "start_time": "2021-09-23T05:22:11.399Z"
   },
   {
    "duration": 1249,
    "start_time": "2021-09-23T05:23:34.448Z"
   },
   {
    "duration": 1155,
    "start_time": "2021-09-23T05:27:19.808Z"
   },
   {
    "duration": 1734,
    "start_time": "2021-09-23T05:40:51.157Z"
   },
   {
    "duration": 606,
    "start_time": "2021-09-23T05:45:26.790Z"
   },
   {
    "duration": 110,
    "start_time": "2021-09-23T05:45:46.718Z"
   },
   {
    "duration": 89,
    "start_time": "2021-09-23T05:46:05.502Z"
   },
   {
    "duration": 97,
    "start_time": "2021-09-23T05:46:13.629Z"
   },
   {
    "duration": 712,
    "start_time": "2021-09-23T05:47:42.466Z"
   },
   {
    "duration": 7986,
    "start_time": "2021-09-23T05:48:04.119Z"
   },
   {
    "duration": 892,
    "start_time": "2021-09-23T05:49:27.798Z"
   },
   {
    "duration": 7692,
    "start_time": "2021-09-23T05:49:50.777Z"
   },
   {
    "duration": 9274,
    "start_time": "2021-09-23T05:53:39.335Z"
   },
   {
    "duration": 7929,
    "start_time": "2021-09-23T05:54:05.139Z"
   },
   {
    "duration": 278,
    "start_time": "2021-09-23T06:02:49.372Z"
   },
   {
    "duration": 7888,
    "start_time": "2021-09-23T06:05:01.329Z"
   },
   {
    "duration": 8080,
    "start_time": "2021-09-23T06:05:27.702Z"
   },
   {
    "duration": 2359,
    "start_time": "2021-09-23T06:36:08.344Z"
   },
   {
    "duration": 1091,
    "start_time": "2021-09-23T06:36:09.615Z"
   },
   {
    "duration": 33,
    "start_time": "2021-09-23T06:36:33.347Z"
   },
   {
    "duration": 1583,
    "start_time": "2021-09-23T06:37:05.690Z"
   },
   {
    "duration": 1175,
    "start_time": "2021-09-23T06:37:07.276Z"
   },
   {
    "duration": 6,
    "start_time": "2021-09-23T06:37:09.674Z"
   },
   {
    "duration": 80,
    "start_time": "2021-09-23T06:37:12.209Z"
   },
   {
    "duration": 5856,
    "start_time": "2021-09-23T06:37:13.642Z"
   },
   {
    "duration": 1160,
    "start_time": "2021-09-23T06:39:10.463Z"
   },
   {
    "duration": 1051,
    "start_time": "2021-09-23T06:39:10.575Z"
   },
   {
    "duration": 1679,
    "start_time": "2021-09-23T06:39:36.206Z"
   },
   {
    "duration": 1199,
    "start_time": "2021-09-23T06:39:37.888Z"
   },
   {
    "duration": 5,
    "start_time": "2021-09-23T06:39:39.089Z"
   },
   {
    "duration": 57,
    "start_time": "2021-09-23T06:39:39.097Z"
   },
   {
    "duration": 5728,
    "start_time": "2021-09-23T06:39:40.741Z"
   },
   {
    "duration": 56,
    "start_time": "2021-09-23T06:40:30.700Z"
   },
   {
    "duration": 6221,
    "start_time": "2021-09-23T06:40:31.214Z"
   },
   {
    "duration": 6763,
    "start_time": "2021-09-23T06:41:33.837Z"
   },
   {
    "duration": 6649,
    "start_time": "2021-09-23T06:42:18.222Z"
   },
   {
    "duration": 6108,
    "start_time": "2021-09-23T06:42:47.096Z"
   },
   {
    "duration": 5,
    "start_time": "2021-09-23T08:13:10.169Z"
   },
   {
    "duration": 1126,
    "start_time": "2021-09-23T08:13:11.045Z"
   },
   {
    "duration": 5,
    "start_time": "2021-09-23T08:13:13.200Z"
   },
   {
    "duration": 35,
    "start_time": "2021-09-23T08:13:14.728Z"
   },
   {
    "duration": 5703,
    "start_time": "2021-09-23T08:13:17.497Z"
   },
   {
    "duration": 478,
    "start_time": "2021-09-23T08:13:27.792Z"
   },
   {
    "duration": 7958,
    "start_time": "2021-09-23T08:14:29.056Z"
   },
   {
    "duration": 1102,
    "start_time": "2021-09-23T08:14:35.914Z"
   },
   {
    "duration": 95,
    "start_time": "2021-09-23T08:15:09.494Z"
   },
   {
    "duration": 373,
    "start_time": "2021-09-23T08:15:12.384Z"
   },
   {
    "duration": 722,
    "start_time": "2021-09-23T08:15:39.018Z"
   },
   {
    "duration": 5491,
    "start_time": "2021-09-23T08:15:44.492Z"
   },
   {
    "duration": 707,
    "start_time": "2021-09-23T08:16:01.802Z"
   },
   {
    "duration": 5501,
    "start_time": "2021-09-23T08:16:02.511Z"
   },
   {
    "duration": 488,
    "start_time": "2021-09-23T08:16:16.841Z"
   },
   {
    "duration": 5315,
    "start_time": "2021-09-23T08:16:24.065Z"
   },
   {
    "duration": 90,
    "start_time": "2021-09-23T08:18:22.242Z"
   },
   {
    "duration": 452,
    "start_time": "2021-09-23T08:18:22.992Z"
   },
   {
    "duration": 5176,
    "start_time": "2021-09-23T08:18:27.483Z"
   },
   {
    "duration": 36,
    "start_time": "2021-09-23T08:19:24.476Z"
   },
   {
    "duration": 309,
    "start_time": "2021-09-23T08:19:28.377Z"
   },
   {
    "duration": 28,
    "start_time": "2021-09-23T08:19:45.693Z"
   },
   {
    "duration": 1110,
    "start_time": "2021-09-23T08:20:18.293Z"
   },
   {
    "duration": 1108,
    "start_time": "2021-09-23T08:20:34.146Z"
   },
   {
    "duration": 1026,
    "start_time": "2021-09-23T08:23:20.677Z"
   },
   {
    "duration": 1652,
    "start_time": "2021-09-23T08:24:53.924Z"
   },
   {
    "duration": 1213,
    "start_time": "2021-09-23T08:27:16.169Z"
   },
   {
    "duration": 1639,
    "start_time": "2021-09-23T08:27:41.381Z"
   },
   {
    "duration": 2019,
    "start_time": "2021-09-23T08:30:05.765Z"
   },
   {
    "duration": 1124,
    "start_time": "2021-09-23T08:30:06.664Z"
   },
   {
    "duration": 1112,
    "start_time": "2021-09-23T08:30:06.681Z"
   },
   {
    "duration": 1111,
    "start_time": "2021-09-23T08:30:06.684Z"
   },
   {
    "duration": 1106,
    "start_time": "2021-09-23T08:30:06.692Z"
   },
   {
    "duration": 1104,
    "start_time": "2021-09-23T08:30:06.696Z"
   },
   {
    "duration": 1105,
    "start_time": "2021-09-23T08:30:06.697Z"
   },
   {
    "duration": 1105,
    "start_time": "2021-09-23T08:30:06.699Z"
   },
   {
    "duration": 1097,
    "start_time": "2021-09-23T08:30:06.709Z"
   },
   {
    "duration": 1096,
    "start_time": "2021-09-23T08:30:06.712Z"
   },
   {
    "duration": 1097,
    "start_time": "2021-09-23T08:30:06.713Z"
   },
   {
    "duration": 1098,
    "start_time": "2021-09-23T08:30:06.714Z"
   },
   {
    "duration": 1051,
    "start_time": "2021-09-23T08:30:06.763Z"
   },
   {
    "duration": 1051,
    "start_time": "2021-09-23T08:30:06.765Z"
   },
   {
    "duration": 1053,
    "start_time": "2021-09-23T08:30:06.766Z"
   },
   {
    "duration": 1052,
    "start_time": "2021-09-23T08:30:06.768Z"
   },
   {
    "duration": 1045,
    "start_time": "2021-09-23T08:30:06.778Z"
   },
   {
    "duration": 1046,
    "start_time": "2021-09-23T08:30:06.779Z"
   },
   {
    "duration": 1102,
    "start_time": "2021-09-23T08:30:06.781Z"
   },
   {
    "duration": 1100,
    "start_time": "2021-09-23T08:30:06.785Z"
   },
   {
    "duration": 1093,
    "start_time": "2021-09-23T08:30:06.795Z"
   },
   {
    "duration": 1093,
    "start_time": "2021-09-23T08:30:06.797Z"
   },
   {
    "duration": 1091,
    "start_time": "2021-09-23T08:30:06.802Z"
   },
   {
    "duration": 1091,
    "start_time": "2021-09-23T08:30:06.804Z"
   },
   {
    "duration": 1044,
    "start_time": "2021-09-23T08:30:06.853Z"
   },
   {
    "duration": 1043,
    "start_time": "2021-09-23T08:30:06.856Z"
   },
   {
    "duration": 1035,
    "start_time": "2021-09-23T08:30:06.866Z"
   },
   {
    "duration": 1033,
    "start_time": "2021-09-23T08:30:06.870Z"
   },
   {
    "duration": 1034,
    "start_time": "2021-09-23T08:30:06.872Z"
   },
   {
    "duration": 1034,
    "start_time": "2021-09-23T08:30:06.874Z"
   },
   {
    "duration": 1035,
    "start_time": "2021-09-23T08:30:06.875Z"
   },
   {
    "duration": 1035,
    "start_time": "2021-09-23T08:30:06.877Z"
   },
   {
    "duration": 1031,
    "start_time": "2021-09-23T08:30:06.883Z"
   },
   {
    "duration": 1031,
    "start_time": "2021-09-23T08:30:06.885Z"
   },
   {
    "duration": 1032,
    "start_time": "2021-09-23T08:30:06.887Z"
   },
   {
    "duration": 1032,
    "start_time": "2021-09-23T08:30:06.889Z"
   },
   {
    "duration": 7,
    "start_time": "2021-09-23T08:30:33.126Z"
   },
   {
    "duration": 1163,
    "start_time": "2021-09-23T08:30:37.405Z"
   },
   {
    "duration": 6,
    "start_time": "2021-09-23T08:30:39.687Z"
   },
   {
    "duration": 46,
    "start_time": "2021-09-23T08:30:40.470Z"
   },
   {
    "duration": 5728,
    "start_time": "2021-09-23T08:30:40.654Z"
   },
   {
    "duration": 108,
    "start_time": "2021-09-23T08:30:46.385Z"
   },
   {
    "duration": 511,
    "start_time": "2021-09-23T08:30:46.496Z"
   },
   {
    "duration": 4642,
    "start_time": "2021-09-23T08:30:47.010Z"
   },
   {
    "duration": 42,
    "start_time": "2021-09-23T08:30:51.654Z"
   },
   {
    "duration": 1134,
    "start_time": "2021-09-23T08:30:51.698Z"
   },
   {
    "duration": 1585,
    "start_time": "2021-09-23T08:30:52.834Z"
   },
   {
    "duration": 15,
    "start_time": "2021-09-23T08:50:40.344Z"
   },
   {
    "duration": 16,
    "start_time": "2021-09-23T08:51:20.633Z"
   },
   {
    "duration": 89,
    "start_time": "2021-09-23T09:02:27.011Z"
   },
   {
    "duration": 451,
    "start_time": "2021-09-23T09:02:27.502Z"
   },
   {
    "duration": 1582,
    "start_time": "2021-09-23T09:05:16.922Z"
   },
   {
    "duration": 1153,
    "start_time": "2021-09-23T09:05:18.506Z"
   },
   {
    "duration": 5,
    "start_time": "2021-09-23T09:05:19.662Z"
   },
   {
    "duration": 56,
    "start_time": "2021-09-23T09:05:19.669Z"
   },
   {
    "duration": 11106,
    "start_time": "2021-09-23T09:05:19.728Z"
   },
   {
    "duration": 178,
    "start_time": "2021-09-23T09:05:30.837Z"
   },
   {
    "duration": 647,
    "start_time": "2021-09-23T09:05:31.018Z"
   },
   {
    "duration": 7206,
    "start_time": "2021-09-23T09:05:31.670Z"
   },
   {
    "duration": 41,
    "start_time": "2021-09-23T09:05:38.880Z"
   },
   {
    "duration": 1650,
    "start_time": "2021-09-23T09:05:38.925Z"
   },
   {
    "duration": 2205,
    "start_time": "2021-09-23T09:05:40.578Z"
   },
   {
    "duration": 16,
    "start_time": "2021-09-23T09:05:42.785Z"
   },
   {
    "duration": 122,
    "start_time": "2021-09-23T09:05:42.804Z"
   },
   {
    "duration": 8,
    "start_time": "2021-09-23T09:05:42.929Z"
   },
   {
    "duration": 433,
    "start_time": "2021-09-23T09:05:42.940Z"
   },
   {
    "duration": 6,
    "start_time": "2021-09-23T09:05:43.377Z"
   },
   {
    "duration": 278,
    "start_time": "2021-09-23T09:05:43.386Z"
   },
   {
    "duration": 1119,
    "start_time": "2021-09-23T09:05:42.548Z"
   },
   {
    "duration": 1120,
    "start_time": "2021-09-23T09:05:42.549Z"
   },
   {
    "duration": 1119,
    "start_time": "2021-09-23T09:05:42.551Z"
   },
   {
    "duration": 1118,
    "start_time": "2021-09-23T09:05:42.553Z"
   },
   {
    "duration": 1114,
    "start_time": "2021-09-23T09:05:42.558Z"
   },
   {
    "duration": 1114,
    "start_time": "2021-09-23T09:05:42.560Z"
   },
   {
    "duration": 1114,
    "start_time": "2021-09-23T09:05:42.561Z"
   },
   {
    "duration": 1113,
    "start_time": "2021-09-23T09:05:42.563Z"
   },
   {
    "duration": 1114,
    "start_time": "2021-09-23T09:05:42.564Z"
   },
   {
    "duration": 1114,
    "start_time": "2021-09-23T09:05:42.565Z"
   },
   {
    "duration": 1113,
    "start_time": "2021-09-23T09:05:42.567Z"
   },
   {
    "duration": 1114,
    "start_time": "2021-09-23T09:05:42.568Z"
   },
   {
    "duration": 1114,
    "start_time": "2021-09-23T09:05:42.569Z"
   },
   {
    "duration": 1113,
    "start_time": "2021-09-23T09:05:42.571Z"
   },
   {
    "duration": 1114,
    "start_time": "2021-09-23T09:05:42.572Z"
   },
   {
    "duration": 1114,
    "start_time": "2021-09-23T09:05:42.573Z"
   },
   {
    "duration": 1114,
    "start_time": "2021-09-23T09:05:42.574Z"
   },
   {
    "duration": 1114,
    "start_time": "2021-09-23T09:05:42.576Z"
   },
   {
    "duration": 1114,
    "start_time": "2021-09-23T09:05:42.577Z"
   },
   {
    "duration": 1114,
    "start_time": "2021-09-23T09:05:42.578Z"
   },
   {
    "duration": 6,
    "start_time": "2021-09-23T09:06:49.250Z"
   },
   {
    "duration": 49369,
    "start_time": "2021-09-23T09:09:41.562Z"
   },
   {
    "duration": 45155,
    "start_time": "2021-09-23T09:14:17.456Z"
   },
   {
    "duration": 6,
    "start_time": "2021-09-23T09:15:31.736Z"
   },
   {
    "duration": 45861,
    "start_time": "2021-09-23T09:16:49.221Z"
   },
   {
    "duration": 6,
    "start_time": "2021-09-23T09:17:44.679Z"
   },
   {
    "duration": 45952,
    "start_time": "2021-09-23T09:18:03.102Z"
   },
   {
    "duration": 45067,
    "start_time": "2021-09-23T09:19:09.061Z"
   },
   {
    "duration": 45248,
    "start_time": "2021-09-23T09:20:00.910Z"
   },
   {
    "duration": 6,
    "start_time": "2021-09-23T09:20:50.830Z"
   },
   {
    "duration": 4,
    "start_time": "2021-09-23T09:21:21.485Z"
   },
   {
    "duration": 18,
    "start_time": "2021-09-23T09:21:33.231Z"
   },
   {
    "duration": 9,
    "start_time": "2021-09-23T09:24:05.710Z"
   },
   {
    "duration": 41766,
    "start_time": "2021-09-23T09:26:02.424Z"
   },
   {
    "duration": 11485,
    "start_time": "2021-09-23T09:28:10.127Z"
   },
   {
    "duration": 2899,
    "start_time": "2021-09-23T09:28:21.615Z"
   },
   {
    "duration": 8,
    "start_time": "2021-09-23T09:28:51.311Z"
   },
   {
    "duration": 25210,
    "start_time": "2021-09-23T09:30:41.456Z"
   },
   {
    "duration": 318,
    "start_time": "2021-09-23T09:31:06.669Z"
   },
   {
    "duration": 20,
    "start_time": "2021-09-23T09:31:06.990Z"
   },
   {
    "duration": 95,
    "start_time": "2021-09-23T09:31:31.858Z"
   },
   {
    "duration": 55980,
    "start_time": "2021-09-23T09:32:50.824Z"
   },
   {
    "duration": 10876,
    "start_time": "2021-09-23T09:33:46.806Z"
   },
   {
    "duration": 25,
    "start_time": "2021-09-23T09:33:57.686Z"
   },
   {
    "duration": 3622,
    "start_time": "2021-09-23T09:35:32.210Z"
   },
   {
    "duration": 16,
    "start_time": "2021-09-23T09:35:42.858Z"
   },
   {
    "duration": 3520,
    "start_time": "2021-09-23T09:36:23.553Z"
   },
   {
    "duration": 17,
    "start_time": "2021-09-23T09:36:27.083Z"
   },
   {
    "duration": 865,
    "start_time": "2021-09-23T09:37:31.626Z"
   },
   {
    "duration": 9,
    "start_time": "2021-09-23T09:37:39.001Z"
   },
   {
    "duration": 495,
    "start_time": "2021-09-23T09:38:04.177Z"
   },
   {
    "duration": 977,
    "start_time": "2021-09-23T09:38:30.797Z"
   },
   {
    "duration": 74,
    "start_time": "2021-09-23T09:45:41.086Z"
   },
   {
    "duration": 7,
    "start_time": "2021-09-23T09:45:44.189Z"
   },
   {
    "duration": 60602,
    "start_time": "2021-09-23T09:47:59.716Z"
   },
   {
    "duration": 7,
    "start_time": "2021-09-23T09:51:25.987Z"
   },
   {
    "duration": 126634,
    "start_time": "2021-09-23T09:51:25.997Z"
   },
   {
    "duration": 2598,
    "start_time": "2021-09-23T09:55:02.807Z"
   },
   {
    "duration": 64206,
    "start_time": "2021-09-23T09:55:40.960Z"
   },
   {
    "duration": 6,
    "start_time": "2021-09-23T10:01:45.688Z"
   },
   {
    "duration": 76295,
    "start_time": "2021-09-23T10:02:04.210Z"
   },
   {
    "duration": 1580,
    "start_time": "2021-09-23T10:20:59.709Z"
   },
   {
    "duration": 1203,
    "start_time": "2021-09-23T10:21:01.292Z"
   },
   {
    "duration": 5,
    "start_time": "2021-09-23T10:21:02.499Z"
   },
   {
    "duration": 62,
    "start_time": "2021-09-23T10:21:02.507Z"
   },
   {
    "duration": 5600,
    "start_time": "2021-09-23T10:21:02.571Z"
   },
   {
    "duration": 114,
    "start_time": "2021-09-23T10:21:08.173Z"
   },
   {
    "duration": 491,
    "start_time": "2021-09-23T10:21:08.289Z"
   },
   {
    "duration": 4812,
    "start_time": "2021-09-23T10:21:08.785Z"
   },
   {
    "duration": 30,
    "start_time": "2021-09-23T10:21:13.600Z"
   },
   {
    "duration": 1159,
    "start_time": "2021-09-23T10:21:13.633Z"
   },
   {
    "duration": 1586,
    "start_time": "2021-09-23T10:21:14.795Z"
   },
   {
    "duration": 14,
    "start_time": "2021-09-23T10:21:16.384Z"
   },
   {
    "duration": 95,
    "start_time": "2021-09-23T10:21:16.401Z"
   },
   {
    "duration": 8,
    "start_time": "2021-09-23T10:21:16.498Z"
   },
   {
    "duration": 2289,
    "start_time": "2021-09-23T10:21:16.509Z"
   },
   {
    "duration": 5,
    "start_time": "2021-09-23T10:21:18.800Z"
   },
   {
    "duration": 274,
    "start_time": "2021-09-23T10:21:18.807Z"
   },
   {
    "duration": 1152,
    "start_time": "2021-09-23T10:21:17.933Z"
   },
   {
    "duration": 1152,
    "start_time": "2021-09-23T10:21:17.935Z"
   },
   {
    "duration": 1152,
    "start_time": "2021-09-23T10:21:17.937Z"
   },
   {
    "duration": 1151,
    "start_time": "2021-09-23T10:21:17.939Z"
   },
   {
    "duration": 1152,
    "start_time": "2021-09-23T10:21:17.940Z"
   },
   {
    "duration": 1153,
    "start_time": "2021-09-23T10:21:17.941Z"
   },
   {
    "duration": 1152,
    "start_time": "2021-09-23T10:21:17.943Z"
   },
   {
    "duration": 1153,
    "start_time": "2021-09-23T10:21:17.944Z"
   },
   {
    "duration": 1149,
    "start_time": "2021-09-23T10:21:17.949Z"
   },
   {
    "duration": 1148,
    "start_time": "2021-09-23T10:21:17.951Z"
   },
   {
    "duration": 1147,
    "start_time": "2021-09-23T10:21:17.953Z"
   },
   {
    "duration": 1148,
    "start_time": "2021-09-23T10:21:17.954Z"
   },
   {
    "duration": 1146,
    "start_time": "2021-09-23T10:21:17.957Z"
   },
   {
    "duration": 1146,
    "start_time": "2021-09-23T10:21:17.958Z"
   },
   {
    "duration": 1145,
    "start_time": "2021-09-23T10:21:17.960Z"
   },
   {
    "duration": 1142,
    "start_time": "2021-09-23T10:21:17.965Z"
   },
   {
    "duration": 1141,
    "start_time": "2021-09-23T10:21:17.967Z"
   },
   {
    "duration": 1142,
    "start_time": "2021-09-23T10:21:17.968Z"
   },
   {
    "duration": 2037,
    "start_time": "2021-09-23T10:22:18.072Z"
   },
   {
    "duration": 1998,
    "start_time": "2021-09-23T10:22:42.690Z"
   },
   {
    "duration": 1917,
    "start_time": "2021-09-23T10:23:19.722Z"
   },
   {
    "duration": 5881,
    "start_time": "2021-09-23T10:24:23.907Z"
   },
   {
    "duration": 158,
    "start_time": "2021-09-23T10:26:13.339Z"
   },
   {
    "duration": 1536,
    "start_time": "2021-09-23T10:26:21.035Z"
   },
   {
    "duration": 1282,
    "start_time": "2021-09-23T10:26:22.574Z"
   },
   {
    "duration": 5,
    "start_time": "2021-09-23T10:26:23.859Z"
   },
   {
    "duration": 45,
    "start_time": "2021-09-23T10:26:23.882Z"
   },
   {
    "duration": 5583,
    "start_time": "2021-09-23T10:26:23.930Z"
   },
   {
    "duration": 108,
    "start_time": "2021-09-23T10:26:29.516Z"
   },
   {
    "duration": 519,
    "start_time": "2021-09-23T10:26:29.627Z"
   },
   {
    "duration": 4836,
    "start_time": "2021-09-23T10:26:30.149Z"
   },
   {
    "duration": 30,
    "start_time": "2021-09-23T10:26:34.990Z"
   },
   {
    "duration": 1153,
    "start_time": "2021-09-23T10:26:35.023Z"
   },
   {
    "duration": 1635,
    "start_time": "2021-09-23T10:26:36.182Z"
   },
   {
    "duration": 14,
    "start_time": "2021-09-23T10:26:37.820Z"
   },
   {
    "duration": 99,
    "start_time": "2021-09-23T10:26:37.836Z"
   },
   {
    "duration": 7,
    "start_time": "2021-09-23T10:26:37.938Z"
   },
   {
    "duration": 361,
    "start_time": "2021-09-23T10:26:37.948Z"
   },
   {
    "duration": 6,
    "start_time": "2021-09-23T10:26:38.312Z"
   },
   {
    "duration": 276,
    "start_time": "2021-09-23T10:26:38.321Z"
   },
   {
    "duration": 1168,
    "start_time": "2021-09-23T10:26:37.433Z"
   },
   {
    "duration": 1167,
    "start_time": "2021-09-23T10:26:37.435Z"
   },
   {
    "duration": 1168,
    "start_time": "2021-09-23T10:26:37.436Z"
   },
   {
    "duration": 1167,
    "start_time": "2021-09-23T10:26:37.438Z"
   },
   {
    "duration": 1167,
    "start_time": "2021-09-23T10:26:37.440Z"
   },
   {
    "duration": 1163,
    "start_time": "2021-09-23T10:26:37.445Z"
   },
   {
    "duration": 1162,
    "start_time": "2021-09-23T10:26:37.447Z"
   },
   {
    "duration": 1162,
    "start_time": "2021-09-23T10:26:37.448Z"
   },
   {
    "duration": 1162,
    "start_time": "2021-09-23T10:26:37.449Z"
   },
   {
    "duration": 1160,
    "start_time": "2021-09-23T10:26:37.453Z"
   },
   {
    "duration": 1160,
    "start_time": "2021-09-23T10:26:37.454Z"
   },
   {
    "duration": 1159,
    "start_time": "2021-09-23T10:26:37.456Z"
   },
   {
    "duration": 1159,
    "start_time": "2021-09-23T10:26:37.458Z"
   },
   {
    "duration": 1158,
    "start_time": "2021-09-23T10:26:37.460Z"
   },
   {
    "duration": 1155,
    "start_time": "2021-09-23T10:26:37.464Z"
   },
   {
    "duration": 1156,
    "start_time": "2021-09-23T10:26:37.465Z"
   },
   {
    "duration": 1156,
    "start_time": "2021-09-23T10:26:37.467Z"
   },
   {
    "duration": 1156,
    "start_time": "2021-09-23T10:26:37.468Z"
   },
   {
    "duration": 194,
    "start_time": "2021-09-23T10:29:42.281Z"
   },
   {
    "duration": 62675,
    "start_time": "2021-09-23T10:29:52.073Z"
   },
   {
    "duration": 5,
    "start_time": "2021-09-23T10:31:11.480Z"
   },
   {
    "duration": 5,
    "start_time": "2021-09-23T10:31:31.010Z"
   },
   {
    "duration": 22,
    "start_time": "2021-09-23T10:31:36.915Z"
   },
   {
    "duration": 8,
    "start_time": "2021-09-23T10:31:42.466Z"
   },
   {
    "duration": 30110,
    "start_time": "2021-09-23T10:33:09.585Z"
   },
   {
    "duration": 17931,
    "start_time": "2021-09-23T10:33:58.257Z"
   },
   {
    "duration": 19337,
    "start_time": "2021-09-23T10:34:21.353Z"
   },
   {
    "duration": 60622,
    "start_time": "2021-09-23T10:35:08.378Z"
   },
   {
    "duration": 6,
    "start_time": "2021-09-23T10:36:09.003Z"
   },
   {
    "duration": 7,
    "start_time": "2021-09-23T10:36:09.012Z"
   },
   {
    "duration": 72,
    "start_time": "2021-09-23T10:36:09.022Z"
   },
   {
    "duration": 10,
    "start_time": "2021-09-23T10:36:09.097Z"
   },
   {
    "duration": 20584,
    "start_time": "2021-09-23T10:36:09.110Z"
   },
   {
    "duration": 4,
    "start_time": "2021-09-23T10:36:29.697Z"
   },
   {
    "duration": 20,
    "start_time": "2021-09-23T10:36:29.783Z"
   },
   {
    "duration": 8,
    "start_time": "2021-09-23T10:36:35.514Z"
   },
   {
    "duration": 19569,
    "start_time": "2021-09-23T10:36:37.716Z"
   },
   {
    "duration": 31403,
    "start_time": "2021-09-23T10:37:12.687Z"
   },
   {
    "duration": 2664,
    "start_time": "2021-09-23T10:38:01.323Z"
   },
   {
    "duration": 8,
    "start_time": "2021-09-23T10:38:07.018Z"
   },
   {
    "duration": 10702,
    "start_time": "2021-09-23T10:38:12.882Z"
   },
   {
    "duration": 2706,
    "start_time": "2021-09-23T10:38:23.587Z"
   },
   {
    "duration": 8,
    "start_time": "2021-09-23T10:38:26.297Z"
   },
   {
    "duration": 25107,
    "start_time": "2021-09-23T10:38:31.321Z"
   },
   {
    "duration": 318,
    "start_time": "2021-09-23T10:38:56.430Z"
   },
   {
    "duration": 33,
    "start_time": "2021-09-23T10:38:56.751Z"
   },
   {
    "duration": 95,
    "start_time": "2021-09-23T10:38:56.787Z"
   },
   {
    "duration": 55952,
    "start_time": "2021-09-23T10:38:56.885Z"
   },
   {
    "duration": 10912,
    "start_time": "2021-09-23T10:39:52.839Z"
   },
   {
    "duration": 34,
    "start_time": "2021-09-23T10:40:03.753Z"
   },
   {
    "duration": 3500,
    "start_time": "2021-09-23T10:40:03.790Z"
   },
   {
    "duration": 21,
    "start_time": "2021-09-23T10:40:07.311Z"
   },
   {
    "duration": 882,
    "start_time": "2021-09-23T10:40:07.335Z"
   },
   {
    "duration": 9,
    "start_time": "2021-09-23T10:40:08.220Z"
   },
   {
    "duration": 531,
    "start_time": "2021-09-23T10:40:08.232Z"
   },
   {
    "duration": 3667,
    "start_time": "2021-09-23T10:41:15.796Z"
   },
   {
    "duration": 27,
    "start_time": "2021-09-23T10:41:19.467Z"
   },
   {
    "duration": 775,
    "start_time": "2021-09-23T10:41:25.235Z"
   },
   {
    "duration": 495,
    "start_time": "2021-09-23T10:45:04.404Z"
   },
   {
    "duration": 1605,
    "start_time": "2021-09-23T10:57:12.057Z"
   },
   {
    "duration": 1163,
    "start_time": "2021-09-23T10:57:13.664Z"
   },
   {
    "duration": 7,
    "start_time": "2021-09-23T10:57:14.831Z"
   },
   {
    "duration": 77,
    "start_time": "2021-09-23T10:57:14.841Z"
   },
   {
    "duration": 5836,
    "start_time": "2021-09-23T10:57:14.920Z"
   },
   {
    "duration": 109,
    "start_time": "2021-09-23T10:57:20.760Z"
   },
   {
    "duration": 485,
    "start_time": "2021-09-23T10:57:20.883Z"
   },
   {
    "duration": 4964,
    "start_time": "2021-09-23T10:57:21.371Z"
   },
   {
    "duration": 46,
    "start_time": "2021-09-23T10:57:26.338Z"
   },
   {
    "duration": 1172,
    "start_time": "2021-09-23T10:57:26.387Z"
   },
   {
    "duration": 1561,
    "start_time": "2021-09-23T10:57:27.561Z"
   },
   {
    "duration": 15,
    "start_time": "2021-09-23T10:57:29.125Z"
   },
   {
    "duration": 94,
    "start_time": "2021-09-23T10:57:29.142Z"
   },
   {
    "duration": 8,
    "start_time": "2021-09-23T10:57:29.238Z"
   },
   {
    "duration": 58438,
    "start_time": "2021-09-23T10:57:29.248Z"
   },
   {
    "duration": 6,
    "start_time": "2021-09-23T10:58:27.688Z"
   },
   {
    "duration": 17,
    "start_time": "2021-09-23T10:58:27.696Z"
   },
   {
    "duration": 75,
    "start_time": "2021-09-23T10:58:27.716Z"
   },
   {
    "duration": 8,
    "start_time": "2021-09-23T10:58:27.793Z"
   },
   {
    "duration": 29279,
    "start_time": "2021-09-23T10:58:27.804Z"
   },
   {
    "duration": 10597,
    "start_time": "2021-09-23T10:58:57.086Z"
   },
   {
    "duration": 2638,
    "start_time": "2021-09-23T10:59:07.686Z"
   },
   {
    "duration": 10,
    "start_time": "2021-09-23T10:59:10.385Z"
   },
   {
    "duration": 26972,
    "start_time": "2021-09-23T10:59:10.397Z"
   },
   {
    "duration": 321,
    "start_time": "2021-09-23T10:59:37.371Z"
   },
   {
    "duration": 21,
    "start_time": "2021-09-23T10:59:37.694Z"
   },
   {
    "duration": 118,
    "start_time": "2021-09-23T10:59:37.719Z"
   },
   {
    "duration": 59503,
    "start_time": "2021-09-23T10:59:37.840Z"
   },
   {
    "duration": 11303,
    "start_time": "2021-09-23T11:00:37.346Z"
   },
   {
    "duration": 33,
    "start_time": "2021-09-23T11:00:48.651Z"
   },
   {
    "duration": 3509,
    "start_time": "2021-09-23T11:00:48.686Z"
   },
   {
    "duration": 16,
    "start_time": "2021-09-23T11:00:52.197Z"
   },
   {
    "duration": 897,
    "start_time": "2021-09-23T11:00:52.216Z"
   },
   {
    "duration": 696,
    "start_time": "2021-09-23T11:00:53.115Z"
   },
   {
    "duration": 464,
    "start_time": "2021-09-23T15:05:29.282Z"
   },
   {
    "duration": 1643,
    "start_time": "2021-09-23T15:05:36.872Z"
   },
   {
    "duration": 1263,
    "start_time": "2021-09-23T15:05:38.518Z"
   },
   {
    "duration": 5,
    "start_time": "2021-09-23T15:05:39.785Z"
   },
   {
    "duration": 64,
    "start_time": "2021-09-23T15:05:39.792Z"
   },
   {
    "duration": 6026,
    "start_time": "2021-09-23T15:05:39.858Z"
   },
   {
    "duration": 103,
    "start_time": "2021-09-23T15:05:45.887Z"
   },
   {
    "duration": 486,
    "start_time": "2021-09-23T15:05:45.993Z"
   },
   {
    "duration": 4758,
    "start_time": "2021-09-23T15:05:46.483Z"
   },
   {
    "duration": 26,
    "start_time": "2021-09-23T15:05:51.244Z"
   },
   {
    "duration": 1166,
    "start_time": "2021-09-23T15:05:51.272Z"
   },
   {
    "duration": 1593,
    "start_time": "2021-09-23T15:05:52.441Z"
   },
   {
    "duration": 469,
    "start_time": "2021-09-23T15:05:54.036Z"
   },
   {
    "duration": 88,
    "start_time": "2021-09-23T15:06:08.925Z"
   },
   {
    "duration": 1244,
    "start_time": "2021-09-23T15:06:11.356Z"
   },
   {
    "duration": 7,
    "start_time": "2021-09-23T15:06:17.636Z"
   },
   {
    "duration": 95583,
    "start_time": "2021-09-23T15:07:05.013Z"
   },
   {
    "duration": 4,
    "start_time": "2021-09-23T15:09:54.621Z"
   },
   {
    "duration": 59,
    "start_time": "2021-09-23T15:09:59.463Z"
   },
   {
    "duration": 7,
    "start_time": "2021-09-23T15:10:14.759Z"
   },
   {
    "duration": 36046,
    "start_time": "2021-09-23T15:11:04.272Z"
   },
   {
    "duration": 1565,
    "start_time": "2021-09-23T15:33:28.658Z"
   },
   {
    "duration": 1176,
    "start_time": "2021-09-23T15:33:30.226Z"
   },
   {
    "duration": 11,
    "start_time": "2021-09-23T15:33:31.406Z"
   },
   {
    "duration": 63,
    "start_time": "2021-09-23T15:33:31.421Z"
   },
   {
    "duration": 5586,
    "start_time": "2021-09-23T15:33:31.487Z"
   },
   {
    "duration": 115,
    "start_time": "2021-09-23T15:33:37.075Z"
   },
   {
    "duration": 471,
    "start_time": "2021-09-23T15:33:37.192Z"
   },
   {
    "duration": 4769,
    "start_time": "2021-09-23T15:33:37.666Z"
   },
   {
    "duration": 29,
    "start_time": "2021-09-23T15:33:42.438Z"
   },
   {
    "duration": 1147,
    "start_time": "2021-09-23T15:33:42.470Z"
   },
   {
    "duration": 1550,
    "start_time": "2021-09-23T15:33:43.619Z"
   },
   {
    "duration": 106,
    "start_time": "2021-09-23T15:33:45.171Z"
   },
   {
    "duration": 7,
    "start_time": "2021-09-23T15:33:45.279Z"
   },
   {
    "duration": 96783,
    "start_time": "2021-09-23T15:33:45.288Z"
   },
   {
    "duration": 7,
    "start_time": "2021-09-23T15:35:22.074Z"
   },
   {
    "duration": 8,
    "start_time": "2021-09-23T15:35:22.084Z"
   },
   {
    "duration": 35,
    "start_time": "2021-09-23T15:35:22.094Z"
   },
   {
    "duration": 7,
    "start_time": "2021-09-23T15:35:22.131Z"
   },
   {
    "duration": 46485,
    "start_time": "2021-09-23T15:35:22.140Z"
   },
   {
    "duration": 14113,
    "start_time": "2021-09-23T15:36:08.627Z"
   },
   {
    "duration": 3616,
    "start_time": "2021-09-23T15:36:22.743Z"
   },
   {
    "duration": 58,
    "start_time": "2021-09-23T15:36:26.361Z"
   },
   {
    "duration": 60802,
    "start_time": "2021-09-23T15:36:26.425Z"
   },
   {
    "duration": 776,
    "start_time": "2021-09-23T15:37:27.229Z"
   },
   {
    "duration": 31,
    "start_time": "2021-09-23T15:37:28.007Z"
   },
   {
    "duration": 131,
    "start_time": "2021-09-23T15:37:28.040Z"
   },
   {
    "duration": 131420,
    "start_time": "2021-09-23T15:37:28.174Z"
   },
   {
    "duration": 25654,
    "start_time": "2021-09-23T15:39:39.597Z"
   },
   {
    "duration": 26,
    "start_time": "2021-09-23T15:40:05.254Z"
   },
   {
    "duration": 4114,
    "start_time": "2021-09-23T15:40:05.282Z"
   },
   {
    "duration": 27,
    "start_time": "2021-09-23T15:40:09.398Z"
   },
   {
    "duration": 922,
    "start_time": "2021-09-23T15:40:09.428Z"
   },
   {
    "duration": 532,
    "start_time": "2021-09-23T15:40:10.353Z"
   },
   {
    "duration": 574,
    "start_time": "2021-09-23T15:51:26.330Z"
   },
   {
    "duration": 425,
    "start_time": "2021-09-23T15:52:02.690Z"
   },
   {
    "duration": 407,
    "start_time": "2021-09-23T15:52:34.509Z"
   },
   {
    "duration": 82,
    "start_time": "2021-09-23T15:53:12.046Z"
   },
   {
    "duration": 467,
    "start_time": "2021-09-23T15:53:12.557Z"
   },
   {
    "duration": 415,
    "start_time": "2021-09-23T15:53:31.071Z"
   },
   {
    "duration": 422,
    "start_time": "2021-09-23T15:53:38.243Z"
   },
   {
    "duration": 87,
    "start_time": "2021-09-23T15:54:07.276Z"
   },
   {
    "duration": 483,
    "start_time": "2021-09-23T15:54:07.587Z"
   },
   {
    "duration": 1566,
    "start_time": "2021-09-23T15:54:20.664Z"
   },
   {
    "duration": 1166,
    "start_time": "2021-09-23T15:54:22.233Z"
   },
   {
    "duration": 4,
    "start_time": "2021-09-23T15:54:23.402Z"
   },
   {
    "duration": 49,
    "start_time": "2021-09-23T15:54:23.417Z"
   },
   {
    "duration": 5786,
    "start_time": "2021-09-23T15:54:23.469Z"
   },
   {
    "duration": 107,
    "start_time": "2021-09-23T15:54:29.257Z"
   },
   {
    "duration": 560,
    "start_time": "2021-09-23T15:54:29.366Z"
   },
   {
    "duration": 2182,
    "start_time": "2021-09-23T15:54:27.748Z"
   },
   {
    "duration": 2170,
    "start_time": "2021-09-23T15:54:27.761Z"
   },
   {
    "duration": 2170,
    "start_time": "2021-09-23T15:54:27.762Z"
   },
   {
    "duration": 2170,
    "start_time": "2021-09-23T15:54:27.764Z"
   },
   {
    "duration": 2170,
    "start_time": "2021-09-23T15:54:27.766Z"
   },
   {
    "duration": 2169,
    "start_time": "2021-09-23T15:54:27.768Z"
   },
   {
    "duration": 2169,
    "start_time": "2021-09-23T15:54:27.769Z"
   },
   {
    "duration": 2168,
    "start_time": "2021-09-23T15:54:27.771Z"
   },
   {
    "duration": 2169,
    "start_time": "2021-09-23T15:54:27.772Z"
   },
   {
    "duration": 2169,
    "start_time": "2021-09-23T15:54:27.773Z"
   },
   {
    "duration": 2165,
    "start_time": "2021-09-23T15:54:27.778Z"
   },
   {
    "duration": 2166,
    "start_time": "2021-09-23T15:54:27.779Z"
   },
   {
    "duration": 2165,
    "start_time": "2021-09-23T15:54:27.781Z"
   },
   {
    "duration": 2165,
    "start_time": "2021-09-23T15:54:27.782Z"
   },
   {
    "duration": 2165,
    "start_time": "2021-09-23T15:54:27.783Z"
   },
   {
    "duration": 2124,
    "start_time": "2021-09-23T15:54:27.826Z"
   },
   {
    "duration": 2121,
    "start_time": "2021-09-23T15:54:27.830Z"
   },
   {
    "duration": 2120,
    "start_time": "2021-09-23T15:54:27.832Z"
   },
   {
    "duration": 2115,
    "start_time": "2021-09-23T15:54:27.839Z"
   },
   {
    "duration": 2114,
    "start_time": "2021-09-23T15:54:27.841Z"
   },
   {
    "duration": 2115,
    "start_time": "2021-09-23T15:54:27.842Z"
   },
   {
    "duration": 2115,
    "start_time": "2021-09-23T15:54:27.843Z"
   },
   {
    "duration": 2115,
    "start_time": "2021-09-23T15:54:27.844Z"
   },
   {
    "duration": 2096,
    "start_time": "2021-09-23T15:54:27.865Z"
   },
   {
    "duration": 2090,
    "start_time": "2021-09-23T15:54:27.872Z"
   },
   {
    "duration": 2089,
    "start_time": "2021-09-23T15:54:27.874Z"
   },
   {
    "duration": 474,
    "start_time": "2021-09-23T15:54:58.710Z"
   },
   {
    "duration": 410,
    "start_time": "2021-09-23T15:55:10.769Z"
   },
   {
    "duration": 6090,
    "start_time": "2021-09-23T15:55:21.933Z"
   },
   {
    "duration": 375,
    "start_time": "2021-09-23T15:56:10.682Z"
   },
   {
    "duration": 6013,
    "start_time": "2021-09-23T15:56:11.919Z"
   },
   {
    "duration": 352,
    "start_time": "2021-09-23T15:58:36.442Z"
   },
   {
    "duration": 5292,
    "start_time": "2021-09-23T15:58:38.153Z"
   },
   {
    "duration": 1700,
    "start_time": "2021-09-23T15:59:02.301Z"
   },
   {
    "duration": 1167,
    "start_time": "2021-09-23T15:59:04.004Z"
   },
   {
    "duration": 5,
    "start_time": "2021-09-23T15:59:05.175Z"
   },
   {
    "duration": 68,
    "start_time": "2021-09-23T15:59:05.183Z"
   },
   {
    "duration": 5686,
    "start_time": "2021-09-23T15:59:05.253Z"
   },
   {
    "duration": 109,
    "start_time": "2021-09-23T15:59:10.942Z"
   },
   {
    "duration": 369,
    "start_time": "2021-09-23T15:59:11.054Z"
   },
   {
    "duration": 4873,
    "start_time": "2021-09-23T15:59:11.428Z"
   },
   {
    "duration": 36,
    "start_time": "2021-09-23T15:59:16.305Z"
   },
   {
    "duration": 1137,
    "start_time": "2021-09-23T15:59:16.343Z"
   },
   {
    "duration": 1541,
    "start_time": "2021-09-23T15:59:17.483Z"
   },
   {
    "duration": 112,
    "start_time": "2021-09-23T15:59:19.027Z"
   },
   {
    "duration": 6,
    "start_time": "2021-09-23T15:59:19.141Z"
   },
   {
    "duration": 61702,
    "start_time": "2021-09-23T15:59:19.149Z"
   },
   {
    "duration": 6,
    "start_time": "2021-09-23T16:00:20.853Z"
   },
   {
    "duration": 7,
    "start_time": "2021-09-23T16:00:20.861Z"
   },
   {
    "duration": 53,
    "start_time": "2021-09-23T16:00:20.871Z"
   },
   {
    "duration": 7,
    "start_time": "2021-09-23T16:00:20.926Z"
   },
   {
    "duration": 32996,
    "start_time": "2021-09-23T16:00:20.936Z"
   },
   {
    "duration": 13801,
    "start_time": "2021-09-23T16:00:53.934Z"
   },
   {
    "duration": 3504,
    "start_time": "2021-09-23T16:01:07.737Z"
   },
   {
    "duration": 76,
    "start_time": "2021-09-23T16:01:11.244Z"
   },
   {
    "duration": 58081,
    "start_time": "2021-09-23T16:01:11.325Z"
   },
   {
    "duration": 892,
    "start_time": "2021-09-23T16:02:09.409Z"
   },
   {
    "duration": 28,
    "start_time": "2021-09-23T16:02:10.304Z"
   },
   {
    "duration": 122,
    "start_time": "2021-09-23T16:02:10.334Z"
   },
   {
    "duration": 131792,
    "start_time": "2021-09-23T16:02:10.458Z"
   },
   {
    "duration": 25582,
    "start_time": "2021-09-23T16:04:22.253Z"
   },
   {
    "duration": 25,
    "start_time": "2021-09-23T16:04:47.838Z"
   },
   {
    "duration": 3985,
    "start_time": "2021-09-23T16:04:47.866Z"
   },
   {
    "duration": 17,
    "start_time": "2021-09-23T16:04:51.854Z"
   },
   {
    "duration": 859,
    "start_time": "2021-09-23T16:04:51.874Z"
   },
   {
    "duration": 518,
    "start_time": "2021-09-23T16:04:52.737Z"
   },
   {
    "duration": 1670,
    "start_time": "2021-09-23T16:07:38.461Z"
   },
   {
    "duration": 1224,
    "start_time": "2021-09-23T16:07:40.134Z"
   },
   {
    "duration": 5,
    "start_time": "2021-09-23T16:07:41.361Z"
   },
   {
    "duration": 72,
    "start_time": "2021-09-23T16:07:41.369Z"
   },
   {
    "duration": 6273,
    "start_time": "2021-09-23T16:07:41.444Z"
   },
   {
    "duration": 109,
    "start_time": "2021-09-23T16:07:47.720Z"
   },
   {
    "duration": 362,
    "start_time": "2021-09-23T16:07:47.832Z"
   },
   {
    "duration": 4924,
    "start_time": "2021-09-23T16:07:48.196Z"
   },
   {
    "duration": 28,
    "start_time": "2021-09-23T16:07:53.124Z"
   },
   {
    "duration": 1162,
    "start_time": "2021-09-23T16:07:53.155Z"
   },
   {
    "duration": 1616,
    "start_time": "2021-09-23T16:07:54.319Z"
   },
   {
    "duration": 105,
    "start_time": "2021-09-23T16:07:55.938Z"
   },
   {
    "duration": 7,
    "start_time": "2021-09-23T16:07:56.045Z"
   },
   {
    "duration": 94571,
    "start_time": "2021-09-23T16:07:56.055Z"
   },
   {
    "duration": 5,
    "start_time": "2021-09-23T16:09:30.629Z"
   },
   {
    "duration": 9,
    "start_time": "2021-09-23T16:09:30.637Z"
   },
   {
    "duration": 81,
    "start_time": "2021-09-23T16:09:30.649Z"
   },
   {
    "duration": 7,
    "start_time": "2021-09-23T16:09:30.733Z"
   },
   {
    "duration": 24479,
    "start_time": "2021-09-23T16:09:30.742Z"
   },
   {
    "duration": 8797,
    "start_time": "2021-09-23T16:09:55.223Z"
   },
   {
    "duration": 2220,
    "start_time": "2021-09-23T16:10:04.022Z"
   },
   {
    "duration": 7,
    "start_time": "2021-09-23T16:10:06.245Z"
   },
   {
    "duration": 58229,
    "start_time": "2021-09-23T16:10:06.254Z"
   },
   {
    "duration": 782,
    "start_time": "2021-09-23T16:11:04.486Z"
   },
   {
    "duration": 24,
    "start_time": "2021-09-23T16:11:05.270Z"
   },
   {
    "duration": 135,
    "start_time": "2021-09-23T16:11:05.297Z"
   },
   {
    "duration": 130359,
    "start_time": "2021-09-23T16:11:05.437Z"
   },
   {
    "duration": 26059,
    "start_time": "2021-09-23T16:13:15.799Z"
   },
   {
    "duration": 24,
    "start_time": "2021-09-23T16:13:41.860Z"
   },
   {
    "duration": 3840,
    "start_time": "2021-09-23T16:13:41.886Z"
   },
   {
    "duration": 15,
    "start_time": "2021-09-23T16:13:45.729Z"
   },
   {
    "duration": 850,
    "start_time": "2021-09-23T16:13:45.747Z"
   },
   {
    "duration": 488,
    "start_time": "2021-09-23T16:13:46.599Z"
   },
   {
    "duration": 1551,
    "start_time": "2021-09-23T16:17:55.265Z"
   },
   {
    "duration": 1184,
    "start_time": "2021-09-23T16:17:56.819Z"
   },
   {
    "duration": 14,
    "start_time": "2021-09-23T16:17:58.005Z"
   },
   {
    "duration": 48,
    "start_time": "2021-09-23T16:17:58.022Z"
   },
   {
    "duration": 5945,
    "start_time": "2021-09-23T16:17:58.072Z"
   },
   {
    "duration": 105,
    "start_time": "2021-09-23T16:18:04.020Z"
   },
   {
    "duration": 374,
    "start_time": "2021-09-23T16:18:04.128Z"
   },
   {
    "duration": 5053,
    "start_time": "2021-09-23T16:18:04.506Z"
   },
   {
    "duration": 57,
    "start_time": "2021-09-23T16:18:09.563Z"
   },
   {
    "duration": 1142,
    "start_time": "2021-09-23T16:18:09.623Z"
   },
   {
    "duration": 1584,
    "start_time": "2021-09-23T16:18:10.768Z"
   },
   {
    "duration": 99,
    "start_time": "2021-09-23T16:18:12.355Z"
   },
   {
    "duration": 7,
    "start_time": "2021-09-23T16:18:12.456Z"
   },
   {
    "duration": 93547,
    "start_time": "2021-09-23T16:18:12.465Z"
   },
   {
    "duration": 6,
    "start_time": "2021-09-23T16:19:46.014Z"
   },
   {
    "duration": 13,
    "start_time": "2021-09-23T16:19:46.022Z"
   },
   {
    "duration": 86,
    "start_time": "2021-09-23T16:19:46.037Z"
   },
   {
    "duration": 17,
    "start_time": "2021-09-23T16:19:46.126Z"
   },
   {
    "duration": 35179,
    "start_time": "2021-09-23T16:19:46.145Z"
   },
   {
    "duration": 8996,
    "start_time": "2021-09-23T16:20:21.326Z"
   },
   {
    "duration": 2293,
    "start_time": "2021-09-23T16:20:30.325Z"
   },
   {
    "duration": 7,
    "start_time": "2021-09-23T16:20:32.621Z"
   },
   {
    "duration": 57247,
    "start_time": "2021-09-23T16:20:32.632Z"
   },
   {
    "duration": 784,
    "start_time": "2021-09-23T16:21:29.882Z"
   },
   {
    "duration": 25,
    "start_time": "2021-09-23T16:21:30.669Z"
   },
   {
    "duration": 134,
    "start_time": "2021-09-23T16:21:30.697Z"
   },
   {
    "duration": 130848,
    "start_time": "2021-09-23T16:21:30.834Z"
   },
   {
    "duration": 25872,
    "start_time": "2021-09-23T16:23:41.685Z"
   },
   {
    "duration": 25,
    "start_time": "2021-09-23T16:24:07.560Z"
   },
   {
    "duration": 3956,
    "start_time": "2021-09-23T16:24:07.588Z"
   },
   {
    "duration": 16,
    "start_time": "2021-09-23T16:24:11.547Z"
   },
   {
    "duration": 877,
    "start_time": "2021-09-23T16:24:11.565Z"
   },
   {
    "duration": 503,
    "start_time": "2021-09-23T16:24:12.445Z"
   },
   {
    "duration": 1614,
    "start_time": "2021-09-23T16:38:29.389Z"
   },
   {
    "duration": 1183,
    "start_time": "2021-09-23T16:38:31.006Z"
   },
   {
    "duration": 5,
    "start_time": "2021-09-23T16:38:32.192Z"
   },
   {
    "duration": 47,
    "start_time": "2021-09-23T16:39:04.871Z"
   },
   {
    "duration": 6133,
    "start_time": "2021-09-23T16:39:05.587Z"
   },
   {
    "duration": 116,
    "start_time": "2021-09-23T16:39:11.723Z"
   },
   {
    "duration": 406,
    "start_time": "2021-09-23T16:39:11.842Z"
   },
   {
    "duration": 5059,
    "start_time": "2021-09-23T16:39:12.251Z"
   },
   {
    "duration": 29,
    "start_time": "2021-09-23T16:39:17.313Z"
   },
   {
    "duration": 1164,
    "start_time": "2021-09-23T16:39:17.345Z"
   },
   {
    "duration": 1633,
    "start_time": "2021-09-23T16:39:18.512Z"
   },
   {
    "duration": 92,
    "start_time": "2021-09-23T20:27:08.487Z"
   },
   {
    "duration": 76,
    "start_time": "2021-09-23T20:36:06.979Z"
   },
   {
    "duration": 84,
    "start_time": "2021-09-23T20:41:23.624Z"
   },
   {
    "duration": 1258,
    "start_time": "2021-09-23T20:41:49.922Z"
   },
   {
    "duration": 1168,
    "start_time": "2021-09-23T20:41:52.182Z"
   },
   {
    "duration": 4,
    "start_time": "2021-09-23T20:41:53.782Z"
   },
   {
    "duration": 34,
    "start_time": "2021-09-23T20:41:54.876Z"
   },
   {
    "duration": 3525,
    "start_time": "2021-09-23T20:41:59.861Z"
   },
   {
    "duration": 124,
    "start_time": "2021-09-23T20:42:04.165Z"
   },
   {
    "duration": 298,
    "start_time": "2021-09-23T20:42:06.501Z"
   },
   {
    "duration": 271,
    "start_time": "2021-09-23T20:42:30.053Z"
   },
   {
    "duration": 2726,
    "start_time": "2021-09-23T20:42:34.900Z"
   },
   {
    "duration": 159,
    "start_time": "2021-09-23T20:44:09.919Z"
   },
   {
    "duration": 169,
    "start_time": "2021-09-23T20:44:58.815Z"
   },
   {
    "duration": 2132,
    "start_time": "2021-09-23T20:45:08.294Z"
   },
   {
    "duration": 28,
    "start_time": "2021-09-23T20:45:10.429Z"
   },
   {
    "duration": 786,
    "start_time": "2021-09-23T20:45:35.358Z"
   },
   {
    "duration": 636,
    "start_time": "2021-09-23T20:46:13.077Z"
   },
   {
    "duration": 75,
    "start_time": "2021-09-23T20:46:16.096Z"
   },
   {
    "duration": 500,
    "start_time": "2021-09-23T20:46:27.127Z"
   },
   {
    "duration": 1717,
    "start_time": "2021-09-23T20:50:37.159Z"
   },
   {
    "duration": 73,
    "start_time": "2021-09-23T20:51:01.590Z"
   },
   {
    "duration": 6,
    "start_time": "2021-09-23T20:51:09.810Z"
   },
   {
    "duration": 80,
    "start_time": "2021-09-23T20:51:17.523Z"
   },
   {
    "duration": 5,
    "start_time": "2021-09-23T20:51:18.295Z"
   },
   {
    "duration": 107,
    "start_time": "2021-09-23T20:55:02.394Z"
   },
   {
    "duration": 70,
    "start_time": "2021-09-23T20:56:10.795Z"
   },
   {
    "duration": 5,
    "start_time": "2021-09-23T20:56:17.120Z"
   },
   {
    "duration": 8889,
    "start_time": "2021-09-23T20:56:20.758Z"
   },
   {
    "duration": 1172,
    "start_time": "2021-09-23T20:58:12.485Z"
   },
   {
    "duration": 880,
    "start_time": "2021-09-23T20:58:13.659Z"
   },
   {
    "duration": 4,
    "start_time": "2021-09-23T20:58:14.549Z"
   },
   {
    "duration": 37,
    "start_time": "2021-09-23T20:58:14.555Z"
   },
   {
    "duration": 3756,
    "start_time": "2021-09-23T20:58:14.594Z"
   },
   {
    "duration": 69,
    "start_time": "2021-09-23T20:58:18.352Z"
   },
   {
    "duration": 209,
    "start_time": "2021-09-23T20:58:18.424Z"
   },
   {
    "duration": 3045,
    "start_time": "2021-09-23T20:58:18.636Z"
   },
   {
    "duration": 25,
    "start_time": "2021-09-23T20:58:21.684Z"
   },
   {
    "duration": 704,
    "start_time": "2021-09-23T20:58:21.711Z"
   },
   {
    "duration": 118,
    "start_time": "2021-09-23T20:58:22.418Z"
   },
   {
    "duration": 5,
    "start_time": "2021-09-23T20:58:22.538Z"
   },
   {
    "duration": 60863,
    "start_time": "2021-09-23T20:58:22.550Z"
   },
   {
    "duration": 4,
    "start_time": "2021-09-23T20:59:23.416Z"
   },
   {
    "duration": 7,
    "start_time": "2021-09-23T20:59:23.422Z"
   },
   {
    "duration": 128,
    "start_time": "2021-09-23T20:59:23.431Z"
   },
   {
    "duration": 6,
    "start_time": "2021-09-23T20:59:23.561Z"
   },
   {
    "duration": 277,
    "start_time": "2021-09-23T20:59:23.568Z"
   },
   {
    "duration": 267,
    "start_time": "2021-09-23T20:59:23.847Z"
   },
   {
    "duration": 53,
    "start_time": "2021-09-23T20:59:24.063Z"
   },
   {
    "duration": 49,
    "start_time": "2021-09-23T20:59:24.068Z"
   },
   {
    "duration": 49,
    "start_time": "2021-09-23T20:59:24.070Z"
   },
   {
    "duration": 45,
    "start_time": "2021-09-23T20:59:24.075Z"
   },
   {
    "duration": 45,
    "start_time": "2021-09-23T20:59:24.076Z"
   },
   {
    "duration": 44,
    "start_time": "2021-09-23T20:59:24.078Z"
   },
   {
    "duration": 44,
    "start_time": "2021-09-23T20:59:24.079Z"
   },
   {
    "duration": 43,
    "start_time": "2021-09-23T20:59:24.081Z"
   },
   {
    "duration": 43,
    "start_time": "2021-09-23T20:59:24.083Z"
   },
   {
    "duration": 43,
    "start_time": "2021-09-23T20:59:24.084Z"
   },
   {
    "duration": 43,
    "start_time": "2021-09-23T20:59:24.085Z"
   },
   {
    "duration": 42,
    "start_time": "2021-09-23T20:59:24.087Z"
   },
   {
    "duration": 42,
    "start_time": "2021-09-23T20:59:24.088Z"
   },
   {
    "duration": 42,
    "start_time": "2021-09-23T20:59:24.089Z"
   },
   {
    "duration": 41,
    "start_time": "2021-09-23T20:59:24.091Z"
   },
   {
    "duration": 180,
    "start_time": "2021-09-23T21:01:48.297Z"
   },
   {
    "duration": 242,
    "start_time": "2021-09-23T21:02:09.845Z"
   },
   {
    "duration": 756,
    "start_time": "2021-09-23T21:04:05.202Z"
   },
   {
    "duration": 51,
    "start_time": "2021-09-23T21:05:10.197Z"
   },
   {
    "duration": 640,
    "start_time": "2021-09-23T21:05:22.044Z"
   },
   {
    "duration": 187,
    "start_time": "2021-09-23T21:05:28.853Z"
   },
   {
    "duration": 48,
    "start_time": "2021-09-23T21:06:17.035Z"
   },
   {
    "duration": 732,
    "start_time": "2021-09-23T21:06:17.303Z"
   },
   {
    "duration": 41,
    "start_time": "2021-09-23T21:06:48.213Z"
   },
   {
    "duration": 665,
    "start_time": "2021-09-23T21:06:48.427Z"
   },
   {
    "duration": 1274,
    "start_time": "2021-09-23T21:07:10.999Z"
   },
   {
    "duration": 887,
    "start_time": "2021-09-23T21:07:12.275Z"
   },
   {
    "duration": 4,
    "start_time": "2021-09-23T21:07:13.164Z"
   },
   {
    "duration": 35,
    "start_time": "2021-09-23T21:07:13.170Z"
   },
   {
    "duration": 3507,
    "start_time": "2021-09-23T21:07:13.207Z"
   },
   {
    "duration": 87,
    "start_time": "2021-09-23T21:07:16.716Z"
   },
   {
    "duration": 210,
    "start_time": "2021-09-23T21:07:16.805Z"
   },
   {
    "duration": 2174,
    "start_time": "2021-09-23T21:07:17.018Z"
   },
   {
    "duration": 15,
    "start_time": "2021-09-23T21:07:19.195Z"
   },
   {
    "duration": 542,
    "start_time": "2021-09-23T21:07:19.212Z"
   },
   {
    "duration": 121,
    "start_time": "2021-09-23T21:07:19.756Z"
   },
   {
    "duration": 5,
    "start_time": "2021-09-23T21:07:19.879Z"
   },
   {
    "duration": 62846,
    "start_time": "2021-09-23T21:07:19.886Z"
   },
   {
    "duration": 4,
    "start_time": "2021-09-23T21:08:22.734Z"
   },
   {
    "duration": 18,
    "start_time": "2021-09-23T21:08:22.739Z"
   },
   {
    "duration": 105,
    "start_time": "2021-09-23T21:08:22.761Z"
   },
   {
    "duration": 81,
    "start_time": "2021-09-23T21:08:22.868Z"
   },
   {
    "duration": 49,
    "start_time": "2021-09-23T21:08:22.951Z"
   },
   {
    "duration": 820,
    "start_time": "2021-09-23T21:08:23.001Z"
   },
   {
    "duration": 51,
    "start_time": "2021-09-23T21:08:23.772Z"
   },
   {
    "duration": 51,
    "start_time": "2021-09-23T21:08:23.773Z"
   },
   {
    "duration": 50,
    "start_time": "2021-09-23T21:08:23.775Z"
   },
   {
    "duration": 50,
    "start_time": "2021-09-23T21:08:23.776Z"
   },
   {
    "duration": 46,
    "start_time": "2021-09-23T21:08:23.782Z"
   },
   {
    "duration": 45,
    "start_time": "2021-09-23T21:08:23.784Z"
   },
   {
    "duration": 45,
    "start_time": "2021-09-23T21:08:23.785Z"
   },
   {
    "duration": 44,
    "start_time": "2021-09-23T21:08:23.787Z"
   },
   {
    "duration": 43,
    "start_time": "2021-09-23T21:08:23.789Z"
   },
   {
    "duration": 42,
    "start_time": "2021-09-23T21:08:23.791Z"
   },
   {
    "duration": 41,
    "start_time": "2021-09-23T21:08:23.793Z"
   },
   {
    "duration": 41,
    "start_time": "2021-09-23T21:08:23.794Z"
   },
   {
    "duration": 41,
    "start_time": "2021-09-23T21:08:23.795Z"
   },
   {
    "duration": 39,
    "start_time": "2021-09-23T21:08:23.799Z"
   },
   {
    "duration": 38,
    "start_time": "2021-09-23T21:08:23.801Z"
   },
   {
    "duration": 37,
    "start_time": "2021-09-23T21:08:23.803Z"
   },
   {
    "duration": 36,
    "start_time": "2021-09-23T21:08:23.805Z"
   },
   {
    "duration": 84,
    "start_time": "2021-09-23T21:11:52.524Z"
   },
   {
    "duration": 1240,
    "start_time": "2021-09-23T21:15:15.627Z"
   },
   {
    "duration": 879,
    "start_time": "2021-09-23T21:15:16.870Z"
   },
   {
    "duration": 4,
    "start_time": "2021-09-23T21:15:17.751Z"
   },
   {
    "duration": 52,
    "start_time": "2021-09-23T21:15:17.757Z"
   },
   {
    "duration": 3698,
    "start_time": "2021-09-23T21:15:17.811Z"
   },
   {
    "duration": 79,
    "start_time": "2021-09-23T21:15:21.511Z"
   },
   {
    "duration": 309,
    "start_time": "2021-09-23T21:15:21.592Z"
   },
   {
    "duration": 2446,
    "start_time": "2021-09-23T21:15:21.902Z"
   },
   {
    "duration": 19,
    "start_time": "2021-09-23T21:15:24.352Z"
   },
   {
    "duration": 488,
    "start_time": "2021-09-23T21:15:24.373Z"
   },
   {
    "duration": 123,
    "start_time": "2021-09-23T21:15:24.863Z"
   },
   {
    "duration": 4,
    "start_time": "2021-09-23T21:15:24.988Z"
   },
   {
    "duration": 60663,
    "start_time": "2021-09-23T21:15:24.994Z"
   },
   {
    "duration": 5,
    "start_time": "2021-09-23T21:16:25.658Z"
   },
   {
    "duration": 9,
    "start_time": "2021-09-23T21:16:25.664Z"
   },
   {
    "duration": 181,
    "start_time": "2021-09-23T21:16:25.675Z"
   },
   {
    "duration": 5,
    "start_time": "2021-09-23T21:16:25.858Z"
   },
   {
    "duration": 292,
    "start_time": "2021-09-23T21:16:25.865Z"
   },
   {
    "duration": 249,
    "start_time": "2021-09-23T21:16:26.159Z"
   },
   {
    "duration": 60,
    "start_time": "2021-09-23T21:16:26.350Z"
   },
   {
    "duration": 55,
    "start_time": "2021-09-23T21:16:26.356Z"
   },
   {
    "duration": 49,
    "start_time": "2021-09-23T21:16:26.363Z"
   },
   {
    "duration": 49,
    "start_time": "2021-09-23T21:16:26.364Z"
   },
   {
    "duration": 48,
    "start_time": "2021-09-23T21:16:26.366Z"
   },
   {
    "duration": 48,
    "start_time": "2021-09-23T21:16:26.368Z"
   },
   {
    "duration": 45,
    "start_time": "2021-09-23T21:16:26.371Z"
   },
   {
    "duration": 44,
    "start_time": "2021-09-23T21:16:26.373Z"
   },
   {
    "duration": 44,
    "start_time": "2021-09-23T21:16:26.374Z"
   },
   {
    "duration": 44,
    "start_time": "2021-09-23T21:16:26.375Z"
   },
   {
    "duration": 42,
    "start_time": "2021-09-23T21:16:26.378Z"
   },
   {
    "duration": 42,
    "start_time": "2021-09-23T21:16:26.379Z"
   },
   {
    "duration": 42,
    "start_time": "2021-09-23T21:16:26.380Z"
   },
   {
    "duration": 42,
    "start_time": "2021-09-23T21:16:26.381Z"
   },
   {
    "duration": 40,
    "start_time": "2021-09-23T21:16:26.384Z"
   },
   {
    "duration": 55,
    "start_time": "2021-09-23T21:18:25.963Z"
   },
   {
    "duration": 699,
    "start_time": "2021-09-23T21:18:27.074Z"
   },
   {
    "duration": 4,
    "start_time": "2021-09-23T21:23:25.090Z"
   },
   {
    "duration": 811,
    "start_time": "2021-09-23T21:23:25.247Z"
   },
   {
    "duration": 4,
    "start_time": "2021-09-23T21:23:26.060Z"
   },
   {
    "duration": 30,
    "start_time": "2021-09-23T21:23:26.066Z"
   },
   {
    "duration": 3625,
    "start_time": "2021-09-23T21:23:26.291Z"
   },
   {
    "duration": 81,
    "start_time": "2021-09-23T21:23:29.917Z"
   },
   {
    "duration": 189,
    "start_time": "2021-09-23T21:23:30.000Z"
   },
   {
    "duration": 2405,
    "start_time": "2021-09-23T21:23:30.191Z"
   },
   {
    "duration": 16,
    "start_time": "2021-09-23T21:23:32.598Z"
   },
   {
    "duration": 800,
    "start_time": "2021-09-23T21:23:48.301Z"
   },
   {
    "duration": 472,
    "start_time": "2021-09-23T21:23:50.155Z"
   },
   {
    "duration": 73,
    "start_time": "2021-09-23T21:23:59.355Z"
   },
   {
    "duration": 5,
    "start_time": "2021-09-23T21:24:02.938Z"
   },
   {
    "duration": 5373,
    "start_time": "2021-09-23T21:24:06.524Z"
   },
   {
    "duration": 4,
    "start_time": "2021-09-23T21:24:11.899Z"
   },
   {
    "duration": 240,
    "start_time": "2021-09-23T21:24:11.905Z"
   },
   {
    "duration": 55,
    "start_time": "2021-09-23T21:24:12.092Z"
   },
   {
    "duration": 52,
    "start_time": "2021-09-23T21:24:12.096Z"
   },
   {
    "duration": 1271,
    "start_time": "2021-09-23T21:30:20.856Z"
   },
   {
    "duration": 903,
    "start_time": "2021-09-23T21:30:22.129Z"
   },
   {
    "duration": 4,
    "start_time": "2021-09-23T21:30:23.034Z"
   },
   {
    "duration": 34,
    "start_time": "2021-09-23T21:30:23.048Z"
   },
   {
    "duration": 6684,
    "start_time": "2021-09-23T21:30:23.084Z"
   },
   {
    "duration": 141,
    "start_time": "2021-09-23T21:30:29.770Z"
   },
   {
    "duration": 281,
    "start_time": "2021-09-23T21:30:29.913Z"
   },
   {
    "duration": 4133,
    "start_time": "2021-09-23T21:30:30.197Z"
   },
   {
    "duration": 35,
    "start_time": "2021-09-23T21:30:34.333Z"
   },
   {
    "duration": 1222,
    "start_time": "2021-09-23T21:30:34.370Z"
   },
   {
    "duration": 710,
    "start_time": "2021-09-23T21:30:35.594Z"
   },
   {
    "duration": 213,
    "start_time": "2021-09-23T21:30:36.306Z"
   },
   {
    "duration": 6,
    "start_time": "2021-09-23T21:30:36.521Z"
   },
   {
    "duration": 6212,
    "start_time": "2021-09-23T21:30:36.529Z"
   },
   {
    "duration": 4,
    "start_time": "2021-09-23T21:30:42.743Z"
   },
   {
    "duration": 229,
    "start_time": "2021-09-23T21:30:42.749Z"
   },
   {
    "duration": 66,
    "start_time": "2021-09-23T21:30:42.914Z"
   },
   {
    "duration": 66,
    "start_time": "2021-09-23T21:30:42.916Z"
   },
   {
    "duration": 61,
    "start_time": "2021-09-23T21:30:42.921Z"
   },
   {
    "duration": 58,
    "start_time": "2021-09-23T21:30:42.925Z"
   },
   {
    "duration": 56,
    "start_time": "2021-09-23T21:30:42.928Z"
   },
   {
    "duration": 48,
    "start_time": "2021-09-23T21:30:42.937Z"
   },
   {
    "duration": 44,
    "start_time": "2021-09-23T21:30:42.942Z"
   },
   {
    "duration": 42,
    "start_time": "2021-09-23T21:30:42.945Z"
   },
   {
    "duration": 9,
    "start_time": "2021-09-23T21:30:42.979Z"
   },
   {
    "duration": 5,
    "start_time": "2021-09-23T21:30:42.984Z"
   },
   {
    "duration": 2,
    "start_time": "2021-09-23T21:30:42.988Z"
   },
   {
    "duration": 0,
    "start_time": "2021-09-23T21:30:42.991Z"
   },
   {
    "duration": -3,
    "start_time": "2021-09-23T21:30:42.995Z"
   },
   {
    "duration": -7,
    "start_time": "2021-09-23T21:30:43.000Z"
   },
   {
    "duration": -10,
    "start_time": "2021-09-23T21:30:43.004Z"
   },
   {
    "duration": -17,
    "start_time": "2021-09-23T21:30:43.011Z"
   },
   {
    "duration": -22,
    "start_time": "2021-09-23T21:30:43.017Z"
   },
   {
    "duration": -25,
    "start_time": "2021-09-23T21:30:43.021Z"
   },
   {
    "duration": -28,
    "start_time": "2021-09-23T21:30:43.025Z"
   },
   {
    "duration": 149,
    "start_time": "2021-09-23T21:31:40.543Z"
   },
   {
    "duration": 5,
    "start_time": "2021-09-23T21:31:41.870Z"
   },
   {
    "duration": 5644,
    "start_time": "2021-09-23T21:31:44.640Z"
   },
   {
    "duration": 12261,
    "start_time": "2021-09-23T21:36:25.649Z"
   },
   {
    "duration": 1499,
    "start_time": "2021-09-23T21:37:48.804Z"
   },
   {
    "duration": 826,
    "start_time": "2021-09-23T21:37:50.305Z"
   },
   {
    "duration": 14,
    "start_time": "2021-09-23T21:37:51.136Z"
   },
   {
    "duration": 32,
    "start_time": "2021-09-23T21:37:51.152Z"
   },
   {
    "duration": 3399,
    "start_time": "2021-09-23T21:37:51.186Z"
   },
   {
    "duration": 83,
    "start_time": "2021-09-23T21:37:54.587Z"
   },
   {
    "duration": 199,
    "start_time": "2021-09-23T21:37:54.671Z"
   },
   {
    "duration": 2165,
    "start_time": "2021-09-23T21:37:54.873Z"
   },
   {
    "duration": 22,
    "start_time": "2021-09-23T21:37:57.040Z"
   },
   {
    "duration": 779,
    "start_time": "2021-09-23T21:37:57.064Z"
   },
   {
    "duration": 522,
    "start_time": "2021-09-23T21:37:57.844Z"
   },
   {
    "duration": 81,
    "start_time": "2021-09-23T21:37:58.368Z"
   },
   {
    "duration": 5,
    "start_time": "2021-09-23T21:37:58.451Z"
   },
   {
    "duration": 5750,
    "start_time": "2021-09-23T21:37:58.457Z"
   },
   {
    "duration": 3,
    "start_time": "2021-09-23T21:38:04.209Z"
   },
   {
    "duration": 239,
    "start_time": "2021-09-23T21:38:04.214Z"
   },
   {
    "duration": 60,
    "start_time": "2021-09-23T21:38:04.395Z"
   },
   {
    "duration": 56,
    "start_time": "2021-09-23T21:38:04.400Z"
   },
   {
    "duration": 53,
    "start_time": "2021-09-23T21:38:04.404Z"
   },
   {
    "duration": 52,
    "start_time": "2021-09-23T21:38:04.406Z"
   },
   {
    "duration": 51,
    "start_time": "2021-09-23T21:38:04.408Z"
   },
   {
    "duration": 50,
    "start_time": "2021-09-23T21:38:04.410Z"
   },
   {
    "duration": 50,
    "start_time": "2021-09-23T21:38:04.411Z"
   },
   {
    "duration": 49,
    "start_time": "2021-09-23T21:38:04.413Z"
   },
   {
    "duration": 48,
    "start_time": "2021-09-23T21:38:04.415Z"
   },
   {
    "duration": 48,
    "start_time": "2021-09-23T21:38:04.416Z"
   },
   {
    "duration": 47,
    "start_time": "2021-09-23T21:38:04.418Z"
   },
   {
    "duration": 41,
    "start_time": "2021-09-23T21:38:04.425Z"
   },
   {
    "duration": 40,
    "start_time": "2021-09-23T21:38:04.427Z"
   },
   {
    "duration": 39,
    "start_time": "2021-09-23T21:38:04.429Z"
   },
   {
    "duration": 38,
    "start_time": "2021-09-23T21:38:04.431Z"
   },
   {
    "duration": 38,
    "start_time": "2021-09-23T21:38:04.432Z"
   },
   {
    "duration": 38,
    "start_time": "2021-09-23T21:38:04.433Z"
   },
   {
    "duration": 37,
    "start_time": "2021-09-23T21:38:04.435Z"
   },
   {
    "duration": 31,
    "start_time": "2021-09-23T21:38:04.442Z"
   },
   {
    "duration": 20,
    "start_time": "2021-09-23T21:43:44.642Z"
   },
   {
    "duration": 418,
    "start_time": "2021-09-23T21:45:36.788Z"
   },
   {
    "duration": 2176,
    "start_time": "2021-09-23T21:45:38.243Z"
   },
   {
    "duration": 31,
    "start_time": "2021-09-23T21:45:40.421Z"
   },
   {
    "duration": 839,
    "start_time": "2021-09-23T21:45:42.669Z"
   },
   {
    "duration": 20,
    "start_time": "2021-09-23T21:45:43.510Z"
   },
   {
    "duration": 495,
    "start_time": "2021-09-23T21:45:53.331Z"
   },
   {
    "duration": 166,
    "start_time": "2021-09-23T21:45:56.091Z"
   },
   {
    "duration": 5,
    "start_time": "2021-09-23T21:46:01.764Z"
   },
   {
    "duration": 5892,
    "start_time": "2021-09-23T21:46:03.549Z"
   },
   {
    "duration": 19,
    "start_time": "2021-09-23T21:46:29.252Z"
   },
   {
    "duration": 1184,
    "start_time": "2021-09-23T21:46:45.078Z"
   },
   {
    "duration": 842,
    "start_time": "2021-09-23T21:46:46.264Z"
   },
   {
    "duration": 3,
    "start_time": "2021-09-23T21:46:47.108Z"
   },
   {
    "duration": 46,
    "start_time": "2021-09-23T21:46:47.113Z"
   },
   {
    "duration": 3345,
    "start_time": "2021-09-23T21:46:47.160Z"
   },
   {
    "duration": 77,
    "start_time": "2021-09-23T21:46:50.506Z"
   },
   {
    "duration": 305,
    "start_time": "2021-09-23T21:46:50.585Z"
   },
   {
    "duration": 2090,
    "start_time": "2021-09-23T21:46:50.893Z"
   },
   {
    "duration": 16,
    "start_time": "2021-09-23T21:46:52.985Z"
   },
   {
    "duration": 762,
    "start_time": "2021-09-23T21:46:53.003Z"
   },
   {
    "duration": 477,
    "start_time": "2021-09-23T21:46:53.766Z"
   },
   {
    "duration": 176,
    "start_time": "2021-09-23T21:46:54.244Z"
   },
   {
    "duration": 4,
    "start_time": "2021-09-23T21:46:54.422Z"
   },
   {
    "duration": 6707,
    "start_time": "2021-09-23T21:46:54.427Z"
   },
   {
    "duration": 4,
    "start_time": "2021-09-23T21:47:01.136Z"
   },
   {
    "duration": 294,
    "start_time": "2021-09-23T21:47:01.142Z"
   },
   {
    "duration": 65,
    "start_time": "2021-09-23T21:47:01.373Z"
   },
   {
    "duration": 64,
    "start_time": "2021-09-23T21:47:01.375Z"
   },
   {
    "duration": 64,
    "start_time": "2021-09-23T21:47:01.376Z"
   },
   {
    "duration": 63,
    "start_time": "2021-09-23T21:47:01.378Z"
   },
   {
    "duration": 63,
    "start_time": "2021-09-23T21:47:01.379Z"
   },
   {
    "duration": 62,
    "start_time": "2021-09-23T21:47:01.381Z"
   },
   {
    "duration": 62,
    "start_time": "2021-09-23T21:47:01.382Z"
   },
   {
    "duration": 61,
    "start_time": "2021-09-23T21:47:01.384Z"
   },
   {
    "duration": 60,
    "start_time": "2021-09-23T21:47:01.386Z"
   },
   {
    "duration": 58,
    "start_time": "2021-09-23T21:47:01.389Z"
   },
   {
    "duration": 56,
    "start_time": "2021-09-23T21:47:01.391Z"
   },
   {
    "duration": 55,
    "start_time": "2021-09-23T21:47:01.393Z"
   },
   {
    "duration": 55,
    "start_time": "2021-09-23T21:47:01.394Z"
   },
   {
    "duration": 55,
    "start_time": "2021-09-23T21:47:01.395Z"
   },
   {
    "duration": 54,
    "start_time": "2021-09-23T21:47:01.397Z"
   },
   {
    "duration": 54,
    "start_time": "2021-09-23T21:47:01.398Z"
   },
   {
    "duration": 54,
    "start_time": "2021-09-23T21:47:01.399Z"
   },
   {
    "duration": 53,
    "start_time": "2021-09-23T21:47:01.401Z"
   },
   {
    "duration": 51,
    "start_time": "2021-09-23T21:47:01.404Z"
   },
   {
    "duration": 52539,
    "start_time": "2021-09-23T21:48:14.029Z"
   },
   {
    "duration": 5,
    "start_time": "2021-09-23T21:49:06.570Z"
   },
   {
    "duration": 4,
    "start_time": "2021-09-23T21:49:06.577Z"
   },
   {
    "duration": 181,
    "start_time": "2021-09-23T21:49:06.583Z"
   },
   {
    "duration": 7,
    "start_time": "2021-09-23T21:49:06.766Z"
   },
   {
    "duration": 1173,
    "start_time": "2021-09-23T21:55:02.562Z"
   },
   {
    "duration": 827,
    "start_time": "2021-09-23T21:55:03.737Z"
   },
   {
    "duration": 5,
    "start_time": "2021-09-23T21:55:04.570Z"
   },
   {
    "duration": 39,
    "start_time": "2021-09-23T21:55:04.577Z"
   },
   {
    "duration": 6539,
    "start_time": "2021-09-23T21:55:04.619Z"
   },
   {
    "duration": 134,
    "start_time": "2021-09-23T21:55:11.160Z"
   },
   {
    "duration": 425,
    "start_time": "2021-09-23T21:55:11.298Z"
   },
   {
    "duration": 4193,
    "start_time": "2021-09-23T21:55:11.726Z"
   },
   {
    "duration": 33,
    "start_time": "2021-09-23T21:55:15.921Z"
   },
   {
    "duration": 1122,
    "start_time": "2021-09-23T21:55:15.956Z"
   },
   {
    "duration": 712,
    "start_time": "2021-09-23T21:55:17.080Z"
   },
   {
    "duration": 255,
    "start_time": "2021-09-23T21:55:17.794Z"
   },
   {
    "duration": 6,
    "start_time": "2021-09-23T21:55:18.051Z"
   },
   {
    "duration": 52736,
    "start_time": "2021-09-23T21:55:18.060Z"
   },
   {
    "duration": 4,
    "start_time": "2021-09-23T21:56:10.797Z"
   },
   {
    "duration": 7,
    "start_time": "2021-09-23T21:56:10.802Z"
   },
   {
    "duration": 147,
    "start_time": "2021-09-23T21:56:10.810Z"
   },
   {
    "duration": 5,
    "start_time": "2021-09-23T21:56:10.959Z"
   },
   {
    "duration": 160186,
    "start_time": "2021-09-23T21:56:10.966Z"
   },
   {
    "duration": 1740,
    "start_time": "2021-09-23T21:58:51.154Z"
   },
   {
    "duration": 485,
    "start_time": "2021-09-23T21:58:52.896Z"
   },
   {
    "duration": 5,
    "start_time": "2021-09-23T21:58:53.384Z"
   },
   {
    "duration": 74,
    "start_time": "2021-09-23T21:58:53.391Z"
   },
   {
    "duration": 62,
    "start_time": "2021-09-23T21:58:53.405Z"
   },
   {
    "duration": 60,
    "start_time": "2021-09-23T21:58:53.408Z"
   },
   {
    "duration": 60,
    "start_time": "2021-09-23T21:58:53.409Z"
   },
   {
    "duration": 60,
    "start_time": "2021-09-23T21:58:53.410Z"
   },
   {
    "duration": 60,
    "start_time": "2021-09-23T21:58:53.411Z"
   },
   {
    "duration": 58,
    "start_time": "2021-09-23T21:58:53.413Z"
   },
   {
    "duration": 58,
    "start_time": "2021-09-23T21:58:53.414Z"
   },
   {
    "duration": 57,
    "start_time": "2021-09-23T21:58:53.416Z"
   },
   {
    "duration": 57,
    "start_time": "2021-09-23T21:58:53.417Z"
   },
   {
    "duration": 57,
    "start_time": "2021-09-23T21:58:53.418Z"
   },
   {
    "duration": 57,
    "start_time": "2021-09-23T21:58:53.419Z"
   },
   {
    "duration": 43,
    "start_time": "2021-09-23T21:58:53.434Z"
   },
   {
    "duration": 646,
    "start_time": "2021-09-23T21:59:51.593Z"
   },
   {
    "duration": 31059,
    "start_time": "2021-09-23T21:59:52.240Z"
   },
   {
    "duration": 442,
    "start_time": "2021-09-23T22:00:23.301Z"
   },
   {
    "duration": 19,
    "start_time": "2021-09-23T22:00:23.745Z"
   },
   {
    "duration": 68,
    "start_time": "2021-09-23T22:00:23.766Z"
   },
   {
    "duration": 73304,
    "start_time": "2021-09-23T22:00:23.849Z"
   },
   {
    "duration": 14942,
    "start_time": "2021-09-23T22:01:37.155Z"
   },
   {
    "duration": 19,
    "start_time": "2021-09-23T22:01:52.100Z"
   },
   {
    "duration": 2583,
    "start_time": "2021-09-23T22:01:52.121Z"
   },
   {
    "duration": 12,
    "start_time": "2021-09-23T22:01:54.706Z"
   },
   {
    "duration": 525,
    "start_time": "2021-09-23T22:01:54.720Z"
   },
   {
    "duration": 291,
    "start_time": "2021-09-23T22:01:55.249Z"
   },
   {
    "duration": 1153,
    "start_time": "2021-09-23T22:03:34.602Z"
   },
   {
    "duration": 816,
    "start_time": "2021-09-23T22:03:35.758Z"
   },
   {
    "duration": 3,
    "start_time": "2021-09-23T22:03:36.577Z"
   },
   {
    "duration": 34,
    "start_time": "2021-09-23T22:03:36.582Z"
   },
   {
    "duration": 3456,
    "start_time": "2021-09-23T22:03:36.618Z"
   },
   {
    "duration": 83,
    "start_time": "2021-09-23T22:03:40.076Z"
   },
   {
    "duration": 313,
    "start_time": "2021-09-23T22:03:40.161Z"
   },
   {
    "duration": 2191,
    "start_time": "2021-09-23T22:03:40.477Z"
   },
   {
    "duration": 17,
    "start_time": "2021-09-23T22:03:42.670Z"
   },
   {
    "duration": 794,
    "start_time": "2021-09-23T22:03:42.689Z"
   },
   {
    "duration": 560,
    "start_time": "2021-09-23T22:03:43.484Z"
   },
   {
    "duration": 194,
    "start_time": "2021-09-23T22:03:44.048Z"
   },
   {
    "duration": 7,
    "start_time": "2021-09-23T22:03:44.244Z"
   },
   {
    "duration": 60568,
    "start_time": "2021-09-23T22:03:44.253Z"
   },
   {
    "duration": 4,
    "start_time": "2021-09-23T22:04:44.823Z"
   },
   {
    "duration": 6,
    "start_time": "2021-09-23T22:04:44.828Z"
   },
   {
    "duration": 123,
    "start_time": "2021-09-23T22:04:44.836Z"
   },
   {
    "duration": 6,
    "start_time": "2021-09-23T22:04:44.962Z"
   },
   {
    "duration": 1282,
    "start_time": "2021-09-23T22:19:53.595Z"
   },
   {
    "duration": 883,
    "start_time": "2021-09-23T22:19:54.879Z"
   },
   {
    "duration": 4,
    "start_time": "2021-09-23T22:19:55.764Z"
   },
   {
    "duration": 37,
    "start_time": "2021-09-23T22:19:55.770Z"
   },
   {
    "duration": 3691,
    "start_time": "2021-09-23T22:19:55.809Z"
   },
   {
    "duration": 84,
    "start_time": "2021-09-23T22:19:59.502Z"
   },
   {
    "duration": 330,
    "start_time": "2021-09-23T22:19:59.588Z"
   },
   {
    "duration": 2329,
    "start_time": "2021-09-23T22:19:59.920Z"
   },
   {
    "duration": 19,
    "start_time": "2021-09-23T22:20:02.252Z"
   },
   {
    "duration": 849,
    "start_time": "2021-09-23T22:20:02.275Z"
   },
   {
    "duration": 515,
    "start_time": "2021-09-23T22:20:03.126Z"
   },
   {
    "duration": 202,
    "start_time": "2021-09-23T22:20:03.643Z"
   },
   {
    "duration": 5,
    "start_time": "2021-09-23T22:20:03.847Z"
   },
   {
    "duration": 60736,
    "start_time": "2021-09-23T22:20:03.853Z"
   },
   {
    "duration": 4,
    "start_time": "2021-09-23T22:21:04.591Z"
   },
   {
    "duration": 10,
    "start_time": "2021-09-23T22:21:04.597Z"
   },
   {
    "duration": 165,
    "start_time": "2021-09-23T22:21:04.608Z"
   },
   {
    "duration": 75,
    "start_time": "2021-09-23T22:21:04.775Z"
   },
   {
    "duration": 2703,
    "start_time": "2021-09-23T22:21:04.853Z"
   },
   {
    "duration": 291,
    "start_time": "2021-09-23T22:21:07.558Z"
   },
   {
    "duration": 102,
    "start_time": "2021-09-23T22:21:07.852Z"
   },
   {
    "duration": 6,
    "start_time": "2021-09-23T22:21:07.956Z"
   },
   {
    "duration": 661,
    "start_time": "2021-09-23T22:21:07.964Z"
   },
   {
    "duration": 33039,
    "start_time": "2021-09-23T22:21:08.627Z"
   },
   {
    "duration": 466,
    "start_time": "2021-09-23T22:21:41.667Z"
   },
   {
    "duration": 22,
    "start_time": "2021-09-23T22:21:42.135Z"
   },
   {
    "duration": 88,
    "start_time": "2021-09-23T22:21:42.161Z"
   },
   {
    "duration": 1210,
    "start_time": "2021-09-23T22:22:28.454Z"
   },
   {
    "duration": 857,
    "start_time": "2021-09-23T22:22:29.666Z"
   },
   {
    "duration": 4,
    "start_time": "2021-09-23T22:22:30.525Z"
   },
   {
    "duration": 50,
    "start_time": "2021-09-23T22:22:30.531Z"
   },
   {
    "duration": 3378,
    "start_time": "2021-09-23T22:22:30.583Z"
   },
   {
    "duration": 86,
    "start_time": "2021-09-23T22:22:33.963Z"
   },
   {
    "duration": 329,
    "start_time": "2021-09-23T22:22:34.051Z"
   },
   {
    "duration": 2181,
    "start_time": "2021-09-23T22:22:34.381Z"
   },
   {
    "duration": 16,
    "start_time": "2021-09-23T22:22:36.564Z"
   },
   {
    "duration": 829,
    "start_time": "2021-09-23T22:22:36.583Z"
   },
   {
    "duration": 520,
    "start_time": "2021-09-23T22:22:37.414Z"
   },
   {
    "duration": 187,
    "start_time": "2021-09-23T22:22:39.846Z"
   },
   {
    "duration": 5,
    "start_time": "2021-09-23T22:22:40.519Z"
   },
   {
    "duration": 6,
    "start_time": "2021-09-23T22:22:52.271Z"
   },
   {
    "duration": 61327,
    "start_time": "2021-09-23T22:22:59.503Z"
   },
   {
    "duration": 3,
    "start_time": "2021-09-23T22:24:00.833Z"
   },
   {
    "duration": 7,
    "start_time": "2021-09-23T22:24:00.838Z"
   },
   {
    "duration": 129,
    "start_time": "2021-09-23T22:24:00.846Z"
   },
   {
    "duration": 77,
    "start_time": "2021-09-23T22:24:00.977Z"
   },
   {
    "duration": 7697,
    "start_time": "2021-09-23T22:24:01.056Z"
   },
   {
    "duration": 2270,
    "start_time": "2021-09-23T22:24:53.535Z"
   },
   {
    "duration": 3580,
    "start_time": "2021-09-23T22:25:11.673Z"
   },
   {
    "duration": 8268,
    "start_time": "2021-09-23T22:25:41.801Z"
   },
   {
    "duration": 15260,
    "start_time": "2021-09-23T22:26:37.398Z"
   },
   {
    "duration": 15342,
    "start_time": "2021-09-23T22:27:27.631Z"
   },
   {
    "duration": 32355,
    "start_time": "2021-09-23T22:29:29.806Z"
   },
   {
    "duration": 139745,
    "start_time": "2021-09-23T22:33:04.206Z"
   },
   {
    "duration": 446,
    "start_time": "2021-09-23T22:37:15.976Z"
   },
   {
    "duration": 277,
    "start_time": "2021-09-23T22:47:30.477Z"
   },
   {
    "duration": 1706,
    "start_time": "2021-09-23T22:47:49.236Z"
   },
   {
    "duration": 837,
    "start_time": "2021-09-23T22:47:50.944Z"
   },
   {
    "duration": 4,
    "start_time": "2021-09-23T22:47:51.783Z"
   },
   {
    "duration": 43,
    "start_time": "2021-09-23T22:47:51.788Z"
   },
   {
    "duration": 3756,
    "start_time": "2021-09-23T22:47:51.832Z"
   },
   {
    "duration": 110,
    "start_time": "2021-09-23T22:47:55.590Z"
   },
   {
    "duration": 447,
    "start_time": "2021-09-23T22:47:55.703Z"
   },
   {
    "duration": 2293,
    "start_time": "2021-09-23T22:47:56.153Z"
   },
   {
    "duration": 17,
    "start_time": "2021-09-23T22:47:58.447Z"
   },
   {
    "duration": 854,
    "start_time": "2021-09-23T22:47:58.466Z"
   },
   {
    "duration": 528,
    "start_time": "2021-09-23T22:47:59.322Z"
   },
   {
    "duration": 193,
    "start_time": "2021-09-23T22:47:59.852Z"
   },
   {
    "duration": 4,
    "start_time": "2021-09-23T22:48:00.050Z"
   },
   {
    "duration": 60188,
    "start_time": "2021-09-23T22:48:00.276Z"
   },
   {
    "duration": 4,
    "start_time": "2021-09-23T22:49:00.466Z"
   },
   {
    "duration": 13,
    "start_time": "2021-09-23T22:49:00.472Z"
   },
   {
    "duration": 181,
    "start_time": "2021-09-23T22:49:00.487Z"
   },
   {
    "duration": 7,
    "start_time": "2021-09-23T22:49:00.670Z"
   },
   {
    "duration": 1172,
    "start_time": "2021-09-23T22:57:22.977Z"
   },
   {
    "duration": 1196,
    "start_time": "2021-09-23T22:57:24.153Z"
   },
   {
    "duration": 5,
    "start_time": "2021-09-23T22:57:25.351Z"
   },
   {
    "duration": 36,
    "start_time": "2021-09-23T22:57:25.358Z"
   },
   {
    "duration": 3512,
    "start_time": "2021-09-23T22:57:25.397Z"
   },
   {
    "duration": 84,
    "start_time": "2021-09-23T22:57:28.911Z"
   },
   {
    "duration": 324,
    "start_time": "2021-09-23T22:57:28.997Z"
   },
   {
    "duration": 2145,
    "start_time": "2021-09-23T22:57:29.323Z"
   },
   {
    "duration": 16,
    "start_time": "2021-09-23T22:57:31.471Z"
   },
   {
    "duration": 817,
    "start_time": "2021-09-23T22:57:31.489Z"
   },
   {
    "duration": 527,
    "start_time": "2021-09-23T22:57:32.308Z"
   },
   {
    "duration": 196,
    "start_time": "2021-09-23T22:57:32.837Z"
   },
   {
    "duration": 5,
    "start_time": "2021-09-23T22:57:33.035Z"
   },
   {
    "duration": 60511,
    "start_time": "2021-09-23T22:57:33.048Z"
   },
   {
    "duration": 4,
    "start_time": "2021-09-23T22:58:33.560Z"
   },
   {
    "duration": 5,
    "start_time": "2021-09-23T22:58:33.566Z"
   },
   {
    "duration": 188,
    "start_time": "2021-09-23T22:58:33.573Z"
   },
   {
    "duration": 7,
    "start_time": "2021-09-23T22:58:33.763Z"
   },
   {
    "duration": 1253,
    "start_time": "2021-09-23T23:04:53.338Z"
   },
   {
    "duration": 835,
    "start_time": "2021-09-23T23:04:54.593Z"
   },
   {
    "duration": 4,
    "start_time": "2021-09-23T23:04:55.430Z"
   },
   {
    "duration": 44,
    "start_time": "2021-09-23T23:04:55.435Z"
   },
   {
    "duration": 3395,
    "start_time": "2021-09-23T23:04:55.481Z"
   },
   {
    "duration": 87,
    "start_time": "2021-09-23T23:04:58.877Z"
   },
   {
    "duration": 307,
    "start_time": "2021-09-23T23:04:58.966Z"
   },
   {
    "duration": 2219,
    "start_time": "2021-09-23T23:04:59.275Z"
   },
   {
    "duration": 18,
    "start_time": "2021-09-23T23:05:01.496Z"
   },
   {
    "duration": 880,
    "start_time": "2021-09-23T23:05:01.516Z"
   },
   {
    "duration": 521,
    "start_time": "2021-09-23T23:05:02.398Z"
   },
   {
    "duration": 191,
    "start_time": "2021-09-23T23:05:02.921Z"
   },
   {
    "duration": 5,
    "start_time": "2021-09-23T23:05:03.114Z"
   },
   {
    "duration": 59300,
    "start_time": "2021-09-23T23:05:03.121Z"
   },
   {
    "duration": 3,
    "start_time": "2021-09-23T23:06:02.423Z"
   },
   {
    "duration": 16,
    "start_time": "2021-09-23T23:06:02.428Z"
   },
   {
    "duration": 117,
    "start_time": "2021-09-23T23:06:02.446Z"
   },
   {
    "duration": 5,
    "start_time": "2021-09-23T23:06:02.565Z"
   },
   {
    "duration": 246081,
    "start_time": "2021-09-23T23:06:02.572Z"
   },
   {
    "duration": 1809,
    "start_time": "2021-09-23T23:10:08.655Z"
   },
   {
    "duration": 484,
    "start_time": "2021-09-23T23:10:10.466Z"
   },
   {
    "duration": 6,
    "start_time": "2021-09-23T23:10:10.953Z"
   },
   {
    "duration": 689,
    "start_time": "2021-09-23T23:10:10.961Z"
   },
   {
    "duration": 31711,
    "start_time": "2021-09-23T23:10:11.652Z"
   },
   {
    "duration": 459,
    "start_time": "2021-09-23T23:10:43.365Z"
   },
   {
    "duration": 27,
    "start_time": "2021-09-23T23:10:43.826Z"
   },
   {
    "duration": 75,
    "start_time": "2021-09-23T23:10:43.856Z"
   },
   {
    "duration": 72302,
    "start_time": "2021-09-23T23:10:43.950Z"
   },
   {
    "duration": 14768,
    "start_time": "2021-09-23T23:11:56.254Z"
   },
   {
    "duration": 29,
    "start_time": "2021-09-23T23:12:11.024Z"
   },
   {
    "duration": 2480,
    "start_time": "2021-09-23T23:12:11.055Z"
   },
   {
    "duration": 17,
    "start_time": "2021-09-23T23:12:13.536Z"
   },
   {
    "duration": 644,
    "start_time": "2021-09-23T23:12:13.555Z"
   },
   {
    "duration": 300,
    "start_time": "2021-09-23T23:12:14.201Z"
   },
   {
    "duration": 86,
    "start_time": "2021-09-23T23:12:14.503Z"
   }
  ],
  "kernelspec": {
   "display_name": "Python 3",
   "language": "python",
   "name": "python3"
  },
  "language_info": {
   "codemirror_mode": {
    "name": "ipython",
    "version": 3
   },
   "file_extension": ".py",
   "mimetype": "text/x-python",
   "name": "python",
   "nbconvert_exporter": "python",
   "pygments_lexer": "ipython3",
   "version": "3.7.8"
  },
  "toc": {
   "base_numbering": 1,
   "nav_menu": {},
   "number_sections": true,
   "sideBar": true,
   "skip_h1_title": true,
   "title_cell": "Table of Contents",
   "title_sidebar": "Contents",
   "toc_cell": false,
   "toc_position": {},
   "toc_section_display": true,
   "toc_window_display": false
  }
 },
 "nbformat": 4,
 "nbformat_minor": 2
}
